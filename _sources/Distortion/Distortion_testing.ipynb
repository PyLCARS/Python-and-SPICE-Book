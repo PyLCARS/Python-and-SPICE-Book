{
 "cells": [
  {
   "cell_type": "code",
   "execution_count": 1,
   "metadata": {},
   "outputs": [
    {
     "name": "stderr",
     "output_type": "stream",
     "text": [
      "WARNING: KICAD_SYMBOL_DIR environment variable is missing, so the default KiCad symbol libraries won't be searched.\n"
     ]
    }
   ],
   "source": [
    "from skidl.pyspice import *\n",
    "#can you say cheeky \n",
    "import PySpice as pspice\n",
    "#becouse it's written by a kiwi you know\n",
    "import lcapy as kiwi\n",
    "\n",
    "import numpy as np\n",
    "import pandas as pd\n",
    "import matplotlib.pyplot as plt\n",
    "import sympy as sym\n",
    "\n",
    "\n",
    "from IPython.display import YouTubeVideo, display\n",
    "\n",
    "import traceback\n",
    "import warnings"
   ]
  },
  {
   "cell_type": "code",
   "execution_count": 2,
   "metadata": {},
   "outputs": [
    {
     "data": {
      "application/json": {
       "Software versions": [
        {
         "module": "Python",
         "version": "3.7.6 64bit [GCC 7.3.0]"
        },
        {
         "module": "IPython",
         "version": "7.12.0"
        },
        {
         "module": "OS",
         "version": "Linux 4.19.104 microsoft standard x86_64 with debian bullseye sid"
        },
        {
         "module": "skidl",
         "version": "0.0.31.dev0"
        },
        {
         "module": "PySpice",
         "version": "1.4.3"
        },
        {
         "module": "lcapy",
         "version": "0.75.dev0"
        },
        {
         "module": "sympy",
         "version": "1.6.2"
        },
        {
         "module": "numpy",
         "version": "1.18.1"
        },
        {
         "module": "matplotlib",
         "version": "3.3.0"
        },
        {
         "module": "pandas",
         "version": "1.1.4"
        },
        {
         "module": "scipy",
         "version": "1.4.1"
        }
       ]
      },
      "text/html": [
       "<table><tr><th>Software</th><th>Version</th></tr><tr><td>Python</td><td>3.7.6 64bit [GCC 7.3.0]</td></tr><tr><td>IPython</td><td>7.12.0</td></tr><tr><td>OS</td><td>Linux 4.19.104 microsoft standard x86_64 with debian bullseye sid</td></tr><tr><td>skidl</td><td>0.0.31.dev0</td></tr><tr><td>PySpice</td><td>1.4.3</td></tr><tr><td>lcapy</td><td>0.75.dev0</td></tr><tr><td>sympy</td><td>1.6.2</td></tr><tr><td>numpy</td><td>1.18.1</td></tr><tr><td>matplotlib</td><td>3.3.0</td></tr><tr><td>pandas</td><td>1.1.4</td></tr><tr><td>scipy</td><td>1.4.1</td></tr><tr><td colspan='2'>Tue Jan 26 01:19:23 2021 MST</td></tr></table>"
      ],
      "text/latex": [
       "\\begin{tabular}{|l|l|}\\hline\n",
       "{\\bf Software} & {\\bf Version} \\\\ \\hline\\hline\n",
       "Python & 3.7.6 64bit [GCC 7.3.0] \\\\ \\hline\n",
       "IPython & 7.12.0 \\\\ \\hline\n",
       "OS & Linux 4.19.104 microsoft standard x86\\_64 with debian bullseye sid \\\\ \\hline\n",
       "skidl & 0.0.31.dev0 \\\\ \\hline\n",
       "PySpice & 1.4.3 \\\\ \\hline\n",
       "lcapy & 0.75.dev0 \\\\ \\hline\n",
       "sympy & 1.6.2 \\\\ \\hline\n",
       "numpy & 1.18.1 \\\\ \\hline\n",
       "matplotlib & 3.3.0 \\\\ \\hline\n",
       "pandas & 1.1.4 \\\\ \\hline\n",
       "scipy & 1.4.1 \\\\ \\hline\n",
       "\\hline \\multicolumn{2}{|l|}{Tue Jan 26 01:19:23 2021 MST} \\\\ \\hline\n",
       "\\end{tabular}\n"
      ],
      "text/plain": [
       "Software versions\n",
       "Python 3.7.6 64bit [GCC 7.3.0]\n",
       "IPython 7.12.0\n",
       "OS Linux 4.19.104 microsoft standard x86_64 with debian bullseye sid\n",
       "skidl 0.0.31.dev0\n",
       "PySpice 1.4.3\n",
       "lcapy 0.75.dev0\n",
       "sympy 1.6.2\n",
       "numpy 1.18.1\n",
       "matplotlib 3.3.0\n",
       "pandas 1.1.4\n",
       "scipy 1.4.1\n",
       "Tue Jan 26 01:19:23 2021 MST"
      ]
     },
     "execution_count": 2,
     "metadata": {},
     "output_type": "execute_result"
    }
   ],
   "source": [
    "#import dc code from parral folder\n",
    "import sys\n",
    "sys.path.insert(1, '../DC_1/')\n",
    "from DC_1_Codes import get_skidl_spice_ref, dc_ease\n",
    "#from AC_2_Codes import \n",
    "\n",
    "sym.init_printing()\n",
    "\n",
    "#notebook specific loading control statements \n",
    "%matplotlib inline\n",
    "#tool to log notebook internals\n",
    "#https://github.com/jrjohansson/version_information\n",
    "%load_ext version_information\n",
    "%version_information skidl, PySpice,lcapy, sympy, numpy, matplotlib, pandas, scipy"
   ]
  },
  {
   "cell_type": "code",
   "execution_count": 3,
   "metadata": {},
   "outputs": [
    {
     "name": "stdout",
     "output_type": "stream",
     "text": [
      "Pin A1/0/pos/UNSPECIFIED True\n",
      "Pin A1/1/neg/UNSPECIFIED True\n",
      ".title \n",
      "V1 In 0 DC 1.5V AC 1V 0.0rad SIN(0V 1V 50Hz 0s 0Hz)\n",
      "A1 In Out diode\n",
      "Vamm N_1 0 0V\n",
      "R1 Out N_1 100Ohm\n",
      ".model diode sidiode (epsilon=0.2 ilimt=7 revepsilon=0.2 revilimit=7 roff=1000 ron=0.7 rrev=0.2 vfwd=1 vrev=10)\n",
      "\n"
     ]
    },
    {
     "name": "stderr",
     "output_type": "stream",
     "text": [
      "\n",
      "No errors or warnings found during netlist generation.\n",
      "\n"
     ]
    }
   ],
   "source": [
    "reset()\n",
    "net_in=Net('In'); net_out=Net('Out')\n",
    "\n",
    "vs=SINEV(dc_offset=1.5@u_V)\n",
    "\n",
    "Diode=A(\n",
    "    io=\"pos, neg\",\n",
    "    model=XspiceModel(\n",
    "        'diode',\n",
    "        'sidiode',\n",
    "        ron=0.7, \n",
    "        roff=1000,\n",
    "        vfwd=1, \n",
    "        vrev=10,\n",
    "        ilimt=7,\n",
    "        revilimit=7,\n",
    "        epsilon=0.2,\n",
    "        revepsilon=0.2,\n",
    "        rrev=0.2\n",
    "    )\n",
    ")\n",
    "\n",
    "amm=V(ref='amm', dc_value=0@u_V)\n",
    "rload=R(value=100@u_Ohm)\n",
    "\n",
    "vs['p', 'n']+=net_in, gnd\n",
    "Diode['pos', 'neg']+=net_in, net_out\n",
    "rload[1, 2]+=net_out, amm['p']\n",
    "amm['n']+=gnd\n",
    "\n",
    "\n",
    "circ = generate_netlist(libs=\"SpiceLib\")\n",
    "print(circ)\n"
   ]
  },
  {
   "cell_type": "code",
   "execution_count": 4,
   "metadata": {},
   "outputs": [
    {
     "data": {
      "text/html": [
       "<div>\n",
       "<style scoped>\n",
       "    .dataframe tbody tr th:only-of-type {\n",
       "        vertical-align: middle;\n",
       "    }\n",
       "\n",
       "    .dataframe tbody tr th {\n",
       "        vertical-align: top;\n",
       "    }\n",
       "\n",
       "    .dataframe thead th {\n",
       "        text-align: right;\n",
       "    }\n",
       "</style>\n",
       "<table border=\"1\" class=\"dataframe\">\n",
       "  <thead>\n",
       "    <tr style=\"text-align: right;\">\n",
       "      <th></th>\n",
       "      <th>Start</th>\n",
       "      <th>Stop</th>\n",
       "      <th>Step</th>\n",
       "    </tr>\n",
       "    <tr>\n",
       "      <th>Element</th>\n",
       "      <th></th>\n",
       "      <th></th>\n",
       "      <th></th>\n",
       "    </tr>\n",
       "  </thead>\n",
       "  <tbody>\n",
       "    <tr>\n",
       "      <th>V1</th>\n",
       "      <td>0</td>\n",
       "      <td>2</td>\n",
       "      <td>0.001</td>\n",
       "    </tr>\n",
       "    <tr>\n",
       "      <th>Vamm</th>\n",
       "      <td>NaN</td>\n",
       "      <td>NaN</td>\n",
       "      <td>NaN</td>\n",
       "    </tr>\n",
       "  </tbody>\n",
       "</table>\n",
       "</div>"
      ],
      "text/plain": [
       "        Start Stop   Step\n",
       "Element                  \n",
       "V1          0    2  0.001\n",
       "Vamm      NaN  NaN    NaN"
      ]
     },
     "execution_count": 4,
     "metadata": {},
     "output_type": "execute_result"
    }
   ],
   "source": [
    "dc_sim=dc_ease(circ)\n",
    "dc_sim.sweep_DF.at['V1']=0, 2, 0.001\n",
    "dc_sim.sweep_DF"
   ]
  },
  {
   "cell_type": "code",
   "execution_count": 5,
   "metadata": {},
   "outputs": [
    {
     "data": {
      "text/html": [
       "<div>\n",
       "<style scoped>\n",
       "    .dataframe tbody tr th:only-of-type {\n",
       "        vertical-align: middle;\n",
       "    }\n",
       "\n",
       "    .dataframe tbody tr th {\n",
       "        vertical-align: top;\n",
       "    }\n",
       "\n",
       "    .dataframe thead th {\n",
       "        text-align: right;\n",
       "    }\n",
       "</style>\n",
       "<table border=\"1\" class=\"dataframe\">\n",
       "  <thead>\n",
       "    <tr style=\"text-align: right;\">\n",
       "      <th></th>\n",
       "      <th>In_[V]</th>\n",
       "      <th>Out_[V]</th>\n",
       "      <th>N_1_[V]</th>\n",
       "      <th>V1_[A]</th>\n",
       "      <th>Vamm_[A]</th>\n",
       "    </tr>\n",
       "    <tr>\n",
       "      <th>V1</th>\n",
       "      <th></th>\n",
       "      <th></th>\n",
       "      <th></th>\n",
       "      <th></th>\n",
       "      <th></th>\n",
       "    </tr>\n",
       "  </thead>\n",
       "  <tbody>\n",
       "    <tr>\n",
       "      <th>0.000</th>\n",
       "      <td>0.000</td>\n",
       "      <td>0.000000</td>\n",
       "      <td>0.0</td>\n",
       "      <td>-0.000000e+00</td>\n",
       "      <td>-0.000000e+00</td>\n",
       "    </tr>\n",
       "    <tr>\n",
       "      <th>0.001</th>\n",
       "      <td>0.001</td>\n",
       "      <td>0.000091</td>\n",
       "      <td>0.0</td>\n",
       "      <td>9.090909e-07</td>\n",
       "      <td>-9.090909e-07</td>\n",
       "    </tr>\n",
       "    <tr>\n",
       "      <th>0.002</th>\n",
       "      <td>0.002</td>\n",
       "      <td>0.000182</td>\n",
       "      <td>0.0</td>\n",
       "      <td>1.818182e-06</td>\n",
       "      <td>-1.818182e-06</td>\n",
       "    </tr>\n",
       "    <tr>\n",
       "      <th>0.003</th>\n",
       "      <td>0.003</td>\n",
       "      <td>0.000273</td>\n",
       "      <td>0.0</td>\n",
       "      <td>2.727273e-06</td>\n",
       "      <td>-2.727273e-06</td>\n",
       "    </tr>\n",
       "    <tr>\n",
       "      <th>0.004</th>\n",
       "      <td>0.004</td>\n",
       "      <td>0.000364</td>\n",
       "      <td>0.0</td>\n",
       "      <td>3.636364e-06</td>\n",
       "      <td>-3.636364e-06</td>\n",
       "    </tr>\n",
       "    <tr>\n",
       "      <th>...</th>\n",
       "      <td>...</td>\n",
       "      <td>...</td>\n",
       "      <td>...</td>\n",
       "      <td>...</td>\n",
       "      <td>...</td>\n",
       "    </tr>\n",
       "    <tr>\n",
       "      <th>1.996</th>\n",
       "      <td>1.996</td>\n",
       "      <td>1.044427</td>\n",
       "      <td>0.0</td>\n",
       "      <td>1.044427e-02</td>\n",
       "      <td>-1.044427e-02</td>\n",
       "    </tr>\n",
       "    <tr>\n",
       "      <th>1.997</th>\n",
       "      <td>1.997</td>\n",
       "      <td>1.045400</td>\n",
       "      <td>0.0</td>\n",
       "      <td>1.045400e-02</td>\n",
       "      <td>-1.045400e-02</td>\n",
       "    </tr>\n",
       "    <tr>\n",
       "      <th>1.998</th>\n",
       "      <td>1.998</td>\n",
       "      <td>1.046374</td>\n",
       "      <td>0.0</td>\n",
       "      <td>1.046374e-02</td>\n",
       "      <td>-1.046374e-02</td>\n",
       "    </tr>\n",
       "    <tr>\n",
       "      <th>1.999</th>\n",
       "      <td>1.999</td>\n",
       "      <td>1.047348</td>\n",
       "      <td>0.0</td>\n",
       "      <td>1.047348e-02</td>\n",
       "      <td>-1.047348e-02</td>\n",
       "    </tr>\n",
       "    <tr>\n",
       "      <th>2.000</th>\n",
       "      <td>2.000</td>\n",
       "      <td>1.048321</td>\n",
       "      <td>0.0</td>\n",
       "      <td>1.048321e-02</td>\n",
       "      <td>-1.048321e-02</td>\n",
       "    </tr>\n",
       "  </tbody>\n",
       "</table>\n",
       "<p>2001 rows × 5 columns</p>\n",
       "</div>"
      ],
      "text/plain": [
       "       In_[V]   Out_[V]  N_1_[V]        V1_[A]      Vamm_[A]\n",
       "V1                                                          \n",
       "0.000   0.000  0.000000      0.0 -0.000000e+00 -0.000000e+00\n",
       "0.001   0.001  0.000091      0.0  9.090909e-07 -9.090909e-07\n",
       "0.002   0.002  0.000182      0.0  1.818182e-06 -1.818182e-06\n",
       "0.003   0.003  0.000273      0.0  2.727273e-06 -2.727273e-06\n",
       "0.004   0.004  0.000364      0.0  3.636364e-06 -3.636364e-06\n",
       "...       ...       ...      ...           ...           ...\n",
       "1.996   1.996  1.044427      0.0  1.044427e-02 -1.044427e-02\n",
       "1.997   1.997  1.045400      0.0  1.045400e-02 -1.045400e-02\n",
       "1.998   1.998  1.046374      0.0  1.046374e-02 -1.046374e-02\n",
       "1.999   1.999  1.047348      0.0  1.047348e-02 -1.047348e-02\n",
       "2.000   2.000  1.048321      0.0  1.048321e-02 -1.048321e-02\n",
       "\n",
       "[2001 rows x 5 columns]"
      ]
     },
     "execution_count": 5,
     "metadata": {},
     "output_type": "execute_result"
    }
   ],
   "source": [
    "dc_sim.do_dc_sim('V1')\n",
    "res=dc_sim.dc_resultsNB_DF; res"
   ]
  },
  {
   "cell_type": "code",
   "execution_count": 6,
   "metadata": {},
   "outputs": [
    {
     "data": {
      "image/png": "[encoded data removed]",
      "text/plain": [
       "<Figure size 432x288 with 1 Axes>"
      ]
     },
     "metadata": {
      "needs_background": "light"
     },
     "output_type": "display_data"
    }
   ],
   "source": [
    "res.plot(y='Vamm_[A]');"
   ]
  },
  {
   "cell_type": "code",
   "execution_count": 7,
   "metadata": {},
   "outputs": [
    {
     "data": {
      "text/plain": [
       "<PySpice.Probe.WaveForm.DistortionAnalysis at 0x7f8d35c72650>"
      ]
     },
     "execution_count": 7,
     "metadata": {},
     "output_type": "execute_result"
    }
   ],
   "source": [
    "sim = circ.simulator()\n",
    "disres=sim.distortion('dec', '20', 1@u_Hz, 10@u_GHz)\n",
    "disres"
   ]
  },
  {
   "cell_type": "code",
   "execution_count": 8,
   "metadata": {},
   "outputs": [
    {
     "data": {
      "text/plain": [
       "{'n_1': WaveForm n_1 [0.+0.j 0.+0.j 0.+0.j 0.+0.j 0.+0.j 0.+0.j 0.+0.j 0.+0.j 0.+0.j 0.+0.j\n",
       "  0.+0.j 0.+0.j 0.+0.j 0.+0.j 0.+0.j 0.+0.j 0.+0.j 0.+0.j 0.+0.j 0.+0.j\n",
       "  0.+0.j 0.+0.j 0.+0.j 0.+0.j 0.+0.j 0.+0.j 0.+0.j 0.+0.j 0.+0.j 0.+0.j\n",
       "  0.+0.j 0.+0.j 0.+0.j 0.+0.j 0.+0.j 0.+0.j 0.+0.j 0.+0.j 0.+0.j 0.+0.j\n",
       "  0.+0.j 0.+0.j 0.+0.j 0.+0.j 0.+0.j 0.+0.j 0.+0.j 0.+0.j 0.+0.j 0.+0.j\n",
       "  0.+0.j 0.+0.j 0.+0.j 0.+0.j 0.+0.j 0.+0.j 0.+0.j 0.+0.j 0.+0.j 0.+0.j\n",
       "  0.+0.j 0.+0.j 0.+0.j 0.+0.j 0.+0.j 0.+0.j 0.+0.j 0.+0.j 0.+0.j 0.+0.j\n",
       "  0.+0.j 0.+0.j 0.+0.j 0.+0.j 0.+0.j 0.+0.j 0.+0.j 0.+0.j 0.+0.j 0.+0.j\n",
       "  0.+0.j 0.+0.j 0.+0.j 0.+0.j 0.+0.j 0.+0.j 0.+0.j 0.+0.j 0.+0.j 0.+0.j\n",
       "  0.+0.j 0.+0.j 0.+0.j 0.+0.j 0.+0.j 0.+0.j 0.+0.j 0.+0.j 0.+0.j 0.+0.j\n",
       "  0.+0.j 0.+0.j 0.+0.j 0.+0.j 0.+0.j 0.+0.j 0.+0.j 0.+0.j 0.+0.j 0.+0.j\n",
       "  0.+0.j 0.+0.j 0.+0.j 0.+0.j 0.+0.j 0.+0.j 0.+0.j 0.+0.j 0.+0.j 0.+0.j\n",
       "  0.+0.j 0.+0.j 0.+0.j 0.+0.j 0.+0.j 0.+0.j 0.+0.j 0.+0.j 0.+0.j 0.+0.j\n",
       "  0.+0.j 0.+0.j 0.+0.j 0.+0.j 0.+0.j 0.+0.j 0.+0.j 0.+0.j 0.+0.j 0.+0.j\n",
       "  0.+0.j 0.+0.j 0.+0.j 0.+0.j 0.+0.j 0.+0.j 0.+0.j 0.+0.j 0.+0.j 0.+0.j\n",
       "  0.+0.j 0.+0.j 0.+0.j 0.+0.j 0.+0.j 0.+0.j 0.+0.j 0.+0.j 0.+0.j 0.+0.j\n",
       "  0.+0.j 0.+0.j 0.+0.j 0.+0.j 0.+0.j 0.+0.j 0.+0.j 0.+0.j 0.+0.j 0.+0.j\n",
       "  0.+0.j 0.+0.j 0.+0.j 0.+0.j 0.+0.j 0.+0.j 0.+0.j 0.+0.j 0.+0.j 0.+0.j\n",
       "  0.+0.j 0.+0.j 0.+0.j 0.+0.j 0.+0.j 0.+0.j 0.+0.j 0.+0.j 0.+0.j 0.+0.j\n",
       "  0.+0.j 0.+0.j 0.+0.j 0.+0.j 0.+0.j 0.+0.j 0.+0.j 0.+0.j 0.+0.j 0.+0.j\n",
       "  0.+0.j]@V,\n",
       " 'out': WaveForm out [0.+0.j 0.+0.j 0.+0.j 0.+0.j 0.+0.j 0.+0.j 0.+0.j 0.+0.j 0.+0.j 0.+0.j\n",
       "  0.+0.j 0.+0.j 0.+0.j 0.+0.j 0.+0.j 0.+0.j 0.+0.j 0.+0.j 0.+0.j 0.+0.j\n",
       "  0.+0.j 0.+0.j 0.+0.j 0.+0.j 0.+0.j 0.+0.j 0.+0.j 0.+0.j 0.+0.j 0.+0.j\n",
       "  0.+0.j 0.+0.j 0.+0.j 0.+0.j 0.+0.j 0.+0.j 0.+0.j 0.+0.j 0.+0.j 0.+0.j\n",
       "  0.+0.j 0.+0.j 0.+0.j 0.+0.j 0.+0.j 0.+0.j 0.+0.j 0.+0.j 0.+0.j 0.+0.j\n",
       "  0.+0.j 0.+0.j 0.+0.j 0.+0.j 0.+0.j 0.+0.j 0.+0.j 0.+0.j 0.+0.j 0.+0.j\n",
       "  0.+0.j 0.+0.j 0.+0.j 0.+0.j 0.+0.j 0.+0.j 0.+0.j 0.+0.j 0.+0.j 0.+0.j\n",
       "  0.+0.j 0.+0.j 0.+0.j 0.+0.j 0.+0.j 0.+0.j 0.+0.j 0.+0.j 0.+0.j 0.+0.j\n",
       "  0.+0.j 0.+0.j 0.+0.j 0.+0.j 0.+0.j 0.+0.j 0.+0.j 0.+0.j 0.+0.j 0.+0.j\n",
       "  0.+0.j 0.+0.j 0.+0.j 0.+0.j 0.+0.j 0.+0.j 0.+0.j 0.+0.j 0.+0.j 0.+0.j\n",
       "  0.+0.j 0.+0.j 0.+0.j 0.+0.j 0.+0.j 0.+0.j 0.+0.j 0.+0.j 0.+0.j 0.+0.j\n",
       "  0.+0.j 0.+0.j 0.+0.j 0.+0.j 0.+0.j 0.+0.j 0.+0.j 0.+0.j 0.+0.j 0.+0.j\n",
       "  0.+0.j 0.+0.j 0.+0.j 0.+0.j 0.+0.j 0.+0.j 0.+0.j 0.+0.j 0.+0.j 0.+0.j\n",
       "  0.+0.j 0.+0.j 0.+0.j 0.+0.j 0.+0.j 0.+0.j 0.+0.j 0.+0.j 0.+0.j 0.+0.j\n",
       "  0.+0.j 0.+0.j 0.+0.j 0.+0.j 0.+0.j 0.+0.j 0.+0.j 0.+0.j 0.+0.j 0.+0.j\n",
       "  0.+0.j 0.+0.j 0.+0.j 0.+0.j 0.+0.j 0.+0.j 0.+0.j 0.+0.j 0.+0.j 0.+0.j\n",
       "  0.+0.j 0.+0.j 0.+0.j 0.+0.j 0.+0.j 0.+0.j 0.+0.j 0.+0.j 0.+0.j 0.+0.j\n",
       "  0.+0.j 0.+0.j 0.+0.j 0.+0.j 0.+0.j 0.+0.j 0.+0.j 0.+0.j 0.+0.j 0.+0.j\n",
       "  0.+0.j 0.+0.j 0.+0.j 0.+0.j 0.+0.j 0.+0.j 0.+0.j 0.+0.j 0.+0.j 0.+0.j\n",
       "  0.+0.j 0.+0.j 0.+0.j 0.+0.j 0.+0.j 0.+0.j 0.+0.j 0.+0.j 0.+0.j 0.+0.j\n",
       "  0.+0.j]@V,\n",
       " 'in': WaveForm in [0.+0.j 0.+0.j 0.+0.j 0.+0.j 0.+0.j 0.+0.j 0.+0.j 0.+0.j 0.+0.j 0.+0.j\n",
       "  0.+0.j 0.+0.j 0.+0.j 0.+0.j 0.+0.j 0.+0.j 0.+0.j 0.+0.j 0.+0.j 0.+0.j\n",
       "  0.+0.j 0.+0.j 0.+0.j 0.+0.j 0.+0.j 0.+0.j 0.+0.j 0.+0.j 0.+0.j 0.+0.j\n",
       "  0.+0.j 0.+0.j 0.+0.j 0.+0.j 0.+0.j 0.+0.j 0.+0.j 0.+0.j 0.+0.j 0.+0.j\n",
       "  0.+0.j 0.+0.j 0.+0.j 0.+0.j 0.+0.j 0.+0.j 0.+0.j 0.+0.j 0.+0.j 0.+0.j\n",
       "  0.+0.j 0.+0.j 0.+0.j 0.+0.j 0.+0.j 0.+0.j 0.+0.j 0.+0.j 0.+0.j 0.+0.j\n",
       "  0.+0.j 0.+0.j 0.+0.j 0.+0.j 0.+0.j 0.+0.j 0.+0.j 0.+0.j 0.+0.j 0.+0.j\n",
       "  0.+0.j 0.+0.j 0.+0.j 0.+0.j 0.+0.j 0.+0.j 0.+0.j 0.+0.j 0.+0.j 0.+0.j\n",
       "  0.+0.j 0.+0.j 0.+0.j 0.+0.j 0.+0.j 0.+0.j 0.+0.j 0.+0.j 0.+0.j 0.+0.j\n",
       "  0.+0.j 0.+0.j 0.+0.j 0.+0.j 0.+0.j 0.+0.j 0.+0.j 0.+0.j 0.+0.j 0.+0.j\n",
       "  0.+0.j 0.+0.j 0.+0.j 0.+0.j 0.+0.j 0.+0.j 0.+0.j 0.+0.j 0.+0.j 0.+0.j\n",
       "  0.+0.j 0.+0.j 0.+0.j 0.+0.j 0.+0.j 0.+0.j 0.+0.j 0.+0.j 0.+0.j 0.+0.j\n",
       "  0.+0.j 0.+0.j 0.+0.j 0.+0.j 0.+0.j 0.+0.j 0.+0.j 0.+0.j 0.+0.j 0.+0.j\n",
       "  0.+0.j 0.+0.j 0.+0.j 0.+0.j 0.+0.j 0.+0.j 0.+0.j 0.+0.j 0.+0.j 0.+0.j\n",
       "  0.+0.j 0.+0.j 0.+0.j 0.+0.j 0.+0.j 0.+0.j 0.+0.j 0.+0.j 0.+0.j 0.+0.j\n",
       "  0.+0.j 0.+0.j 0.+0.j 0.+0.j 0.+0.j 0.+0.j 0.+0.j 0.+0.j 0.+0.j 0.+0.j\n",
       "  0.+0.j 0.+0.j 0.+0.j 0.+0.j 0.+0.j 0.+0.j 0.+0.j 0.+0.j 0.+0.j 0.+0.j\n",
       "  0.+0.j 0.+0.j 0.+0.j 0.+0.j 0.+0.j 0.+0.j 0.+0.j 0.+0.j 0.+0.j 0.+0.j\n",
       "  0.+0.j 0.+0.j 0.+0.j 0.+0.j 0.+0.j 0.+0.j 0.+0.j 0.+0.j 0.+0.j 0.+0.j\n",
       "  0.+0.j 0.+0.j 0.+0.j 0.+0.j 0.+0.j 0.+0.j 0.+0.j 0.+0.j 0.+0.j 0.+0.j\n",
       "  0.+0.j]@V}"
      ]
     },
     "execution_count": 8,
     "metadata": {},
     "output_type": "execute_result"
    }
   ],
   "source": [
    "disres.nodes"
   ]
  },
  {
   "cell_type": "code",
   "execution_count": null,
   "metadata": {},
   "outputs": [],
   "source": []
  }
 ],
 "metadata": {
  "kernelspec": {
   "display_name": "Python 3",
   "language": "python",
   "name": "python3"
  },
  "language_info": {
   "codemirror_mode": {
    "name": "ipython",
    "version": 3
   },
   "file_extension": ".py",
   "mimetype": "text/x-python",
   "name": "python",
   "nbconvert_exporter": "python",
   "pygments_lexer": "ipython3",
   "version": "3.7.6"
  },
  "latex_envs": {
   "LaTeX_envs_menu_present": true,
   "autoclose": false,
   "autocomplete": true,
   "bibliofile": "biblio.bib",
   "cite_by": "apalike",
   "current_citInitial": 1,
   "eqLabelWithNumbers": true,
   "eqNumInitial": 1,
   "hotkeys": {
    "equation": "Ctrl-E",
    "itemize": "Ctrl-I"
   },
   "labels_anchors": false,
   "latex_user_defs": false,
   "report_style_numbering": false,
   "user_envs_cfg": false
  },
  "toc": {
   "base_numbering": 1,
   "nav_menu": {},
   "number_sections": true,
   "sideBar": true,
   "skip_h1_title": false,
   "title_cell": "Table of Contents",
   "title_sidebar": "Contents",
   "toc_cell": false,
   "toc_position": {},
   "toc_section_display": true,
   "toc_window_display": false
  }
 },
 "nbformat": 4,
 "nbformat_minor": 4
}
