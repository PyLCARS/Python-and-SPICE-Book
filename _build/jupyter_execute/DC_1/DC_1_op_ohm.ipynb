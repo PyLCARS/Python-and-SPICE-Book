{
 "cells": [
  {
   "cell_type": "markdown",
   "metadata": {},
   "source": [
    "**TODO**\n",
    "- clearfy language"
   ]
  },
  {
   "cell_type": "markdown",
   "metadata": {},
   "source": [
    "# Getting started with Python & SPICE, DC Operating Point Analysis"
   ]
  },
  {
   "cell_type": "code",
   "execution_count": 1,
   "metadata": {
    "code_folding": []
   },
   "outputs": [
    {
     "name": "stderr",
     "output_type": "stream",
     "text": [
      "WARNING: KICAD_SYMBOL_DIR environment variable is missing, so the default KiCad symbol libraries won't be searched.\n"
     ]
    }
   ],
   "source": [
    "#%%writefile DC_1_Codes.py\n",
    "#Library import statements\n",
    "\n",
    "from skidl.pyspice import *\n",
    "#can you say cheeky \n",
    "import PySpice as pspice\n",
    "#becouse it's written by a kiwi you know\n",
    "import lcapy as kiwi\n",
    "\n",
    "import numpy as np\n",
    "import pandas as pd\n",
    "import matplotlib.pyplot as plt\n",
    "\n",
    "from IPython.display import YouTubeVideo, display\n",
    "\n",
    "import traceback\n",
    "import warnings"
   ]
  },
  {
   "cell_type": "code",
   "execution_count": 2,
   "metadata": {},
   "outputs": [
    {
     "data": {
      "application/json": {
       "Software versions": [
        {
         "module": "Python",
         "version": "3.7.6 64bit [GCC 7.3.0]"
        },
        {
         "module": "IPython",
         "version": "7.12.0"
        },
        {
         "module": "OS",
         "version": "Linux 4.19.104 microsoft standard x86_64 with debian bullseye sid"
        },
        {
         "module": "skidl",
         "version": "0.0.31.dev0"
        },
        {
         "module": "PySpice",
         "version": "1.4.3"
        },
        {
         "module": "lcapy",
         "version": "0.75.dev0"
        },
        {
         "module": "sympy",
         "version": "1.6.2"
        },
        {
         "module": "numpy",
         "version": "1.18.1"
        },
        {
         "module": "matplotlib",
         "version": "3.3.0"
        },
        {
         "module": "pandas",
         "version": "1.1.4"
        },
        {
         "module": "scipy",
         "version": "1.4.1"
        }
       ]
      },
      "text/html": [
       "<table><tr><th>Software</th><th>Version</th></tr><tr><td>Python</td><td>3.7.6 64bit [GCC 7.3.0]</td></tr><tr><td>IPython</td><td>7.12.0</td></tr><tr><td>OS</td><td>Linux 4.19.104 microsoft standard x86_64 with debian bullseye sid</td></tr><tr><td>skidl</td><td>0.0.31.dev0</td></tr><tr><td>PySpice</td><td>1.4.3</td></tr><tr><td>lcapy</td><td>0.75.dev0</td></tr><tr><td>sympy</td><td>1.6.2</td></tr><tr><td>numpy</td><td>1.18.1</td></tr><tr><td>matplotlib</td><td>3.3.0</td></tr><tr><td>pandas</td><td>1.1.4</td></tr><tr><td>scipy</td><td>1.4.1</td></tr><tr><td colspan='2'>Fri Jan 15 01:35:34 2021 MST</td></tr></table>"
      ],
      "text/latex": [
       "\\begin{tabular}{|l|l|}\\hline\n",
       "{\\bf Software} & {\\bf Version} \\\\ \\hline\\hline\n",
       "Python & 3.7.6 64bit [GCC 7.3.0] \\\\ \\hline\n",
       "IPython & 7.12.0 \\\\ \\hline\n",
       "OS & Linux 4.19.104 microsoft standard x86\\_64 with debian bullseye sid \\\\ \\hline\n",
       "skidl & 0.0.31.dev0 \\\\ \\hline\n",
       "PySpice & 1.4.3 \\\\ \\hline\n",
       "lcapy & 0.75.dev0 \\\\ \\hline\n",
       "sympy & 1.6.2 \\\\ \\hline\n",
       "numpy & 1.18.1 \\\\ \\hline\n",
       "matplotlib & 3.3.0 \\\\ \\hline\n",
       "pandas & 1.1.4 \\\\ \\hline\n",
       "scipy & 1.4.1 \\\\ \\hline\n",
       "\\hline \\multicolumn{2}{|l|}{Fri Jan 15 01:35:34 2021 MST} \\\\ \\hline\n",
       "\\end{tabular}\n"
      ],
      "text/plain": [
       "Software versions\n",
       "Python 3.7.6 64bit [GCC 7.3.0]\n",
       "IPython 7.12.0\n",
       "OS Linux 4.19.104 microsoft standard x86_64 with debian bullseye sid\n",
       "skidl 0.0.31.dev0\n",
       "PySpice 1.4.3\n",
       "lcapy 0.75.dev0\n",
       "sympy 1.6.2\n",
       "numpy 1.18.1\n",
       "matplotlib 3.3.0\n",
       "pandas 1.1.4\n",
       "scipy 1.4.1\n",
       "Fri Jan 15 01:35:34 2021 MST"
      ]
     },
     "execution_count": 2,
     "metadata": {},
     "output_type": "execute_result"
    }
   ],
   "source": [
    "#notebook specific loading control statements \n",
    "%matplotlib inline\n",
    "#tool to log notebook internals\n",
    "#https://github.com/jrjohansson/version_information\n",
    "%load_ext version_information\n",
    "%version_information skidl, PySpice,lcapy, sympy, numpy, matplotlib, pandas, scipy"
   ]
  },
  {
   "cell_type": "markdown",
   "metadata": {},
   "source": [
    "#Starting simple with the basic three¶\n",
    "By the basic three, I mean the `Linear Independent Voltage Sources`, `Linear Independent Current Sources`, and `Resistors` as the three elements to start building primitive circuits. So what is an element, it's SPICE terminology for any device or part that affects the voltage and or current in the circuit. To start with the only elements we are using in this section are Ideal Voltage Souces, Ideal Current Source, and ideal resistors. SPICE allows us to have some fairly fancy elements like semiconductor resistors, but let's stick to the basics here.\n",
    "The other part of any circuit is interconnections between the elements where these in SPICE (99% of the time) are idealized zero loss wires, or in SPICE terminally nets. Where a net also represents a node in our circuit. SO to start we will look a the well-known relation between resistors and our independent sources as given by Ohms law. Where for the analytical explanation see All About Electronics YT video on \"Ohm's Law\"\n"
   ]
  },
  {
   "cell_type": "code",
   "execution_count": 3,
   "metadata": {},
   "outputs": [
    {
     "data": {
      "image/jpeg": "[encoded data removed]",
      "text/html": [
       "\n",
       "<iframe\n",
       "    width=\"500\"\n",
       "    height=\"400\"\n",
       "    src=\"https://www.youtube.com/embed/PV8CMZZKrB4\"\n",
       "    frameborder=\"0\"\n",
       "    allowfullscreen\n",
       "></iframe>\n"
      ],
      "text/plain": [
       "<IPython.lib.display.YouTubeVideo at 0x7f99044e0e10>"
      ]
     },
     "execution_count": 3,
     "metadata": {
      "filenames": {
       "image/jpeg": "/mnt/c/Users/strin/Insync/string12oil@gmail.com/Google Drive/MyProjects/python-spice/Python-and-SPICE-Book/_build/jupyter_execute/DC_1/DC_1_op_ohm_5_0.jpg"
      }
     },
     "output_type": "execute_result"
    }
   ],
   "source": [
    "YouTubeVideo('PV8CMZZKrB4', width=500, height=400)"
   ]
  },
  {
   "cell_type": "markdown",
   "metadata": {},
   "source": [
    "Again the purpose of the work isn't to go over the analytical paper and pencil work, but in part show how to use Python & SPICE to verify our results and go further with SPICE circuit simulation enhanced by being wrapping as much as we can in Python. And so we start our first foray by verifying the results of the example circuit at the ~10:30 mark of All ABOUT ELELCTRONINCS YT video on \"Ohm's Law\", a simple voltage source, and resistor. "
   ]
  },
  {
   "cell_type": "markdown",
   "metadata": {},
   "source": [
    "## Building a circuit to produce a SPICE netlist with SKiDl¶\n",
    "The first thing to understand is that we are building a global circuit here. SKiDl also has local circuits where all of the circuit is contained to an object. And we will work with those eventually but for now, we will work with the global circuit. Where the global circuit will automatically append to its self any SKiDl elements instantiate between calls of `reset()`. Therefore, we have to call `reset()` to clear out the global circuit to a blank slate before adding to it.\n",
    "Secondly, let's delve into the three things that all SPICE netlist must-have.\n",
    "\n",
    "1.\tElements: these are the things that manipulate the electricity in a circuit\n",
    "\n",
    "2.\tNets: nets are the same things as a single node, which is the same thing as idle traces or wires in a circuit. They direct the flow of electricity to and from the elements. In SPICE (till you get into layout) a net is an ideal connection between element terminals with a common voltage\n",
    "\n",
    "3.\tA master ground net: This is a net that has zero voltage that SPICE references all other voltages from. While there are many types of grounds especially important in more complex and mixed-signal circuits SPICE is only concerned with a universal ground designated as 0\n"
   ]
  },
  {
   "cell_type": "code",
   "execution_count": 4,
   "metadata": {},
   "outputs": [
    {
     "name": "stdout",
     "output_type": "stream",
     "text": [
      ".title \n",
      "R1 N1 0 5Ohm\n",
      "V1 N1 0 10V\n",
      "\n"
     ]
    },
    {
     "name": "stderr",
     "output_type": "stream",
     "text": [
      "\n",
      "No errors or warnings found during netlist generation.\n",
      "\n"
     ]
    }
   ],
   "source": [
    "#clear global SkiDl circuit\n",
    "reset()\n",
    "#create one of two nets, gnd we get for free\n",
    "net_1=Net('N1')\n",
    "\n",
    "#create a voltage source and set it's dc value\n",
    "vs=V(dc_value=10@u_V)\n",
    "#connect the voltage source to the nets\n",
    "vs['p', 'n']+=net_1, gnd\n",
    "\n",
    "#create the resistor and set its value to the analytically found value\n",
    "r1=R(value=5@u_Ohm)\n",
    "#cpnnect the resistor to the nets\n",
    "r1[1, 2]+=net_1, gnd\n",
    "\n",
    "#generate the netlist and print it\n",
    "circ=generate_netlist()\n",
    "print(circ)"
   ]
  },
  {
   "cell_type": "markdown",
   "metadata": {},
   "source": [
    "So what did we do to get the netlist and what does the netlist mean.\n",
    "\n",
    "In line 2 we called `reset()` this clears or resets, the global SKiDl netlist so that no previous elements or connections exist such that we have a blank slate. \n",
    "\n",
    "In line 4 a single net was created since this circuit only has two nodes or wires. Where one of those wires is at ground where we get for free with `gnd` which is the common name for the master ground\n",
    "\n",
    "In line 5 a voltage source is created. Pure DC voltage sources are created in SkiDl with `V()` but as will be shown when we get to AC circuits DC voltage sources are a subset of the global use of a linear independent voltage source in SPICE. Further, we set the Voltage source to a python object `vs`. We do this for two reasons. \n",
    " 1. since everything is an object in python we can call and manipulate information about our voltage source `vs` using its variable name\n",
    " 2. we need to be able to set it's connections to the circuit\n",
    "\n",
    "In line 9 we connect the voltage source to our two nets, and again we get ground for free with `gnd` also since a voltage source is a directional element we need to tell it what connection (terminal) is connected to what net with the access call to `vs`: `['p', 'n']`\n",
    "where `'p'` is the positive terminal and `'n'` is the negative one. \n",
    "\n",
    "In line 12 we create the resistor in the same way as the voltage source back on line 7 with the only difference being that the resistance of a resistor is universal to DC and AC so it's argument is `value` and since 99% of the resistors in the world are omnidirectional we connect it to the nets in line 14  using an access call of just 1 & 2 to tell what terminals are connected to what nets without regard to polarity. \n",
    "\n",
    "In line 17 we create the netlist and set it to the object `circ` the reason being is that we want to print out our netlist for debugging and again it's an object so there is information in it we want to utilize. But we also have to because `circ` is not only an object with a netlist string it is a full circuit object that will be passed to the simulator shortly\n",
    "\n",
    "So what does the netlist say:\n",
    "```\n",
    ".title\n",
    "```\n",
    "this is just the name of the circuit where we are ignoring right now\n",
    "\n",
    "```\n",
    "R1 N1 0 5Ohm\n",
    "```\n",
    "This says that the circuit has an element `R1`. Where the first letter `R` tells SPICE it's a resistor and `1` its designator. The rest of the statement says that it's terminals are connected to  net `N1` and net `0`, ground, with a resistance of `5Ohm`\n",
    "\n",
    "And the last line \n",
    "```\n",
    "V1 N1 0 10V\n",
    "```\n",
    "says we have Indepened Voltage source `V1` where again the first letter `V` tells SPICE it's an independent voltage source and its designator `1` with its positive terminal connected to net `N1` and negative terminal `0` connected to ground with a DC value of `10V`\n"
   ]
  },
  {
   "cell_type": "markdown",
   "metadata": {},
   "source": [
    "# SPICE's DC Operating Point simulation `.op` \n",
    "\n",
    "This is the simplest of all simulations since it just produces results with everything being static. Now technically there is a .dc simulation that is coming up in this chapter  that gives the same results when set up a certain way. But that's to come. And when using .dc simulation a series of operating point simulations are just being carried out in the background anyway. So let get in the habit of if we just need static value for a dc simulation we use operating point analysis.  \n",
    "\n",
    "Also, what is the deal between AC and DC simulations? The main difference is that a DC simulation will ignore capacitors and inductors as opens and shorts respectively not only for true capacitor and inductor elements in the circuit but also all internal capacitors and inductors as part of an elements internal model."
   ]
  },
  {
   "cell_type": "code",
   "execution_count": 5,
   "metadata": {},
   "outputs": [],
   "source": [
    "#create a simulation obj from our circuit\n",
    "sim=circ.simulator()\n",
    "#perform the .op simulation and store results to new obj\n",
    "dc_vals=sim.operating_point()"
   ]
  },
  {
   "cell_type": "markdown",
   "metadata": {},
   "source": [
    "So we have a simulation object made by `sim=circ.simulator()` where this creates a simulation environment of the circuit netlist stored in `circ` that is set to `sim`. When the simulation is created it is at default 25C. From there we can then call a simulation type to run on the circuit stored in  `sim` given that all the appropriate elements and connections are there to work with the simulation to get results that make sense. At the moment we're sticking with the very basics by doing an operating point analysis via `dc_vals=sim.operating_point()` where `dc_vals` stores the result of the operating point analysis that was called with the`.operating_point()` method call. So to get our results we need to look at the first two things that are in `dc_vals` "
   ]
  },
  {
   "cell_type": "code",
   "execution_count": 6,
   "metadata": {},
   "outputs": [
    {
     "name": "stdout",
     "output_type": "stream",
     "text": [
      "dc_vals Nodes: {'n1': WaveForm n1 [10.]@V}\n",
      "dc_vals Branches: {'n1': WaveForm n1 [10.]@V}\n"
     ]
    }
   ],
   "source": [
    "#nodes\n",
    "print(f'dc_vals Nodes: {dc_vals.nodes}')\n",
    "\n",
    "#branches\n",
    "print(f'dc_vals Branches: {dc_vals.nodes}')"
   ]
  },
  {
   "cell_type": "markdown",
   "metadata": {},
   "source": [
    "We will see that there are more things that a simulation can return but that is coming. The import results that most SPICE simulations store all the branch and node values. Where those values are stored in a dictionary inside `dc_vals`. Where simulation returns have a nice super dictionary of values to quickly retrieve results from and treat as NumPy arrays. But the supper dictionary is primarily a construct of the branch and node value results of the simulation as is shown in the cell above. If you need a reference on circuit terminally conventions, please watch the following video from ALL ABOUT ELECTRONICS  \"Circuit terminology: Concept of Loop, Mesh, Node and Branch explained\""
   ]
  },
  {
   "cell_type": "code",
   "execution_count": 7,
   "metadata": {},
   "outputs": [
    {
     "data": {
      "image/jpeg": "[encoded data removed]",
      "text/html": [
       "\n",
       "<iframe\n",
       "    width=\"500\"\n",
       "    height=\"400\"\n",
       "    src=\"https://www.youtube.com/embed/zUGaU4kZpag\"\n",
       "    frameborder=\"0\"\n",
       "    allowfullscreen\n",
       "></iframe>\n"
      ],
      "text/plain": [
       "<IPython.lib.display.YouTubeVideo at 0x7f9904262410>"
      ]
     },
     "execution_count": 7,
     "metadata": {
      "filenames": {
       "image/jpeg": "/mnt/c/Users/strin/Insync/string12oil@gmail.com/Google Drive/MyProjects/python-spice/Python-and-SPICE-Book/_build/jupyter_execute/DC_1/DC_1_op_ohm_15_0.jpg"
      }
     },
     "output_type": "execute_result"
    }
   ],
   "source": [
    "YouTubeVideo('zUGaU4kZpag', width=500, height=400)"
   ]
  },
  {
   "cell_type": "markdown",
   "metadata": {},
   "source": [
    "To use the supper dictionary lookup of the results from a simulation we have to input the exact NETLIST name of the source or node as shown"
   ]
  },
  {
   "cell_type": "code",
   "execution_count": 8,
   "metadata": {},
   "outputs": [
    {
     "data": {
      "text/plain": [
       "WaveForm n1 [10.]@V"
      ]
     },
     "execution_count": 8,
     "metadata": {},
     "output_type": "execute_result"
    }
   ],
   "source": [
    "# Get voltage at the node\n",
    "dc_vals['N1']"
   ]
  },
  {
   "cell_type": "markdown",
   "metadata": {},
   "source": [
    "but this is tedious and since we have to look back at the netlist so instead we can take advantage of Python to automate this and put our results in a convenient table with SKiDl's help"
   ]
  },
  {
   "cell_type": "code",
   "execution_count": 9,
   "metadata": {},
   "outputs": [
    {
     "name": "stdout",
     "output_type": "stream",
     "text": [
      "got an error when trying to retrive node voltage 0 \n",
      "with the following  error: \n",
      "\n",
      "Traceback (most recent call last):\n",
      "  File \"/home/iridium/anaconda3/lib/python3.7/site-packages/PySpice/Probe/WaveForm.py\", line 294, in __getitem__\n",
      "    return self._get_item(name)\n",
      "  File \"/home/iridium/anaconda3/lib/python3.7/site-packages/PySpice/Probe/WaveForm.py\", line 288, in _get_item\n",
      "    raise IndexError(name)\n",
      "IndexError: 0\n",
      "\n",
      "During handling of the above exception, another exception occurred:\n",
      "\n",
      "Traceback (most recent call last):\n",
      "  File \"<ipython-input-9-528ab68a0bd1>\", line 3, in <module>\n",
      "    print(f\"Node {n} :{dc_vals[n]}\")\n",
      "  File \"/home/iridium/anaconda3/lib/python3.7/site-packages/PySpice/Probe/WaveForm.py\", line 296, in __getitem__\n",
      "    return self._get_item(name.lower())\n",
      "  File \"/home/iridium/anaconda3/lib/python3.7/site-packages/PySpice/Probe/WaveForm.py\", line 288, in _get_item\n",
      "    raise IndexError(name)\n",
      "IndexError: 0\n",
      "\n",
      "Node N1 :n1\n"
     ]
    }
   ],
   "source": [
    "for n in circ.node_names:\n",
    "    try:\n",
    "        print(f\"Node {n} :{dc_vals[n]}\")\n",
    "    \n",
    "    except Exception as e:\n",
    "        print(f\"got an error when trying to retrive node voltage {n} \\nwith the following  error: \\n\")\n",
    "        print(traceback.format_exc())"
   ]
  },
  {
   "cell_type": "markdown",
   "metadata": {},
   "source": [
    "What this means that we can't blindly use SKiDl since ngspice does not report a voltage for the ground since it is by definition always at 0V so we, therefore, need to skip it"
   ]
  },
  {
   "cell_type": "code",
   "execution_count": 10,
   "metadata": {},
   "outputs": [
    {
     "name": "stdout",
     "output_type": "stream",
     "text": [
      "Node N1 with voltage [10.]\n"
     ]
    }
   ],
   "source": [
    "for n in circ.node_names:\n",
    "    #skip the ground node\n",
    "    if n=='0': \n",
    "        continue\n",
    "    \n",
    "    print(f\"Node {n} with voltage {dc_vals[n].as_ndarray()}\")\n",
    "    "
   ]
  },
  {
   "cell_type": "markdown",
   "metadata": {},
   "source": [
    "We will stop here and focuses on getting the currents cause in spice getting the currents is going to be convoluted. To start there are two ways to get current in SPICE. The one that doesn't work all the time is to use internal parameters that we will address later. The surefire way is to measure the current through a voltage source. That means we can get a current measurement at a branch in our circuit for free if there is a voltage source already in that branch."
   ]
  },
  {
   "cell_type": "code",
   "execution_count": 11,
   "metadata": {},
   "outputs": [
    {
     "name": "stdout",
     "output_type": "stream",
     "text": [
      "Current at vs: [-2.] A\n"
     ]
    }
   ],
   "source": [
    "#not correct sign, see description below\n",
    "print(f'Current at vs: {dc_vals[vs.ref].as_ndarray()} A')"
   ]
  },
  {
   "cell_type": "markdown",
   "metadata": {},
   "source": [
    "So first we took advantage of SKiDl to store the netlist name for the voltage source within the `vs` object and pass its name to our simulation results. But the current is negative with respect to our voltage sources terminal definitions. This is due to the fact that the direction of current flow is from high voltage to lower voltage. So from the circuit's point of view, the current goes from the positive terminal of the voltage source through the resistor to ground where the negative voltage of our voltage source also is. But between the two terminals of the voltage source current is flowing directly from the positive terminal to the negative one and so with the way SPICE does the accounting with supernodes the current between the terminals of a voltage source equals the opposite of the current through the supernode imposed by a voltage source"
   ]
  },
  {
   "cell_type": "code",
   "execution_count": 12,
   "metadata": {},
   "outputs": [
    {
     "name": "stdout",
     "output_type": "stream",
     "text": [
      "Current at vs: [2.] A\n"
     ]
    }
   ],
   "source": [
    "#correct current\n",
    "print(f'Current at vs: {-dc_vals[vs.ref].as_ndarray()} A')"
   ]
  },
  {
   "cell_type": "markdown",
   "metadata": {},
   "source": [
    "So if we needed to measure the current at any other branches we would have to add a voltage source that would not affect our circuit via adding a 0V source in line. This trick is known as adding a SPICE ammeter. And as will be shown further SKiDl makes adding a SPICE ammeter trivial. Opposed to having to rework schematics to add one. For our first section introducing SKiDl, PySPICE, and SPICE this is enough. In the following sections of this chapter on DC SPICE simulations, we will get familiar enough with creating circuits with SKiDl and controlling SPICE with PySPICE. So to end this section let's now introduce the power of automation SPICE with python."
   ]
  },
  {
   "cell_type": "markdown",
   "metadata": {},
   "source": [
    "## A Brief into SPICE simulation automation with Python¶¶\n",
    "\n",
    "In the work above we manually created the circuit, the simulation object, calling an operating point simulation against the simulation object, and finally, we semi-manually sorted through operating point simulation results. We chose here to create the circuit in SKiDL instead of a schematic capture tool. Because: one for small circuits it's a lot faster, and two serves our usage of showing how to use SKiDl. And as we will come to see we can also encapsulate parts of circuits inside python functions and classes with SkiDl to then tag onto other circuits. We also manually created our circuit simulation object and then called a SPICE simulation against it. If you have never worked with any other SPICE interface before I can't stress how powerful this is to just be able to call a SPICE simulation like that. And in fact, nothing is stopping us, save the requirements of any particular SPICE simulation, from calling a myriad of SPICE simulations against the simulation object. But every time we do one of these simulations we also have to handle the data that it produces. Above we walked through how data is returned for operating point analysis and had to do a fair bit of repetitive work to get the data back in not the most presentable of manors. So let rectify that and remove that burden by creating a class to handle performing the operating point simulation, collecting the results into pandas dataframe, and spitting out at the result. For this, the result is given below, as we continue through this book we will go over the creation of these tools in what is known as abstraction. Where being able to abstract and automate the simulation and reporting will truly showcase the power of integrating SPICE with Python\n",
    "\n"
   ]
  },
  {
   "cell_type": "code",
   "execution_count": 13,
   "metadata": {
    "code_folding": [
     0
    ]
   },
   "outputs": [],
   "source": [
    "#%%writefile -a DC_1_Codes.py\n",
    "\n",
    "#chapter 1 section 1 op_results_collect class\n",
    "#used for basic operating point simulation analysis, does not support internal parameters\n",
    "\n",
    "class op_results_collect():\n",
    "    \"\"\"\n",
    "    Basic class to get pyspice operating_point (ngspice `.op`) simulation results\n",
    "    for simulated circuit's global elements, no internal parameters just yet, that's coming\n",
    "    \"\"\"\n",
    "    \n",
    "    def __init__(self, op_sim_circ, display_results=False):\n",
    "        \"\"\"\n",
    "        Basic class to get pyspice operating_point (ngspice `.op`) simulation results\n",
    "        for simulated circuit's global elements\n",
    "        \n",
    "        Args:\n",
    "            op_sim_circ (pspice.Spice.Netlist.Circuit): the Netlist circuit produced \n",
    "            from SKiDl's `generate_netlist()`\n",
    "            \n",
    "            display_results (bool; False): option to have the simulation results\n",
    "                stored in `self.results_df` automatic displayed from a jupyter notebook\n",
    "                ell\n",
    "        \n",
    "        Returns:\n",
    "            will create a simulation in `self.op_sim`, raw results of dc operating \n",
    "            point simulation will be stored in `self.op_sim_results`, the tablized\n",
    "            results will be stored in pandas dataframe `self.results_df`\n",
    "        \n",
    "        TODO: \n",
    "            - add kwargs to the simulator\n",
    "            - add an assertion that only a pyspice netlist circuit obj can\n",
    "                    be passed into op_sim_circ\n",
    "            \n",
    "        \"\"\"\n",
    "        #need to add assertions for op_sim_circ ==pspice.Spice.Netlist.Circuit\n",
    "        \n",
    "        #store the circuit internally\n",
    "        self.op_sim_circ=op_sim_circ\n",
    "        #create the sim obj\n",
    "        self.op_sim=self.op_sim_circ.simulator()\n",
    "        #do the sim\n",
    "        self.op_sim_results=self.op_sim.operating_point()\n",
    "        #get the results in a table\n",
    "        self.get_values(display_results)\n",
    "    \n",
    "    def create_results_df(self):\n",
    "        \"\"\"\n",
    "        Creates an empty dataframe of the results\n",
    "        Args:\n",
    "            none\n",
    "        Returns:\n",
    "            self.results_df: a pandas dataframe \n",
    "        \"\"\"\n",
    "        #could be done in self.__init__ but OOP\n",
    "        #create pandas DF container\n",
    "        self.results_df=pd.DataFrame(columns=['Circ_Item', 'Item_Type', 'Value', 'Unit'])\n",
    "    \n",
    "    def get_values(self, display_results=False):\n",
    "        \"\"\"\n",
    "        Retrieves elements and nodes from the circuit and then gets the corresponding \n",
    "        value from the simulation\n",
    "        \n",
    "        Args:\n",
    "            display_results (bool; False): if True will use ipython display to show \n",
    "            self.results_df just below the cell\n",
    "        \n",
    "        Returns:\n",
    "            self.results_df: populated dataframe of simulation results\n",
    "        \n",
    "        \"\"\"\n",
    "        #insure the dataframe is constructed to fill\n",
    "        self.create_results_df()\n",
    "        \n",
    "        #get node voltages\n",
    "        for n in self.op_sim_circ.node_names:\n",
    "            #skip ground\n",
    "            if n=='0':\n",
    "                continue\n",
    "            \n",
    "            #add row and set value\n",
    "            self.results_df.at[len(self.results_df), :]=[n, 'Node_Voltage', self.op_sim_results[n].as_ndarray()[0], 'V']\n",
    "        \n",
    "        #get the current from  any voltage sources\n",
    "        for cm in self.op_sim_circ.element_names:\n",
    "            #only look at voltage sources since SPICE uses them for current reading\n",
    "            if 'V'==cm[0]:\n",
    "                #the negative sign on the results will be explained in alsdkjfaldsjlk\n",
    "                self.results_df.at[len(self.results_df), :]=[cm, 'Branch_Curr', -self.op_sim_results[cm].as_ndarray()[0], 'A']\n",
    "        \n",
    "        #gets rid of the generic index and replace it with items are index\n",
    "        self.results_df.set_index('Circ_Item', drop=True, append=False, inplace=True, verify_integrity=False)\n",
    "\n",
    "        \n",
    "        #prety display of results\n",
    "        if display_results:\n",
    "            display(self.results_df)\n",
    "        \n",
    "        return self.results_df\n",
    " \n",
    " \n"
   ]
  },
  {
   "cell_type": "code",
   "execution_count": 14,
   "metadata": {
    "code_folding": []
   },
   "outputs": [
    {
     "name": "stdout",
     "output_type": "stream",
     "text": [
      ".title \n",
      "R1 N1 0 5Ohm\n",
      "V1 N1 0 10V\n",
      "\n"
     ]
    },
    {
     "name": "stderr",
     "output_type": "stream",
     "text": [
      "\n",
      "No errors or warnings found during netlist generation.\n",
      "\n"
     ]
    },
    {
     "data": {
      "text/html": [
       "<div>\n",
       "<style scoped>\n",
       "    .dataframe tbody tr th:only-of-type {\n",
       "        vertical-align: middle;\n",
       "    }\n",
       "\n",
       "    .dataframe tbody tr th {\n",
       "        vertical-align: top;\n",
       "    }\n",
       "\n",
       "    .dataframe thead th {\n",
       "        text-align: right;\n",
       "    }\n",
       "</style>\n",
       "<table border=\"1\" class=\"dataframe\">\n",
       "  <thead>\n",
       "    <tr style=\"text-align: right;\">\n",
       "      <th></th>\n",
       "      <th>Item_Type</th>\n",
       "      <th>Value</th>\n",
       "      <th>Unit</th>\n",
       "    </tr>\n",
       "    <tr>\n",
       "      <th>Circ_Item</th>\n",
       "      <th></th>\n",
       "      <th></th>\n",
       "      <th></th>\n",
       "    </tr>\n",
       "  </thead>\n",
       "  <tbody>\n",
       "    <tr>\n",
       "      <th>N1</th>\n",
       "      <td>Node_Voltage</td>\n",
       "      <td>10</td>\n",
       "      <td>V</td>\n",
       "    </tr>\n",
       "    <tr>\n",
       "      <th>V1</th>\n",
       "      <td>Branch_Curr</td>\n",
       "      <td>2</td>\n",
       "      <td>A</td>\n",
       "    </tr>\n",
       "  </tbody>\n",
       "</table>\n",
       "</div>"
      ],
      "text/plain": [
       "              Item_Type Value Unit\n",
       "Circ_Item                         \n",
       "N1         Node_Voltage    10    V\n",
       "V1          Branch_Curr     2    A"
      ]
     },
     "metadata": {},
     "output_type": "display_data"
    }
   ],
   "source": [
    "#clear global SkiDl circuit\n",
    "reset()\n",
    "#create one of two nets, gnd we get for free\n",
    "net_1=Net('N1')\n",
    "\n",
    "#create a voltage source and set its dc value\n",
    "vs=V(dc_value=10@u_V)\n",
    "#connect the voltage source to the nets\n",
    "vs['p', 'n']+=net_1, gnd\n",
    "\n",
    "#create the resistor and set its value to the analytically found value\n",
    "r1=R(value=5@u_Ohm)\n",
    "#cpnnect the resistor to the nets\n",
    "r1[1, 2]+=net_1, gnd\n",
    "\n",
    "#generate the netlist and print it\n",
    "circ=generate_netlist()\n",
    "print(circ)\n",
    "\n",
    "op_results_collect( circ, True);"
   ]
  },
  {
   "cell_type": "markdown",
   "metadata": {},
   "source": [
    "As you can see we were able to just pass our `circ` object into our created `op_results_collect` tool and it created the simulation object, performed the operating point analysis, and collected all the data into a dataframe that is easy to read and can be stored to a variable and be analyzed by the rest of the Python scientific ecosystem all in one line."
   ]
  },
  {
   "cell_type": "markdown",
   "metadata": {},
   "source": [
    "## Citations:\n",
    "[1] ALL ABOUT ELECTRONICS. \"Ohm's law Explained\n",
    ",\" YouTube, Dec 17, 2016. [Video file]. Available: https://youtu.be/PV8CMZZKrB4. [Accessed: Nov 30, 2020].\n",
    "\n",
    "[2] ALL ABOUT ELECTRONICS. \"Circuit terminology: Concept of Loop, Mesh, Node and Branch explained,\" YouTube, Jan 24, 2017. [Video file]. Available: https://youtu.be/zUGaU4kZpag. [Accessed: Nov 30, 2020]."
   ]
  }
 ],
 "metadata": {
  "kernelspec": {
   "display_name": "Python 3",
   "language": "python",
   "name": "python3"
  },
  "language_info": {
   "codemirror_mode": {
    "name": "ipython",
    "version": 3
   },
   "file_extension": ".py",
   "mimetype": "text/x-python",
   "name": "python",
   "nbconvert_exporter": "python",
   "pygments_lexer": "ipython3",
   "version": "3.7.6"
  },
  "latex_envs": {
   "LaTeX_envs_menu_present": true,
   "autoclose": false,
   "autocomplete": true,
   "bibliofile": "biblio.bib",
   "cite_by": "apalike",
   "current_citInitial": 1,
   "eqLabelWithNumbers": true,
   "eqNumInitial": 1,
   "hotkeys": {
    "equation": "Ctrl-E",
    "itemize": "Ctrl-I"
   },
   "labels_anchors": false,
   "latex_user_defs": false,
   "report_style_numbering": false,
   "user_envs_cfg": false
  },
  "toc": {
   "base_numbering": 1,
   "nav_menu": {},
   "number_sections": true,
   "sideBar": true,
   "skip_h1_title": false,
   "title_cell": "Table of Contents",
   "title_sidebar": "Contents",
   "toc_cell": false,
   "toc_position": {},
   "toc_section_display": true,
   "toc_window_display": false
  }
 },
 "nbformat": 4,
 "nbformat_minor": 4
}