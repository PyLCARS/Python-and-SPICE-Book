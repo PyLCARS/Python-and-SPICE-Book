{
 "cells": [
  {
   "cell_type": "markdown",
   "metadata": {},
   "source": [
    "To Start"
   ]
  },
  {
   "cell_type": "markdown",
   "metadata": {},
   "source": [
    "## Citations:\n",
    "\n",
    "- https://www.allaboutcircuits.com/textbook/alternating-current/chpt-10/three-phase-power-systems/\n",
    "\n",
    "- Delta-Y https://www.youtube.com/watch?v=OV0qi7yzKAM&list=PLNQB1cNMsI3eGg7whd-sD5Ge90EQvZXkJ&index=3\n",
    "\n",
    "- Delta-Y https://www.youtube.com/watch?v=9b17eqCT4-g&list=PLNQB1cNMsI3eGg7whd-sD5Ge90EQvZXkJ&index=4&t=663s\n",
    "\n",
    "- Phaseors https://www.youtube.com/watch?v=zlmwmvijn1Y&list=PLNQB1cNMsI3eGg7whd-sD5Ge90EQvZXkJ&index=19&t=6s\n",
    "\n",
    "- phasors https://www.youtube.com/watch?v=HaFrY0qQ-NU&list=PLNQB1cNMsI3eGg7whd-sD5Ge90EQvZXkJ&index=20\n",
    "\n",
    "- power factor https://www.youtube.com/watch?v=iDYWfBGwT1w&list=PLNQB1cNMsI3eGg7whd-sD5Ge90EQvZXkJ&index=22&t=5s"
   ]
  },
  {
   "cell_type": "code",
   "execution_count": null,
   "metadata": {},
   "outputs": [],
   "source": []
  }
 ],
 "metadata": {
  "kernelspec": {
   "display_name": "Python 3",
   "language": "python",
   "name": "python3"
  },
  "language_info": {
   "codemirror_mode": {
    "name": "ipython",
    "version": 3
   },
   "file_extension": ".py",
   "mimetype": "text/x-python",
   "name": "python",
   "nbconvert_exporter": "python",
   "pygments_lexer": "ipython3",
   "version": "3.7.6"
  },
  "latex_envs": {
   "LaTeX_envs_menu_present": true,
   "autoclose": false,
   "autocomplete": true,
   "bibliofile": "biblio.bib",
   "cite_by": "apalike",
   "current_citInitial": 1,
   "eqLabelWithNumbers": true,
   "eqNumInitial": 1,
   "hotkeys": {
    "equation": "Ctrl-E",
    "itemize": "Ctrl-I"
   },
   "labels_anchors": false,
   "latex_user_defs": false,
   "report_style_numbering": false,
   "user_envs_cfg": false
  },
  "toc": {
   "base_numbering": 1,
   "nav_menu": {},
   "number_sections": true,
   "sideBar": true,
   "skip_h1_title": false,
   "title_cell": "Table of Contents",
   "title_sidebar": "Contents",
   "toc_cell": false,
   "toc_position": {},
   "toc_section_display": true,
   "toc_window_display": false
  }
 },
 "nbformat": 4,
 "nbformat_minor": 4
}
