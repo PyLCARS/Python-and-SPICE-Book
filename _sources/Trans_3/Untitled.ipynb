{
 "cells": [
  {
   "cell_type": "code",
   "execution_count": 1,
   "metadata": {},
   "outputs": [
    {
     "name": "stderr",
     "output_type": "stream",
     "text": [
      "WARNING: KICAD_SYMBOL_DIR environment variable is missing, so the default KiCad symbol libraries won't be searched.\n"
     ]
    }
   ],
   "source": [
    "#%%writefile AC_2_Codes.py\n",
    "#Library import statements\n",
    "\n",
    "from skidl.pyspice import *\n",
    "#can you say cheeky \n",
    "import PySpice as pspice\n",
    "#becouse it's written by a kiwi you know\n",
    "import lcapy as kiwi\n",
    "\n",
    "import numpy as np\n",
    "import pandas as pd\n",
    "import matplotlib.pyplot as plt\n",
    "\n",
    "from IPython.display import YouTubeVideo, display\n",
    "\n",
    "import traceback"
   ]
  },
  {
   "cell_type": "code",
   "execution_count": 2,
   "metadata": {},
   "outputs": [
    {
     "data": {
      "application/json": {
       "Software versions": [
        {
         "module": "Python",
         "version": "3.7.6 64bit [GCC 7.3.0]"
        },
        {
         "module": "IPython",
         "version": "7.12.0"
        },
        {
         "module": "OS",
         "version": "Linux 4.19.104 microsoft standard x86_64 with debian bullseye sid"
        },
        {
         "module": "skidl",
         "version": "0.0.31.dev0"
        },
        {
         "module": "PySpice",
         "version": "1.4.3"
        },
        {
         "module": "lcapy",
         "version": "0.75.dev0"
        },
        {
         "module": "sympy",
         "version": "1.6.2"
        },
        {
         "module": "numpy",
         "version": "1.18.1"
        },
        {
         "module": "matplotlib",
         "version": "3.3.0"
        },
        {
         "module": "pandas",
         "version": "1.1.4"
        },
        {
         "module": "scipy",
         "version": "1.4.1"
        }
       ]
      },
      "text/html": [
       "<table><tr><th>Software</th><th>Version</th></tr><tr><td>Python</td><td>3.7.6 64bit [GCC 7.3.0]</td></tr><tr><td>IPython</td><td>7.12.0</td></tr><tr><td>OS</td><td>Linux 4.19.104 microsoft standard x86_64 with debian bullseye sid</td></tr><tr><td>skidl</td><td>0.0.31.dev0</td></tr><tr><td>PySpice</td><td>1.4.3</td></tr><tr><td>lcapy</td><td>0.75.dev0</td></tr><tr><td>sympy</td><td>1.6.2</td></tr><tr><td>numpy</td><td>1.18.1</td></tr><tr><td>matplotlib</td><td>3.3.0</td></tr><tr><td>pandas</td><td>1.1.4</td></tr><tr><td>scipy</td><td>1.4.1</td></tr><tr><td colspan='2'>Sat Jan 16 00:53:15 2021 MST</td></tr></table>"
      ],
      "text/latex": [
       "\\begin{tabular}{|l|l|}\\hline\n",
       "{\\bf Software} & {\\bf Version} \\\\ \\hline\\hline\n",
       "Python & 3.7.6 64bit [GCC 7.3.0] \\\\ \\hline\n",
       "IPython & 7.12.0 \\\\ \\hline\n",
       "OS & Linux 4.19.104 microsoft standard x86\\_64 with debian bullseye sid \\\\ \\hline\n",
       "skidl & 0.0.31.dev0 \\\\ \\hline\n",
       "PySpice & 1.4.3 \\\\ \\hline\n",
       "lcapy & 0.75.dev0 \\\\ \\hline\n",
       "sympy & 1.6.2 \\\\ \\hline\n",
       "numpy & 1.18.1 \\\\ \\hline\n",
       "matplotlib & 3.3.0 \\\\ \\hline\n",
       "pandas & 1.1.4 \\\\ \\hline\n",
       "scipy & 1.4.1 \\\\ \\hline\n",
       "\\hline \\multicolumn{2}{|l|}{Sat Jan 16 00:53:15 2021 MST} \\\\ \\hline\n",
       "\\end{tabular}\n"
      ],
      "text/plain": [
       "Software versions\n",
       "Python 3.7.6 64bit [GCC 7.3.0]\n",
       "IPython 7.12.0\n",
       "OS Linux 4.19.104 microsoft standard x86_64 with debian bullseye sid\n",
       "skidl 0.0.31.dev0\n",
       "PySpice 1.4.3\n",
       "lcapy 0.75.dev0\n",
       "sympy 1.6.2\n",
       "numpy 1.18.1\n",
       "matplotlib 3.3.0\n",
       "pandas 1.1.4\n",
       "scipy 1.4.1\n",
       "Sat Jan 16 00:53:15 2021 MST"
      ]
     },
     "execution_count": 2,
     "metadata": {},
     "output_type": "execute_result"
    }
   ],
   "source": [
    "#from DC_1_Codes import get_skidl_spice_ref\n",
    "#notebook specific loading control statements \n",
    "%matplotlib inline\n",
    "#tool to log notebook internals\n",
    "#https://github.com/jrjohansson/version_information\n",
    "%load_ext version_information\n",
    "%version_information skidl, PySpice,lcapy, sympy, numpy, matplotlib, pandas, scipy"
   ]
  },
  {
   "cell_type": "code",
   "execution_count": 3,
   "metadata": {},
   "outputs": [
    {
     "name": "stdout",
     "output_type": "stream",
     "text": [
      ".title \n",
      "V1 N1 0 DC 5V AC 5V 0.0rad SIN(5V 5V 5Hz 5s 5Hz)\n",
      "R1 N1 0 1Ohm\n",
      "\n"
     ]
    },
    {
     "name": "stderr",
     "output_type": "stream",
     "text": [
      "\n",
      "No errors or warnings found during netlist generation.\n",
      "\n"
     ]
    }
   ],
   "source": [
    "reset()\n",
    "net_1=Net('N1')\n",
    "skidl_SINV=SINEV(ref='1', \n",
    "            #transit sim statments\n",
    "            offset=5,amplitude=5, frequency=5 , delay=5, damping_factor=5,\n",
    "            #ac sim statments\n",
    "            ac_magnitude=5, dc_offset=5)\n",
    "\n",
    "skidl_SINV['p', 'n']+=net_1, gnd\n",
    "r1=R(value=1@u_Ohm)\n",
    "r1[1, 2]+=net_1, gnd\n",
    "circ=generate_netlist()\n",
    "print(circ)"
   ]
  },
  {
   "cell_type": "code",
   "execution_count": 10,
   "metadata": {},
   "outputs": [],
   "source": [
    "sim = circ.simulator()               # Get a simulator for the Circuit object.\n",
    "waveforms = sim.transient(step_time=0.0001@u_s, end_time=10*.2@u_s) "
   ]
  },
  {
   "cell_type": "code",
   "execution_count": 11,
   "metadata": {},
   "outputs": [
    {
     "data": {
      "text/plain": [
       "WaveForm time [0.000000e+00 1.000000e-06 2.000000e-06 ... 1.999828e+00 1.999928e+00\n",
       " 2.000000e+00]@s"
      ]
     },
     "execution_count": 11,
     "metadata": {},
     "output_type": "execute_result"
    }
   ],
   "source": [
    "time=waveforms.time; time"
   ]
  },
  {
   "cell_type": "code",
   "execution_count": 12,
   "metadata": {},
   "outputs": [
    {
     "data": {
      "text/plain": [
       "WaveForm n1 [5. 5. 5. ... 5. 5. 5.]@V"
      ]
     },
     "execution_count": 12,
     "metadata": {},
     "output_type": "execute_result"
    }
   ],
   "source": [
    "val=waveforms[node(net_1)]; val"
   ]
  },
  {
   "cell_type": "code",
   "execution_count": 13,
   "metadata": {},
   "outputs": [
    {
     "data": {
      "text/plain": [
       "[<matplotlib.lines.Line2D at 0x7f99b7f02f50>]"
      ]
     },
     "execution_count": 13,
     "metadata": {},
     "output_type": "execute_result"
    },
    {
     "data": {
      "image/png": "[encoded data removed]",
      "text/plain": [
       "<Figure size 432x288 with 1 Axes>"
      ]
     },
     "metadata": {
      "needs_background": "light"
     },
     "output_type": "display_data"
    }
   ],
   "source": [
    "plt.plot(time, val)"
   ]
  },
  {
   "cell_type": "code",
   "execution_count": null,
   "metadata": {},
   "outputs": [],
   "source": [
    "1/5"
   ]
  },
  {
   "cell_type": "code",
   "execution_count": null,
   "metadata": {},
   "outputs": [],
   "source": []
  }
 ],
 "metadata": {
  "kernelspec": {
   "display_name": "Python 3",
   "language": "python",
   "name": "python3"
  },
  "language_info": {
   "codemirror_mode": {
    "name": "ipython",
    "version": 3
   },
   "file_extension": ".py",
   "mimetype": "text/x-python",
   "name": "python",
   "nbconvert_exporter": "python",
   "pygments_lexer": "ipython3",
   "version": "3.7.6"
  },
  "latex_envs": {
   "LaTeX_envs_menu_present": true,
   "autoclose": false,
   "autocomplete": true,
   "bibliofile": "biblio.bib",
   "cite_by": "apalike",
   "current_citInitial": 1,
   "eqLabelWithNumbers": true,
   "eqNumInitial": 1,
   "hotkeys": {
    "equation": "Ctrl-E",
    "itemize": "Ctrl-I"
   },
   "labels_anchors": false,
   "latex_user_defs": false,
   "report_style_numbering": false,
   "user_envs_cfg": false
  },
  "toc": {
   "base_numbering": 1,
   "nav_menu": {},
   "number_sections": true,
   "sideBar": true,
   "skip_h1_title": false,
   "title_cell": "Table of Contents",
   "title_sidebar": "Contents",
   "toc_cell": false,
   "toc_position": {},
   "toc_section_display": true,
   "toc_window_display": false
  }
 },
 "nbformat": 4,
 "nbformat_minor": 4
}
