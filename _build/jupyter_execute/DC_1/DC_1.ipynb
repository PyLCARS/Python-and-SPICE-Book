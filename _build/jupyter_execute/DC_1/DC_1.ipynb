{
 "cells": [
  {
   "cell_type": "markdown",
   "metadata": {},
   "source": [
    "# Chapter 1 DC Simulations and Basic DC Elements with Python and SPICE\n",
    "\n",
    "**TODO**\n",
    "- figuer out how to make this a chapter toc \n",
    "- write chapter intro following chapter toc"
   ]
  },
  {
   "cell_type": "code",
   "execution_count": null,
   "metadata": {},
   "outputs": [],
   "source": []
  },
  {
   "cell_type": "markdown",
   "metadata": {},
   "source": [
    "\n",
    "```{toctree}\n",
    ":hidden:\n",
    ":titlesonly:\n",
    ":numbered: \n",
    "\n",
    "DC_1_op_ohm\n",
    "DC_2_op_source_transform\n",
    "DC_3_PracticalSourcs_sweeps_subcirucirts\n",
    "DC_4_dependent_sources_and_tf\n",
    "DC_5_Thvenin_Norton\n",
    "DC_6_DC_MaxPower_MaxEfficiency\n",
    "```\n"
   ]
  }
 ],
 "metadata": {
  "kernelspec": {
   "display_name": "Python 3",
   "language": "python",
   "name": "python3"
  },
  "language_info": {
   "codemirror_mode": {
    "name": "ipython",
    "version": 3
   },
   "file_extension": ".py",
   "mimetype": "text/x-python",
   "name": "python",
   "nbconvert_exporter": "python",
   "pygments_lexer": "ipython3",
   "version": "3.7.6"
  }
 },
 "nbformat": 4,
 "nbformat_minor": 4
}