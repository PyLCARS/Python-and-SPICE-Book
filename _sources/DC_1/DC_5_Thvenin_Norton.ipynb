{
 "cells": [
  {
   "cell_type": "markdown",
   "metadata": {},
   "source": [
    "**TODO:**"
   ]
  },
  {
   "cell_type": "code",
   "execution_count": 1,
   "metadata": {
    "code_folding": []
   },
   "outputs": [
    {
     "name": "stderr",
     "output_type": "stream",
     "text": [
      "WARNING: KICAD_SYMBOL_DIR environment variable is missing, so the default KiCad symbol libraries won't be searched.\n"
     ]
    }
   ],
   "source": [
    "#Library import statements\n",
    "\n",
    "from skidl.pyspice import *\n",
    "#can you say cheeky \n",
    "import PySpice as pspice\n",
    "#becouse it's written by a kiwi you know\n",
    "import lcapy as kiwi\n",
    "\n",
    "import numpy as np\n",
    "import pandas as pd\n",
    "import matplotlib.pyplot as plt\n",
    "\n",
    "from IPython.display import YouTubeVideo, display\n",
    "\n",
    "import traceback"
   ]
  },
  {
   "cell_type": "code",
   "execution_count": 2,
   "metadata": {},
   "outputs": [
    {
     "data": {
      "application/json": {
       "Software versions": [
        {
         "module": "Python",
         "version": "3.7.6 64bit [GCC 7.3.0]"
        },
        {
         "module": "IPython",
         "version": "7.12.0"
        },
        {
         "module": "OS",
         "version": "Linux 4.19.104 microsoft standard x86_64 with debian bullseye sid"
        },
        {
         "module": "skidl",
         "version": "0.0.31.dev0"
        },
        {
         "module": "PySpice",
         "version": "1.4.3"
        },
        {
         "module": "lcapy",
         "version": "0.70"
        },
        {
         "module": "sympy",
         "version": "1.6.2"
        },
        {
         "module": "numpy",
         "version": "1.18.1"
        },
        {
         "module": "matplotlib",
         "version": "3.3.0"
        },
        {
         "module": "pandas",
         "version": "1.1.4"
        },
        {
         "module": "scipy",
         "version": "1.4.1"
        }
       ]
      },
      "text/html": [
       "<table><tr><th>Software</th><th>Version</th></tr><tr><td>Python</td><td>3.7.6 64bit [GCC 7.3.0]</td></tr><tr><td>IPython</td><td>7.12.0</td></tr><tr><td>OS</td><td>Linux 4.19.104 microsoft standard x86_64 with debian bullseye sid</td></tr><tr><td>skidl</td><td>0.0.31.dev0</td></tr><tr><td>PySpice</td><td>1.4.3</td></tr><tr><td>lcapy</td><td>0.70</td></tr><tr><td>sympy</td><td>1.6.2</td></tr><tr><td>numpy</td><td>1.18.1</td></tr><tr><td>matplotlib</td><td>3.3.0</td></tr><tr><td>pandas</td><td>1.1.4</td></tr><tr><td>scipy</td><td>1.4.1</td></tr><tr><td colspan='2'>Mon Dec 14 20:53:37 2020 MST</td></tr></table>"
      ],
      "text/latex": [
       "\\begin{tabular}{|l|l|}\\hline\n",
       "{\\bf Software} & {\\bf Version} \\\\ \\hline\\hline\n",
       "Python & 3.7.6 64bit [GCC 7.3.0] \\\\ \\hline\n",
       "IPython & 7.12.0 \\\\ \\hline\n",
       "OS & Linux 4.19.104 microsoft standard x86\\_64 with debian bullseye sid \\\\ \\hline\n",
       "skidl & 0.0.31.dev0 \\\\ \\hline\n",
       "PySpice & 1.4.3 \\\\ \\hline\n",
       "lcapy & 0.70 \\\\ \\hline\n",
       "sympy & 1.6.2 \\\\ \\hline\n",
       "numpy & 1.18.1 \\\\ \\hline\n",
       "matplotlib & 3.3.0 \\\\ \\hline\n",
       "pandas & 1.1.4 \\\\ \\hline\n",
       "scipy & 1.4.1 \\\\ \\hline\n",
       "\\hline \\multicolumn{2}{|l|}{Mon Dec 14 20:53:37 2020 MST} \\\\ \\hline\n",
       "\\end{tabular}\n"
      ],
      "text/plain": [
       "Software versions\n",
       "Python 3.7.6 64bit [GCC 7.3.0]\n",
       "IPython 7.12.0\n",
       "OS Linux 4.19.104 microsoft standard x86_64 with debian bullseye sid\n",
       "skidl 0.0.31.dev0\n",
       "PySpice 1.4.3\n",
       "lcapy 0.70\n",
       "sympy 1.6.2\n",
       "numpy 1.18.1\n",
       "matplotlib 3.3.0\n",
       "pandas 1.1.4\n",
       "scipy 1.4.1\n",
       "Mon Dec 14 20:53:37 2020 MST"
      ]
     },
     "execution_count": 2,
     "metadata": {},
     "output_type": "execute_result"
    }
   ],
   "source": [
    "#notebook specific loading control statements \n",
    "%matplotlib inline\n",
    "#tool to log notebook internals\n",
    "#https://github.com/jrjohansson/version_information\n",
    "%load_ext version_information\n",
    "%version_information skidl, PySpice,lcapy, sympy, numpy, matplotlib, pandas, scipy"
   ]
  },
  {
   "cell_type": "code",
   "execution_count": 3,
   "metadata": {},
   "outputs": [],
   "source": [
    "from DC_1_Codes import dc_ease"
   ]
  },
  {
   "cell_type": "markdown",
   "metadata": {},
   "source": [
    "# Thevenin’s DC Equivalent Circuit"
   ]
  },
  {
   "cell_type": "markdown",
   "metadata": {},
   "source": [
    "Thevenin's Theorem (at DC), states that looking into any open port (two terminals sharing that same current) of a circuit that said open port, in the context of linear circuits. will appear as nothing more than a voltage source in series with a resistor. Where said voltage source is called the equivalent Thevenin voltage source that represents the summation of all voltages delivered to the open port. And the resistance in series of the Thevenin voltage source, the Thevenin resistance, is the resistance if all independent sources in our black box when removed. The brilliant thing about the Thevenin voltage and resistance is that the Thevenin Voltage is the open-circuit voltage and Thevenin resistance, via Nortons Theorem (the current dual to Thevenin theorem) is the ratio of the open-circuit voltage to short circuit current. Thus, giving us the hint to find the two equivalence via SPICE with ease\n",
    "\n",
    "$$ V_{th}=V_{oc}$$\n",
    "$$ R_{th}=\\dfrac{V_{oc}}{I_{sc}}$$\n",
    "\n",
    "We can create an open circuit in SPICE in three ways. \n",
    "1. leave a port open, it works but is not a good idea due to stability issues that can occur \n",
    "2. fill in an open port with an exceptionally large resistor, if you need an open port this is the way to do it and not introduce stability issue \n",
    "3. An ideal current source has an infinite internal resistance even with zero current. This is why a dead battery creates an open,\n",
    "\n",
    "So if we say then the Thevenin resistance is  \n",
    "$$ R_{th}=\\dfrac{\\Delta V}{ \\Delta I}$$\n",
    "than  the Thevenin resistance may be found via the slop. So that the voltage at the port of the Thevenin equivalent circuit with a load is given by \n",
    "$$V_{p}=R_{th}I_{p}+V_{th}$$ \n",
    "And thus, we hook up a current source to the open port under test and sweep the current source to zero to find the Thevenin equivalency via linear regression.\n",
    "\n",
    "You may be asking yourself why we didn't just use the spice Transfer function (.tf) to find the Thevenin equivalent circuit. While we can use .tf however, .tf really comes from two-port circuit representation that we will be deal with in AC circuits extensively. But without going down that rabbit hole now. One would have to use .tf for every independent source to the open port and then convert the gain from the source to figure out the Thevenin voltage equivalent looking into the port and apply superposition for each independent source. So yeah .tf has its usage as we will see but for finding the Thevenin and Norton circuit it's not practical."
   ]
  },
  {
   "cell_type": "markdown",
   "metadata": {},
   "source": [
    "When applying the Thevenin theorem to find the DC equivalent circuit there are in general three cases given the mixture of dependent and independent sources in the circuit that is being reduced. But for our sake with SPICE, we don't care since we will always apply a 1A test current source. If the reader wishes to see how to analytically solve these three cases it is recommended to review the YT video from ALL ABOUT ELECTRONICS [\"Thevenin's Theorem Explained (With examples of Independent and Dependent Sources)\"](https://youtu.be/8udwPc5pCoA) where are test example for using SPICE are sourced."
   ]
  },
  {
   "cell_type": "markdown",
   "metadata": {},
   "source": [
    "## Case 1: All independent source from \"Thevenin's Theorem Explained ...\" @~4:08 min"
   ]
  },
  {
   "cell_type": "code",
   "execution_count": 4,
   "metadata": {},
   "outputs": [
    {
     "data": {
      "image/jpeg": "[encoded data removed]",
      "text/html": [
       "\n",
       "        <iframe\n",
       "            width=\"500\"\n",
       "            height=\"400\"\n",
       "            src=\"https://www.youtube.com/embed/8udwPc5pCoA?start=248\"\n",
       "            frameborder=\"0\"\n",
       "            allowfullscreen\n",
       "        ></iframe>\n",
       "        "
      ],
      "text/plain": [
       "<IPython.lib.display.YouTubeVideo at 0x7f454237b510>"
      ]
     },
     "execution_count": 4,
     "metadata": {},
     "output_type": "execute_result"
    }
   ],
   "source": [
    "YouTubeVideo('8udwPc5pCoA', width=500, height=400, start=248)"
   ]
  },
  {
   "cell_type": "markdown",
   "metadata": {},
   "source": [
    "### There is a mistake in the calculation of V_th in case 1.\n",
    "When calculating the voltage above it was show that the node voltage could be found by using KVL around the loop to find the loop current. But then that current is used to find the voltage at node A via a naive use of the voltage drop around the loop coming from the 10V source on the left through the 10 Ohm resistor on the left giving an incorrect result of 5V. This is due to the fact there are two sources in the loop and thus there is also a superimposed voltage cumming from the right 20V source and right resistor to node A. When attempting to find the voltage at a node it is preferable to use KCL at that node. Thus the correct answer for the Thevenin voltage with respect to node A (treating node B as ground) is given by\n",
    "\n",
    "$$\\dfrac{A-10}{10} +\\dfrac{A-20}{10}=0$$\n",
    "$$\\dfrac{2A-30}{10}=0$$\n",
    "$$A=\\dfrac{30}{2}=15[V]=V_{th}$$\n"
   ]
  },
  {
   "cell_type": "markdown",
   "metadata": {},
   "source": [
    "### Finding the Theivine Equivlint \"Manually\"\n",
    "The following shows how we go about exploring a test setup before consulting the following to a wrap-up tool that we can deploy from a dozen or so lines of code to just two. We will use the already created tool from section adlkfakldjfkj so were not doing a DC sweep from scratch"
   ]
  },
  {
   "cell_type": "code",
   "execution_count": 5,
   "metadata": {},
   "outputs": [
    {
     "name": "stdout",
     "output_type": "stream",
     "text": [
      ".title \n",
      "V10 N1 0 10V\n",
      "V20 N2 0 20V\n",
      "Rleft N1 A 10Ohm\n",
      "Rright A N2 10Ohm\n",
      "\n"
     ]
    },
    {
     "name": "stderr",
     "output_type": "stream",
     "text": [
      "\n",
      "No errors or warnings found during netlist generation.\n",
      "\n"
     ]
    }
   ],
   "source": [
    "#create the test circuit from case 1 of ALL ABOUT ELECTRONICS Thevenin YT Video\n",
    "reset()\n",
    "#create nets, since the example has named nets for the ports under test we will\n",
    "#name the nets the same at those two nodes\n",
    "net_1=Net('N1'); net_A=Net('A'); net_2=Net('N2'); net_B=Net('B')\n",
    "\n",
    "#create the 10-volt independent source on the left and connect it\n",
    "vs10=V(ref='10', dc_value=10@u_V); vs10['p', 'n']+=net_1, net_B\n",
    "\n",
    "#creat the left 10ohm resistor on the left side of the T network\n",
    "rleft=R(ref='left', value=10@u_Ohm); rleft[1, 2]+=net_1, net_A\n",
    "\n",
    "# were removing the center 40Ohm resistor since this is our LOAD resistor\n",
    "#but will keep the statement here in comments, because why not\n",
    "#rcenter=R(ref='center', value=40@u_Ohm); rcenter[1, 2]+=net_A, net_B\n",
    "\n",
    "#create the right 10ohm resistor on the right side of the T network\n",
    "rright=R(ref='right', value=10@u_Ohm); rright[1, 2]+=net_A, net_2\n",
    "\n",
    "#create the 20-volt independent source on the right and connect it\n",
    "vs20=V(ref='20', dc_value=20@u_V); vs20['p', 'n']+=net_2, net_B\n",
    "\n",
    "#ne need a ground for SPICE so why not just force net B to ground\n",
    "net_B+=gnd\n",
    "\n",
    "#port is at nodes A,B\n",
    "\n",
    "\n",
    "circ=generate_netlist()\n",
    "print(circ)\n"
   ]
  },
  {
   "cell_type": "code",
   "execution_count": 6,
   "metadata": {},
   "outputs": [
    {
     "data": {
      "text/plain": [
       "WaveForm a [15.]@V"
      ]
     },
     "execution_count": 6,
     "metadata": {},
     "output_type": "execute_result"
    }
   ],
   "source": [
    "sim=circ.simulator()\n",
    "dc_vals=sim.operating_point()\n",
    "dc_vals[node(net_A)]"
   ]
  },
  {
   "cell_type": "markdown",
   "metadata": {},
   "source": [
    "We add our test current source (`Ithev`) at the open port with a 1A test amount and regenerate the circuit's netlist. Since reset has not been appended to the existing global circuit that was created in the cell above."
   ]
  },
  {
   "cell_type": "code",
   "execution_count": 7,
   "metadata": {},
   "outputs": [
    {
     "name": "stdout",
     "output_type": "stream",
     "text": [
      ".title \n",
      "V10 N1 0 10V\n",
      "V20 N2 0 20V\n",
      "Ithev 0 A 1A\n",
      "Rleft N1 A 10Ohm\n",
      "Rright A N2 10Ohm\n",
      "\n"
     ]
    },
    {
     "name": "stderr",
     "output_type": "stream",
     "text": [
      "\n",
      "No errors or warnings found during netlist generation.\n",
      "\n"
     ]
    }
   ],
   "source": [
    "ithev=I(ref='Ithev', dc_value=1@u_A); ithev['p', 'n']+=net_B, net_A\n",
    "circ=generate_netlist()\n",
    "print(circ)"
   ]
  },
  {
   "cell_type": "markdown",
   "metadata": {},
   "source": [
    "Now we use our `dc_ease` tool to conduct a sweep of `Ithev` from 0A to 1A by .1A to which gives use the $V_{oc}$ that we need along with a simple test current for any dependent source and a step size that produces enough data point to perform a clear 1d regression to find $R_{th}$"
   ]
  },
  {
   "cell_type": "code",
   "execution_count": 8,
   "metadata": {},
   "outputs": [
    {
     "data": {
      "text/html": [
       "<div>\n",
       "<style scoped>\n",
       "    .dataframe tbody tr th:only-of-type {\n",
       "        vertical-align: middle;\n",
       "    }\n",
       "\n",
       "    .dataframe tbody tr th {\n",
       "        vertical-align: top;\n",
       "    }\n",
       "\n",
       "    .dataframe thead th {\n",
       "        text-align: right;\n",
       "    }\n",
       "</style>\n",
       "<table border=\"1\" class=\"dataframe\">\n",
       "  <thead>\n",
       "    <tr style=\"text-align: right;\">\n",
       "      <th></th>\n",
       "      <th>Start</th>\n",
       "      <th>Stop</th>\n",
       "      <th>Step</th>\n",
       "    </tr>\n",
       "    <tr>\n",
       "      <th>Element</th>\n",
       "      <th></th>\n",
       "      <th></th>\n",
       "      <th></th>\n",
       "    </tr>\n",
       "  </thead>\n",
       "  <tbody>\n",
       "    <tr>\n",
       "      <th>Ithev</th>\n",
       "      <td>0</td>\n",
       "      <td>1</td>\n",
       "      <td>0.1</td>\n",
       "    </tr>\n",
       "  </tbody>\n",
       "</table>\n",
       "</div>"
      ],
      "text/plain": [
       "        Start Stop Step\n",
       "Element                \n",
       "Ithev       0    1  0.1"
      ]
     },
     "execution_count": 8,
     "metadata": {},
     "output_type": "execute_result"
    }
   ],
   "source": [
    "basic_theiv_test=dc_ease(circ)\n",
    "basic_theiv_test.sweep_DF.at['Ithev']=[0, 1, .1]\n",
    "basic_theiv_test.clean_table()\n",
    "basic_theiv_test.sweep_DF"
   ]
  },
  {
   "cell_type": "code",
   "execution_count": 9,
   "metadata": {},
   "outputs": [
    {
     "data": {
      "image/png": "[encoded data removed]",
      "text/plain": [
       "<Figure size 432x288 with 5 Axes>"
      ]
     },
     "metadata": {
      "needs_background": "light"
     },
     "output_type": "display_data"
    }
   ],
   "source": [
    "basic_theiv_test.do_dc_sim('Ithev')\n",
    "basic_theiv_test.quick_plot()"
   ]
  },
  {
   "cell_type": "markdown",
   "metadata": {},
   "source": [
    "So now taking out the results of the DC sweep which are stored in a pandas Dataframe we can easily filter the data and create a basic plot in 2 lines of code."
   ]
  },
  {
   "cell_type": "code",
   "execution_count": 10,
   "metadata": {},
   "outputs": [
    {
     "data": {
      "image/png": "[encoded data removed]",
      "text/plain": [
       "<Figure size 432x288 with 1 Axes>"
      ]
     },
     "metadata": {
      "needs_background": "light"
     },
     "output_type": "display_data"
    }
   ],
   "source": [
    "thev_data=basic_theiv_test.dc_resultsNB_DF['A_[V]']\n",
    "thev_data.plot(ylabel='A_[V]', grid=True);"
   ]
  },
  {
   "cell_type": "markdown",
   "metadata": {},
   "source": [
    "From here we use Numpy's  [`polyfit`](https://numpy.org/doc/stable/reference/generated/numpy.polyfit.html) tool to perform our 1D regression of the data that will yield the slope, intercept which is our $R_{th}$ and $V_{th}$ equivalently"
   ]
  },
  {
   "cell_type": "code",
   "execution_count": 11,
   "metadata": {},
   "outputs": [
    {
     "data": {
      "image/png": "[encoded data removed]",
      "text/latex": [
       "$\\displaystyle \\left( 4.999999999999998, \\  15.000000000000004\\right)$"
      ],
      "text/plain": [
       "(4.999999999999998, 15.000000000000004)"
      ]
     },
     "execution_count": 11,
     "metadata": {},
     "output_type": "execute_result"
    }
   ],
   "source": [
    "rthev, vthev=np.polyfit(thev_data.index, thev_data.values, 1)\n",
    "rthev, vthev"
   ]
  },
  {
   "cell_type": "markdown",
   "metadata": {},
   "source": [
    "### Creating a packaged tool find Theivine Equivlint automatically\n",
    "Since one of the goals of this book is to spare on Analog Design Verification and to do so Analog design verification needs to have smart test suites. So let then let's take what we have just done and wrap it up into a single convenient tool that does all the work in three lines of code when we're done.\n",
    "\n",
    "The process of doing this again is called abstraction, and to do abstraction we review what we did manually and then break down that process into automated usage. \n",
    "1. We created a circuit with an open port that is our DUT \n",
    "2. We added a 1A current source to said open port and generated the netlist to simulate against\n",
    "3. We performed a DC sweep of the added current source to zero \n",
    "4. We reduced that data from the sweep to just what was need to find $V_{th}$ and $R_{th}$\n",
    "5. We then feed the reduced data to `ployfit` to get $V_{th}$ and $R_{th}$\n",
    "6. And this wasn't needed, but it nice to have, we create a graph of our data\n",
    "\n",
    "So then our abstraction response should be: \n",
    "1. This is creating the data, and since at the moment we can not remove elements from a SKiDl circuit we can not abstract this. But we have to tell the user to have an open port and tell our tool what nets make up the open port \n",
    "2. Since we are restricting this to a linear circuit undergoing a .dc sim we can always use a 1A source. Further, since this is for 1 port DUT that the user will always have prepared and SKiDl makes it trivial to this, yeah this is going to be automated \n",
    "3. We will reuse the machiner of dc_ease , more on this in a bit, but since we are only sweeping this one source, yeah easy automation \n",
    "4. SKiDl makes finding things the nodes and elements at our DUT's test Port trivial, so yeah easy automation \n",
    "5. we just need to wrap this \n",
    "6. We don't have to add this, but it's always nicer to someone, even yourself in the future, to add nice built-in data displays\n",
    "\n",
    "So automating this is going to be straight forward, and to make it more straight forward we are going to use OOP to create our new tool as an inherited extension of the `dc_ease` which means we don't have to invoke `dc_ease` inside our new tool and any changes made to `dc_ease` propagate down the so-called inheritance stack. That doesn't mean that inheritance guarantees that our new tool won't break if changes are made to `dc_ease`. Again this is not a book on Python programming that goes over the details of OOP and inheritance. But suffice to say it's standard code development practice, and thus we should use it here as well."
   ]
  },
  {
   "cell_type": "code",
   "execution_count": 12,
   "metadata": {},
   "outputs": [],
   "source": [
    "#%%writefile -a DC_1_Codes.py\n",
    "#chapter 1 section 5 Thevenin class\n",
    "# class that is a automated testsuite for finding the \n",
    "# DC Thevenin voltage and resistince of a port\n",
    "\n",
    "class Thevenin(dc_ease):\n",
    "    \"\"\"\n",
    "    Tool for finding the DC Thevenin equivalent voltage and resistance of a one port\n",
    "    linear circuit with an open test port. The DUT must contain all linear elements.\n",
    "    This class inheritance from the class `dc_ease` which is a tool to wrap and conduct .dc\n",
    "    SPICE simulation with SkiDl and pyspice\n",
    "    \"\"\"\n",
    "    \n",
    "    def __init__(self, port_pos, port_neg):\n",
    "        \"\"\"\n",
    "        A new instantiation unique to this class but utilizes `dc_ease` internally.\n",
    "        Will add a 1A current source to the open port and will then generate the netlist\n",
    "        to simulate against within this class\n",
    "        \n",
    "        Args:\n",
    "            port_pos (SkiDl net): A SKiDl net that makes up the positive side of \n",
    "                the DUT's open port to test\n",
    "            \n",
    "            port_neg (SkiDl net): A SKiDl net that makes up the negative side of \n",
    "                the DUT's open port to test\n",
    "        \n",
    "        Returns:\n",
    "            adds a 1A test source: `self.ithev` and creates that netlist to test:\n",
    "            `self.circ_netlist_obj`\n",
    "        \n",
    "        TODO:\n",
    "            -add assertions so that only a SKiDl net obj can only be passed in\n",
    "            -add an assertion to see if the port is truly open\n",
    "        \"\"\"\n",
    "        \n",
    "        #add a current source to get Thevenin at port\n",
    "        self.ithev=I(ref='Ithev', dc_value=1@u_A)\n",
    "        self.ithev['n', 'p']+=port_pos, port_neg\n",
    "        self.ithev_ref=self.ithev.ref\n",
    "        \n",
    "       \n",
    "        #call generate netlist to create circ like we would if using `dc_ease`\n",
    "        #by its self and simultaneously pass it into while invoking `dc_ease`'s\n",
    "        # own instatation method\n",
    "        super().__init__(generate_netlist())\n",
    "        #print out the resulting circuit for debugging\n",
    "        print('circuit and Thevenin finding Isource')\n",
    "        print(self.circ_netlist_obj)\n",
    "    \n",
    "    \n",
    "    def find_thev(self):\n",
    "        \"\"\"\n",
    "        method to conduct the dc sweep of `self.ithev` automatically and find the \n",
    "        resulting Thevenin voltage and resistance\n",
    "        \n",
    "        Args: NONE\n",
    "        \n",
    "        Returns:\n",
    "            see `dc_ease`'s `record_dc_nodebranch` for a full list of returns. But specifically will\n",
    "            return `self.thevenin_sweep_data` which is the pandas' object with the\n",
    "            returned sweep data with only the necessary data for finding the Vth and Rth.\n",
    "            `self.rthev` and `self.vthev` which are Vth and Rth as floats respectively and\n",
    "            `self.thev_results` which is a panda dataframe presenting Vth and Rth in a table\n",
    "        \n",
    "        TODO:\n",
    "            \n",
    "        \"\"\"\n",
    "        #set the sweep table\n",
    "        self.sweep_DF.at[self.ithev_ref]=[0, 1, 0.1]\n",
    "        self.clean_table()\n",
    "        \n",
    "        #do the sweep\n",
    "        self.do_dc_sim(self.ithev_ref)\n",
    "        #get the results \n",
    "        self.record_dc_nodebranch(self.ithev_ref)\n",
    "        \n",
    "        #reduce the data\n",
    "        self.thevenin_sweep_data=self.dc_resultsNB_DF[node(self.ithev['n'])+'_[V]']\n",
    "        \n",
    "        #perform the 1d polyfit\n",
    "        self.rthev, self.vthev=np.polyfit(self.thevenin_sweep_data.index, self.thevenin_sweep_data.values, 1)\n",
    "        \n",
    "        #make a pandas dataframe table, because it's the nice thing to do\n",
    "        self.thev_results=pd.DataFrame(index=['Rthev', 'Vthev'], columns=['Values', 'Units'])\n",
    "        self.thev_results['Units']=['[Ohm]', '[V]']\n",
    "        self.thev_results['Values']=[self.rthev, self.vthev]\n",
    "        \n",
    "        \n",
    "    def display_thev(self):\n",
    "        \"\"\"\n",
    "        Auxiliary function to plot our Thevenin findings, useful for presentions\n",
    "        and debugging\n",
    "        \n",
    "        Args: None\n",
    "        \n",
    "        Returns:\n",
    "            Creates a plot and with a table to the side with the Thevenin equivalent finding\n",
    "            with a table to the side summering our finding\n",
    "        \n",
    "        TODO:\n",
    "            - add a check to make sure self.find_thev has been done\n",
    "            \n",
    "        \"\"\"\n",
    "        #create the plot \"canvas\"\n",
    "        fig, axis=plt.subplots(nrows=1, ncols=1)\n",
    "        \n",
    "        #make a line plot on canvas of sweep data \n",
    "        self.thevenin_sweep_data.plot(grid=True, \n",
    "        xlabel=self.ithev_ref+'_[A]', ylabel=node(self.ithev['n'])+'_[V]', \n",
    "                                     ax=axis)\n",
    "        \n",
    "        #create \"annotation\" to hold self.thev_results in and to display next to the plot\n",
    "        Anotation=['Theven Port Results:\\n']\n",
    "        for row in self.thev_results.itertuples():\n",
    "            Anotation.append('   '+f'{row.Index}: {row.Values:.3f} {row.Units}' +'\\n')\n",
    "        \n",
    "        Anotation=''.join(Anotation)\n",
    "\n",
    "        fig.text(1.1,.4, Anotation, fontsize=14, transform=fig.transFigure)\n",
    "        fig.suptitle('Thevin current sweep results')\n"
   ]
  },
  {
   "cell_type": "code",
   "execution_count": 13,
   "metadata": {},
   "outputs": [
    {
     "name": "stdout",
     "output_type": "stream",
     "text": [
      ".title \n",
      "V10 N1 0 10V\n",
      "V20 N2 0 20V\n",
      "Rleft N1 A 10Ohm\n",
      "Rright A N2 10Ohm\n",
      "\n"
     ]
    },
    {
     "name": "stderr",
     "output_type": "stream",
     "text": [
      "\n",
      "No errors or warnings found during netlist generation.\n",
      "\n"
     ]
    }
   ],
   "source": [
    "#Reset and recreate the circuit above to use to test our new `Thevenin` finding tool against\n",
    "#create the test circuit from case 1 of ALL ABOUT ELECTRONICS Thevenin YT Video\n",
    "reset()\n",
    "#create nets, since the example has named nets for the ports under test we will\n",
    "#name the nets the same at those two nodes\n",
    "net_1=Net('N1'); net_A=Net('A'); net_2=Net('N2'); net_B=Net('B')\n",
    "\n",
    "#create the 10-volt independent source on the left and connect it\n",
    "vs10=V(ref='10', dc_value=10@u_V); vs10['p', 'n']+=net_1, net_B\n",
    "\n",
    "#creat the left 10ohm resistor on the left side of the T network\n",
    "rleft=R(ref='left', value=10@u_Ohm); rleft[1, 2]+=net_1, net_A\n",
    "\n",
    "# We're removing the center 40Ohm resistor since this is our LOAD resistor\n",
    "#but will keep the statement here in comments, because why not\n",
    "#rcenter=R(ref='center', value=40@u_Ohm); rcenter[1, 2]+=net_A, net_B\n",
    "\n",
    "#create the right 10ohm resistor on the right side of the T network\n",
    "rright=R(ref='right', value=10@u_Ohm); rright[1, 2]+=net_A, net_2\n",
    "\n",
    "#create the 20-volt independent source on the right and connect it\n",
    "vs20=V(ref='20', dc_value=20@u_V); vs20['p', 'n']+=net_2, net_B\n",
    "\n",
    "#ne need a ground for SPICE so why not just force net B to ground\n",
    "net_B+=gnd\n",
    "\n",
    "#port is at nodes A,B\n",
    "\n",
    "\n",
    "circ=generate_netlist()\n",
    "print(circ)\n"
   ]
  },
  {
   "cell_type": "markdown",
   "metadata": {},
   "source": [
    "So now we put our new tool `Thevenin` to work in finding the Thevenin equivalent circuits"
   ]
  },
  {
   "cell_type": "code",
   "execution_count": 14,
   "metadata": {},
   "outputs": [
    {
     "name": "stdout",
     "output_type": "stream",
     "text": [
      "circuit and Thevenin finding Isource\n",
      ".title \n",
      "V10 N1 0 10V\n",
      "V20 N2 0 20V\n",
      "Ithev 0 A 1A\n",
      "Rleft N1 A 10Ohm\n",
      "Rright A N2 10Ohm\n",
      "\n"
     ]
    },
    {
     "name": "stderr",
     "output_type": "stream",
     "text": [
      "\n",
      "No errors or warnings found during netlist generation.\n",
      "\n"
     ]
    }
   ],
   "source": [
    "#create an instance of Thevenin and feed it the open port from the test circuit\n",
    "test=Thevenin(net_A, net_B)"
   ]
  },
  {
   "cell_type": "code",
   "execution_count": 15,
   "metadata": {},
   "outputs": [
    {
     "data": {
      "text/plain": [
       "Ithev\n",
       "0.0    15.0\n",
       "0.1    15.5\n",
       "0.2    16.0\n",
       "0.3    16.5\n",
       "0.4    17.0\n",
       "0.5    17.5\n",
       "0.6    18.0\n",
       "0.7    18.5\n",
       "0.8    19.0\n",
       "0.9    19.5\n",
       "1.0    20.0\n",
       "Name: A_[V], dtype: float64"
      ]
     },
     "execution_count": 15,
     "metadata": {},
     "output_type": "execute_result"
    }
   ],
   "source": [
    "#run the method to get the Thevenin values and display the Thevenin data \n",
    "# to verify functionality\n",
    "test.find_thev()\n",
    "test.thevenin_sweep_data"
   ]
  },
  {
   "cell_type": "code",
   "execution_count": 16,
   "metadata": {},
   "outputs": [
    {
     "data": {
      "image/png": "[encoded data removed]",
      "text/plain": [
       "<Figure size 432x288 with 1 Axes>"
      ]
     },
     "metadata": {
      "needs_background": "light"
     },
     "output_type": "display_data"
    }
   ],
   "source": [
    "# and finally to the display utility out for a test drive\n",
    "test.display_thev()"
   ]
  },
  {
   "cell_type": "markdown",
   "metadata": {},
   "source": [
    "And thus we have reproduced what we did \"manually\" with our new tool Thevenin"
   ]
  },
  {
   "cell_type": "markdown",
   "metadata": {},
   "source": [
    "## Case 2: Mixture of independent and dependent source from \"Thevenin's Theorem Explained ...\" @~6:59 min"
   ]
  },
  {
   "cell_type": "code",
   "execution_count": 17,
   "metadata": {},
   "outputs": [
    {
     "data": {
      "image/jpeg": "[encoded data removed]",
      "text/html": [
       "\n",
       "        <iframe\n",
       "            width=\"500\"\n",
       "            height=\"400\"\n",
       "            src=\"https://www.youtube.com/embed/8udwPc5pCoA?start=419\"\n",
       "            frameborder=\"0\"\n",
       "            allowfullscreen\n",
       "        ></iframe>\n",
       "        "
      ],
      "text/plain": [
       "<IPython.lib.display.YouTubeVideo at 0x7f453cd58ad0>"
      ]
     },
     "execution_count": 17,
     "metadata": {},
     "output_type": "execute_result"
    }
   ],
   "source": [
    "YouTubeVideo('8udwPc5pCoA', width=500, height=400, start=419)"
   ]
  },
  {
   "cell_type": "code",
   "execution_count": 18,
   "metadata": {},
   "outputs": [
    {
     "name": "stderr",
     "output_type": "stream",
     "text": [
      "\n",
      "No errors or warnings found during netlist generation.\n",
      "\n"
     ]
    },
    {
     "name": "stdout",
     "output_type": "stream",
     "text": [
      "circuit and Thevenin finding Isource\n",
      ".title \n",
      "E1 N2 A A 0 3\n",
      "Ithev 0 A 1A\n",
      "V1 N1 0 5V\n",
      "Rleft N2 0 2kOhm\n",
      "Rright A 0 1kOhm\n",
      "Rvs N1 N2 2kOhm\n",
      "\n"
     ]
    },
    {
     "data": {
      "image/png": "[encoded data removed]",
      "text/plain": [
       "<Figure size 432x288 with 1 Axes>"
      ]
     },
     "metadata": {
      "needs_background": "light"
     },
     "output_type": "display_data"
    }
   ],
   "source": [
    "#Cirucit from case 2\n",
    "reset()\n",
    "net_1=Net('N1');net_2=Net('N2');net_A=Net('A'); net_B=Net('B')\n",
    "\n",
    "vs=V(dc_value=5@u_V); vs['p', 'n']+=net_1, net_B\n",
    "rvs=R(ref='vs', value=2@u_kOhm); rvs[1, 2]+=net_1, net_2\n",
    "rleft=R(ref='left', value=2@u_kOhm); rleft[1, 2]+=net_2, net_B\n",
    "\n",
    "#create the voltage-controlled voltage source\n",
    "vcvs=E(gain=3)\n",
    "#vcvs inputs; outputs\n",
    "vcvs['ip', 'in']+=net_A, net_B; vcvs['op', 'on']+=net_2, net_A\n",
    "\n",
    "rright=R(ref='right', value=1@u_kOhm); rright[1, 2]+=net_A, net_B\n",
    "\n",
    "#force net_B to be ground\n",
    "net_B+=gnd\n",
    "\n",
    "#port is at nodes A,B\n",
    "\n",
    "#add our test suite ` Thevenin ` and let it solve and show the results\n",
    "ThevTest=Thevenin(net_A, net_B)\n",
    "ThevTest.find_thev()\n",
    "ThevTest.display_thev()"
   ]
  },
  {
   "cell_type": "markdown",
   "metadata": {},
   "source": [
    "## Case 3: All dependent source from \"Thevenin's Theorem Explained ...\" @~11:51 min"
   ]
  },
  {
   "cell_type": "code",
   "execution_count": 19,
   "metadata": {},
   "outputs": [
    {
     "data": {
      "image/jpeg": "[encoded data removed]",
      "text/html": [
       "\n",
       "        <iframe\n",
       "            width=\"500\"\n",
       "            height=\"400\"\n",
       "            src=\"https://www.youtube.com/embed/8udwPc5pCoA?start=711\"\n",
       "            frameborder=\"0\"\n",
       "            allowfullscreen\n",
       "        ></iframe>\n",
       "        "
      ],
      "text/plain": [
       "<IPython.lib.display.YouTubeVideo at 0x7f453cd01510>"
      ]
     },
     "execution_count": 19,
     "metadata": {},
     "output_type": "execute_result"
    }
   ],
   "source": [
    "YouTubeVideo('8udwPc5pCoA', width=500, height=400, start=711)"
   ]
  },
  {
   "cell_type": "code",
   "execution_count": 20,
   "metadata": {},
   "outputs": [
    {
     "name": "stderr",
     "output_type": "stream",
     "text": [
      "WARNING: Merging two named nets (B and 0) into B.\n",
      "\n",
      "1 warnings found during netlist generation.\n",
      "0 errors found during netlist generation.\n",
      "\n"
     ]
    },
    {
     "name": "stdout",
     "output_type": "stream",
     "text": [
      "circuit and Thevenin finding Isource\n",
      ".title \n",
      "H1 N1 0 Vamm\n",
      "Ithev 0 A 1A\n",
      "Vamm Ap A 0V\n",
      "Rcs N1 Ap 6Ohm\n",
      "Rright Ap 0 4Ohm\n",
      "\n"
     ]
    },
    {
     "data": {
      "image/png": "[encoded data removed]",
      "text/plain": [
       "<Figure size 432x288 with 1 Axes>"
      ]
     },
     "metadata": {
      "needs_background": "light"
     },
     "output_type": "display_data"
    }
   ],
   "source": [
    "#Cirucit from case 3\n",
    "reset()\n",
    "net_1=Net('N1');net_Aprime=Net('Ap'); net_A=Net('A'); net_B=Net('B')\n",
    "\n",
    "rcs=R(ref='cs', value=6@u_Ohm); rcs[1, 2]+=net_1, net_Aprime\n",
    "rright=R(ref='right', value=4@u_Ohm); rright[1, 2]+=net_Aprime, net_B\n",
    "\n",
    "vamm=V(ref='amm', dc_value=0@u_V); vamm['p', 'n']+=net_Aprime, net_A\n",
    "\n",
    "#create the voltage-controlled current source, let it know the current monter, and connect\n",
    "vccs=H(gain=3, control=vamm.ref_prefix+vamm.ref); vccs['p', 'n']+=net_1, net_B\n",
    "\n",
    "\n",
    "#force net b to ground\n",
    "net_B+=gnd\n",
    "\n",
    "#port is at nodes A,B\n",
    "\n",
    "#let the Thevenin find test sweep rip\n",
    "ThevTest=Thevenin(net_A, net_B)\n",
    "ThevTest.find_thev()\n",
    "ThevTest.display_thev()"
   ]
  },
  {
   "cell_type": "markdown",
   "metadata": {},
   "source": [
    "# Norton's Theorem"
   ]
  },
  {
   "cell_type": "markdown",
   "metadata": {},
   "source": [
    "Norton's theorem is just the dual to Thevenin's so that\n",
    "$$I_N=I_{sc}$$\n",
    "$$R_{th}=R_{N}=\\dfrac{1}{G_N}=\\dfrac{V_{oc}}{I_{sc}}$$\n",
    "\n",
    "And so to measure it with SPICE we just replace a current source at the open port with a Voltage source.\n",
    "You might wonder why would anyone measure the short circuit current since sorts are typically not a good thing if not outright dangerous. Though to be fair unintentional and or uncontrolled opens are just as dangerous. The reason steams to one of the goals in this book and that is to create testbenchs for SPICE that mimic test setups in the lab. And while measuring the Thevenin in the lab is typically more preferable since we can start from an open circuit using a load then move toward shorting the open and using interpolation to then infer the actual short without having to make a real short. Certain testing, especially with batteries will conduct tests with short circuits. So why not have a Python-SPICE testbench ready to go and proven out before it's needed.\n"
   ]
  },
  {
   "cell_type": "markdown",
   "metadata": {},
   "source": [
    "## Example 1: All independent source from \"Norton's Theorem Explained ...\" @~3:32 min"
   ]
  },
  {
   "cell_type": "code",
   "execution_count": 21,
   "metadata": {},
   "outputs": [
    {
     "data": {
      "image/jpeg": "[encoded data removed]",
      "text/html": [
       "\n",
       "        <iframe\n",
       "            width=\"500\"\n",
       "            height=\"400\"\n",
       "            src=\"https://www.youtube.com/embed/DdLA8rntWEY?start=212\"\n",
       "            frameborder=\"0\"\n",
       "            allowfullscreen\n",
       "        ></iframe>\n",
       "        "
      ],
      "text/plain": [
       "<IPython.lib.display.YouTubeVideo at 0x7f453ccb1c10>"
      ]
     },
     "execution_count": 21,
     "metadata": {},
     "output_type": "execute_result"
    }
   ],
   "source": [
    "YouTubeVideo('DdLA8rntWEY', width=500, height=400, start=212)"
   ]
  },
  {
   "cell_type": "markdown",
   "metadata": {},
   "source": [
    "### Finding the Northon Equivlint \"Manualy\"\n",
    "So why are we gain going over the manual way when we know we're just going to create a wrapped tool. Cause first of all there is a subtle detail in that when we use a voltage source we can choose to either use the internal current or the current from the ammeter trick. For illustration purposes, we choose to do with the internal one. The second reason is to illustrate the process of abstraction. And that is trying not to rush into it. Build up a suite of test cases to then let the abstraction come."
   ]
  },
  {
   "cell_type": "code",
   "execution_count": 22,
   "metadata": {},
   "outputs": [
    {
     "name": "stdout",
     "output_type": "stream",
     "text": [
      ".title \n",
      "I1 0 N1 2A\n",
      "V1 N2 0 12V\n",
      "Rbot 0 B 8Ohm\n",
      "Rright A B 5Ohm\n",
      "Rtop N1 A 8Ohm\n",
      "Rvs N1 N2 4Ohm\n",
      "\n"
     ]
    },
    {
     "name": "stderr",
     "output_type": "stream",
     "text": [
      "\n",
      "No errors or warnings found during netlist generation.\n",
      "\n"
     ]
    }
   ],
   "source": [
    "#cirucit from example 1 of Norton YT\n",
    "reset()\n",
    "net_1=Net('N1');net_2=Net('N2');net_A=Net('A'); net_B=Net('B')\n",
    "\n",
    "cs=I(dc_value=2@u_A); cs['n', 'p']+= net_1, gnd\n",
    "vs=V(dc_value=12@u_V); vs['p', 'n']+=net_2, gnd\n",
    "\n",
    "rvs=R(ref='vs', value=4@u_Ohm); rvs[1, 2]+=net_1, net_2\n",
    "rtop=R(ref='top', value=8@u_Ohm); rtop[1, 2]+=net_1, net_A\n",
    "rbot=R(ref='bot', value=8@u_Ohm); rbot[1, 2]+=gnd, net_B\n",
    "rright=R(ref='right', value=5@u_Ohm); rright[1, 2]+=net_A, net_B\n",
    "\n",
    "#port is at nodes A,B\n",
    "circ=generate_netlist()\n",
    "print(circ)"
   ]
  },
  {
   "cell_type": "markdown",
   "metadata": {},
   "source": [
    "Add the voltage source at the open port nets and regenerate the netlist"
   ]
  },
  {
   "cell_type": "code",
   "execution_count": 23,
   "metadata": {},
   "outputs": [
    {
     "name": "stdout",
     "output_type": "stream",
     "text": [
      ".title \n",
      "I1 0 N1 2A\n",
      "V1 N2 0 12V\n",
      "Vnort A B 1V\n",
      "Rbot 0 B 8Ohm\n",
      "Rright A B 5Ohm\n",
      "Rtop N1 A 8Ohm\n",
      "Rvs N1 N2 4Ohm\n",
      "\n"
     ]
    },
    {
     "name": "stderr",
     "output_type": "stream",
     "text": [
      "\n",
      "No errors or warnings found during netlist generation.\n",
      "\n"
     ]
    }
   ],
   "source": [
    "Vnort=V(ref='Vnort', dc_value=1@u_V); Vnort['p', 'n']+=net_A, net_B\n",
    "circ=generate_netlist()\n",
    "print(circ)"
   ]
  },
  {
   "cell_type": "markdown",
   "metadata": {},
   "source": [
    "setup the dc sweep of the test voltage source"
   ]
  },
  {
   "cell_type": "code",
   "execution_count": 24,
   "metadata": {},
   "outputs": [
    {
     "data": {
      "text/html": [
       "<div>\n",
       "<style scoped>\n",
       "    .dataframe tbody tr th:only-of-type {\n",
       "        vertical-align: middle;\n",
       "    }\n",
       "\n",
       "    .dataframe tbody tr th {\n",
       "        vertical-align: top;\n",
       "    }\n",
       "\n",
       "    .dataframe thead th {\n",
       "        text-align: right;\n",
       "    }\n",
       "</style>\n",
       "<table border=\"1\" class=\"dataframe\">\n",
       "  <thead>\n",
       "    <tr style=\"text-align: right;\">\n",
       "      <th></th>\n",
       "      <th>Start</th>\n",
       "      <th>Stop</th>\n",
       "      <th>Step</th>\n",
       "    </tr>\n",
       "    <tr>\n",
       "      <th>Element</th>\n",
       "      <th></th>\n",
       "      <th></th>\n",
       "      <th></th>\n",
       "    </tr>\n",
       "  </thead>\n",
       "  <tbody>\n",
       "    <tr>\n",
       "      <th>Vnort</th>\n",
       "      <td>0</td>\n",
       "      <td>1</td>\n",
       "      <td>0.1</td>\n",
       "    </tr>\n",
       "  </tbody>\n",
       "</table>\n",
       "</div>"
      ],
      "text/plain": [
       "        Start Stop Step\n",
       "Element                \n",
       "Vnort       0    1  0.1"
      ]
     },
     "execution_count": 24,
     "metadata": {},
     "output_type": "execute_result"
    }
   ],
   "source": [
    "basic_nort_test=dc_ease(circ)\n",
    "basic_nort_test.sweep_DF.at['Vnort']=[0, 1, .1]\n",
    "basic_nort_test.clean_table()\n",
    "basic_nort_test.sweep_DF"
   ]
  },
  {
   "cell_type": "markdown",
   "metadata": {},
   "source": [
    "Run the simulation, where we are opting for the internal current for the test voltage source, for no other reason than to contrast with the Thevenin tool that was made above."
   ]
  },
  {
   "cell_type": "code",
   "execution_count": 25,
   "metadata": {},
   "outputs": [
    {
     "name": "stderr",
     "output_type": "stream",
     "text": [
      "Unit is None for @rtop[p] power\n",
      "Unit is None for @v1[p] power\n",
      "Unit is None for @rbot[p] power\n",
      "Unit is None for @i1[p] power\n",
      "Unit is None for @rvs[p] power\n",
      "Unit is None for @vnort[p] power\n",
      "Unit is None for @rright[p] power\n"
     ]
    }
   ],
   "source": [
    "basic_nort_test.do_dc_intsim('Vnort')\n",
    "#not doing a quick plot here because the number columns vs the resolution of \n",
    "#subplots does not go well"
   ]
  },
  {
   "cell_type": "markdown",
   "metadata": {},
   "source": [
    "Since we are only interested in the recorded internal current of the test voltage source we will just grab that one column"
   ]
  },
  {
   "cell_type": "code",
   "execution_count": 26,
   "metadata": {},
   "outputs": [
    {
     "data": {
      "text/plain": [
       "Index(['I1[c]_[A]', 'I1[v]_[V]', 'I1[p]_[W]', 'V1[i]_[A]', 'V1[p]_[W]',\n",
       "       'Vnort[i]_[A]', 'Vnort[p]_[W]', 'Rbot[i]_[A]', 'Rbot[p]_[W]',\n",
       "       'Rright[i]_[A]', 'Rright[p]_[W]', 'Rtop[i]_[A]', 'Rtop[p]_[W]',\n",
       "       'Rvs[i]_[A]', 'Rvs[p]_[W]'],\n",
       "      dtype='object')"
      ]
     },
     "execution_count": 26,
     "metadata": {},
     "output_type": "execute_result"
    }
   ],
   "source": [
    "#get all the columns that were measured\n",
    "basic_nort_test.dc_resultsINT_DF.columns"
   ]
  },
  {
   "cell_type": "code",
   "execution_count": 27,
   "metadata": {},
   "outputs": [
    {
     "data": {
      "text/plain": [
       "Vnort\n",
       "0.0   -1.000\n",
       "0.1   -0.975\n",
       "0.2   -0.950\n",
       "0.3   -0.925\n",
       "0.4   -0.900\n",
       "0.5   -0.875\n",
       "0.6   -0.850\n",
       "0.7   -0.825\n",
       "0.8   -0.800\n",
       "0.9   -0.775\n",
       "1.0   -0.750\n",
       "Name: Vnort[i]_[A], dtype: float64"
      ]
     },
     "execution_count": 27,
     "metadata": {},
     "output_type": "execute_result"
    }
   ],
   "source": [
    "#grap the one columne of data we care about \n",
    "nort_data=basic_nort_test.dc_resultsINT_DF['Vnort[i]_[A]']\n",
    "nort_data"
   ]
  },
  {
   "cell_type": "markdown",
   "metadata": {},
   "source": [
    "Do our linear fitting of the data noting that the slop will be the conductance so we need to flip it to get resistance, and don't worry about the sign of the current as long as for this case the resistance is positive. Just recall our discussions thus far about the sign of currents in SPICE."
   ]
  },
  {
   "cell_type": "code",
   "execution_count": 28,
   "metadata": {},
   "outputs": [
    {
     "data": {
      "image/png": "[encoded data removed]",
      "text/latex": [
       "$\\displaystyle \\left( 0.25, \\  -1.0\\right)$"
      ],
      "text/plain": [
       "(0.25, -1.0)"
      ]
     },
     "execution_count": 28,
     "metadata": {},
     "output_type": "execute_result"
    }
   ],
   "source": [
    "Cnort, Inort=np.polyfit(basic_nort_test.dc_resultsINT_DF.index, basic_nort_test.dc_resultsINT_DF['Vnort[i]_[A]'], 1)\n",
    "Rnort=1/Cnort\n",
    "Cnort, Inort"
   ]
  },
  {
   "cell_type": "code",
   "execution_count": 29,
   "metadata": {},
   "outputs": [
    {
     "data": {
      "image/png": "[encoded data removed]",
      "text/plain": [
       "<Figure size 432x288 with 1 Axes>"
      ]
     },
     "metadata": {
      "needs_background": "light"
     },
     "output_type": "display_data"
    }
   ],
   "source": [
    "nort_data.plot(ylabel='Vnort[i]_[A]', grid=True);"
   ]
  },
  {
   "cell_type": "markdown",
   "metadata": {},
   "source": [
    "### Creating a packaged tool find Norton Equivlint automatically\n",
    "This is fairly self-explanatory if you have read how the Thevenin tool was made. The one thing to note here is that we didn’t do an inheritance from the Thevenin tool. The reason is that the Norton and Thevenin tools are in essence an evolutionary fork from `dc_ease`"
   ]
  },
  {
   "cell_type": "code",
   "execution_count": 30,
   "metadata": {
    "code_folding": []
   },
   "outputs": [],
   "source": [
    "#%%writefile -a DC_1_Codes.py\n",
    "#chapter 1 section 5 Norton class\n",
    "# class that is a automated testsuite for finding the \n",
    "# DC Norton current and resistince of a port\n",
    "\n",
    "class Norton(dc_ease):\n",
    "    \"\"\"\n",
    "    Tool for finding the DC Norton equivalent current and resistance of a one port\n",
    "    linear circuit with an open test port. The DUT must contain all linear elements.\n",
    "    This class inheritance from the class `dc_ease` which is a tool to wrap and conduct .dc\n",
    "    SPICE simulation with SkiDl and pyspice\n",
    "    \"\"\"\n",
    "    \n",
    "    def __init__(self, port_pos, port_neg):\n",
    "        \"\"\"\n",
    "        A new instantiation unique to this class but utilizes `dc_ease` internally.\n",
    "        Will add a 1V voltage source to the open port and will then generate the netlist\n",
    "        to simulate against within this class\n",
    "        \n",
    "        Args:\n",
    "            port_pos (SkiDl net): A SKiDl net that makes up the positive side of \n",
    "                the DUT's open port to test\n",
    "            \n",
    "            port_neg (SkiDl net): A SKiDl net that makes up the negative side of \n",
    "                the DUT's open port to test\n",
    "        \n",
    "        Returns:\n",
    "            adds a 1V test source: `self.vnort` and creates that netlist to test:\n",
    "            `self.circ_netlist_obj`\n",
    "        \n",
    "        TODO:\n",
    "            -add assertions to so that only a SKiDl net obj can only be passed in\n",
    "            -add an assertion to see if the port is truly open\n",
    "        \"\"\"\n",
    "        \n",
    "        #add voltage source to get Norton at port\n",
    "        self.vnort=V(ref='Vnort', dc_value=1@u_V)\n",
    "        self.vnort['p', 'n']+=port_pos, port_neg\n",
    "        self.vnort_ref=self.vnort.ref\n",
    "        \n",
    "       \n",
    "        #call generate netlist to create circ like we would if using `dc_ease`\n",
    "        #by its self and simultaneously pass it into while invoking `dc_ease`'s\n",
    "        # own instatation method\n",
    "        super().__init__(generate_netlist())\n",
    "        #print out the resulting circuit for debugging\n",
    "        print('circuit and Thevenin finding Isource')\n",
    "        print(self.circ_netlist_obj)\n",
    "    \n",
    "    \n",
    "    def find_nort(self):\n",
    "        \"\"\"\n",
    "        method to conduct the dc sweep of `self.ithev` automatically and find the \n",
    "        resulting Norton current and resistance\n",
    "        \n",
    "        Args: NONE\n",
    "        \n",
    "        Returns:\n",
    "            see `dc_ease`'s `record_dc_internals` for a full list of returns. But specifically will\n",
    "            return `self.norton_sweep_data` which is the pandas' object with the\n",
    "            returned sweep data with only the necessary data for finding the Vth and Rth.\n",
    "            `self.rnort` (`self.gnort`) and `self.inort` which are In and Rn as floats respectively and\n",
    "            `self.nort_results` which is a pandas dataframe presenting In and Rn in a table\n",
    "        \n",
    "        TODO:\n",
    "            \n",
    "        \"\"\"\n",
    "        #set the sweep table\n",
    "        self.sweep_DF.at[self.vnort_ref]=[0, 1, 0.1]\n",
    "        self.clean_table()\n",
    "        \n",
    "        #do the sweep\n",
    "        self.do_dc_intsim(self.vnort_ref)\n",
    "        #get the results \n",
    "        self.record_dc_internals(self.vnort_ref)\n",
    "        \n",
    "        #reduce the data\n",
    "        self.norton_sweep_data=self.dc_resultsINT_DF[self.vnort_ref+'[i]_[A]']\n",
    "        \n",
    "        #perform the 1d polyfit\n",
    "        self.gnort, self.inort=np.polyfit(self.norton_sweep_data.index, self.norton_sweep_data.values, 1)\n",
    "        #flip from conductance to resistance\n",
    "        self.rnort=1/self.gnort\n",
    "        \n",
    "        #make a pandas dataframe table, because it's the nice thing to do\n",
    "        self.nort_results=pd.DataFrame(index=['Rnort', 'Inort'], columns=['Values', 'Units'])\n",
    "        self.nort_results['Units']=['[Ohm]', '[A]']\n",
    "        self.nort_results['Values']=[self.rnort, self.inort]\n",
    "        \n",
    "        \n",
    "    def display_nort(self):\n",
    "        \"\"\"\n",
    "        Auxiliary function to plot our Norton findings, useful for presentions\n",
    "        and debugging\n",
    "        \n",
    "        Args: None\n",
    "        \n",
    "        Returns:\n",
    "            Creates a plot and with a table to the side with the Norton equivalent finding\n",
    "            with a table to the side summering our finding\n",
    "        \n",
    "        TODO:\n",
    "            - add a check to make sure self.find_nort  has been done\n",
    "            \n",
    "        \"\"\"\n",
    "        #create the plot \"canvas\"\n",
    "        fig, axis=plt.subplots(nrows=1, ncols=1)\n",
    "        \n",
    "        #make a line plot on canvas of sweep data \n",
    "        self.norton_sweep_data.plot(grid=True, \n",
    "        xlabel=self.vnort_ref+'_[V]', ylabel=self.vnort_ref+'[i]_[A]', \n",
    "                                     ax=axis)\n",
    "        \n",
    "        #create \"annotation\" to hold self.nort_results in and to display next to the plot\n",
    "        Anotation=['Norton Port Results:\\n']\n",
    "        for row in self.nort_results.itertuples():\n",
    "            Anotation.append('   '+f'{row.Index}: {row.Values:.3f} {row.Units}' +'\\n')\n",
    "        \n",
    "        Anotation=''.join(Anotation)\n",
    "\n",
    "        fig.text(1.1,.4, Anotation, fontsize=14, transform=fig.transFigure)\n",
    "        fig.suptitle('Norten voltage sweep results')\n"
   ]
  },
  {
   "cell_type": "code",
   "execution_count": 31,
   "metadata": {},
   "outputs": [
    {
     "name": "stderr",
     "output_type": "stream",
     "text": [
      "\n",
      "No errors or warnings found during netlist generation.\n",
      "\n",
      "Unit is None for @rtop[p] power\n",
      "Unit is None for @v1[p] power\n",
      "Unit is None for @rbot[p] power\n",
      "Unit is None for @i1[p] power\n",
      "Unit is None for @rvs[p] power\n",
      "Unit is None for @vnort[p] power\n",
      "Unit is None for @rright[p] power\n"
     ]
    },
    {
     "name": "stdout",
     "output_type": "stream",
     "text": [
      "circuit and Thevenin finding Isource\n",
      ".title \n",
      "I1 0 N1 2A\n",
      "V1 N2 0 12V\n",
      "Vnort A B 1V\n",
      "Rbot 0 B 8Ohm\n",
      "Rright A B 5Ohm\n",
      "Rtop N1 A 8Ohm\n",
      "Rvs N1 N2 4Ohm\n",
      "\n"
     ]
    },
    {
     "data": {
      "image/png": "[encoded data removed]",
      "text/plain": [
       "<Figure size 432x288 with 1 Axes>"
      ]
     },
     "metadata": {
      "needs_background": "light"
     },
     "output_type": "display_data"
    }
   ],
   "source": [
    "#resuse of example 1 to test `Norton`\n",
    "reset()\n",
    "net_1=Net('N1');net_2=Net('N2');net_A=Net('A'); net_B=Net('B')\n",
    "\n",
    "cs=I(dc_value=2@u_A); cs['n', 'p']+= net_1, gnd\n",
    "vs=V(dc_value=12@u_V); vs['p', 'n']+=net_2, gnd\n",
    "\n",
    "rvs=R(ref='vs', value=4@u_Ohm); rvs[1, 2]+=net_1, net_2\n",
    "rtop=R(ref='top', value=8@u_Ohm); rtop[1, 2]+=net_1, net_A\n",
    "rbot=R(ref='bot', value=8@u_Ohm); rbot[1, 2]+=gnd, net_B\n",
    "rright=R(ref='right', value=5@u_Ohm); rright[1, 2]+=net_A, net_B\n",
    "\n",
    "#port is at nodes A,B\n",
    "\n",
    "# instantiate Norton feeding it the port terminal nets\n",
    "NortTest=Norton(net_A, net_B)\n",
    "#Have it find Norton values\n",
    "NortTest.find_nort()\n",
    "#fancy display results\n",
    "NortTest.display_nort()"
   ]
  },
  {
   "cell_type": "markdown",
   "metadata": {},
   "source": [
    "## Example 2: Mixture of independent and dependent source from \"Norton's Theorem Explained ...\" @~7:03 min"
   ]
  },
  {
   "cell_type": "code",
   "execution_count": 32,
   "metadata": {},
   "outputs": [
    {
     "data": {
      "image/jpeg": "[encoded data removed]",
      "text/html": [
       "\n",
       "        <iframe\n",
       "            width=\"500\"\n",
       "            height=\"400\"\n",
       "            src=\"https://www.youtube.com/embed/DdLA8rntWEY?start=423\"\n",
       "            frameborder=\"0\"\n",
       "            allowfullscreen\n",
       "        ></iframe>\n",
       "        "
      ],
      "text/plain": [
       "<IPython.lib.display.YouTubeVideo at 0x7f453cc9b1d0>"
      ]
     },
     "execution_count": 32,
     "metadata": {},
     "output_type": "execute_result"
    }
   ],
   "source": [
    "YouTubeVideo('DdLA8rntWEY', width=500, height=400, start=423)"
   ]
  },
  {
   "cell_type": "code",
   "execution_count": 33,
   "metadata": {},
   "outputs": [
    {
     "name": "stderr",
     "output_type": "stream",
     "text": [
      "WARNING: Merging two named nets (0 and B) into 0.\n",
      "\n",
      "1 warnings found during netlist generation.\n",
      "0 errors found during netlist generation.\n",
      "\n",
      "Unit is None for @v1[p] power\n",
      "Unit is None for @f1[p] power\n",
      "Unit is None for @rleft[p] power\n",
      "Unit is None for @rcenter[p] power\n",
      "Unit is None for @vnort[p] power\n",
      "Unit is None for @vix[p] power\n"
     ]
    },
    {
     "name": "stdout",
     "output_type": "stream",
     "text": [
      "circuit and Thevenin finding Isource\n",
      ".title \n",
      "F1 N1 A Vix 2\n",
      "V1 N1 0 10V\n",
      "Vnort A 0 1V\n",
      "Rcenter N1 A 5Ohm\n",
      "Vix N1 N1prime 0V\n",
      "Rleft N1prime 0 4Ohm\n",
      "\n"
     ]
    },
    {
     "data": {
      "image/png": "[encoded data removed]",
      "text/plain": [
       "<Figure size 432x288 with 1 Axes>"
      ]
     },
     "metadata": {
      "needs_background": "light"
     },
     "output_type": "display_data"
    }
   ],
   "source": [
    "#Cirucit from example 3\n",
    "reset()\n",
    "#addedd a 'prime' node to attache the current ammeter 'ix' for the cccs\n",
    "net_1=Net('N1'); net_1prime=Net('N1prime'); net_A=Net('A'); net_B=Net('B')\n",
    "\n",
    "rleft=R(ref='left', value=4@u_Ohm); rleft[1, 2]+=net_1prime, net_B\n",
    "vs=V(dc_value=10@u_V); vs['p', 'n']+=net_1, net_B\n",
    "rcenter=R(ref='center', value=5@u_Ohm); rcenter[1, 2]+=net_1, net_A\n",
    "\n",
    "#current ammeter 'ix' for the cccs\n",
    "vix=V(ref='ix', dc_value=0@u_V); vix['n', 'p']+=net_1prime, net_1\n",
    "\n",
    "#create the cccs and give it the control\n",
    "cccs=F(gain=2, control=vix.ref_prefix+vix.ref)\n",
    "cccs['p', 'n']+=net_1, net_A\n",
    "\n",
    "#force net_B to ground\n",
    "net_B+=gnd\n",
    "\n",
    "NortTest=Norton(net_A, net_B)\n",
    "NortTest.find_nort()\n",
    "NortTest.display_nort()"
   ]
  },
  {
   "cell_type": "markdown",
   "metadata": {},
   "source": [
    "## Example 3: All dependent source from \"Norton's Theorem Explained ...\" @~11:27 min"
   ]
  },
  {
   "cell_type": "code",
   "execution_count": 34,
   "metadata": {},
   "outputs": [
    {
     "data": {
      "image/jpeg": "[encoded data removed]",
      "text/html": [
       "\n",
       "        <iframe\n",
       "            width=\"500\"\n",
       "            height=\"400\"\n",
       "            src=\"https://www.youtube.com/embed/DdLA8rntWEY?start=687\"\n",
       "            frameborder=\"0\"\n",
       "            allowfullscreen\n",
       "        ></iframe>\n",
       "        "
      ],
      "text/plain": [
       "<IPython.lib.display.YouTubeVideo at 0x7f453ccc3b90>"
      ]
     },
     "execution_count": 34,
     "metadata": {},
     "output_type": "execute_result"
    }
   ],
   "source": [
    "YouTubeVideo('DdLA8rntWEY', width=500, height=400, start=687)"
   ]
  },
  {
   "cell_type": "code",
   "execution_count": 35,
   "metadata": {},
   "outputs": [
    {
     "name": "stderr",
     "output_type": "stream",
     "text": [
      "WARNING: Merging two named nets (0 and B) into 0.\n",
      "\n",
      "1 warnings found during netlist generation.\n",
      "0 errors found during netlist generation.\n",
      "\n",
      "Unit is None for @rleft[p] power\n",
      "Unit is None for @rcenter[p] power\n",
      "Unit is None for @vnort[p] power\n",
      "Unit is None for @rright[p] power\n",
      "Unit is None for @g1[p] power\n"
     ]
    },
    {
     "name": "stdout",
     "output_type": "stream",
     "text": [
      "circuit and Thevenin finding Isource\n",
      ".title \n",
      "G1 N1 0 A 0 0.1\n",
      "Vnort A 0 1V\n",
      "Rcenter A N1 50Ohm\n",
      "Rleft A 0 100Ohm\n",
      "Rright N1 0 200Ohm\n",
      "\n"
     ]
    },
    {
     "data": {
      "image/png": "[encoded data removed]",
      "text/plain": [
       "<Figure size 432x288 with 1 Axes>"
      ]
     },
     "metadata": {
      "needs_background": "light"
     },
     "output_type": "display_data"
    }
   ],
   "source": [
    "#Cirucit from exsample 3\n",
    "reset()\n",
    "net_1=Net('N1'); net_A=Net('A'); net_B=Net('B')\n",
    "\n",
    "rleft=R(ref='left', value=100@u_Ohm); rleft[1, 2]+=net_A, net_B\n",
    "rcenter=R(ref='center', value=50@u_Ohm); rcenter[1, 2]+=net_A, net_1\n",
    "rright=R(ref='right', value=200@u_Ohm); rright[1, 2]+=net_1, net_B\n",
    "\n",
    "vccs=G(gain=1/10)\n",
    "vccs['ip', 'in']+=net_A, net_B; vccs['op', 'on']+=net_1, net_B\n",
    "\n",
    "net_B+=gnd\n",
    "\n",
    "#port is at nodes A, B\n",
    "\n",
    "NortTest=Norton(net_A, net_B)\n",
    "NortTest.find_nort()\n",
    "NortTest.display_nort()"
   ]
  },
  {
   "cell_type": "markdown",
   "metadata": {},
   "source": [
    "## Citations:\n",
    "[1] ALL ABOUT ELECTRONICS. \"Thevenin's Theorem Explained (With examples of Independent and Dependent Sources),\" YouTube, Apr 8, 2017. [Video file]. Available: https://youtu.be/8udwPc5pCoA. [Accessed: Nov 30, 2020].\n",
    "\n",
    "\n",
    "[2] ALL ABOUT ELECTRONICS. \"Norton's Theorem Explained (With examples of Independent and Dependent Sources),\" YouTube, Feb 1, 2020. [Video file]. Available: https://youtu.be/DdLA8rntWEY. [Accessed: Nov 30, 2020]."
   ]
  },
  {
   "cell_type": "code",
   "execution_count": null,
   "metadata": {},
   "outputs": [],
   "source": []
  }
 ],
 "metadata": {
  "kernelspec": {
   "display_name": "Python 3",
   "language": "python",
   "name": "python3"
  },
  "language_info": {
   "codemirror_mode": {
    "name": "ipython",
    "version": 3
   },
   "file_extension": ".py",
   "mimetype": "text/x-python",
   "name": "python",
   "nbconvert_exporter": "python",
   "pygments_lexer": "ipython3",
   "version": "3.7.6"
  },
  "latex_envs": {
   "LaTeX_envs_menu_present": true,
   "autoclose": false,
   "autocomplete": true,
   "bibliofile": "biblio.bib",
   "cite_by": "apalike",
   "current_citInitial": 1,
   "eqLabelWithNumbers": true,
   "eqNumInitial": 1,
   "hotkeys": {
    "equation": "Ctrl-E",
    "itemize": "Ctrl-I"
   },
   "labels_anchors": false,
   "latex_user_defs": false,
   "report_style_numbering": false,
   "user_envs_cfg": false
  },
  "toc": {
   "base_numbering": 1,
   "nav_menu": {},
   "number_sections": true,
   "sideBar": true,
   "skip_h1_title": false,
   "title_cell": "Table of Contents",
   "title_sidebar": "Contents",
   "toc_cell": false,
   "toc_position": {},
   "toc_section_display": true,
   "toc_window_display": true
  }
 },
 "nbformat": 4,
 "nbformat_minor": 4
}
