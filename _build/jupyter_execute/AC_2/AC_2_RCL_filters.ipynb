{
 "cells": [
  {
   "cell_type": "markdown",
   "metadata": {},
   "source": [
    "IN PROGRESS\n",
    "\n",
    "TODO:\n",
    "- add sympy to subcirucit classes\n",
    "- add ac sim tool; try to do an inhertince from last section\n",
    "- add rl complimeint filters\n",
    "- create table of low-high pass vs rc & rl\n",
    "- add rlc resonce\n",
    "- add rlc filters\n",
    "- add filter desighn tool and filter cirucit generation tool\n",
    "- discues L->C passive conversion"
   ]
  },
  {
   "cell_type": "code",
   "execution_count": 1,
   "metadata": {},
   "outputs": [
    {
     "name": "stderr",
     "output_type": "stream",
     "text": [
      "WARNING: KICAD_SYMBOL_DIR environment variable is missing, so the default KiCad symbol libraries won't be searched.\n"
     ]
    },
    {
     "data": {
      "application/json": {
       "Software versions": [
        {
         "module": "Python",
         "version": "3.7.6 64bit [GCC 7.3.0]"
        },
        {
         "module": "IPython",
         "version": "7.12.0"
        },
        {
         "module": "OS",
         "version": "Linux 4.19.104 microsoft standard x86_64 with debian bullseye sid"
        },
        {
         "module": "skidl",
         "version": "0.0.31.dev0"
        },
        {
         "module": "PySpice",
         "version": "1.4.3"
        },
        {
         "module": "lcapy",
         "version": "0.70"
        },
        {
         "module": "sympy",
         "version": "1.6.2"
        },
        {
         "module": "numpy",
         "version": "1.18.1"
        },
        {
         "module": "matplotlib",
         "version": "3.3.0"
        },
        {
         "module": "pandas",
         "version": "1.1.4"
        },
        {
         "module": "scipy",
         "version": "1.4.1"
        }
       ]
      },
      "text/html": [
       "<table><tr><th>Software</th><th>Version</th></tr><tr><td>Python</td><td>3.7.6 64bit [GCC 7.3.0]</td></tr><tr><td>IPython</td><td>7.12.0</td></tr><tr><td>OS</td><td>Linux 4.19.104 microsoft standard x86_64 with debian bullseye sid</td></tr><tr><td>skidl</td><td>0.0.31.dev0</td></tr><tr><td>PySpice</td><td>1.4.3</td></tr><tr><td>lcapy</td><td>0.70</td></tr><tr><td>sympy</td><td>1.6.2</td></tr><tr><td>numpy</td><td>1.18.1</td></tr><tr><td>matplotlib</td><td>3.3.0</td></tr><tr><td>pandas</td><td>1.1.4</td></tr><tr><td>scipy</td><td>1.4.1</td></tr><tr><td colspan='2'>Tue Dec 15 22:10:43 2020 MST</td></tr></table>"
      ],
      "text/latex": [
       "\\begin{tabular}{|l|l|}\\hline\n",
       "{\\bf Software} & {\\bf Version} \\\\ \\hline\\hline\n",
       "Python & 3.7.6 64bit [GCC 7.3.0] \\\\ \\hline\n",
       "IPython & 7.12.0 \\\\ \\hline\n",
       "OS & Linux 4.19.104 microsoft standard x86\\_64 with debian bullseye sid \\\\ \\hline\n",
       "skidl & 0.0.31.dev0 \\\\ \\hline\n",
       "PySpice & 1.4.3 \\\\ \\hline\n",
       "lcapy & 0.70 \\\\ \\hline\n",
       "sympy & 1.6.2 \\\\ \\hline\n",
       "numpy & 1.18.1 \\\\ \\hline\n",
       "matplotlib & 3.3.0 \\\\ \\hline\n",
       "pandas & 1.1.4 \\\\ \\hline\n",
       "scipy & 1.4.1 \\\\ \\hline\n",
       "\\hline \\multicolumn{2}{|l|}{Tue Dec 15 22:10:43 2020 MST} \\\\ \\hline\n",
       "\\end{tabular}\n"
      ],
      "text/plain": [
       "Software versions\n",
       "Python 3.7.6 64bit [GCC 7.3.0]\n",
       "IPython 7.12.0\n",
       "OS Linux 4.19.104 microsoft standard x86_64 with debian bullseye sid\n",
       "skidl 0.0.31.dev0\n",
       "PySpice 1.4.3\n",
       "lcapy 0.70\n",
       "sympy 1.6.2\n",
       "numpy 1.18.1\n",
       "matplotlib 3.3.0\n",
       "pandas 1.1.4\n",
       "scipy 1.4.1\n",
       "Tue Dec 15 22:10:43 2020 MST"
      ]
     },
     "execution_count": 1,
     "metadata": {},
     "output_type": "execute_result"
    }
   ],
   "source": [
    "#%%writefile DCtools_op.py\n",
    "\n",
    "\n",
    "from skidl.pyspice import *\n",
    "import numpy as np\n",
    "import pandas as pd\n",
    "import matplotlib.pyplot as plt\n",
    "%matplotlib inline\n",
    "\n",
    "#becouse it's written by a kiwi you know\n",
    "import lcapy as kiwi\n",
    "\n",
    "from IPython.display import YouTubeVideo, display\n",
    "\n",
    "import traceback\n",
    "\n",
    "#can you say cheeky \n",
    "import PySpice as pspice\n",
    "\n",
    "\n",
    "#tool to log notebook internals\n",
    "#https://github.com/jrjohansson/version_information\n",
    "%load_ext version_information\n",
    "%version_information skidl, PySpice,lcapy, sympy, numpy, matplotlib, pandas, scipy"
   ]
  },
  {
   "cell_type": "markdown",
   "metadata": {},
   "source": [
    "# Basic Passive Filters"
   ]
  },
  {
   "cell_type": "markdown",
   "metadata": {},
   "source": [
    "## The low pass filter from ALL ABOUT ELECTRONICS \"RC Low Pass Filter Explained\"  @~ 8:35min"
   ]
  },
  {
   "cell_type": "code",
   "execution_count": 2,
   "metadata": {},
   "outputs": [
    {
     "data": {
      "image/jpeg": "[encoded data removed]",
      "text/html": [
       "\n",
       "<iframe\n",
       "    width=\"500\"\n",
       "    height=\"400\"\n",
       "    src=\"https://www.youtube.com/embed/_2L0l-E1Wx0?start=515\"\n",
       "    frameborder=\"0\"\n",
       "    allowfullscreen\n",
       "></iframe>\n"
      ],
      "text/plain": [
       "<IPython.lib.display.YouTubeVideo at 0x7ff36d1e7410>"
      ]
     },
     "execution_count": 2,
     "metadata": {
      "filenames": {
       "image/jpeg": "/mnt/c/Users/strin/Insync/string12oil@gmail.com/Google Drive/MyProjects/python-spice/Python-and-SPICE-Book/_build/jupyter_execute/AC_2/AC_2_RCL_filters_4_0.jpg"
      }
     },
     "output_type": "execute_result"
    }
   ],
   "source": [
    "YouTubeVideo('_2L0l-E1Wx0', width=500, height=400, start=515)"
   ]
  },
  {
   "cell_type": "code",
   "execution_count": 3,
   "metadata": {},
   "outputs": [],
   "source": [
    "class rc_lowpass():\n",
    "    def __init__(self, subcirc_ref=None, C_value=1@u_F, R_value=1@u_Ohm):\n",
    "        \"\"\"\n",
    "        TODO:\n",
    "            -add assertions\n",
    "        \"\"\"\n",
    "        #add assertions\n",
    "        self.subcirc_ref=subcirc_ref\n",
    "        self.C_value=C_value\n",
    "        self.R_value=R_value\n",
    "        \n",
    "\n",
    "    @subcircuit\n",
    "    def SKiDl(self, term_0, term_1, term_2, term_3, return_elements=False):\n",
    "        \"\"\"\n",
    "        Termanls are defined via:\n",
    "        ```\n",
    "       Left_Termanals - RC_Lowpass - Right_Termanals\n",
    "                          +----+  \n",
    "        Postive V_i        0-|0  2|-2     Postive V_o\n",
    "        Negtive V_i        1-|1  3|-3     Negtive V_o\n",
    "                          +----+\n",
    "        ```\n",
    "        \"\"\"\n",
    "        \n",
    "        self.c=C(value=self.C_value)\n",
    "        self.r=R(value=self.R_value)\n",
    "        \n",
    "        self.r[1, 2]+=term_0, self.c['p']\n",
    "        self.c['p', 'n']+=term_2, term_3\n",
    "        \n",
    "        \n",
    "        \n",
    "        \n",
    "        if return_elements:\n",
    "            return self.c, self.r\n",
    "    \n",
    "    def draw_me(self):\n",
    "        self.schematic=kiwi.Circuit()\n",
    "        self.schematic.add('W 1 1_1; right=2')\n",
    "        self.schematic.add('W 0 0_1; right')\n",
    "        #self.schematic.add('P1 0 1; down, v=V_i')\n",
    "        \n",
    "        self.schematic.add(f'R 0_1 2_1; right, l=R{str(self.R_value)}')\n",
    "        self.schematic.add(f'C 2_1 1_1; down, l=C{str(self.C_value)}')\n",
    "        \n",
    "        self.schematic.add('W 2_1 2; right=1.5')\n",
    "        self.schematic.add('W 1_1 3; right=1.5')\n",
    "        self.schematic.add('P2 2 3; down, v=V_o')\n",
    "\n",
    "        \n",
    "        self.schematic.draw()\n",
    "        \n",
    "        \n",
    "    "
   ]
  },
  {
   "cell_type": "code",
   "execution_count": 4,
   "metadata": {},
   "outputs": [
    {
     "data": {
      "image/png": "[encoded data removed]"
     },
     "metadata": {
      "filenames": {
       "image/png": "/mnt/c/Users/strin/Insync/string12oil@gmail.com/Google Drive/MyProjects/python-spice/Python-and-SPICE-Book/_build/jupyter_execute/AC_2/AC_2_RCL_filters_6_0.png"
      },
      "image/png": {
       "height": 150,
       "width": 442
      }
     },
     "output_type": "display_data"
    }
   ],
   "source": [
    "lowpassF=rc_lowpass(C_value=.1@u_uF, R_value=1@u_kOhm)\n",
    "lowpassF.draw_me()"
   ]
  },
  {
   "cell_type": "code",
   "execution_count": 5,
   "metadata": {},
   "outputs": [
    {
     "name": "stdout",
     "output_type": "stream",
     "text": [
      ".title \n",
      "C1 N2 0 0.1uF\n",
      "R1 N1 N2 1kOhm\n",
      "V1 N1 0 DC 0V AC 1V 0.0rad SIN(0V 10V 2kHz 0s 0Hz)\n",
      "\n"
     ]
    },
    {
     "name": "stderr",
     "output_type": "stream",
     "text": [
      "\n",
      "No errors or warnings found during netlist generation.\n",
      "\n"
     ]
    }
   ],
   "source": [
    "reset()\n",
    "net_1=Net('N1'); net_2=Net('N2'); \n",
    "\n",
    "vs=SINEV(amplitude=10@u_V, frequency=2@u_kHz)\n",
    "vs['p', 'n']+=net_1, gnd\n",
    "lowpassF.SKiDl(net_1, gnd, net_2, gnd)\n",
    "\n",
    "\n",
    "\n",
    "\n",
    "circ=generate_netlist()\n",
    "print(circ)"
   ]
  },
  {
   "cell_type": "code",
   "execution_count": 6,
   "metadata": {},
   "outputs": [],
   "source": [
    "sim=circ.simulator()"
   ]
  },
  {
   "cell_type": "code",
   "execution_count": 7,
   "metadata": {},
   "outputs": [],
   "source": [
    "ac_vals=sim.ac(start_frequency=1@u_Hz, stop_frequency=1@u_MHz, number_of_points=10, variation='dec')"
   ]
  },
  {
   "cell_type": "code",
   "execution_count": 8,
   "metadata": {},
   "outputs": [],
   "source": [
    "v_i=ac_vals[node(net_1)]\n",
    "v_o=ac_vals[node(net_2)]\n",
    "f=ac_vals.frequency"
   ]
  },
  {
   "cell_type": "code",
   "execution_count": 9,
   "metadata": {},
   "outputs": [
    {
     "name": "stderr",
     "output_type": "stream",
     "text": [
      "Should be unit less\n"
     ]
    },
    {
     "data": {
      "text/plain": [
       "[<matplotlib.lines.Line2D at 0x7ff33c153690>]"
      ]
     },
     "execution_count": 9,
     "metadata": {},
     "output_type": "execute_result"
    },
    {
     "data": {
      "image/png": "[encoded data removed]",
      "text/plain": [
       "<Figure size 432x288 with 2 Axes>"
      ]
     },
     "metadata": {
      "filenames": {
       "image/png": "/mnt/c/Users/strin/Insync/string12oil@gmail.com/Google Drive/MyProjects/python-spice/Python-and-SPICE-Book/_build/jupyter_execute/AC_2/AC_2_RCL_filters_11_2.png"
      },
      "needs_background": "light"
     },
     "output_type": "display_data"
    }
   ],
   "source": [
    "plt.semilogx(f, np.abs(v_o))\n",
    "plt.twinx()\n",
    "plt.semilogx(f, np.rad2deg(np.unwrap(np.angle(v_o))), color='g')"
   ]
  },
  {
   "cell_type": "code",
   "execution_count": 10,
   "metadata": {},
   "outputs": [
    {
     "data": {
      "text/plain": [
       "[<matplotlib.lines.Line2D at 0x7ff33be0bc90>]"
      ]
     },
     "execution_count": 10,
     "metadata": {},
     "output_type": "execute_result"
    },
    {
     "data": {
      "image/png": "[encoded data removed]",
      "text/plain": [
       "<Figure size 432x288 with 1 Axes>"
      ]
     },
     "metadata": {
      "filenames": {
       "image/png": "/mnt/c/Users/strin/Insync/string12oil@gmail.com/Google Drive/MyProjects/python-spice/Python-and-SPICE-Book/_build/jupyter_execute/AC_2/AC_2_RCL_filters_12_1.png"
      },
      "needs_background": "light"
     },
     "output_type": "display_data"
    }
   ],
   "source": [
    "v_o_time=np.fft.fftshift(np.fft.ifft(v_o))\n",
    "plt.plot(np.abs(v_o_time))"
   ]
  },
  {
   "cell_type": "code",
   "execution_count": 11,
   "metadata": {},
   "outputs": [],
   "source": [
    "#pz_vals=sim.pole_zero(node(net_1), node(gnd), node(net_2), node(gnd), 'vol', 'pz')"
   ]
  },
  {
   "cell_type": "markdown",
   "metadata": {},
   "source": [
    "## The high pass filter from ALL ABOUT ELECTRONICS \"RC High Pass Filter Explained\"  @~ 7:57min"
   ]
  },
  {
   "cell_type": "code",
   "execution_count": 12,
   "metadata": {},
   "outputs": [
    {
     "data": {
      "image/jpeg": "[encoded data removed]",
      "text/html": [
       "\n",
       "<iframe\n",
       "    width=\"500\"\n",
       "    height=\"400\"\n",
       "    src=\"https://www.youtube.com/embed/9Dx0b0ukNAM?start=477\"\n",
       "    frameborder=\"0\"\n",
       "    allowfullscreen\n",
       "></iframe>\n"
      ],
      "text/plain": [
       "<IPython.lib.display.YouTubeVideo at 0x7ff33be1e3d0>"
      ]
     },
     "execution_count": 12,
     "metadata": {
      "filenames": {
       "image/jpeg": "/mnt/c/Users/strin/Insync/string12oil@gmail.com/Google Drive/MyProjects/python-spice/Python-and-SPICE-Book/_build/jupyter_execute/AC_2/AC_2_RCL_filters_15_0.jpg"
      }
     },
     "output_type": "execute_result"
    }
   ],
   "source": [
    "YouTubeVideo('9Dx0b0ukNAM', width=500, height=400, start=477)"
   ]
  },
  {
   "cell_type": "code",
   "execution_count": 13,
   "metadata": {},
   "outputs": [],
   "source": [
    "class rc_highpass():\n",
    "    def __init__(self, subcirc_ref=None, C_value=1@u_F, R_value=1@u_Ohm):\n",
    "        \"\"\"\n",
    "        TODO:\n",
    "            -add assertions\n",
    "        \"\"\"\n",
    "        #add assertions\n",
    "        self.subcirc_ref=subcirc_ref\n",
    "        self.C_value=C_value\n",
    "        self.R_value=R_value\n",
    "        \n",
    "\n",
    "    @subcircuit\n",
    "    def SKiDl(self, term_0, term_1, term_2, term_3, return_elements=False):\n",
    "        \"\"\"\n",
    "        Termanls are defined via:\n",
    "        ```\n",
    "       Left_Termanals - RC_Highpass - Right_Termanals\n",
    "                          +----+  \n",
    "        Postive V_i        0-|0  2|-2     Postive V_o\n",
    "        Negtive V_i        1-|1  3|-3     Negtive V_o\n",
    "                          +----+\n",
    "        ```\n",
    "        \"\"\"\n",
    "        \n",
    "        self.c=C(value=self.C_value)\n",
    "        self.r=R(value=self.R_value)\n",
    "        \n",
    "        self.c['p', 'n']+=term_0, term_2\n",
    "        self.r[1, 2]+=self.c['n'], term_1\n",
    "        \n",
    "        \n",
    "        \n",
    "        \n",
    "        if return_elements:\n",
    "            return self.c, self.r\n",
    "    \n",
    "    def draw_me(self):\n",
    "        self.schematic=kiwi.Circuit()\n",
    "        self.schematic.add('W 1 1_1; right=2')\n",
    "        self.schematic.add('W 0 0_1; right')\n",
    "        #self.schematic.add('P1 0 1; down, v=V_i')\n",
    "        \n",
    "        self.schematic.add(f'C 0_1 2_1; right, l=C{str(self.C_value)}')\n",
    "        self.schematic.add(f'R 2_1 1_1; down, l=R{str(self.R_value)}')\n",
    "        \n",
    "        self.schematic.add('W 2_1 2; right=1.5')\n",
    "        self.schematic.add('W 1_1 3; right=1.5')\n",
    "        self.schematic.add('P2 2 3; down, v=V_o')\n",
    "\n",
    "        \n",
    "        self.schematic.draw()\n",
    "        \n",
    "        \n",
    "    "
   ]
  },
  {
   "cell_type": "code",
   "execution_count": 14,
   "metadata": {},
   "outputs": [
    {
     "data": {
      "image/png": "[encoded data removed]"
     },
     "metadata": {
      "filenames": {
       "image/png": "/mnt/c/Users/strin/Insync/string12oil@gmail.com/Google Drive/MyProjects/python-spice/Python-and-SPICE-Book/_build/jupyter_execute/AC_2/AC_2_RCL_filters_17_0.png"
      },
      "image/png": {
       "height": 150,
       "width": 442
      }
     },
     "output_type": "display_data"
    }
   ],
   "source": [
    "highpassF=rc_highpass(C_value=1.5@u_nF, R_value=10@u_kOhm)\n",
    "highpassF.draw_me()"
   ]
  },
  {
   "cell_type": "code",
   "execution_count": 15,
   "metadata": {},
   "outputs": [
    {
     "name": "stdout",
     "output_type": "stream",
     "text": [
      ".title \n",
      "C1 N1 N2 1.5nF\n",
      "R1 N2 0 10kOhm\n",
      "V1 N1 0 DC 0V AC 1V 0.0rad SIN(0V 10V 10kHz 0s 0Hz)\n",
      "\n"
     ]
    },
    {
     "name": "stderr",
     "output_type": "stream",
     "text": [
      "\n",
      "No errors or warnings found during netlist generation.\n",
      "\n"
     ]
    }
   ],
   "source": [
    "reset()\n",
    "net_1=Net('N1'); net_2=Net('N2'); \n",
    "\n",
    "vs=SINEV(amplitude=10@u_V, frequency=10@u_kHz)\n",
    "vs['p', 'n']+=net_1, gnd\n",
    "highpassF.SKiDl(net_1, gnd, net_2, gnd)\n",
    "\n",
    "\n",
    "\n",
    "\n",
    "circ=generate_netlist()\n",
    "print(circ)"
   ]
  },
  {
   "cell_type": "code",
   "execution_count": 16,
   "metadata": {},
   "outputs": [],
   "source": [
    "sim=circ.simulator()"
   ]
  },
  {
   "cell_type": "code",
   "execution_count": 17,
   "metadata": {},
   "outputs": [],
   "source": [
    "ac_vals=sim.ac(start_frequency=1@u_Hz, stop_frequency=1@u_MHz, number_of_points=10, variation='dec')"
   ]
  },
  {
   "cell_type": "code",
   "execution_count": 18,
   "metadata": {},
   "outputs": [],
   "source": [
    "v_i=ac_vals[node(net_1)]\n",
    "v_o=ac_vals[node(net_2)]\n",
    "f=ac_vals.frequency"
   ]
  },
  {
   "cell_type": "code",
   "execution_count": 19,
   "metadata": {},
   "outputs": [
    {
     "name": "stderr",
     "output_type": "stream",
     "text": [
      "Should be unit less\n"
     ]
    },
    {
     "data": {
      "text/plain": [
       "[<matplotlib.lines.Line2D at 0x7ff33bd04fd0>]"
      ]
     },
     "execution_count": 19,
     "metadata": {},
     "output_type": "execute_result"
    },
    {
     "data": {
      "image/png": "[encoded data removed]",
      "text/plain": [
       "<Figure size 432x288 with 2 Axes>"
      ]
     },
     "metadata": {
      "filenames": {
       "image/png": "/mnt/c/Users/strin/Insync/string12oil@gmail.com/Google Drive/MyProjects/python-spice/Python-and-SPICE-Book/_build/jupyter_execute/AC_2/AC_2_RCL_filters_22_2.png"
      },
      "needs_background": "light"
     },
     "output_type": "display_data"
    }
   ],
   "source": [
    "plt.semilogx(f, np.abs(v_o))\n",
    "plt.twinx()\n",
    "plt.semilogx(f, np.rad2deg(np.unwrap(np.angle(v_o))), color='g')"
   ]
  },
  {
   "cell_type": "code",
   "execution_count": 20,
   "metadata": {},
   "outputs": [
    {
     "data": {
      "text/plain": [
       "[<matplotlib.lines.Line2D at 0x7ff33bb81850>]"
      ]
     },
     "execution_count": 20,
     "metadata": {},
     "output_type": "execute_result"
    },
    {
     "data": {
      "image/png": "[encoded data removed]",
      "text/plain": [
       "<Figure size 432x288 with 1 Axes>"
      ]
     },
     "metadata": {
      "filenames": {
       "image/png": "/mnt/c/Users/strin/Insync/string12oil@gmail.com/Google Drive/MyProjects/python-spice/Python-and-SPICE-Book/_build/jupyter_execute/AC_2/AC_2_RCL_filters_23_1.png"
      },
      "needs_background": "light"
     },
     "output_type": "display_data"
    }
   ],
   "source": [
    "v_o_time=np.fft.fftshift(np.fft.ifft(v_o))\n",
    "plt.plot(np.abs(v_o_time))"
   ]
  },
  {
   "cell_type": "markdown",
   "metadata": {},
   "source": [
    "# Seconed Order filters"
   ]
  },
  {
   "cell_type": "markdown",
   "metadata": {},
   "source": [
    "## The band pass filter from ALL ABOUT ELECTRONICS \"Band Pass Filter and Band Stop Filter Explained\"  @~ 4:03min"
   ]
  },
  {
   "cell_type": "code",
   "execution_count": 21,
   "metadata": {},
   "outputs": [
    {
     "data": {
      "image/jpeg": "[encoded data removed]",
      "text/html": [
       "\n",
       "<iframe\n",
       "    width=\"500\"\n",
       "    height=\"400\"\n",
       "    src=\"https://www.youtube.com/embed/dmPIydL0lyM?start=243\"\n",
       "    frameborder=\"0\"\n",
       "    allowfullscreen\n",
       "></iframe>\n"
      ],
      "text/plain": [
       "<IPython.lib.display.YouTubeVideo at 0x7ff33bb28890>"
      ]
     },
     "execution_count": 21,
     "metadata": {
      "filenames": {
       "image/jpeg": "/mnt/c/Users/strin/Insync/string12oil@gmail.com/Google Drive/MyProjects/python-spice/Python-and-SPICE-Book/_build/jupyter_execute/AC_2/AC_2_RCL_filters_26_0.jpg"
      }
     },
     "output_type": "execute_result"
    }
   ],
   "source": [
    "YouTubeVideo('dmPIydL0lyM', width=500, height=400, start=243)"
   ]
  },
  {
   "cell_type": "markdown",
   "metadata": {},
   "source": [
    "## Citations:\n",
    "[1] ALL ABOUT ELECTRONICS. \"RC Low Pass Filter Explained,\" YouTube, Aug 20, 2017. [Video file]. Available: https://youtu.be/_2L0l-E1Wx0. [Accessed: Nov 30, 2020].\n",
    "\n",
    "[2] ALL ABOUT ELECTRONICS. \"RC High Pass Filter Explained,\" YouTube, Aug 23, 2017. [Video file]. Available: https://youtu.be/9Dx0b0ukNAM. [Accessed: Nov 30, 2020].\n",
    "\n",
    "[2] ALL ABOUT ELECTRONICS. \"Band Pass Filter and Band Stop Filter Explained,\" YouTube, Sep 2, 2017. [Video file]. Available: https://youtu.be/dmPIydL0lyM. [Accessed: Nov 30, 2020].\n"
   ]
  },
  {
   "cell_type": "code",
   "execution_count": null,
   "metadata": {},
   "outputs": [],
   "source": []
  },
  {
   "cell_type": "code",
   "execution_count": null,
   "metadata": {},
   "outputs": [],
   "source": []
  }
 ],
 "metadata": {
  "kernelspec": {
   "display_name": "Python 3",
   "language": "python",
   "name": "python3"
  },
  "language_info": {
   "codemirror_mode": {
    "name": "ipython",
    "version": 3
   },
   "file_extension": ".py",
   "mimetype": "text/x-python",
   "name": "python",
   "nbconvert_exporter": "python",
   "pygments_lexer": "ipython3",
   "version": "3.7.6"
  },
  "latex_envs": {
   "LaTeX_envs_menu_present": true,
   "autoclose": false,
   "autocomplete": true,
   "bibliofile": "biblio.bib",
   "cite_by": "apalike",
   "current_citInitial": 1,
   "eqLabelWithNumbers": true,
   "eqNumInitial": 1,
   "hotkeys": {
    "equation": "Ctrl-E",
    "itemize": "Ctrl-I"
   },
   "labels_anchors": false,
   "latex_user_defs": false,
   "report_style_numbering": false,
   "user_envs_cfg": false
  },
  "toc": {
   "base_numbering": 1,
   "nav_menu": {},
   "number_sections": true,
   "sideBar": true,
   "skip_h1_title": false,
   "title_cell": "Table of Contents",
   "title_sidebar": "Contents",
   "toc_cell": false,
   "toc_position": {},
   "toc_section_display": true,
   "toc_window_display": false
  }
 },
 "nbformat": 4,
 "nbformat_minor": 4
}