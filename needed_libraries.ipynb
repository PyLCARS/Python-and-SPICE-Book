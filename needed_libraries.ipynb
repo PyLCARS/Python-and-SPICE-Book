{
 "cells": [
  {
   "cell_type": "markdown",
   "metadata": {},
   "source": [
    "\n",
    "# Dependency install instruction\n",
    "Disclaimer this was all done with Ubuntu 20.04.1 LTS via the WSL2 for Windows 20.\n",
    "The ngspice version is ngspice-32 that was installed via\n",
    "```\n",
    "Sudo apt-get install ngspice\n",
    "```\n",
    "The SKiDl version that is being used is the authors personal fork of SKiDl 0.0.31.dev0 with some modifications that are being added to the in development branch of SKiDl as of 20201214 and can be got via\n",
    "```\n",
    "pip install git+https://github.com/GProtoZeroW/skidl.git@development\n",
    "```\n",
    "When the in development branch of version of SKiDl become the master one I will update this and the book to reflect the said SKiDl release. FYI the SKiDl main repo is located at https://github.com/xesscorp/skidl\n",
    "\n",
    "The PySpice version that is being used is the authors personal fork of PySpice 1.4.3 with some modifications that have yet to be pushed to the main PySpice repo which is found at https://github.com/FabriceSalvaire/PySpice . When the changes are incorporated into the main version repo of PySpice I will update this and the book to reflect the said PySpice release enhancements for this book.  You can install the fork with the needed modifications for this book to work via \n",
    "```\n",
    "pip install git+https://github.com/GProtoZeroW/PySpice.git\n",
    "```\n",
    "The version of Lcapy being used is 0.70 and comes strait from it source repo https://github.com/mph-/lcapy and can be install via \n",
    "```\n",
    "pip install lcapy\n",
    "```\n",
    "All other python libraries being used are part of the standard python scientific stack as part of the Anaconda distribution\n"
   ]
  },
  {
   "cell_type": "code",
   "execution_count": 1,
   "metadata": {},
   "outputs": [
    {
     "name": "stderr",
     "output_type": "stream",
     "text": [
      "WARNING: KICAD_SYMBOL_DIR environment variable is missing, so the default KiCad symbol libraries won't be searched.\n"
     ]
    },
    {
     "data": {
      "application/json": {
       "Software versions": [
        {
         "module": "Python",
         "version": "3.7.6 64bit [GCC 7.3.0]"
        },
        {
         "module": "IPython",
         "version": "7.12.0"
        },
        {
         "module": "OS",
         "version": "Linux 4.19.104 microsoft standard x86_64 with debian bullseye sid"
        },
        {
         "module": "skidl",
         "version": "0.0.31.dev0"
        },
        {
         "module": "PySpice",
         "version": "1.4.3"
        },
        {
         "module": "lcapy",
         "version": "0.75.dev0"
        },
        {
         "module": "sympy",
         "version": "1.6.2"
        },
        {
         "module": "numpy",
         "version": "1.18.1"
        },
        {
         "module": "matplotlib",
         "version": "3.3.0"
        },
        {
         "module": "pandas",
         "version": "1.1.4"
        },
        {
         "module": "scipy",
         "version": "1.4.1"
        }
       ]
      },
      "text/html": [
       "<table><tr><th>Software</th><th>Version</th></tr><tr><td>Python</td><td>3.7.6 64bit [GCC 7.3.0]</td></tr><tr><td>IPython</td><td>7.12.0</td></tr><tr><td>OS</td><td>Linux 4.19.104 microsoft standard x86_64 with debian bullseye sid</td></tr><tr><td>skidl</td><td>0.0.31.dev0</td></tr><tr><td>PySpice</td><td>1.4.3</td></tr><tr><td>lcapy</td><td>0.75.dev0</td></tr><tr><td>sympy</td><td>1.6.2</td></tr><tr><td>numpy</td><td>1.18.1</td></tr><tr><td>matplotlib</td><td>3.3.0</td></tr><tr><td>pandas</td><td>1.1.4</td></tr><tr><td>scipy</td><td>1.4.1</td></tr><tr><td colspan='2'>Mon Jan 18 15:09:31 2021 MST</td></tr></table>"
      ],
      "text/latex": [
       "\\begin{tabular}{|l|l|}\\hline\n",
       "{\\bf Software} & {\\bf Version} \\\\ \\hline\\hline\n",
       "Python & 3.7.6 64bit [GCC 7.3.0] \\\\ \\hline\n",
       "IPython & 7.12.0 \\\\ \\hline\n",
       "OS & Linux 4.19.104 microsoft standard x86\\_64 with debian bullseye sid \\\\ \\hline\n",
       "skidl & 0.0.31.dev0 \\\\ \\hline\n",
       "PySpice & 1.4.3 \\\\ \\hline\n",
       "lcapy & 0.75.dev0 \\\\ \\hline\n",
       "sympy & 1.6.2 \\\\ \\hline\n",
       "numpy & 1.18.1 \\\\ \\hline\n",
       "matplotlib & 3.3.0 \\\\ \\hline\n",
       "pandas & 1.1.4 \\\\ \\hline\n",
       "scipy & 1.4.1 \\\\ \\hline\n",
       "\\hline \\multicolumn{2}{|l|}{Mon Jan 18 15:09:31 2021 MST} \\\\ \\hline\n",
       "\\end{tabular}\n"
      ],
      "text/plain": [
       "Software versions\n",
       "Python 3.7.6 64bit [GCC 7.3.0]\n",
       "IPython 7.12.0\n",
       "OS Linux 4.19.104 microsoft standard x86_64 with debian bullseye sid\n",
       "skidl 0.0.31.dev0\n",
       "PySpice 1.4.3\n",
       "lcapy 0.75.dev0\n",
       "sympy 1.6.2\n",
       "numpy 1.18.1\n",
       "matplotlib 3.3.0\n",
       "pandas 1.1.4\n",
       "scipy 1.4.1\n",
       "Mon Jan 18 15:09:31 2021 MST"
      ]
     },
     "execution_count": 1,
     "metadata": {},
     "output_type": "execute_result"
    }
   ],
   "source": [
    "#tool to log notebook internals\n",
    "#https://github.com/jrjohansson/version_information\n",
    "%load_ext version_information\n",
    "%version_information skidl, PySpice,lcapy, sympy, numpy, matplotlib, pandas, scipy"
   ]
  },
  {
   "cell_type": "markdown",
   "metadata": {},
   "source": [
    "# Book Specific Code\n",
    "The dependent code developed in writing this book can be found inside each chapters folder containing alongside the source Jupyter notebooks to build the chapter in a python file named:\n",
    "```\n",
    "<chapter_name>_<chapter_number>_Codes.py\n",
    "```\n",
    "Where each entry in the .py file will state what chapter number and what section number of the jupyter notebook where the code came from\n"
   ]
  }
 ],
 "metadata": {
  "kernelspec": {
   "display_name": "Python 3",
   "language": "python",
   "name": "python3"
  },
  "language_info": {
   "codemirror_mode": {
    "name": "ipython",
    "version": 3
   },
   "file_extension": ".py",
   "mimetype": "text/x-python",
   "name": "python",
   "nbconvert_exporter": "python",
   "pygments_lexer": "ipython3",
   "version": "3.7.6"
  },
  "latex_envs": {
   "LaTeX_envs_menu_present": true,
   "autoclose": false,
   "autocomplete": true,
   "bibliofile": "biblio.bib",
   "cite_by": "apalike",
   "current_citInitial": 1,
   "eqLabelWithNumbers": true,
   "eqNumInitial": 1,
   "hotkeys": {
    "equation": "Ctrl-E",
    "itemize": "Ctrl-I"
   },
   "labels_anchors": false,
   "latex_user_defs": false,
   "report_style_numbering": false,
   "user_envs_cfg": false
  },
  "toc": {
   "base_numbering": 1,
   "nav_menu": {},
   "number_sections": true,
   "sideBar": true,
   "skip_h1_title": false,
   "title_cell": "Table of Contents",
   "title_sidebar": "Contents",
   "toc_cell": false,
   "toc_position": {},
   "toc_section_display": true,
   "toc_window_display": false
  }
 },
 "nbformat": 4,
 "nbformat_minor": 4
}
