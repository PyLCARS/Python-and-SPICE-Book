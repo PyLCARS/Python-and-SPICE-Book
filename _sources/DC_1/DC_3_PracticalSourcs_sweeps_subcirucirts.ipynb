{
 "cells": [
  {
   "cell_type": "markdown",
   "metadata": {},
   "source": [
    "**TODO**\n",
    "- just the general stuff"
   ]
  },
  {
   "cell_type": "code",
   "execution_count": 1,
   "metadata": {},
   "outputs": [
    {
     "name": "stderr",
     "output_type": "stream",
     "text": [
      "WARNING: KICAD_SYMBOL_DIR environment variable is missing, so the default KiCad symbol libraries won't be searched.\n"
     ]
    }
   ],
   "source": [
    "#Library import statements\n",
    "\n",
    "from skidl.pyspice import *\n",
    "#can you say cheeky \n",
    "import PySpice as pspice\n",
    "#becouse it's written by a kiwi you know\n",
    "import lcapy as kiwi\n",
    "\n",
    "import numpy as np\n",
    "import pandas as pd\n",
    "import matplotlib.pyplot as plt\n",
    "import warnings\n",
    "\n",
    "from IPython.display import YouTubeVideo, display\n",
    "\n",
    "import traceback"
   ]
  },
  {
   "cell_type": "code",
   "execution_count": 2,
   "metadata": {},
   "outputs": [
    {
     "data": {
      "application/json": {
       "Software versions": [
        {
         "module": "Python",
         "version": "3.7.6 64bit [GCC 7.3.0]"
        },
        {
         "module": "IPython",
         "version": "7.12.0"
        },
        {
         "module": "OS",
         "version": "Linux 4.19.104 microsoft standard x86_64 with debian bullseye sid"
        },
        {
         "module": "skidl",
         "version": "0.0.31.dev0"
        },
        {
         "module": "PySpice",
         "version": "1.4.3"
        },
        {
         "module": "lcapy",
         "version": "0.70"
        },
        {
         "module": "sympy",
         "version": "1.6.2"
        },
        {
         "module": "numpy",
         "version": "1.18.1"
        },
        {
         "module": "matplotlib",
         "version": "3.3.0"
        },
        {
         "module": "pandas",
         "version": "1.1.4"
        },
        {
         "module": "scipy",
         "version": "1.4.1"
        }
       ]
      },
      "text/html": [
       "<table><tr><th>Software</th><th>Version</th></tr><tr><td>Python</td><td>3.7.6 64bit [GCC 7.3.0]</td></tr><tr><td>IPython</td><td>7.12.0</td></tr><tr><td>OS</td><td>Linux 4.19.104 microsoft standard x86_64 with debian bullseye sid</td></tr><tr><td>skidl</td><td>0.0.31.dev0</td></tr><tr><td>PySpice</td><td>1.4.3</td></tr><tr><td>lcapy</td><td>0.70</td></tr><tr><td>sympy</td><td>1.6.2</td></tr><tr><td>numpy</td><td>1.18.1</td></tr><tr><td>matplotlib</td><td>3.3.0</td></tr><tr><td>pandas</td><td>1.1.4</td></tr><tr><td>scipy</td><td>1.4.1</td></tr><tr><td colspan='2'>Sun Dec 27 16:25:29 2020 MST</td></tr></table>"
      ],
      "text/latex": [
       "\\begin{tabular}{|l|l|}\\hline\n",
       "{\\bf Software} & {\\bf Version} \\\\ \\hline\\hline\n",
       "Python & 3.7.6 64bit [GCC 7.3.0] \\\\ \\hline\n",
       "IPython & 7.12.0 \\\\ \\hline\n",
       "OS & Linux 4.19.104 microsoft standard x86\\_64 with debian bullseye sid \\\\ \\hline\n",
       "skidl & 0.0.31.dev0 \\\\ \\hline\n",
       "PySpice & 1.4.3 \\\\ \\hline\n",
       "lcapy & 0.70 \\\\ \\hline\n",
       "sympy & 1.6.2 \\\\ \\hline\n",
       "numpy & 1.18.1 \\\\ \\hline\n",
       "matplotlib & 3.3.0 \\\\ \\hline\n",
       "pandas & 1.1.4 \\\\ \\hline\n",
       "scipy & 1.4.1 \\\\ \\hline\n",
       "\\hline \\multicolumn{2}{|l|}{Sun Dec 27 16:25:29 2020 MST} \\\\ \\hline\n",
       "\\end{tabular}\n"
      ],
      "text/plain": [
       "Software versions\n",
       "Python 3.7.6 64bit [GCC 7.3.0]\n",
       "IPython 7.12.0\n",
       "OS Linux 4.19.104 microsoft standard x86_64 with debian bullseye sid\n",
       "skidl 0.0.31.dev0\n",
       "PySpice 1.4.3\n",
       "lcapy 0.70\n",
       "sympy 1.6.2\n",
       "numpy 1.18.1\n",
       "matplotlib 3.3.0\n",
       "pandas 1.1.4\n",
       "scipy 1.4.1\n",
       "Sun Dec 27 16:25:29 2020 MST"
      ]
     },
     "execution_count": 2,
     "metadata": {},
     "output_type": "execute_result"
    }
   ],
   "source": [
    "#notebook specific loading control statements \n",
    "%matplotlib inline\n",
    "#tool to log notebook internals\n",
    "#https://github.com/jrjohansson/version_information\n",
    "%load_ext version_information\n",
    "%version_information skidl, PySpice,lcapy, sympy, numpy, matplotlib, pandas, scipy"
   ]
  },
  {
   "cell_type": "code",
   "execution_count": 3,
   "metadata": {},
   "outputs": [],
   "source": [
    "from DC_1_Codes import get_skidl_spice_ref"
   ]
  },
  {
   "cell_type": "markdown",
   "metadata": {},
   "source": [
    "# DC Sweeps \n",
    "In the last two sections, we worked with SPICE operating point analysis (.op) which just gives us static values for everything in the circuit. While this is handy for getting values it's not really that useful. What is more useful is seeing some kind of \"dynamic\" response of the circuit. If you know anything about SPICE you might be thinking of Transient simulations, but that is to come. Right now we want to look at the DC response of the circuit to some swept value in the circuit. To do this we use the DC simulation in ngspice (`.dc`) to shift the value of one of the elements in the circuit. Technically as of writing this ngspice (vs33) ` .dc` can sweep two values at the same time but the results are interlaced results and it's just worth doing when we can pay a slight speed penalty for using python tools like xarray to look for relations resulting from N number of individual variable sweeps. (Also as of the time of writing this pyspice will not sweep anything other than voltage and current sources, this is on my list of things to fix since ngspice by its self can sweep more than just voltage and current sources)\n",
    "\n",
    "To illustrate DC sweeps and also to present SKiDl's subcircuit feature (more on that below) we look at Ideal vs Non-Ideal sources response to load effects. The example circuits  are based on the examples from  ALL ABOUT ELECTRONICS \"Ideal Voltage Source vs. Practical Voltage Source\" and “Ideal Current Source vs. Practical Current Source” that gives a good review of ideal vs non-ideal sources\n"
   ]
  },
  {
   "cell_type": "code",
   "execution_count": 4,
   "metadata": {},
   "outputs": [
    {
     "data": {
      "image/jpeg": "[encoded data removed]",
      "text/html": [
       "\n",
       "        <iframe\n",
       "            width=\"500\"\n",
       "            height=\"400\"\n",
       "            src=\"https://www.youtube.com/embed/TRzpqHwb-5Y?start=306\"\n",
       "            frameborder=\"0\"\n",
       "            allowfullscreen\n",
       "        ></iframe>\n",
       "        "
      ],
      "text/plain": [
       "<IPython.lib.display.YouTubeVideo at 0x7f5f0570d790>"
      ]
     },
     "execution_count": 4,
     "metadata": {},
     "output_type": "execute_result"
    }
   ],
   "source": [
    "\n",
    "YouTubeVideo('TRzpqHwb-5Y', width=500, height=400, start=306)"
   ]
  },
  {
   "cell_type": "code",
   "execution_count": 5,
   "metadata": {},
   "outputs": [
    {
     "data": {
      "image/jpeg": "[encoded data removed]",
      "text/html": [
       "\n",
       "        <iframe\n",
       "            width=\"500\"\n",
       "            height=\"400\"\n",
       "            src=\"https://www.youtube.com/embed/dTf1h_xhHng?start=173\"\n",
       "            frameborder=\"0\"\n",
       "            allowfullscreen\n",
       "        ></iframe>\n",
       "        "
      ],
      "text/plain": [
       "<IPython.lib.display.YouTubeVideo at 0x7f5f0562fa90>"
      ]
     },
     "execution_count": 5,
     "metadata": {},
     "output_type": "execute_result"
    }
   ],
   "source": [
    "#@~5min\n",
    "YouTubeVideo('dTf1h_xhHng', width=500, height=400, start=173)"
   ]
  },
  {
   "cell_type": "markdown",
   "metadata": {},
   "source": [
    "# DC load sweep of an Ideal Voltage source\n",
    "\n",
    "So the first thing is we create a circuit just like we would for an operating point simulation previously. And even though we are going to be sweeping values in our elements we must give all elements initial values, even if they're not in our sweep range."
   ]
  },
  {
   "cell_type": "code",
   "execution_count": 6,
   "metadata": {},
   "outputs": [
    {
     "name": "stdout",
     "output_type": "stream",
     "text": [
      ".title \n",
      "V_vs N_1 0 30V\n",
      "Idload N_1 0 1A\n",
      "\n"
     ]
    },
    {
     "name": "stderr",
     "output_type": "stream",
     "text": [
      "\n",
      "No errors or warnings found during netlist generation.\n",
      "\n"
     ]
    }
   ],
   "source": [
    "reset()\n",
    "vs=V(ref='_vs', dc_value=30@u_V)\n",
    "\n",
    "dummy_load=I(ref='dload', dc_value=1@u_A)\n",
    "\n",
    "gnd & vs['n', 'p']  & dummy_load['p', 'n'] & gnd\n",
    "circ=generate_netlist()\n",
    "print(circ)"
   ]
  },
  {
   "cell_type": "markdown",
   "metadata": {},
   "source": [
    "The next thing we do is create a pyspice simulation object just like we would do for an operating point analysis to give us access to ngspice and from which we call the DC simulation from. In the following cell, we invoke the .dc simulation on the second line. The general syntax for which is\n",
    "```\n",
    "<pyspice sim obj>.dc(<SPICE netlist element name to sweep>=slice(<sweep stating value>, <sweep noninclusive ending value>, <sweep step size>))\n",
    "```\n",
    ".dc is the method call and it uses pythons kwargs to accepts the SPICE netlist element full reference that we intend to sweep. So that in this case we are sweeping `dummy_load` as our current draw on the voltage source, and its netlist entry is `Idload`. So we pass Idload as the keyword argument to `.dc`. Then we set the value of the argument using pythons' built-in `slice` function. If you have never used it before it's a way of setting list indexing to a variable and in this case, passing list indexing through a stack. Here is a quick example that you can see `slice` in action for yourself\n",
    "\n",
    "```\n",
    "a_array=np.linspace(0, 100)\n",
    "a_slice=slice(8, 15, 3) #start at item 8, up to item 15, by 3 items\n",
    "(a_array[8:15:3]==a_array[a_slice]).all()\n",
    "```\n",
    "Back to doing a `.dc` sim, we want to sweep our load dummy_load that will draw from 0A up to 1000A (not including) with a step size of 0.1A and see what effect it has on the source. So our code will be\n",
    "\n",
    "```\n",
    "dc_vals=sim.dc(Idload=slice(0, 1000, 0.1))\n",
    "```\n",
    "where `dc_vals` is just the simulation results, just like an operating point analysis.\n"
   ]
  },
  {
   "cell_type": "code",
   "execution_count": 7,
   "metadata": {},
   "outputs": [],
   "source": [
    "sim=circ.simulator()\n",
    "dc_vals=sim.dc(Idload=slice(0, 10, 0.1))"
   ]
  },
  {
   "cell_type": "markdown",
   "metadata": {},
   "source": [
    "Our results are accessed just like the results of an operating point analysis expect two things. One we get arrays of results for each item measured instead of just a float. Though we could get a single value if we set the .dc to only capture one point. And secondly, we have a new access `.sweep` that stores the value of the sweep variable. This means that the value at any index of the `.sweep` returned array is the circuit measured response to the sweep value at that same index.\n",
    "\n",
    "And since we now have arrays of results we can start to do plotting. Where for this example we are going to store our voltage and current results from the simulations. Where the current is going to be the swept value. And then plot the two on an I-V plot. Whereas expected the voltage at the output of our source is unaffected by the load current.\n"
   ]
  },
  {
   "cell_type": "code",
   "execution_count": 8,
   "metadata": {},
   "outputs": [
    {
     "data": {
      "text/plain": [
       "Text(0.5, 1.0, 'Ideal Voltage Source response to any load')"
      ]
     },
     "execution_count": 8,
     "metadata": {},
     "output_type": "execute_result"
    },
    {
     "data": {
      "image/png": "[encoded data removed]",
      "text/plain": [
       "<Figure size 432x288 with 1 Axes>"
      ]
     },
     "metadata": {
      "needs_background": "light"
     },
     "output_type": "display_data"
    }
   ],
   "source": [
    "iv_voltage=dc_vals[node(dummy_load['p'])].as_ndarray()\n",
    "iv_current=dc_vals.sweep.as_ndarray()\n",
    "plt.plot(iv_current, iv_voltage)\n",
    "plt.xlabel('Load Draw [A]'); plt.ylabel('Source Voltage [V]')\n",
    "plt.grid()\n",
    "plt.title('Ideal Voltage Source response to any load')"
   ]
  },
  {
   "cell_type": "markdown",
   "metadata": {},
   "source": [
    "# A Better `.dc` Sim Interaction¶\n",
    "So as we saw that was tedious. And we have already abstracted operating point analysis away in the previous sections. So using what we leaned doing that abstraction combined with what we have just learned about how a `.dc` simulation works in contrast to a `.op` we can abstract via the following steps:\n",
    "1.\tcreate the ngspice simulation access object\n",
    "2.\tget the element we want to sweep SPICE name\n",
    "3.\tconstruct our sweep via a slice\n",
    "4.\tperform the .dc simulation\n",
    "5.\tget results into more accessible structures\n",
    "6.\t(extra) create a quick plot tool\n",
    "\n",
    "Below we accomplished that with the following class\n"
   ]
  },
  {
   "cell_type": "code",
   "execution_count": 9,
   "metadata": {
    "code_folding": []
   },
   "outputs": [],
   "source": [
    "#%%writefile -a DC_1_Codes.py\n",
    "\n",
    "#chapter 1 section 3 dc_ease class\n",
    "# class to perform easily perform DC sweep simulations\n",
    "#gets both branch currents/node voltages and also internal parameters\n",
    "\n",
    "class dc_ease():\n",
    "    \"\"\"\n",
    "    Class to perform DC (.dc) SPICE simulation with some grace; only does single variable\n",
    "    and is currently limited to what +variable pyspice supports\n",
    "    \n",
    "    TODO:\n",
    "        make so that it can iterate over all filled in entries in `self.sweep_DF` and\n",
    "        exports data to xarray\n",
    "        \n",
    "        \n",
    "    \"\"\"\n",
    "    def __init__(self, circ_netlist_obj):\n",
    "        \"\"\"\n",
    "        Class to perform DC (.dc) SPICE simulation with some grace; only does single variable\n",
    "        and is currently limited to what variable pyspice supports\n",
    "        \n",
    "        Args:\n",
    "            circ_netlist_obj (pspice.Spice.Netlist.Circuit): the Netlist circuit produced \n",
    "                from SKiDl's `generate_netlist()`\n",
    "        \n",
    "        Returns: \n",
    "            creates a table of variables that could be swept in `self.sweep_DF`\n",
    "            this table will still need to be filled out for a single variable to be swept\n",
    "        \n",
    "        TODO: add kwargs to pass to sim creation\n",
    "\n",
    "        \"\"\"\n",
    "        #need to add assertions for op_sim_circ ==pspice.Spice.Netlist.Circuit\n",
    "        self.circ_netlist_obj=circ_netlist_obj\n",
    "        \n",
    "        self._build_table()\n",
    "    \n",
    "    def _build_table(self):\n",
    "        \"\"\"\n",
    "        protected method to create `self.sweep_DF` dataframe of all things in the\n",
    "        the circuit that can be swept; currently that is only voltage and current sources\n",
    "        \n",
    "        TODO:\n",
    "            -when pyspice accepts more things to sweep add them below\n",
    "        \"\"\"\n",
    "        \n",
    "        self.sweep_DF=pd.DataFrame(columns=['Element', 'Start', 'Stop', 'Step'])\n",
    "        \n",
    "        for e in self.circ_netlist_obj.element_names:\n",
    "            if e[0] in ['V', 'I']:\n",
    "                self.sweep_DF.at[len(self.sweep_DF), 'Element']=e\n",
    "        \n",
    "        #convert ELmenet to index\n",
    "        self.sweep_DF.set_index('Element', drop=True, append=False, inplace=True, verify_integrity=False)\n",
    "    \n",
    "\n",
    "        \n",
    "    def clean_table(self):\n",
    "        \"\"\"\n",
    "        Helper method to clean `self.sweep_DF` of any rows that are not to going to be swept\n",
    "        \"\"\"\n",
    "        self.sweep_DF.dropna(axis=0, how='any', inplace=True)\n",
    "        \n",
    "    def addback_elements_2table(self):\n",
    "        \"\"\"\n",
    "        Helper method to return empty rows to `self.sweep_DF` to manually then add sweep info to\n",
    "        uses `self._build_table` to rebuild the table\n",
    "        \"\"\"\n",
    "        for e in self.circ_netlist_obj.element_names:\n",
    "            if e not in self.sweep_DF.index:\n",
    "                self.sweep_DF.at[e, :]=np.nan\n",
    "    \n",
    "    #so ngspice is only 2d sweeps and so need figurer this out to do 2d sets\n",
    "    #but will, for now, do sets of 1d\n",
    "    #def _make_sim_control(self):\n",
    "    #    self.clean_table()\n",
    "    #    \n",
    "    #    #for now dc sim through pyspice only support voltage and current sources\n",
    "    #    self.dc_contorl={row[0]: slice(row[1], row[2], row[3]) for row in self.sweep_DF.itertuples() if row[0][0] in ['V', 'I']}\n",
    "    \n",
    "    \n",
    "    def _make_sim_control(self, varible):\n",
    "        \"\"\"\n",
    "        Internal method to extract the row information to the .dc kargs and slice argument\n",
    "        \n",
    "        Args:\n",
    "            varible (str): the index in `self.sweep_DF` to exstract the info from\n",
    "            \n",
    "        Returns:\n",
    "            `self.dc_contorl` what is feed into the .dc to do the simulation for a single var\n",
    "            \n",
    "        \"\"\"\n",
    "        #clean the table\n",
    "        self.clean_table()\n",
    "        #get the location of the variable's index\n",
    "        try:\n",
    "            row=self.sweep_DF.index.get_loc(varible)\n",
    "            #get said row\n",
    "            row=self.sweep_DF.iloc[row]\n",
    "            #need to fix this in pyspice to make it fully ngspice capale\n",
    "            if row.name[0] not in ['I', 'V']:\n",
    "                raise KeyError\n",
    "            \n",
    "            #build the control\n",
    "            self.dc_contorl={row.name:slice(row.Start, row.Stop, row.Step)}\n",
    "            \n",
    "            return 0\n",
    "            \n",
    "        except KeyError:\n",
    "            print(f' Variable: {varible} is not in or able self.sweep_DF to be swept ')\n",
    "            \n",
    "            return 1\n",
    "    \n",
    "    def do_dc_sim(self, varible):\n",
    "        \"\"\"\n",
    "        Does a standard Branch and Node .dc simulation for a single filled out row in `self.sweep_DF`\n",
    "        \n",
    "        Args:\n",
    "            variable (str): the index in `self.sweep_DF` that corresponds to the thing to sweep in the .dc simulation\n",
    "        \n",
    "        Returns: \n",
    "            raw results are stored in `self.dc_vals`, processed results are automatically stored in \n",
    "            `self.dc_resultsNB_DF` via `self.record_dc_nodebranch`\n",
    "        \"\"\"\n",
    "        \n",
    "        \n",
    "        if self._make_sim_control(varible)==0:\n",
    "            self.sim=self.circ_netlist_obj.simulator()\n",
    "            self.dc_vals=self.sim.dc(**self.dc_contorl)\n",
    "            \n",
    "            self.record_dc_nodebranch(varible)\n",
    "        \n",
    "        else:\n",
    "            pass\n",
    "                \n",
    "        \n",
    "    \n",
    "    def record_dc_nodebranch(self, varible):\n",
    "        \"\"\" \n",
    "        Helper method to put .dc node branch results into a dataframe where the index is the  variable\n",
    "        \n",
    "        Args:\n",
    "            variable (str): used to set the index name\n",
    "        \n",
    "        Returns:\n",
    "            `self.dc_resultsNB_DF` which is a pandas dataframe with the index being the sweep and the columns being\n",
    "            the node voltages and branch currents from any available voltage sources\n",
    "            \n",
    "        TODO:\n",
    "            get the current in any current sources\n",
    "            \n",
    "        \"\"\"\n",
    "        self.dc_resultsNB_DF=pd.DataFrame(index=self.dc_vals.sweep.as_ndarray())\n",
    "        \n",
    "        self.dc_resultsNB_DF.index.name=varible\n",
    "        \n",
    "        #get node voltages:\n",
    "        \n",
    "        for n in self.circ_netlist_obj.node_names:\n",
    "            if n=='0':\n",
    "                continue\n",
    "            self.dc_resultsNB_DF[n+'_[V]']=self.dc_vals[n].as_ndarray()\n",
    "        \n",
    "        #get the current from any voltage sources:\n",
    "        for cm in self.circ_netlist_obj.element_names:\n",
    "            if 'V'==cm[0]:\n",
    "                self.dc_resultsNB_DF[cm+'_[A]']=-self.dc_vals[cm].as_ndarray()\n",
    "    \n",
    "    def do_dc_intsim(self, varible):\n",
    "        \"\"\"\n",
    "        Does a .dc simulation the internal variables for  a single filled out row in `self.sweep_DF`\n",
    "        Right now the internal variables gathered are:\n",
    "        current, voltage power for: VCCS VCVS, CCVS, CCCS, Independent current source \n",
    "        current and power for Resistors and independent voltage sources\n",
    "        \n",
    "        Args:\n",
    "            variable (str): the index in `self.sweep_DF` that corresponds to the thing to sweep in the .dc simulation\n",
    "        \n",
    "        Returns: \n",
    "            raw results are stored in `self.dc_resultsINT_DF`, processed results are automatically stored in \n",
    "            `self.dc_resultsNB_DF` via `self.record_dc_internals`\n",
    "        \"\"\"\n",
    "        \n",
    "        \n",
    "        self.save_internals=[]\n",
    "        \n",
    "        for e in self.circ_netlist_obj.element_names:\n",
    "            if e[0]=='R':\n",
    "                self.save_internals+=[f'@{e}[i]', f'@{e}[p]']\n",
    "            \n",
    "            elif e[0]=='I':\n",
    "                self.save_internals+=[f'@{e}[c]', f'@{e}[v]', f'@{e}[p]']\n",
    "            \n",
    "            elif e[0]=='V':\n",
    "                self.save_internals+=[f'@{e}[i]', f'@{e}[p]']\n",
    "            \n",
    "            elif e[0] in ['F', 'H', 'G', 'E']:\n",
    "                self.save_internals+=[f'@{e}[i]', f'@{e}[v]', f'@{e}[p]']\n",
    "        \n",
    "        if self._make_sim_control(varible)==0:\n",
    "            self.sim=self.circ_netlist_obj.simulator()\n",
    "            self.sim.save_internal_parameters(*self.save_internals)\n",
    "            self.dc_vals=self.sim.dc(**self.dc_contorl)\n",
    "            \n",
    "            self.record_dc_internals(varible)\n",
    "    \n",
    "    def record_dc_internals(self, varible):\n",
    "        \"\"\" \n",
    "        Helper method to put .dc internal variable results into a dataframe where the index is the  variable\n",
    "        \n",
    "        Args:\n",
    "            variable (str): used to set the index name\n",
    "        \n",
    "        Returns:\n",
    "            `self.dc_resultsINT_DF` which is a pandas dataframe with the index being the sweep and the columns being\n",
    "            the saved internal variables\n",
    "            \n",
    "        \"\"\"\n",
    "        self.dc_resultsINT_DF=pd.DataFrame(index=self.dc_vals.sweep.as_ndarray())\n",
    "        self.dc_resultsINT_DF.index.name=varible\n",
    "\n",
    "        \n",
    "        for i in self.save_internals:\n",
    "            if i[1]=='I' and i[-2]=='c':\n",
    "                result_name=i[1:]+'_[A]'\n",
    "            \n",
    "            elif i[-2]=='i':\n",
    "                result_name=i[1:]+'_[A]'\n",
    "            \n",
    "            elif i[-2]=='v':\n",
    "                result_name=i[1:]+'_[V]'\n",
    "            \n",
    "            elif i[-2]=='p':\n",
    "                result_name=i[1:]+'_[W]'\n",
    "            \n",
    "            #deal with the fliped current for voltage sources even internally\n",
    "            if i[1]=='V' and i[-2]=='i':\n",
    "                self.dc_resultsINT_DF[result_name]=-self.dc_vals[i].as_ndarray()\n",
    "            else:\n",
    "                self.dc_resultsINT_DF[result_name]=self.dc_vals[i].as_ndarray()\n",
    "            \n",
    "    \n",
    "    def quick_plot(self, nodebranch_int_cont='nb'):\n",
    "        \"\"\"\n",
    "        Creates a quick plot of all columns with respect to the index for the data stored in \n",
    "        `self.dc_resultsNB_DF` or `self.dc_resultsINT_DF`. Note that for larger cirucits\n",
    "        these plots can have a ridicules number of subplots so yeah there is a reason for this\n",
    "        methods name\n",
    "        \n",
    "        Args:\n",
    "            nodebranch_int_cont (str; 'nb'): control word for wither to plot the node branch data ('nb')\n",
    "                or the internal data ('int')\n",
    "        \n",
    "        Returns:\n",
    "            Creates a rudimentary plot sharing a common x axis correspond the index\n",
    "            for the data source and subplot row for each column in the data source\n",
    "        \n",
    "        \"\"\"\n",
    "        \n",
    "        assert nodebranch_int_cont in ['nb', 'int'], f'{nodebranch_int_cont} in not a allowed control statment'\n",
    "        #add a check for existence\n",
    "        \n",
    "        if nodebranch_int_cont=='nb':\n",
    "            plotDF=self.dc_resultsNB_DF\n",
    "        elif nodebranch_int_cont=='int':\n",
    "            plotDF=self.dc_resultsINT_DF\n",
    "        \n",
    "        \n",
    "        plotDF.plot(subplots=True, sharex=True, grid=True)\n",
    "        # won't work for a data source with lots of columns\n",
    "        plt.tight_layout()\n"
   ]
  },
  {
   "cell_type": "markdown",
   "metadata": {},
   "source": [
    "So now let's walk through using our nee tool and make sure we can get the same results. Pro tip: you can write as many docstrings as you want (and definitely should) but walk-through examples are worth a lot more to both you hours after you write the code and to the person who is picking up the code from you."
   ]
  },
  {
   "cell_type": "code",
   "execution_count": 10,
   "metadata": {},
   "outputs": [
    {
     "data": {
      "text/html": [
       "<div>\n",
       "<style scoped>\n",
       "    .dataframe tbody tr th:only-of-type {\n",
       "        vertical-align: middle;\n",
       "    }\n",
       "\n",
       "    .dataframe tbody tr th {\n",
       "        vertical-align: top;\n",
       "    }\n",
       "\n",
       "    .dataframe thead th {\n",
       "        text-align: right;\n",
       "    }\n",
       "</style>\n",
       "<table border=\"1\" class=\"dataframe\">\n",
       "  <thead>\n",
       "    <tr style=\"text-align: right;\">\n",
       "      <th></th>\n",
       "      <th>Start</th>\n",
       "      <th>Stop</th>\n",
       "      <th>Step</th>\n",
       "    </tr>\n",
       "    <tr>\n",
       "      <th>Element</th>\n",
       "      <th></th>\n",
       "      <th></th>\n",
       "      <th></th>\n",
       "    </tr>\n",
       "  </thead>\n",
       "  <tbody>\n",
       "    <tr>\n",
       "      <th>V_vs</th>\n",
       "      <td>NaN</td>\n",
       "      <td>NaN</td>\n",
       "      <td>NaN</td>\n",
       "    </tr>\n",
       "    <tr>\n",
       "      <th>Idload</th>\n",
       "      <td>NaN</td>\n",
       "      <td>NaN</td>\n",
       "      <td>NaN</td>\n",
       "    </tr>\n",
       "  </tbody>\n",
       "</table>\n",
       "</div>"
      ],
      "text/plain": [
       "        Start Stop Step\n",
       "Element                \n",
       "V_vs      NaN  NaN  NaN\n",
       "Idload    NaN  NaN  NaN"
      ]
     },
     "execution_count": 10,
     "metadata": {},
     "output_type": "execute_result"
    }
   ],
   "source": [
    "# instantiate the class instance and pass in the circuit under test (DUT)\n",
    "dc_sweep=dc_ease(circ)\n",
    "#get the created control dataframe this is `self.sweep_DF`\n",
    "dc_sweep.sweep_DF"
   ]
  },
  {
   "cell_type": "markdown",
   "metadata": {},
   "source": [
    "As stated we create a dataframe that holds all the things we can sweep that we have to fill out. Because we only simulate the results of sweeping one variable at a time this allows us to have some kind of ledger of things we want to sweep. To set the values we use the index and pandas `.at` accessor to give each row it's starting, stopping, and step value."
   ]
  },
  {
   "cell_type": "code",
   "execution_count": 11,
   "metadata": {},
   "outputs": [
    {
     "data": {
      "text/html": [
       "<div>\n",
       "<style scoped>\n",
       "    .dataframe tbody tr th:only-of-type {\n",
       "        vertical-align: middle;\n",
       "    }\n",
       "\n",
       "    .dataframe tbody tr th {\n",
       "        vertical-align: top;\n",
       "    }\n",
       "\n",
       "    .dataframe thead th {\n",
       "        text-align: right;\n",
       "    }\n",
       "</style>\n",
       "<table border=\"1\" class=\"dataframe\">\n",
       "  <thead>\n",
       "    <tr style=\"text-align: right;\">\n",
       "      <th></th>\n",
       "      <th>Start</th>\n",
       "      <th>Stop</th>\n",
       "      <th>Step</th>\n",
       "    </tr>\n",
       "    <tr>\n",
       "      <th>Element</th>\n",
       "      <th></th>\n",
       "      <th></th>\n",
       "      <th></th>\n",
       "    </tr>\n",
       "  </thead>\n",
       "  <tbody>\n",
       "    <tr>\n",
       "      <th>V_vs</th>\n",
       "      <td>NaN</td>\n",
       "      <td>NaN</td>\n",
       "      <td>NaN</td>\n",
       "    </tr>\n",
       "    <tr>\n",
       "      <th>Idload</th>\n",
       "      <td>0</td>\n",
       "      <td>10</td>\n",
       "      <td>0.1</td>\n",
       "    </tr>\n",
       "  </tbody>\n",
       "</table>\n",
       "</div>"
      ],
      "text/plain": [
       "        Start Stop Step\n",
       "Element                \n",
       "V_vs      NaN  NaN  NaN\n",
       "Idload      0   10  0.1"
      ]
     },
     "execution_count": 11,
     "metadata": {},
     "output_type": "execute_result"
    }
   ],
   "source": [
    "dc_sweep.sweep_DF.at['Idload']=0, 10, 0.1\n",
    "dc_sweep.sweep_DF"
   ]
  },
  {
   "cell_type": "code",
   "execution_count": 12,
   "metadata": {},
   "outputs": [
    {
     "data": {
      "text/html": [
       "<div>\n",
       "<style scoped>\n",
       "    .dataframe tbody tr th:only-of-type {\n",
       "        vertical-align: middle;\n",
       "    }\n",
       "\n",
       "    .dataframe tbody tr th {\n",
       "        vertical-align: top;\n",
       "    }\n",
       "\n",
       "    .dataframe thead th {\n",
       "        text-align: right;\n",
       "    }\n",
       "</style>\n",
       "<table border=\"1\" class=\"dataframe\">\n",
       "  <thead>\n",
       "    <tr style=\"text-align: right;\">\n",
       "      <th></th>\n",
       "      <th>Start</th>\n",
       "      <th>Stop</th>\n",
       "      <th>Step</th>\n",
       "    </tr>\n",
       "    <tr>\n",
       "      <th>Element</th>\n",
       "      <th></th>\n",
       "      <th></th>\n",
       "      <th></th>\n",
       "    </tr>\n",
       "  </thead>\n",
       "  <tbody>\n",
       "    <tr>\n",
       "      <th>V_vs</th>\n",
       "      <td>0</td>\n",
       "      <td>10</td>\n",
       "      <td>0.1</td>\n",
       "    </tr>\n",
       "    <tr>\n",
       "      <th>Idload</th>\n",
       "      <td>0</td>\n",
       "      <td>10</td>\n",
       "      <td>0.1</td>\n",
       "    </tr>\n",
       "  </tbody>\n",
       "</table>\n",
       "</div>"
      ],
      "text/plain": [
       "        Start Stop Step\n",
       "Element                \n",
       "V_vs        0   10  0.1\n",
       "Idload      0   10  0.1"
      ]
     },
     "execution_count": 12,
     "metadata": {},
     "output_type": "execute_result"
    }
   ],
   "source": [
    "dc_sweep.sweep_DF.at['V_vs']=0, 10, 0.1\n",
    "dc_sweep.sweep_DF"
   ]
  },
  {
   "cell_type": "markdown",
   "metadata": {},
   "source": [
    "The thing about testing either code or our circuit is that to truly verify functionally it's not good enough to test just what something is supposed to do but also test to make sure it shouldn't do things we know it shouldn't do. So let's tell `dc_sweep` to do a simulation on a variable not in the control structure `dc_sweep.sweep_DF`"
   ]
  },
  {
   "cell_type": "code",
   "execution_count": 13,
   "metadata": {},
   "outputs": [
    {
     "name": "stdout",
     "output_type": "stream",
     "text": [
      " Variable: Rload is not in or able self.sweep_DF to be swept \n"
     ]
    }
   ],
   "source": [
    "dc_sweep.do_dc_sim('Rload')"
   ]
  },
  {
   "cell_type": "markdown",
   "metadata": {},
   "source": [
    "And we see that it indeed threw and caught a key error since `Rload` is not an index in `dc_sweep.sweep_D`F as we intended in `dc_sweep._make_sim_control`. If this was production code we would be looping all sorts of tests against this to verify this code's performance before we even let it try to verify any circuits under test. But functional verification of code is not the goal of this book but is a subject the reader should study.\n",
    "Let's now have it sweep the dummy load as we did manually and make sure we get the same results, as we should since we are using the same circuit."
   ]
  },
  {
   "cell_type": "code",
   "execution_count": 14,
   "metadata": {},
   "outputs": [
    {
     "data": {
      "text/html": [
       "<div>\n",
       "<style scoped>\n",
       "    .dataframe tbody tr th:only-of-type {\n",
       "        vertical-align: middle;\n",
       "    }\n",
       "\n",
       "    .dataframe tbody tr th {\n",
       "        vertical-align: top;\n",
       "    }\n",
       "\n",
       "    .dataframe thead th {\n",
       "        text-align: right;\n",
       "    }\n",
       "</style>\n",
       "<table border=\"1\" class=\"dataframe\">\n",
       "  <thead>\n",
       "    <tr style=\"text-align: right;\">\n",
       "      <th></th>\n",
       "      <th>N_1_[V]</th>\n",
       "      <th>V_vs_[A]</th>\n",
       "    </tr>\n",
       "    <tr>\n",
       "      <th>Idload</th>\n",
       "      <th></th>\n",
       "      <th></th>\n",
       "    </tr>\n",
       "  </thead>\n",
       "  <tbody>\n",
       "    <tr>\n",
       "      <th>0.0</th>\n",
       "      <td>30.0</td>\n",
       "      <td>-0.0</td>\n",
       "    </tr>\n",
       "    <tr>\n",
       "      <th>0.1</th>\n",
       "      <td>30.0</td>\n",
       "      <td>0.1</td>\n",
       "    </tr>\n",
       "    <tr>\n",
       "      <th>0.2</th>\n",
       "      <td>30.0</td>\n",
       "      <td>0.2</td>\n",
       "    </tr>\n",
       "    <tr>\n",
       "      <th>0.3</th>\n",
       "      <td>30.0</td>\n",
       "      <td>0.3</td>\n",
       "    </tr>\n",
       "    <tr>\n",
       "      <th>0.4</th>\n",
       "      <td>30.0</td>\n",
       "      <td>0.4</td>\n",
       "    </tr>\n",
       "    <tr>\n",
       "      <th>...</th>\n",
       "      <td>...</td>\n",
       "      <td>...</td>\n",
       "    </tr>\n",
       "    <tr>\n",
       "      <th>9.6</th>\n",
       "      <td>30.0</td>\n",
       "      <td>9.6</td>\n",
       "    </tr>\n",
       "    <tr>\n",
       "      <th>9.7</th>\n",
       "      <td>30.0</td>\n",
       "      <td>9.7</td>\n",
       "    </tr>\n",
       "    <tr>\n",
       "      <th>9.8</th>\n",
       "      <td>30.0</td>\n",
       "      <td>9.8</td>\n",
       "    </tr>\n",
       "    <tr>\n",
       "      <th>9.9</th>\n",
       "      <td>30.0</td>\n",
       "      <td>9.9</td>\n",
       "    </tr>\n",
       "    <tr>\n",
       "      <th>10.0</th>\n",
       "      <td>30.0</td>\n",
       "      <td>10.0</td>\n",
       "    </tr>\n",
       "  </tbody>\n",
       "</table>\n",
       "<p>101 rows × 2 columns</p>\n",
       "</div>"
      ],
      "text/plain": [
       "        N_1_[V]  V_vs_[A]\n",
       "Idload                   \n",
       "0.0        30.0      -0.0\n",
       "0.1        30.0       0.1\n",
       "0.2        30.0       0.2\n",
       "0.3        30.0       0.3\n",
       "0.4        30.0       0.4\n",
       "...         ...       ...\n",
       "9.6        30.0       9.6\n",
       "9.7        30.0       9.7\n",
       "9.8        30.0       9.8\n",
       "9.9        30.0       9.9\n",
       "10.0       30.0      10.0\n",
       "\n",
       "[101 rows x 2 columns]"
      ]
     },
     "execution_count": 14,
     "metadata": {},
     "output_type": "execute_result"
    }
   ],
   "source": [
    "dc_sweep.do_dc_sim('Idload')\n",
    "dc_sweep.dc_resultsNB_DF"
   ]
  },
  {
   "cell_type": "markdown",
   "metadata": {},
   "source": [
    "And indeed, we get what we got manually, now let us do this again for the internals. But since the internals were not simulated when we did this manually, we must use our EE knowledge to still do the sanity check. In this cause is obvious that the voltage through the current source that serves as our load should always be 30V where the sign is flipped because SPICE."
   ]
  },
  {
   "cell_type": "code",
   "execution_count": 15,
   "metadata": {},
   "outputs": [
    {
     "name": "stderr",
     "output_type": "stream",
     "text": [
      "Unit is None for @v_vs[p] power\n",
      "Unit is None for @idload[p] power\n"
     ]
    },
    {
     "data": {
      "text/html": [
       "<div>\n",
       "<style scoped>\n",
       "    .dataframe tbody tr th:only-of-type {\n",
       "        vertical-align: middle;\n",
       "    }\n",
       "\n",
       "    .dataframe tbody tr th {\n",
       "        vertical-align: top;\n",
       "    }\n",
       "\n",
       "    .dataframe thead th {\n",
       "        text-align: right;\n",
       "    }\n",
       "</style>\n",
       "<table border=\"1\" class=\"dataframe\">\n",
       "  <thead>\n",
       "    <tr style=\"text-align: right;\">\n",
       "      <th></th>\n",
       "      <th>V_vs[i]_[A]</th>\n",
       "      <th>V_vs[p]_[W]</th>\n",
       "      <th>Idload[c]_[A]</th>\n",
       "      <th>Idload[v]_[V]</th>\n",
       "      <th>Idload[p]_[W]</th>\n",
       "    </tr>\n",
       "    <tr>\n",
       "      <th>Idload</th>\n",
       "      <th></th>\n",
       "      <th></th>\n",
       "      <th></th>\n",
       "      <th></th>\n",
       "      <th></th>\n",
       "    </tr>\n",
       "  </thead>\n",
       "  <tbody>\n",
       "    <tr>\n",
       "      <th>0.0</th>\n",
       "      <td>-0.0</td>\n",
       "      <td>-0.0</td>\n",
       "      <td>0.0</td>\n",
       "      <td>-30.0</td>\n",
       "      <td>0.0</td>\n",
       "    </tr>\n",
       "    <tr>\n",
       "      <th>0.1</th>\n",
       "      <td>0.1</td>\n",
       "      <td>3.0</td>\n",
       "      <td>0.1</td>\n",
       "      <td>-30.0</td>\n",
       "      <td>3.0</td>\n",
       "    </tr>\n",
       "    <tr>\n",
       "      <th>0.2</th>\n",
       "      <td>0.2</td>\n",
       "      <td>6.0</td>\n",
       "      <td>0.2</td>\n",
       "      <td>-30.0</td>\n",
       "      <td>6.0</td>\n",
       "    </tr>\n",
       "    <tr>\n",
       "      <th>0.3</th>\n",
       "      <td>0.3</td>\n",
       "      <td>9.0</td>\n",
       "      <td>0.3</td>\n",
       "      <td>-30.0</td>\n",
       "      <td>9.0</td>\n",
       "    </tr>\n",
       "    <tr>\n",
       "      <th>0.4</th>\n",
       "      <td>0.4</td>\n",
       "      <td>12.0</td>\n",
       "      <td>0.4</td>\n",
       "      <td>-30.0</td>\n",
       "      <td>12.0</td>\n",
       "    </tr>\n",
       "    <tr>\n",
       "      <th>...</th>\n",
       "      <td>...</td>\n",
       "      <td>...</td>\n",
       "      <td>...</td>\n",
       "      <td>...</td>\n",
       "      <td>...</td>\n",
       "    </tr>\n",
       "    <tr>\n",
       "      <th>9.6</th>\n",
       "      <td>9.6</td>\n",
       "      <td>288.0</td>\n",
       "      <td>9.6</td>\n",
       "      <td>-30.0</td>\n",
       "      <td>288.0</td>\n",
       "    </tr>\n",
       "    <tr>\n",
       "      <th>9.7</th>\n",
       "      <td>9.7</td>\n",
       "      <td>291.0</td>\n",
       "      <td>9.7</td>\n",
       "      <td>-30.0</td>\n",
       "      <td>291.0</td>\n",
       "    </tr>\n",
       "    <tr>\n",
       "      <th>9.8</th>\n",
       "      <td>9.8</td>\n",
       "      <td>294.0</td>\n",
       "      <td>9.8</td>\n",
       "      <td>-30.0</td>\n",
       "      <td>294.0</td>\n",
       "    </tr>\n",
       "    <tr>\n",
       "      <th>9.9</th>\n",
       "      <td>9.9</td>\n",
       "      <td>297.0</td>\n",
       "      <td>9.9</td>\n",
       "      <td>-30.0</td>\n",
       "      <td>297.0</td>\n",
       "    </tr>\n",
       "    <tr>\n",
       "      <th>10.0</th>\n",
       "      <td>10.0</td>\n",
       "      <td>300.0</td>\n",
       "      <td>10.0</td>\n",
       "      <td>-30.0</td>\n",
       "      <td>300.0</td>\n",
       "    </tr>\n",
       "  </tbody>\n",
       "</table>\n",
       "<p>101 rows × 5 columns</p>\n",
       "</div>"
      ],
      "text/plain": [
       "        V_vs[i]_[A]  V_vs[p]_[W]  Idload[c]_[A]  Idload[v]_[V]  Idload[p]_[W]\n",
       "Idload                                                                       \n",
       "0.0            -0.0         -0.0            0.0          -30.0            0.0\n",
       "0.1             0.1          3.0            0.1          -30.0            3.0\n",
       "0.2             0.2          6.0            0.2          -30.0            6.0\n",
       "0.3             0.3          9.0            0.3          -30.0            9.0\n",
       "0.4             0.4         12.0            0.4          -30.0           12.0\n",
       "...             ...          ...            ...            ...            ...\n",
       "9.6             9.6        288.0            9.6          -30.0          288.0\n",
       "9.7             9.7        291.0            9.7          -30.0          291.0\n",
       "9.8             9.8        294.0            9.8          -30.0          294.0\n",
       "9.9             9.9        297.0            9.9          -30.0          297.0\n",
       "10.0           10.0        300.0           10.0          -30.0          300.0\n",
       "\n",
       "[101 rows x 5 columns]"
      ]
     },
     "execution_count": 15,
     "metadata": {},
     "output_type": "execute_result"
    }
   ],
   "source": [
    "dc_sweep.do_dc_intsim('Idload')\n",
    "dc_sweep.dc_resultsINT_DF"
   ]
  },
  {
   "cell_type": "markdown",
   "metadata": {},
   "source": [
    "We clearly see `False` results so we need to sanity check these. When dealing with programmatic data analysis eyeball sanity checks are still an effort-saving practice.  So let’s isolate the failing rows real quick since that is part of the power of having Python interact with SPICE is this kind of data handling ease."
   ]
  },
  {
   "cell_type": "code",
   "execution_count": 16,
   "metadata": {},
   "outputs": [
    {
     "data": {
      "text/html": [
       "<div>\n",
       "<style scoped>\n",
       "    .dataframe tbody tr th:only-of-type {\n",
       "        vertical-align: middle;\n",
       "    }\n",
       "\n",
       "    .dataframe tbody tr th {\n",
       "        vertical-align: top;\n",
       "    }\n",
       "\n",
       "    .dataframe thead th {\n",
       "        text-align: right;\n",
       "    }\n",
       "</style>\n",
       "<table border=\"1\" class=\"dataframe\">\n",
       "  <thead>\n",
       "    <tr style=\"text-align: right;\">\n",
       "      <th></th>\n",
       "      <th>V_vs[i]_[A]</th>\n",
       "      <th>V_vs[p]_[W]</th>\n",
       "      <th>Idload[c]_[A]</th>\n",
       "      <th>Idload[v]_[V]</th>\n",
       "      <th>Idload[p]_[W]</th>\n",
       "      <th>Idload[A]_calc</th>\n",
       "      <th>Test</th>\n",
       "    </tr>\n",
       "    <tr>\n",
       "      <th>Idload</th>\n",
       "      <th></th>\n",
       "      <th></th>\n",
       "      <th></th>\n",
       "      <th></th>\n",
       "      <th></th>\n",
       "      <th></th>\n",
       "      <th></th>\n",
       "    </tr>\n",
       "  </thead>\n",
       "  <tbody>\n",
       "    <tr>\n",
       "      <th>0.0</th>\n",
       "      <td>-0.0</td>\n",
       "      <td>-0.0</td>\n",
       "      <td>0.0</td>\n",
       "      <td>-30.0</td>\n",
       "      <td>0.0</td>\n",
       "      <td>0.0</td>\n",
       "      <td>True</td>\n",
       "    </tr>\n",
       "    <tr>\n",
       "      <th>0.1</th>\n",
       "      <td>0.1</td>\n",
       "      <td>3.0</td>\n",
       "      <td>0.1</td>\n",
       "      <td>-30.0</td>\n",
       "      <td>3.0</td>\n",
       "      <td>0.1</td>\n",
       "      <td>True</td>\n",
       "    </tr>\n",
       "    <tr>\n",
       "      <th>0.2</th>\n",
       "      <td>0.2</td>\n",
       "      <td>6.0</td>\n",
       "      <td>0.2</td>\n",
       "      <td>-30.0</td>\n",
       "      <td>6.0</td>\n",
       "      <td>0.2</td>\n",
       "      <td>True</td>\n",
       "    </tr>\n",
       "    <tr>\n",
       "      <th>0.3</th>\n",
       "      <td>0.3</td>\n",
       "      <td>9.0</td>\n",
       "      <td>0.3</td>\n",
       "      <td>-30.0</td>\n",
       "      <td>9.0</td>\n",
       "      <td>0.3</td>\n",
       "      <td>True</td>\n",
       "    </tr>\n",
       "    <tr>\n",
       "      <th>0.4</th>\n",
       "      <td>0.4</td>\n",
       "      <td>12.0</td>\n",
       "      <td>0.4</td>\n",
       "      <td>-30.0</td>\n",
       "      <td>12.0</td>\n",
       "      <td>0.4</td>\n",
       "      <td>True</td>\n",
       "    </tr>\n",
       "    <tr>\n",
       "      <th>...</th>\n",
       "      <td>...</td>\n",
       "      <td>...</td>\n",
       "      <td>...</td>\n",
       "      <td>...</td>\n",
       "      <td>...</td>\n",
       "      <td>...</td>\n",
       "      <td>...</td>\n",
       "    </tr>\n",
       "    <tr>\n",
       "      <th>9.6</th>\n",
       "      <td>9.6</td>\n",
       "      <td>288.0</td>\n",
       "      <td>9.6</td>\n",
       "      <td>-30.0</td>\n",
       "      <td>288.0</td>\n",
       "      <td>9.6</td>\n",
       "      <td>True</td>\n",
       "    </tr>\n",
       "    <tr>\n",
       "      <th>9.7</th>\n",
       "      <td>9.7</td>\n",
       "      <td>291.0</td>\n",
       "      <td>9.7</td>\n",
       "      <td>-30.0</td>\n",
       "      <td>291.0</td>\n",
       "      <td>9.7</td>\n",
       "      <td>True</td>\n",
       "    </tr>\n",
       "    <tr>\n",
       "      <th>9.8</th>\n",
       "      <td>9.8</td>\n",
       "      <td>294.0</td>\n",
       "      <td>9.8</td>\n",
       "      <td>-30.0</td>\n",
       "      <td>294.0</td>\n",
       "      <td>9.8</td>\n",
       "      <td>True</td>\n",
       "    </tr>\n",
       "    <tr>\n",
       "      <th>9.9</th>\n",
       "      <td>9.9</td>\n",
       "      <td>297.0</td>\n",
       "      <td>9.9</td>\n",
       "      <td>-30.0</td>\n",
       "      <td>297.0</td>\n",
       "      <td>9.9</td>\n",
       "      <td>True</td>\n",
       "    </tr>\n",
       "    <tr>\n",
       "      <th>10.0</th>\n",
       "      <td>10.0</td>\n",
       "      <td>300.0</td>\n",
       "      <td>10.0</td>\n",
       "      <td>-30.0</td>\n",
       "      <td>300.0</td>\n",
       "      <td>10.0</td>\n",
       "      <td>True</td>\n",
       "    </tr>\n",
       "  </tbody>\n",
       "</table>\n",
       "<p>101 rows × 7 columns</p>\n",
       "</div>"
      ],
      "text/plain": [
       "        V_vs[i]_[A]  V_vs[p]_[W]  Idload[c]_[A]  Idload[v]_[V]  Idload[p]_[W]  \\\n",
       "Idload                                                                          \n",
       "0.0            -0.0         -0.0            0.0          -30.0            0.0   \n",
       "0.1             0.1          3.0            0.1          -30.0            3.0   \n",
       "0.2             0.2          6.0            0.2          -30.0            6.0   \n",
       "0.3             0.3          9.0            0.3          -30.0            9.0   \n",
       "0.4             0.4         12.0            0.4          -30.0           12.0   \n",
       "...             ...          ...            ...            ...            ...   \n",
       "9.6             9.6        288.0            9.6          -30.0          288.0   \n",
       "9.7             9.7        291.0            9.7          -30.0          291.0   \n",
       "9.8             9.8        294.0            9.8          -30.0          294.0   \n",
       "9.9             9.9        297.0            9.9          -30.0          297.0   \n",
       "10.0           10.0        300.0           10.0          -30.0          300.0   \n",
       "\n",
       "        Idload[A]_calc  Test  \n",
       "Idload                        \n",
       "0.0                0.0  True  \n",
       "0.1                0.1  True  \n",
       "0.2                0.2  True  \n",
       "0.3                0.3  True  \n",
       "0.4                0.4  True  \n",
       "...                ...   ...  \n",
       "9.6                9.6  True  \n",
       "9.7                9.7  True  \n",
       "9.8                9.8  True  \n",
       "9.9                9.9  True  \n",
       "10.0              10.0  True  \n",
       "\n",
       "[101 rows x 7 columns]"
      ]
     },
     "execution_count": 16,
     "metadata": {},
     "output_type": "execute_result"
    }
   ],
   "source": [
    "dc_sweep_int_data=dc_sweep.dc_resultsINT_DF\n",
    "dc_sweep_int_data['Idload[A]_calc']=(dc_sweep_int_data['Idload[p]_[W]']/-dc_sweep_int_data['Idload[v]_[V]'])\n",
    "dc_sweep_int_data['Test']=(dc_sweep_int_data['Idload[A]_calc']==dc_sweep_int_data.index)\n",
    "dc_sweep_int_data"
   ]
  },
  {
   "cell_type": "code",
   "execution_count": 17,
   "metadata": {},
   "outputs": [
    {
     "data": {
      "text/html": [
       "<div>\n",
       "<style scoped>\n",
       "    .dataframe tbody tr th:only-of-type {\n",
       "        vertical-align: middle;\n",
       "    }\n",
       "\n",
       "    .dataframe tbody tr th {\n",
       "        vertical-align: top;\n",
       "    }\n",
       "\n",
       "    .dataframe thead th {\n",
       "        text-align: right;\n",
       "    }\n",
       "</style>\n",
       "<table border=\"1\" class=\"dataframe\">\n",
       "  <thead>\n",
       "    <tr style=\"text-align: right;\">\n",
       "      <th></th>\n",
       "      <th>V_vs[i]_[A]</th>\n",
       "      <th>V_vs[p]_[W]</th>\n",
       "      <th>Idload[c]_[A]</th>\n",
       "      <th>Idload[v]_[V]</th>\n",
       "      <th>Idload[p]_[W]</th>\n",
       "      <th>Idload[A]_calc</th>\n",
       "      <th>Test</th>\n",
       "    </tr>\n",
       "    <tr>\n",
       "      <th>Idload</th>\n",
       "      <th></th>\n",
       "      <th></th>\n",
       "      <th></th>\n",
       "      <th></th>\n",
       "      <th></th>\n",
       "      <th></th>\n",
       "      <th></th>\n",
       "    </tr>\n",
       "  </thead>\n",
       "  <tbody>\n",
       "    <tr>\n",
       "      <th>2.3</th>\n",
       "      <td>2.3</td>\n",
       "      <td>69.0</td>\n",
       "      <td>2.3</td>\n",
       "      <td>-30.0</td>\n",
       "      <td>69.0</td>\n",
       "      <td>2.3</td>\n",
       "      <td>False</td>\n",
       "    </tr>\n",
       "    <tr>\n",
       "      <th>3.9</th>\n",
       "      <td>3.9</td>\n",
       "      <td>117.0</td>\n",
       "      <td>3.9</td>\n",
       "      <td>-30.0</td>\n",
       "      <td>117.0</td>\n",
       "      <td>3.9</td>\n",
       "      <td>False</td>\n",
       "    </tr>\n",
       "    <tr>\n",
       "      <th>4.9</th>\n",
       "      <td>4.9</td>\n",
       "      <td>147.0</td>\n",
       "      <td>4.9</td>\n",
       "      <td>-30.0</td>\n",
       "      <td>147.0</td>\n",
       "      <td>4.9</td>\n",
       "      <td>False</td>\n",
       "    </tr>\n",
       "    <tr>\n",
       "      <th>5.7</th>\n",
       "      <td>5.7</td>\n",
       "      <td>171.0</td>\n",
       "      <td>5.7</td>\n",
       "      <td>-30.0</td>\n",
       "      <td>171.0</td>\n",
       "      <td>5.7</td>\n",
       "      <td>False</td>\n",
       "    </tr>\n",
       "    <tr>\n",
       "      <th>6.5</th>\n",
       "      <td>6.5</td>\n",
       "      <td>195.0</td>\n",
       "      <td>6.5</td>\n",
       "      <td>-30.0</td>\n",
       "      <td>195.0</td>\n",
       "      <td>6.5</td>\n",
       "      <td>False</td>\n",
       "    </tr>\n",
       "    <tr>\n",
       "      <th>7.3</th>\n",
       "      <td>7.3</td>\n",
       "      <td>219.0</td>\n",
       "      <td>7.3</td>\n",
       "      <td>-30.0</td>\n",
       "      <td>219.0</td>\n",
       "      <td>7.3</td>\n",
       "      <td>False</td>\n",
       "    </tr>\n",
       "  </tbody>\n",
       "</table>\n",
       "</div>"
      ],
      "text/plain": [
       "        V_vs[i]_[A]  V_vs[p]_[W]  Idload[c]_[A]  Idload[v]_[V]  Idload[p]_[W]  \\\n",
       "Idload                                                                          \n",
       "2.3             2.3         69.0            2.3          -30.0           69.0   \n",
       "3.9             3.9        117.0            3.9          -30.0          117.0   \n",
       "4.9             4.9        147.0            4.9          -30.0          147.0   \n",
       "5.7             5.7        171.0            5.7          -30.0          171.0   \n",
       "6.5             6.5        195.0            6.5          -30.0          195.0   \n",
       "7.3             7.3        219.0            7.3          -30.0          219.0   \n",
       "\n",
       "        Idload[A]_calc   Test  \n",
       "Idload                         \n",
       "2.3                2.3  False  \n",
       "3.9                3.9  False  \n",
       "4.9                4.9  False  \n",
       "5.7                5.7  False  \n",
       "6.5                6.5  False  \n",
       "7.3                7.3  False  "
      ]
     },
     "execution_count": 17,
     "metadata": {},
     "output_type": "execute_result"
    }
   ],
   "source": [
    "dc_sweep_int_data[dc_sweep_int_data['Test']==False]"
   ]
  },
  {
   "cell_type": "markdown",
   "metadata": {},
   "source": [
    " So why are these rows failing, while it helps to look at a single row since the display of a full table can hide information for presentation sakes. "
   ]
  },
  {
   "cell_type": "code",
   "execution_count": 18,
   "metadata": {},
   "outputs": [
    {
     "data": {
      "text/plain": [
       "V_vs[i]_[A]         10\n",
       "V_vs[p]_[W]        300\n",
       "Idload[c]_[A]       10\n",
       "Idload[v]_[V]      -30\n",
       "Idload[p]_[W]      300\n",
       "Idload[A]_calc      10\n",
       "Test              True\n",
       "Name: 9.99999999999998, dtype: object"
      ]
     },
     "execution_count": 18,
     "metadata": {},
     "output_type": "execute_result"
    }
   ],
   "source": [
    "dc_sweep_int_data.iloc[-1]"
   ]
  },
  {
   "cell_type": "markdown",
   "metadata": {},
   "source": [
    "We see instantly that the issue is that since SPICE uses things RK45 solvers and works with near arbitrarily small currents, it is going to report extremely precise values so that inputs, for lack of a better word, yield \"jittery\" results. So then we have to use some exploratory data analysis skills along with knowing when SPICE is giving us overkill answers to clarify this. Since we know SPICE is giving us overkill on the input and we don't care in this simulation for any values beyond 4 decimals (really 2 decimals) so that applying `np.around` allows equal value reporting between our swept current and measured current."
   ]
  },
  {
   "cell_type": "code",
   "execution_count": 19,
   "metadata": {},
   "outputs": [
    {
     "data": {
      "text/html": [
       "<div>\n",
       "<style scoped>\n",
       "    .dataframe tbody tr th:only-of-type {\n",
       "        vertical-align: middle;\n",
       "    }\n",
       "\n",
       "    .dataframe tbody tr th {\n",
       "        vertical-align: top;\n",
       "    }\n",
       "\n",
       "    .dataframe thead th {\n",
       "        text-align: right;\n",
       "    }\n",
       "</style>\n",
       "<table border=\"1\" class=\"dataframe\">\n",
       "  <thead>\n",
       "    <tr style=\"text-align: right;\">\n",
       "      <th></th>\n",
       "      <th>V_vs[i]_[A]</th>\n",
       "      <th>V_vs[p]_[W]</th>\n",
       "      <th>Idload[c]_[A]</th>\n",
       "      <th>Idload[v]_[V]</th>\n",
       "      <th>Idload[p]_[W]</th>\n",
       "      <th>Idload[A]_calc</th>\n",
       "      <th>Test</th>\n",
       "    </tr>\n",
       "    <tr>\n",
       "      <th>Idload</th>\n",
       "      <th></th>\n",
       "      <th></th>\n",
       "      <th></th>\n",
       "      <th></th>\n",
       "      <th></th>\n",
       "      <th></th>\n",
       "      <th></th>\n",
       "    </tr>\n",
       "  </thead>\n",
       "  <tbody>\n",
       "    <tr>\n",
       "      <th>0.0</th>\n",
       "      <td>-0.0</td>\n",
       "      <td>-0.0</td>\n",
       "      <td>0.0</td>\n",
       "      <td>-30.0</td>\n",
       "      <td>0.0</td>\n",
       "      <td>0.0</td>\n",
       "      <td>True</td>\n",
       "    </tr>\n",
       "    <tr>\n",
       "      <th>0.1</th>\n",
       "      <td>0.1</td>\n",
       "      <td>3.0</td>\n",
       "      <td>0.1</td>\n",
       "      <td>-30.0</td>\n",
       "      <td>3.0</td>\n",
       "      <td>0.1</td>\n",
       "      <td>True</td>\n",
       "    </tr>\n",
       "    <tr>\n",
       "      <th>0.2</th>\n",
       "      <td>0.2</td>\n",
       "      <td>6.0</td>\n",
       "      <td>0.2</td>\n",
       "      <td>-30.0</td>\n",
       "      <td>6.0</td>\n",
       "      <td>0.2</td>\n",
       "      <td>True</td>\n",
       "    </tr>\n",
       "    <tr>\n",
       "      <th>0.3</th>\n",
       "      <td>0.3</td>\n",
       "      <td>9.0</td>\n",
       "      <td>0.3</td>\n",
       "      <td>-30.0</td>\n",
       "      <td>9.0</td>\n",
       "      <td>0.3</td>\n",
       "      <td>True</td>\n",
       "    </tr>\n",
       "    <tr>\n",
       "      <th>0.4</th>\n",
       "      <td>0.4</td>\n",
       "      <td>12.0</td>\n",
       "      <td>0.4</td>\n",
       "      <td>-30.0</td>\n",
       "      <td>12.0</td>\n",
       "      <td>0.4</td>\n",
       "      <td>True</td>\n",
       "    </tr>\n",
       "    <tr>\n",
       "      <th>...</th>\n",
       "      <td>...</td>\n",
       "      <td>...</td>\n",
       "      <td>...</td>\n",
       "      <td>...</td>\n",
       "      <td>...</td>\n",
       "      <td>...</td>\n",
       "      <td>...</td>\n",
       "    </tr>\n",
       "    <tr>\n",
       "      <th>9.6</th>\n",
       "      <td>9.6</td>\n",
       "      <td>288.0</td>\n",
       "      <td>9.6</td>\n",
       "      <td>-30.0</td>\n",
       "      <td>288.0</td>\n",
       "      <td>9.6</td>\n",
       "      <td>True</td>\n",
       "    </tr>\n",
       "    <tr>\n",
       "      <th>9.7</th>\n",
       "      <td>9.7</td>\n",
       "      <td>291.0</td>\n",
       "      <td>9.7</td>\n",
       "      <td>-30.0</td>\n",
       "      <td>291.0</td>\n",
       "      <td>9.7</td>\n",
       "      <td>True</td>\n",
       "    </tr>\n",
       "    <tr>\n",
       "      <th>9.8</th>\n",
       "      <td>9.8</td>\n",
       "      <td>294.0</td>\n",
       "      <td>9.8</td>\n",
       "      <td>-30.0</td>\n",
       "      <td>294.0</td>\n",
       "      <td>9.8</td>\n",
       "      <td>True</td>\n",
       "    </tr>\n",
       "    <tr>\n",
       "      <th>9.9</th>\n",
       "      <td>9.9</td>\n",
       "      <td>297.0</td>\n",
       "      <td>9.9</td>\n",
       "      <td>-30.0</td>\n",
       "      <td>297.0</td>\n",
       "      <td>9.9</td>\n",
       "      <td>True</td>\n",
       "    </tr>\n",
       "    <tr>\n",
       "      <th>10.0</th>\n",
       "      <td>10.0</td>\n",
       "      <td>300.0</td>\n",
       "      <td>10.0</td>\n",
       "      <td>-30.0</td>\n",
       "      <td>300.0</td>\n",
       "      <td>10.0</td>\n",
       "      <td>True</td>\n",
       "    </tr>\n",
       "  </tbody>\n",
       "</table>\n",
       "<p>101 rows × 7 columns</p>\n",
       "</div>"
      ],
      "text/plain": [
       "        V_vs[i]_[A]  V_vs[p]_[W]  Idload[c]_[A]  Idload[v]_[V]  Idload[p]_[W]  \\\n",
       "Idload                                                                          \n",
       "0.0            -0.0         -0.0            0.0          -30.0            0.0   \n",
       "0.1             0.1          3.0            0.1          -30.0            3.0   \n",
       "0.2             0.2          6.0            0.2          -30.0            6.0   \n",
       "0.3             0.3          9.0            0.3          -30.0            9.0   \n",
       "0.4             0.4         12.0            0.4          -30.0           12.0   \n",
       "...             ...          ...            ...            ...            ...   \n",
       "9.6             9.6        288.0            9.6          -30.0          288.0   \n",
       "9.7             9.7        291.0            9.7          -30.0          291.0   \n",
       "9.8             9.8        294.0            9.8          -30.0          294.0   \n",
       "9.9             9.9        297.0            9.9          -30.0          297.0   \n",
       "10.0           10.0        300.0           10.0          -30.0          300.0   \n",
       "\n",
       "        Idload[A]_calc  Test  \n",
       "Idload                        \n",
       "0.0                0.0  True  \n",
       "0.1                0.1  True  \n",
       "0.2                0.2  True  \n",
       "0.3                0.3  True  \n",
       "0.4                0.4  True  \n",
       "...                ...   ...  \n",
       "9.6                9.6  True  \n",
       "9.7                9.7  True  \n",
       "9.8                9.8  True  \n",
       "9.9                9.9  True  \n",
       "10.0              10.0  True  \n",
       "\n",
       "[101 rows x 7 columns]"
      ]
     },
     "execution_count": 19,
     "metadata": {},
     "output_type": "execute_result"
    }
   ],
   "source": [
    "dc_sweep_int_data.index=np.around(dc_sweep_int_data.index, 4)\n",
    "dc_sweep_int_data['Idload[A]_calc']=np.around(dc_sweep_int_data['Idload[A]_calc'], 4)\n",
    "dc_sweep_int_data['Test']=(dc_sweep_int_data['Idload[A]_calc']==dc_sweep_int_data.index)\n",
    "dc_sweep_int_data"
   ]
  },
  {
   "cell_type": "code",
   "execution_count": 20,
   "metadata": {},
   "outputs": [
    {
     "data": {
      "text/html": [
       "<div>\n",
       "<style scoped>\n",
       "    .dataframe tbody tr th:only-of-type {\n",
       "        vertical-align: middle;\n",
       "    }\n",
       "\n",
       "    .dataframe tbody tr th {\n",
       "        vertical-align: top;\n",
       "    }\n",
       "\n",
       "    .dataframe thead th {\n",
       "        text-align: right;\n",
       "    }\n",
       "</style>\n",
       "<table border=\"1\" class=\"dataframe\">\n",
       "  <thead>\n",
       "    <tr style=\"text-align: right;\">\n",
       "      <th></th>\n",
       "      <th>V_vs[i]_[A]</th>\n",
       "      <th>V_vs[p]_[W]</th>\n",
       "      <th>Idload[c]_[A]</th>\n",
       "      <th>Idload[v]_[V]</th>\n",
       "      <th>Idload[p]_[W]</th>\n",
       "      <th>Idload[A]_calc</th>\n",
       "      <th>Test</th>\n",
       "    </tr>\n",
       "    <tr>\n",
       "      <th>Idload</th>\n",
       "      <th></th>\n",
       "      <th></th>\n",
       "      <th></th>\n",
       "      <th></th>\n",
       "      <th></th>\n",
       "      <th></th>\n",
       "      <th></th>\n",
       "    </tr>\n",
       "  </thead>\n",
       "  <tbody>\n",
       "  </tbody>\n",
       "</table>\n",
       "</div>"
      ],
      "text/plain": [
       "Empty DataFrame\n",
       "Columns: [V_vs[i]_[A], V_vs[p]_[W], Idload[c]_[A], Idload[v]_[V], Idload[p]_[W], Idload[A]_calc, Test]\n",
       "Index: []"
      ]
     },
     "execution_count": 20,
     "metadata": {},
     "output_type": "execute_result"
    }
   ],
   "source": [
    "dc_sweep_int_data[dc_sweep_int_data['Test']==False]"
   ]
  },
  {
   "cell_type": "markdown",
   "metadata": {},
   "source": [
    "And finally we need to test every future so lets make the quick plots."
   ]
  },
  {
   "cell_type": "code",
   "execution_count": 21,
   "metadata": {},
   "outputs": [
    {
     "data": {
      "image/png": "[encoded data removed]",
      "text/plain": [
       "<Figure size 432x288 with 2 Axes>"
      ]
     },
     "metadata": {
      "needs_background": "light"
     },
     "output_type": "display_data"
    }
   ],
   "source": [
    "dc_sweep.quick_plot()"
   ]
  },
  {
   "cell_type": "code",
   "execution_count": 22,
   "metadata": {},
   "outputs": [
    {
     "data": {
      "image/png": "[encoded data removed]",
      "text/plain": [
       "<Figure size 432x288 with 6 Axes>"
      ]
     },
     "metadata": {
      "needs_background": "light"
     },
     "output_type": "display_data"
    }
   ],
   "source": [
    "dc_sweep.quick_plot('int')"
   ]
  },
  {
   "cell_type": "markdown",
   "metadata": {},
   "source": [
    "# Ideal Current Source¶\n",
    "Since we are talking about ideal vs non-ideal sources, we should look at the current complement to the voltage case and use our new tool to automate as much as we can."
   ]
  },
  {
   "cell_type": "code",
   "execution_count": 23,
   "metadata": {},
   "outputs": [
    {
     "name": "stdout",
     "output_type": "stream",
     "text": [
      ".title \n",
      "I_cs 0 N_1 10mA\n",
      "Vddrop N_1 0 1V\n",
      "\n"
     ]
    },
    {
     "name": "stderr",
     "output_type": "stream",
     "text": [
      "\n",
      "No errors or warnings found during netlist generation.\n",
      "\n"
     ]
    }
   ],
   "source": [
    "reset()\n",
    "cs=I(ref='_cs', dc_value=10@u_mA)\n",
    "\n",
    "dummy_drop=V(ref='ddrop', dc_value=1@u_V)\n",
    "\n",
    "cs['p']+=gnd\n",
    "#ideal_rpar[1, 2]+=cs['n'], gnd\n",
    "dummy_drop['p', 'n']+=cs['n'], gnd\n",
    "\n",
    "circ=generate_netlist()\n",
    "print(circ)"
   ]
  },
  {
   "cell_type": "code",
   "execution_count": 24,
   "metadata": {},
   "outputs": [
    {
     "data": {
      "text/html": [
       "<div>\n",
       "<style scoped>\n",
       "    .dataframe tbody tr th:only-of-type {\n",
       "        vertical-align: middle;\n",
       "    }\n",
       "\n",
       "    .dataframe tbody tr th {\n",
       "        vertical-align: top;\n",
       "    }\n",
       "\n",
       "    .dataframe thead th {\n",
       "        text-align: right;\n",
       "    }\n",
       "</style>\n",
       "<table border=\"1\" class=\"dataframe\">\n",
       "  <thead>\n",
       "    <tr style=\"text-align: right;\">\n",
       "      <th></th>\n",
       "      <th>Start</th>\n",
       "      <th>Stop</th>\n",
       "      <th>Step</th>\n",
       "    </tr>\n",
       "    <tr>\n",
       "      <th>Element</th>\n",
       "      <th></th>\n",
       "      <th></th>\n",
       "      <th></th>\n",
       "    </tr>\n",
       "  </thead>\n",
       "  <tbody>\n",
       "    <tr>\n",
       "      <th>I_cs</th>\n",
       "      <td>NaN</td>\n",
       "      <td>NaN</td>\n",
       "      <td>NaN</td>\n",
       "    </tr>\n",
       "    <tr>\n",
       "      <th>Vddrop</th>\n",
       "      <td>NaN</td>\n",
       "      <td>NaN</td>\n",
       "      <td>NaN</td>\n",
       "    </tr>\n",
       "  </tbody>\n",
       "</table>\n",
       "</div>"
      ],
      "text/plain": [
       "        Start Stop Step\n",
       "Element                \n",
       "I_cs      NaN  NaN  NaN\n",
       "Vddrop    NaN  NaN  NaN"
      ]
     },
     "execution_count": 24,
     "metadata": {},
     "output_type": "execute_result"
    }
   ],
   "source": [
    "dc_sweep=dc_ease(circ)\n",
    "dc_sweep.sweep_DF"
   ]
  },
  {
   "cell_type": "code",
   "execution_count": 25,
   "metadata": {},
   "outputs": [
    {
     "name": "stderr",
     "output_type": "stream",
     "text": [
      "Unit is None for @i_cs[p] power\n",
      "Unit is None for @vddrop[p] power\n"
     ]
    }
   ],
   "source": [
    "dc_sweep.sweep_DF.at['Vddrop']=0, 10, 0.1\n",
    "dc_sweep.do_dc_intsim('Vddrop')\n",
    "ideal_cur_res=dc_sweep.dc_resultsINT_DF"
   ]
  },
  {
   "cell_type": "code",
   "execution_count": 26,
   "metadata": {},
   "outputs": [
    {
     "data": {
      "text/html": [
       "<div>\n",
       "<style scoped>\n",
       "    .dataframe tbody tr th:only-of-type {\n",
       "        vertical-align: middle;\n",
       "    }\n",
       "\n",
       "    .dataframe tbody tr th {\n",
       "        vertical-align: top;\n",
       "    }\n",
       "\n",
       "    .dataframe thead th {\n",
       "        text-align: right;\n",
       "    }\n",
       "</style>\n",
       "<table border=\"1\" class=\"dataframe\">\n",
       "  <thead>\n",
       "    <tr style=\"text-align: right;\">\n",
       "      <th></th>\n",
       "      <th>I_cs[c]_[A]</th>\n",
       "      <th>I_cs[v]_[V]</th>\n",
       "      <th>I_cs[p]_[W]</th>\n",
       "      <th>Vddrop[i]_[A]</th>\n",
       "      <th>Vddrop[p]_[W]</th>\n",
       "    </tr>\n",
       "    <tr>\n",
       "      <th>Vddrop</th>\n",
       "      <th></th>\n",
       "      <th></th>\n",
       "      <th></th>\n",
       "      <th></th>\n",
       "      <th></th>\n",
       "    </tr>\n",
       "  </thead>\n",
       "  <tbody>\n",
       "    <tr>\n",
       "      <th>0.0</th>\n",
       "      <td>0.01</td>\n",
       "      <td>0.0</td>\n",
       "      <td>-0.000</td>\n",
       "      <td>-0.01</td>\n",
       "      <td>-0.000</td>\n",
       "    </tr>\n",
       "    <tr>\n",
       "      <th>0.1</th>\n",
       "      <td>0.01</td>\n",
       "      <td>0.1</td>\n",
       "      <td>-0.001</td>\n",
       "      <td>-0.01</td>\n",
       "      <td>-0.001</td>\n",
       "    </tr>\n",
       "    <tr>\n",
       "      <th>0.2</th>\n",
       "      <td>0.01</td>\n",
       "      <td>0.2</td>\n",
       "      <td>-0.002</td>\n",
       "      <td>-0.01</td>\n",
       "      <td>-0.002</td>\n",
       "    </tr>\n",
       "    <tr>\n",
       "      <th>0.3</th>\n",
       "      <td>0.01</td>\n",
       "      <td>0.3</td>\n",
       "      <td>-0.003</td>\n",
       "      <td>-0.01</td>\n",
       "      <td>-0.003</td>\n",
       "    </tr>\n",
       "    <tr>\n",
       "      <th>0.4</th>\n",
       "      <td>0.01</td>\n",
       "      <td>0.4</td>\n",
       "      <td>-0.004</td>\n",
       "      <td>-0.01</td>\n",
       "      <td>-0.004</td>\n",
       "    </tr>\n",
       "    <tr>\n",
       "      <th>...</th>\n",
       "      <td>...</td>\n",
       "      <td>...</td>\n",
       "      <td>...</td>\n",
       "      <td>...</td>\n",
       "      <td>...</td>\n",
       "    </tr>\n",
       "    <tr>\n",
       "      <th>9.6</th>\n",
       "      <td>0.01</td>\n",
       "      <td>9.6</td>\n",
       "      <td>-0.096</td>\n",
       "      <td>-0.01</td>\n",
       "      <td>-0.096</td>\n",
       "    </tr>\n",
       "    <tr>\n",
       "      <th>9.7</th>\n",
       "      <td>0.01</td>\n",
       "      <td>9.7</td>\n",
       "      <td>-0.097</td>\n",
       "      <td>-0.01</td>\n",
       "      <td>-0.097</td>\n",
       "    </tr>\n",
       "    <tr>\n",
       "      <th>9.8</th>\n",
       "      <td>0.01</td>\n",
       "      <td>9.8</td>\n",
       "      <td>-0.098</td>\n",
       "      <td>-0.01</td>\n",
       "      <td>-0.098</td>\n",
       "    </tr>\n",
       "    <tr>\n",
       "      <th>9.9</th>\n",
       "      <td>0.01</td>\n",
       "      <td>9.9</td>\n",
       "      <td>-0.099</td>\n",
       "      <td>-0.01</td>\n",
       "      <td>-0.099</td>\n",
       "    </tr>\n",
       "    <tr>\n",
       "      <th>10.0</th>\n",
       "      <td>0.01</td>\n",
       "      <td>10.0</td>\n",
       "      <td>-0.100</td>\n",
       "      <td>-0.01</td>\n",
       "      <td>-0.100</td>\n",
       "    </tr>\n",
       "  </tbody>\n",
       "</table>\n",
       "<p>101 rows × 5 columns</p>\n",
       "</div>"
      ],
      "text/plain": [
       "        I_cs[c]_[A]  I_cs[v]_[V]  I_cs[p]_[W]  Vddrop[i]_[A]  Vddrop[p]_[W]\n",
       "Vddrop                                                                     \n",
       "0.0            0.01          0.0       -0.000          -0.01         -0.000\n",
       "0.1            0.01          0.1       -0.001          -0.01         -0.001\n",
       "0.2            0.01          0.2       -0.002          -0.01         -0.002\n",
       "0.3            0.01          0.3       -0.003          -0.01         -0.003\n",
       "0.4            0.01          0.4       -0.004          -0.01         -0.004\n",
       "...             ...          ...          ...            ...            ...\n",
       "9.6            0.01          9.6       -0.096          -0.01         -0.096\n",
       "9.7            0.01          9.7       -0.097          -0.01         -0.097\n",
       "9.8            0.01          9.8       -0.098          -0.01         -0.098\n",
       "9.9            0.01          9.9       -0.099          -0.01         -0.099\n",
       "10.0           0.01         10.0       -0.100          -0.01         -0.100\n",
       "\n",
       "[101 rows x 5 columns]"
      ]
     },
     "execution_count": 26,
     "metadata": {},
     "output_type": "execute_result"
    }
   ],
   "source": [
    "ideal_cur_res"
   ]
  },
  {
   "cell_type": "markdown",
   "metadata": {},
   "source": [
    "Before we get to the plot, let discuss something. There are two schools of thought when plotting things in EE. The first school is that the independent variable should be on the x-axis and the dependent variables should be on the y axis. The other school of thought is when comparing apples to oranges pick an axis convention and stick with it. In this book, we use both since it just a matter of context, and plots are cheap to make with a computer. For comparing voltage sources and current sources were going with the \"apples to oranges\" convention. But beware when doing this you need to make your axis labels explicit as to what are the independent and dependent variables for each plot that is made."
   ]
  },
  {
   "cell_type": "code",
   "execution_count": 27,
   "metadata": {},
   "outputs": [
    {
     "data": {
      "image/png": "[encoded data removed]",
      "text/plain": [
       "<Figure size 432x288 with 1 Axes>"
      ]
     },
     "metadata": {
      "needs_background": "light"
     },
     "output_type": "display_data"
    }
   ],
   "source": [
    "plt.plot(ideal_cur_res['I_cs[c]_[A]'], ideal_cur_res.index)\n",
    "plt.xlabel('Source Current [A]'); plt.ylabel('Load Voltage Drop [V]')\n",
    "plt.grid()\n",
    "plt.title('Ideal Current Source responce to a load voltage drop');"
   ]
  },
  {
   "cell_type": "markdown",
   "metadata": {},
   "source": [
    "# First testbench element¶"
   ]
  },
  {
   "cell_type": "markdown",
   "metadata": {},
   "source": [
    "So first of all a physical testbench is setup with some way to probe signals into and out of a Device Under Test (DUT) where those signals are souced and read in by various instruments. The whole setup is called a test suite. Thus far we have been creating the test measurement tools with kladjlkadlfkjaldjk. We will get into test suite development when we combine a SPICE measurement,  analysis routine, along with a test bench built into a single tool. For now, let’s focus on creating testbenchs.\n",
    "\n",
    "The first testbenchs we are going to build are non-ideal sources. So why in the world would we want these. While ideal sources don't exist outside of SPICE and SPICE ultimately doesn't pay the bills, the physical PCB and Silicon produced and being able to be sold pays the bills. So you better verify to what degrees your circuits can deal with less than ideal sources. Now traditionally one would have to redraw parts of the circuit to convert the ideal source to non-ideal sources and then be careful that the elements that make a source non-ideal don't get place and routed. And one would have to do this for every source, yuck! But this is Python so we can create a reusable way to generate non-ideal sources with functions or classes and then just deploy. When SKiDl gets the means to remove elements and connections the power to replace the ideal source with a non-ideal source and hook up any other sort of testbench will be immense.\n",
    "\n",
    "So how do we create a function that will do this magic of instantly producing a simple non-ideal source lets make a testbench a non-ideal voltage source and see.\n"
   ]
  },
  {
   "cell_type": "markdown",
   "metadata": {},
   "source": [
    "## Non-Ideal Voltage  Source Testbench¶"
   ]
  },
  {
   "cell_type": "code",
   "execution_count": 28,
   "metadata": {
    "code_folding": [
     0
    ]
   },
   "outputs": [],
   "source": [
    "#%%writefile -a DC_1_Codes.py\n",
    "\n",
    "#chapter 1 section 3 real_dcVs subcircuit function\n",
    "# SKiDl subcirucit to create a dc voltage source with \n",
    "# added series resistor\n",
    "\n",
    "\n",
    "@subcircuit\n",
    "def real_dcVs(global_ref, pos_term, neg_term, starting_V=1@u_V, starting_R=50@u_Ohm, \n",
    "           return_internls=False):\n",
    "    \"\"\"\n",
    "    SKiDl subcircuit to create a simple non-ideal DC voltage source\n",
    "    \n",
    "    Args:\n",
    "        global_ref (str): reference to use for the base of the internal elements\n",
    "        \n",
    "        pos_term (SKiDl net or pin): positive terminal of the nonideal voltage source\n",
    "            to connect to the rest of the circuit\n",
    "        \n",
    "        neg_term (SKiDl net or pin): negative terminal of the nonideal voltage source\n",
    "            to connect to the rest of the circuit \n",
    "        \n",
    "        starting_V (float; 1; Volts):the intial DC voltage to set the internal ideal\n",
    "            the voltage source in this package to\n",
    "        \n",
    "        starting_R (float; 50; Ohm): the initial resistance to set the internal\n",
    "            serial resistance to the ideal voltage source in this subcircuit to\n",
    "        \n",
    "        return_internls (bool; False): If True return out the internal Voltage Source,\n",
    "            and Resistance objects in this package\n",
    "    \n",
    "    Returns:\n",
    "        Returns it's self a SKiDl part element object and if `return_internls`\n",
    "        is True will return the internal voltage and resistance objects in that order \n",
    "    \"\"\"\n",
    "    vs=V(ref=f'V_{global_ref}', dc_value=starting_V)\n",
    "    rs=R(ref=f'R_{global_ref}', value=starting_R)\n",
    "    \n",
    "    vs['p', 'n']+=rs[1], neg_term\n",
    "    rs[2]+=pos_term\n",
    "    \n",
    "    if return_internls:\n",
    "        return vs, rs\n"
   ]
  },
  {
   "cell_type": "markdown",
   "metadata": {},
   "source": [
    "The first line of code `@subcircuit` is called a decorator and for our purposes, it just says to Python that whatever function we wite below the decorator is imbued with enhancements defined by `@subcircuit` definition in SKiDl.\n",
    "\n",
    "Then for our function arguments, we use a lot of generic arguments for things like voltage, resistance, and the base name of the elements in our subcircuit. But for a subcircuit to be a subcircuit, it must connect to the rest of the circuit. So we need to have arguments that will act as pass-throughs for a net connection to be made to where we want our external terminals to be. In this case, we have two terminals. The positive one `pos_term` acts as the terminal to our positive output at the end of the subcircuit’s series resistors `rs`. And neg_term is the corresponding terminal to the negative side of the subcircuit’s `vs`. Now for this testbench subcircuit, we have also included a control `return_internls` to return the internal created objects so that we can grab them in python to have more refined control over them before we create the netlist. Whether we grab the internally created elements or not has no consequences on the final netlist."
   ]
  },
  {
   "cell_type": "code",
   "execution_count": 29,
   "metadata": {
    "scrolled": true
   },
   "outputs": [
    {
     "name": "stdout",
     "output_type": "stream",
     "text": [
      ".title \n",
      "R_real_vs N_1 N_2 20Ohm\n",
      "V_real_vs N_1 0 30V\n",
      "Idload N_2 0 1A\n",
      "\n"
     ]
    },
    {
     "name": "stderr",
     "output_type": "stream",
     "text": [
      "\n",
      "No errors or warnings found during netlist generation.\n",
      "\n"
     ]
    },
    {
     "data": {
      "text/html": [
       "<div>\n",
       "<style scoped>\n",
       "    .dataframe tbody tr th:only-of-type {\n",
       "        vertical-align: middle;\n",
       "    }\n",
       "\n",
       "    .dataframe tbody tr th {\n",
       "        vertical-align: top;\n",
       "    }\n",
       "\n",
       "    .dataframe thead th {\n",
       "        text-align: right;\n",
       "    }\n",
       "</style>\n",
       "<table border=\"1\" class=\"dataframe\">\n",
       "  <thead>\n",
       "    <tr style=\"text-align: right;\">\n",
       "      <th></th>\n",
       "      <th>Start</th>\n",
       "      <th>Stop</th>\n",
       "      <th>Step</th>\n",
       "    </tr>\n",
       "    <tr>\n",
       "      <th>Element</th>\n",
       "      <th></th>\n",
       "      <th></th>\n",
       "      <th></th>\n",
       "    </tr>\n",
       "  </thead>\n",
       "  <tbody>\n",
       "    <tr>\n",
       "      <th>V_real_vs</th>\n",
       "      <td>NaN</td>\n",
       "      <td>NaN</td>\n",
       "      <td>NaN</td>\n",
       "    </tr>\n",
       "    <tr>\n",
       "      <th>Idload</th>\n",
       "      <td>NaN</td>\n",
       "      <td>NaN</td>\n",
       "      <td>NaN</td>\n",
       "    </tr>\n",
       "  </tbody>\n",
       "</table>\n",
       "</div>"
      ],
      "text/plain": [
       "          Start Stop Step\n",
       "Element                  \n",
       "V_real_vs   NaN  NaN  NaN\n",
       "Idload      NaN  NaN  NaN"
      ]
     },
     "execution_count": 29,
     "metadata": {},
     "output_type": "execute_result"
    }
   ],
   "source": [
    "reset()\n",
    "dummy_load=I(ref='dload', dc_value=1@u_A); dummy_load['n']+=gnd\n",
    "\n",
    "#invoke our subscript and for kicks have it return the internals to external variables\n",
    "#that could be fine-tuned outside of there invocation inside the subcircuit\n",
    "real_vss, real_vsr=real_dcVs('real_vs', dummy_load['p'], gnd, 30@u_V, 20@u_Ohm, True)\n",
    "\n",
    "circ=generate_netlist()\n",
    "print(circ)\n",
    "\n",
    "dc_sweep=dc_ease(circ)\n",
    "dc_sweep.sweep_DF\n"
   ]
  },
  {
   "cell_type": "code",
   "execution_count": 30,
   "metadata": {},
   "outputs": [
    {
     "data": {
      "image/png": "[encoded data removed]",
      "text/plain": [
       "<Figure size 432x288 with 3 Axes>"
      ]
     },
     "metadata": {
      "needs_background": "light"
     },
     "output_type": "display_data"
    }
   ],
   "source": [
    "#perform the simulation\n",
    "dc_sweep.sweep_DF.at[get_skidl_spice_ref(dummy_load)]=[0, 10, 0.1]\n",
    "dc_sweep.do_dc_sim(get_skidl_spice_ref(dummy_load))\n",
    "dc_sweep.quick_plot()"
   ]
  },
  {
   "cell_type": "code",
   "execution_count": 31,
   "metadata": {},
   "outputs": [
    {
     "data": {
      "text/html": [
       "<div>\n",
       "<style scoped>\n",
       "    .dataframe tbody tr th:only-of-type {\n",
       "        vertical-align: middle;\n",
       "    }\n",
       "\n",
       "    .dataframe tbody tr th {\n",
       "        vertical-align: top;\n",
       "    }\n",
       "\n",
       "    .dataframe thead th {\n",
       "        text-align: right;\n",
       "    }\n",
       "</style>\n",
       "<table border=\"1\" class=\"dataframe\">\n",
       "  <thead>\n",
       "    <tr style=\"text-align: right;\">\n",
       "      <th></th>\n",
       "      <th>N_1_[V]</th>\n",
       "      <th>N_2_[V]</th>\n",
       "      <th>V_real_vs_[A]</th>\n",
       "    </tr>\n",
       "    <tr>\n",
       "      <th>Idload</th>\n",
       "      <th></th>\n",
       "      <th></th>\n",
       "      <th></th>\n",
       "    </tr>\n",
       "  </thead>\n",
       "  <tbody>\n",
       "    <tr>\n",
       "      <th>0.0</th>\n",
       "      <td>30.0</td>\n",
       "      <td>30.0</td>\n",
       "      <td>-0.0</td>\n",
       "    </tr>\n",
       "    <tr>\n",
       "      <th>0.1</th>\n",
       "      <td>30.0</td>\n",
       "      <td>28.0</td>\n",
       "      <td>0.1</td>\n",
       "    </tr>\n",
       "    <tr>\n",
       "      <th>0.2</th>\n",
       "      <td>30.0</td>\n",
       "      <td>26.0</td>\n",
       "      <td>0.2</td>\n",
       "    </tr>\n",
       "    <tr>\n",
       "      <th>0.3</th>\n",
       "      <td>30.0</td>\n",
       "      <td>24.0</td>\n",
       "      <td>0.3</td>\n",
       "    </tr>\n",
       "    <tr>\n",
       "      <th>0.4</th>\n",
       "      <td>30.0</td>\n",
       "      <td>22.0</td>\n",
       "      <td>0.4</td>\n",
       "    </tr>\n",
       "    <tr>\n",
       "      <th>...</th>\n",
       "      <td>...</td>\n",
       "      <td>...</td>\n",
       "      <td>...</td>\n",
       "    </tr>\n",
       "    <tr>\n",
       "      <th>9.6</th>\n",
       "      <td>30.0</td>\n",
       "      <td>-162.0</td>\n",
       "      <td>9.6</td>\n",
       "    </tr>\n",
       "    <tr>\n",
       "      <th>9.7</th>\n",
       "      <td>30.0</td>\n",
       "      <td>-164.0</td>\n",
       "      <td>9.7</td>\n",
       "    </tr>\n",
       "    <tr>\n",
       "      <th>9.8</th>\n",
       "      <td>30.0</td>\n",
       "      <td>-166.0</td>\n",
       "      <td>9.8</td>\n",
       "    </tr>\n",
       "    <tr>\n",
       "      <th>9.9</th>\n",
       "      <td>30.0</td>\n",
       "      <td>-168.0</td>\n",
       "      <td>9.9</td>\n",
       "    </tr>\n",
       "    <tr>\n",
       "      <th>10.0</th>\n",
       "      <td>30.0</td>\n",
       "      <td>-170.0</td>\n",
       "      <td>10.0</td>\n",
       "    </tr>\n",
       "  </tbody>\n",
       "</table>\n",
       "<p>101 rows × 3 columns</p>\n",
       "</div>"
      ],
      "text/plain": [
       "        N_1_[V]  N_2_[V]  V_real_vs_[A]\n",
       "Idload                                 \n",
       "0.0        30.0     30.0           -0.0\n",
       "0.1        30.0     28.0            0.1\n",
       "0.2        30.0     26.0            0.2\n",
       "0.3        30.0     24.0            0.3\n",
       "0.4        30.0     22.0            0.4\n",
       "...         ...      ...            ...\n",
       "9.6        30.0   -162.0            9.6\n",
       "9.7        30.0   -164.0            9.7\n",
       "9.8        30.0   -166.0            9.8\n",
       "9.9        30.0   -168.0            9.9\n",
       "10.0       30.0   -170.0           10.0\n",
       "\n",
       "[101 rows x 3 columns]"
      ]
     },
     "execution_count": 31,
     "metadata": {},
     "output_type": "execute_result"
    }
   ],
   "source": [
    "#collect the results \n",
    "real_vs_data=dc_sweep.dc_resultsNB_DF\n",
    "real_vs_data"
   ]
  },
  {
   "cell_type": "code",
   "execution_count": 32,
   "metadata": {},
   "outputs": [
    {
     "data": {
      "text/plain": [
       "Text(0.5, 1.0, 'Ideal and Non-Ideal Voltage Source response to load')"
      ]
     },
     "execution_count": 32,
     "metadata": {},
     "output_type": "execute_result"
    },
    {
     "data": {
      "image/png": "[encoded data removed]",
      "text/plain": [
       "<Figure size 432x288 with 1 Axes>"
      ]
     },
     "metadata": {
      "needs_background": "light"
     },
     "output_type": "display_data"
    }
   ],
   "source": [
    "#make the plot\n",
    "niv_voltage=real_vs_data[node(dummy_load['p'])+'_[V]']\n",
    "niv_current=real_vs_data.index\n",
    "#plot the old ideal voltage source\n",
    "plt.plot(iv_current, iv_voltage, label='Ideal V Souce')\n",
    "#plot the newly found non-ideal voltage source\n",
    "plt.plot(niv_current, niv_voltage, label='NON-Ideal V Souce')\n",
    "\n",
    "plt.xlabel('Load Draw [A]'); plt.ylabel('Source Voltage [V]')\n",
    "plt.xlabel('Load Draw [A]'); plt.ylabel('Source Voltage [V]')\n",
    "\n",
    "plt.grid()\n",
    "plt.legend()\n",
    "plt.title('Ideal and Non-Ideal Voltage Source response to load')\n"
   ]
  },
  {
   "cell_type": "markdown",
   "metadata": {},
   "source": [
    "And because of the scaling, we can't really see that the ideal source is at 30V but by plotting the old and new data we can see what effect adding the serial resistance to make the voltage source non-ideal has done."
   ]
  },
  {
   "cell_type": "markdown",
   "metadata": {},
   "source": [
    "## Non-Ideal Current Source Testbench¶\n",
    "It's typically a good idea if the investment is low enough to make the V-I dual to whatever you have made. So why not,  cause again this is code we can have on hand and call up whenever needed. Opposed to finding and redrawing every single source in a schematic."
   ]
  },
  {
   "cell_type": "code",
   "execution_count": 33,
   "metadata": {
    "code_folding": [
     0
    ]
   },
   "outputs": [],
   "source": [
    "#%%writefile -a DC_1_Codes.py\n",
    "\n",
    "#chapter 1 section 3 real_dcIs subcircuit function\n",
    "# SKiDl subcirucit to create a dc current source with \n",
    "# added parallel resistor\n",
    "\n",
    "@subcircuit\n",
    "def real_dcIs(global_ref, pos_term, neg_term, starting_I=1@u_A, starting_R=50@u_Ohm, \n",
    "           return_internls=False):\n",
    "    \"\"\"\n",
    "    SKiDl subcircuit to create a simple non-ideal DC current source.\n",
    "    Where the positive terminal is to the top of the arrow of a schematically drawn\n",
    "    current source\n",
    "    \n",
    "    Args:\n",
    "        global_ref (str): reference to use for the base of the internal elements\n",
    "        \n",
    "        pos_term (SKiDl net or pin): positive terminal of the nonideal voltage source\n",
    "            to connect to the rest of the circuit \n",
    "        \n",
    "        neg_term (SKiDl net or pin): negative terminal of the nonideal voltage source\n",
    "            to connect to the rest of the circuit \n",
    "        \n",
    "        starting_V (float; 1; Amps): the initial DC current to set the internal ideal\n",
    "            the current source in this package to\n",
    "        \n",
    "        starting_R (float; 50; Ohm): the initial resistance to set the internal\n",
    "            parral resistance to the ideal current source in this subcircuit to\n",
    "        \n",
    "        return_internls (bool; False): If True return out the internal Voltage Source,\n",
    "            and Resistance objects in this package\n",
    "    \n",
    "    Returns:\n",
    "        Returns it's self a SKiDl part element object and if `return_internls`\n",
    "        is True will return the internal voltage and resistance objects in that order \n",
    "    \"\"\"\n",
    "    cs=I(ref=f'I_{global_ref}', dc_value=starting_I)\n",
    "    rp=R(ref=f'R_{global_ref}', value=starting_R)\n",
    "    \n",
    "    cs['p', 'n'] | rp[2, 1]\n",
    "    rp[1, 2]+=pos_term, neg_term\n",
    "    \n",
    "    if return_internls:\n",
    "        return cs, rp\n"
   ]
  },
  {
   "cell_type": "code",
   "execution_count": 34,
   "metadata": {},
   "outputs": [
    {
     "name": "stdout",
     "output_type": "stream",
     "text": [
      ".title \n",
      "I_real_cs 0 N_2 10mA\n",
      "R_real_cs N_2 0 10MegOhm\n",
      "Vddrop N_2 0 1V\n",
      "\n"
     ]
    },
    {
     "name": "stderr",
     "output_type": "stream",
     "text": [
      "\n",
      "No errors or warnings found during netlist generation.\n",
      "\n"
     ]
    }
   ],
   "source": [
    "reset()\n",
    "dummy_drop=V(ref='ddrop', dc_value=1@u_V); dummy_drop['n']+=gnd\n",
    "real_css, real_csr=real_dcIs('real_cs', dummy_drop['p'], gnd, 10@u_mA, 10@u_MOhm, True)\n",
    "circ=generate_netlist()\n",
    "print(circ)\n"
   ]
  },
  {
   "cell_type": "code",
   "execution_count": 35,
   "metadata": {},
   "outputs": [
    {
     "name": "stderr",
     "output_type": "stream",
     "text": [
      "Unit is None for @vddrop[p] power\n",
      "Unit is None for @r_real_cs[p] power\n",
      "Unit is None for @i_real_cs[p] power\n"
     ]
    },
    {
     "data": {
      "text/html": [
       "<div>\n",
       "<style scoped>\n",
       "    .dataframe tbody tr th:only-of-type {\n",
       "        vertical-align: middle;\n",
       "    }\n",
       "\n",
       "    .dataframe tbody tr th {\n",
       "        vertical-align: top;\n",
       "    }\n",
       "\n",
       "    .dataframe thead th {\n",
       "        text-align: right;\n",
       "    }\n",
       "</style>\n",
       "<table border=\"1\" class=\"dataframe\">\n",
       "  <thead>\n",
       "    <tr style=\"text-align: right;\">\n",
       "      <th></th>\n",
       "      <th>I_real_cs[c]_[A]</th>\n",
       "      <th>I_real_cs[v]_[V]</th>\n",
       "      <th>I_real_cs[p]_[W]</th>\n",
       "      <th>R_real_cs[i]_[A]</th>\n",
       "      <th>R_real_cs[p]_[W]</th>\n",
       "      <th>Vddrop[i]_[A]</th>\n",
       "      <th>Vddrop[p]_[W]</th>\n",
       "    </tr>\n",
       "    <tr>\n",
       "      <th>Vddrop</th>\n",
       "      <th></th>\n",
       "      <th></th>\n",
       "      <th></th>\n",
       "      <th></th>\n",
       "      <th></th>\n",
       "      <th></th>\n",
       "      <th></th>\n",
       "    </tr>\n",
       "  </thead>\n",
       "  <tbody>\n",
       "    <tr>\n",
       "      <th>0.0</th>\n",
       "      <td>0.01</td>\n",
       "      <td>0.0</td>\n",
       "      <td>-0.000</td>\n",
       "      <td>0.000000e+00</td>\n",
       "      <td>0.000000e+00</td>\n",
       "      <td>-0.010000</td>\n",
       "      <td>-0.000000</td>\n",
       "    </tr>\n",
       "    <tr>\n",
       "      <th>0.1</th>\n",
       "      <td>0.01</td>\n",
       "      <td>0.1</td>\n",
       "      <td>-0.001</td>\n",
       "      <td>1.000000e-08</td>\n",
       "      <td>1.000000e-09</td>\n",
       "      <td>-0.010000</td>\n",
       "      <td>-0.001000</td>\n",
       "    </tr>\n",
       "    <tr>\n",
       "      <th>0.2</th>\n",
       "      <td>0.01</td>\n",
       "      <td>0.2</td>\n",
       "      <td>-0.002</td>\n",
       "      <td>2.000000e-08</td>\n",
       "      <td>4.000000e-09</td>\n",
       "      <td>-0.010000</td>\n",
       "      <td>-0.002000</td>\n",
       "    </tr>\n",
       "    <tr>\n",
       "      <th>0.3</th>\n",
       "      <td>0.01</td>\n",
       "      <td>0.3</td>\n",
       "      <td>-0.003</td>\n",
       "      <td>3.000000e-08</td>\n",
       "      <td>9.000000e-09</td>\n",
       "      <td>-0.010000</td>\n",
       "      <td>-0.003000</td>\n",
       "    </tr>\n",
       "    <tr>\n",
       "      <th>0.4</th>\n",
       "      <td>0.01</td>\n",
       "      <td>0.4</td>\n",
       "      <td>-0.004</td>\n",
       "      <td>4.000000e-08</td>\n",
       "      <td>1.600000e-08</td>\n",
       "      <td>-0.010000</td>\n",
       "      <td>-0.004000</td>\n",
       "    </tr>\n",
       "    <tr>\n",
       "      <th>...</th>\n",
       "      <td>...</td>\n",
       "      <td>...</td>\n",
       "      <td>...</td>\n",
       "      <td>...</td>\n",
       "      <td>...</td>\n",
       "      <td>...</td>\n",
       "      <td>...</td>\n",
       "    </tr>\n",
       "    <tr>\n",
       "      <th>9.6</th>\n",
       "      <td>0.01</td>\n",
       "      <td>9.6</td>\n",
       "      <td>-0.096</td>\n",
       "      <td>9.600000e-07</td>\n",
       "      <td>9.216000e-06</td>\n",
       "      <td>-0.009999</td>\n",
       "      <td>-0.095991</td>\n",
       "    </tr>\n",
       "    <tr>\n",
       "      <th>9.7</th>\n",
       "      <td>0.01</td>\n",
       "      <td>9.7</td>\n",
       "      <td>-0.097</td>\n",
       "      <td>9.700000e-07</td>\n",
       "      <td>9.409000e-06</td>\n",
       "      <td>-0.009999</td>\n",
       "      <td>-0.096991</td>\n",
       "    </tr>\n",
       "    <tr>\n",
       "      <th>9.8</th>\n",
       "      <td>0.01</td>\n",
       "      <td>9.8</td>\n",
       "      <td>-0.098</td>\n",
       "      <td>9.800000e-07</td>\n",
       "      <td>9.604000e-06</td>\n",
       "      <td>-0.009999</td>\n",
       "      <td>-0.097990</td>\n",
       "    </tr>\n",
       "    <tr>\n",
       "      <th>9.9</th>\n",
       "      <td>0.01</td>\n",
       "      <td>9.9</td>\n",
       "      <td>-0.099</td>\n",
       "      <td>9.900000e-07</td>\n",
       "      <td>9.801000e-06</td>\n",
       "      <td>-0.009999</td>\n",
       "      <td>-0.098990</td>\n",
       "    </tr>\n",
       "    <tr>\n",
       "      <th>10.0</th>\n",
       "      <td>0.01</td>\n",
       "      <td>10.0</td>\n",
       "      <td>-0.100</td>\n",
       "      <td>1.000000e-06</td>\n",
       "      <td>1.000000e-05</td>\n",
       "      <td>-0.009999</td>\n",
       "      <td>-0.099990</td>\n",
       "    </tr>\n",
       "  </tbody>\n",
       "</table>\n",
       "<p>101 rows × 7 columns</p>\n",
       "</div>"
      ],
      "text/plain": [
       "        I_real_cs[c]_[A]  I_real_cs[v]_[V]  I_real_cs[p]_[W]  \\\n",
       "Vddrop                                                         \n",
       "0.0                 0.01               0.0            -0.000   \n",
       "0.1                 0.01               0.1            -0.001   \n",
       "0.2                 0.01               0.2            -0.002   \n",
       "0.3                 0.01               0.3            -0.003   \n",
       "0.4                 0.01               0.4            -0.004   \n",
       "...                  ...               ...               ...   \n",
       "9.6                 0.01               9.6            -0.096   \n",
       "9.7                 0.01               9.7            -0.097   \n",
       "9.8                 0.01               9.8            -0.098   \n",
       "9.9                 0.01               9.9            -0.099   \n",
       "10.0                0.01              10.0            -0.100   \n",
       "\n",
       "        R_real_cs[i]_[A]  R_real_cs[p]_[W]  Vddrop[i]_[A]  Vddrop[p]_[W]  \n",
       "Vddrop                                                                    \n",
       "0.0         0.000000e+00      0.000000e+00      -0.010000      -0.000000  \n",
       "0.1         1.000000e-08      1.000000e-09      -0.010000      -0.001000  \n",
       "0.2         2.000000e-08      4.000000e-09      -0.010000      -0.002000  \n",
       "0.3         3.000000e-08      9.000000e-09      -0.010000      -0.003000  \n",
       "0.4         4.000000e-08      1.600000e-08      -0.010000      -0.004000  \n",
       "...                  ...               ...            ...            ...  \n",
       "9.6         9.600000e-07      9.216000e-06      -0.009999      -0.095991  \n",
       "9.7         9.700000e-07      9.409000e-06      -0.009999      -0.096991  \n",
       "9.8         9.800000e-07      9.604000e-06      -0.009999      -0.097990  \n",
       "9.9         9.900000e-07      9.801000e-06      -0.009999      -0.098990  \n",
       "10.0        1.000000e-06      1.000000e-05      -0.009999      -0.099990  \n",
       "\n",
       "[101 rows x 7 columns]"
      ]
     },
     "execution_count": 35,
     "metadata": {},
     "output_type": "execute_result"
    }
   ],
   "source": [
    "dc_sweep=dc_ease(circ)\n",
    "dc_sweep.sweep_DF.at['Vddrop']=0, 10, 0.1\n",
    "dc_sweep.do_dc_intsim('Vddrop')\n",
    "nonideal_cur_res=dc_sweep.dc_resultsINT_DF\n",
    "nonideal_cur_res"
   ]
  },
  {
   "cell_type": "markdown",
   "metadata": {},
   "source": [
    "And the only difference in our plotting for the current source as opposed to the voltage source is that instead of setting variables for each cases voltage and current we are just calling against the resulting dataframes which has some downside from a readability standpoint but is a better practice who can be clarified with comments."
   ]
  },
  {
   "cell_type": "code",
   "execution_count": 36,
   "metadata": {},
   "outputs": [
    {
     "data": {
      "image/png": "[encoded data removed]",
      "text/plain": [
       "<Figure size 432x288 with 1 Axes>"
      ]
     },
     "metadata": {
      "needs_background": "light"
     },
     "output_type": "display_data"
    }
   ],
   "source": [
    "plt.plot(ideal_cur_res['I_cs[c]_[A]'], ideal_cur_res.index, label='Ideal I Souce')\n",
    "plt.plot(nonideal_cur_res['Vddrop[i]_[A]'], nonideal_cur_res.index, label='Non Ideal I Source')\n",
    "plt.xlabel('Source Current [A]'); plt.ylabel('Load Voltage Drop [V]')\n",
    "plt.grid()\n",
    "plt.legend()\n",
    "plt.title('Ideal and Non-Ideal Current Source responce to load');"
   ]
  },
  {
   "cell_type": "markdown",
   "metadata": {},
   "source": [
    "Because of the high parallel resistance inside the non-ideal current source, we see more of a translation than a tilting. Since is this reproducible code the reader should play with values and see what happens. After all, one of the goals of this book is showing how SPICE encapsulated with python can be used as an educational enhancement in teaching electronics"
   ]
  },
  {
   "cell_type": "markdown",
   "metadata": {},
   "source": [
    "## Citations:\n",
    "[1] ALL ABOUT ELECTRONICS. \"Ideal Voltage Source vs. Practical Voltage Source\n",
    ",\" YouTube, Jan 18, 2017. [Video file]. Available: https://youtu.be/TRzpqHwb-5Y. [Accessed: Nov 30, 2020].\n",
    "\n",
    "[2] ALL ABOUT ELECTRONICS. \"Ideal Current Source vs. Practical Current Source\n",
    ",\" YouTube, Jan 21, 2017. [Video file]. Available: https://youtu.be/dTf1h_xhHng. [Accessed: Nov 30, 2020]."
   ]
  },
  {
   "cell_type": "code",
   "execution_count": null,
   "metadata": {},
   "outputs": [],
   "source": []
  }
 ],
 "metadata": {
  "kernelspec": {
   "display_name": "Python 3",
   "language": "python",
   "name": "python3"
  },
  "language_info": {
   "codemirror_mode": {
    "name": "ipython",
    "version": 3
   },
   "file_extension": ".py",
   "mimetype": "text/x-python",
   "name": "python",
   "nbconvert_exporter": "python",
   "pygments_lexer": "ipython3",
   "version": "3.7.6"
  },
  "latex_envs": {
   "LaTeX_envs_menu_present": true,
   "autoclose": false,
   "autocomplete": true,
   "bibliofile": "biblio.bib",
   "cite_by": "apalike",
   "current_citInitial": 1,
   "eqLabelWithNumbers": true,
   "eqNumInitial": 1,
   "hotkeys": {
    "equation": "Ctrl-E",
    "itemize": "Ctrl-I"
   },
   "labels_anchors": false,
   "latex_user_defs": false,
   "report_style_numbering": false,
   "user_envs_cfg": false
  },
  "toc": {
   "base_numbering": 1,
   "nav_menu": {},
   "number_sections": true,
   "sideBar": true,
   "skip_h1_title": false,
   "title_cell": "Table of Contents",
   "title_sidebar": "Contents",
   "toc_cell": false,
   "toc_position": {
    "height": "calc(100% - 180px)",
    "left": "10px",
    "top": "150px",
    "width": "212.882px"
   },
   "toc_section_display": true,
   "toc_window_display": false
  }
 },
 "nbformat": 4,
 "nbformat_minor": 4
}
