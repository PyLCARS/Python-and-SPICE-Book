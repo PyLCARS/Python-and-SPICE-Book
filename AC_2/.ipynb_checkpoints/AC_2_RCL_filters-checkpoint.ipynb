{
 "cells": [
  {
   "cell_type": "markdown",
   "metadata": {},
   "source": [
    "IN PROGRESS\n",
    "\n",
    "TODO:\n",
    "- add sympy to subcirucit classes\n",
    "- add ac sim tool; try to do an inhertince from last section\n",
    "- add rl complimeint filters\n",
    "- create table of low-high pass vs rc & rl\n",
    "- add rlc resonce\n",
    "- add rlc filters\n",
    "- add filter desighn tool and filter cirucit generation tool\n",
    "- discues L->C passive conversion"
   ]
  },
  {
   "cell_type": "code",
   "execution_count": 1,
   "metadata": {},
   "outputs": [
    {
     "name": "stderr",
     "output_type": "stream",
     "text": [
      "WARNING: KICAD_SYMBOL_DIR environment variable is missing, so the default KiCad symbol libraries won't be searched.\n"
     ]
    }
   ],
   "source": [
    "#%%writefile AC_2_Codes.py\n",
    "#Library import statements\n",
    "\n",
    "from skidl.pyspice import *\n",
    "#can you say cheeky \n",
    "import PySpice as pspice\n",
    "#becouse it's written by a kiwi you know\n",
    "import lcapy as kiwi\n",
    "\n",
    "import numpy as np\n",
    "import pandas as pd\n",
    "import matplotlib.pyplot as plt\n",
    "\n",
    "from IPython.display import YouTubeVideo, display\n",
    "\n",
    "import traceback\n",
    "import warnings"
   ]
  },
  {
   "cell_type": "code",
   "execution_count": 2,
   "metadata": {},
   "outputs": [
    {
     "data": {
      "application/json": {
       "Software versions": [
        {
         "module": "Python",
         "version": "3.7.6 64bit [GCC 7.3.0]"
        },
        {
         "module": "IPython",
         "version": "7.12.0"
        },
        {
         "module": "OS",
         "version": "Linux 4.19.104 microsoft standard x86_64 with debian bullseye sid"
        },
        {
         "module": "skidl",
         "version": "0.0.31.dev0"
        },
        {
         "module": "PySpice",
         "version": "1.4.3"
        },
        {
         "module": "lcapy",
         "version": "0.70"
        },
        {
         "module": "sympy",
         "version": "1.6.2"
        },
        {
         "module": "numpy",
         "version": "1.18.1"
        },
        {
         "module": "matplotlib",
         "version": "3.3.0"
        },
        {
         "module": "pandas",
         "version": "1.1.4"
        },
        {
         "module": "scipy",
         "version": "1.4.1"
        }
       ]
      },
      "text/html": [
       "<table><tr><th>Software</th><th>Version</th></tr><tr><td>Python</td><td>3.7.6 64bit [GCC 7.3.0]</td></tr><tr><td>IPython</td><td>7.12.0</td></tr><tr><td>OS</td><td>Linux 4.19.104 microsoft standard x86_64 with debian bullseye sid</td></tr><tr><td>skidl</td><td>0.0.31.dev0</td></tr><tr><td>PySpice</td><td>1.4.3</td></tr><tr><td>lcapy</td><td>0.70</td></tr><tr><td>sympy</td><td>1.6.2</td></tr><tr><td>numpy</td><td>1.18.1</td></tr><tr><td>matplotlib</td><td>3.3.0</td></tr><tr><td>pandas</td><td>1.1.4</td></tr><tr><td>scipy</td><td>1.4.1</td></tr><tr><td colspan='2'>Sat Dec 26 22:23:07 2020 MST</td></tr></table>"
      ],
      "text/latex": [
       "\\begin{tabular}{|l|l|}\\hline\n",
       "{\\bf Software} & {\\bf Version} \\\\ \\hline\\hline\n",
       "Python & 3.7.6 64bit [GCC 7.3.0] \\\\ \\hline\n",
       "IPython & 7.12.0 \\\\ \\hline\n",
       "OS & Linux 4.19.104 microsoft standard x86\\_64 with debian bullseye sid \\\\ \\hline\n",
       "skidl & 0.0.31.dev0 \\\\ \\hline\n",
       "PySpice & 1.4.3 \\\\ \\hline\n",
       "lcapy & 0.70 \\\\ \\hline\n",
       "sympy & 1.6.2 \\\\ \\hline\n",
       "numpy & 1.18.1 \\\\ \\hline\n",
       "matplotlib & 3.3.0 \\\\ \\hline\n",
       "pandas & 1.1.4 \\\\ \\hline\n",
       "scipy & 1.4.1 \\\\ \\hline\n",
       "\\hline \\multicolumn{2}{|l|}{Sat Dec 26 22:23:07 2020 MST} \\\\ \\hline\n",
       "\\end{tabular}\n"
      ],
      "text/plain": [
       "Software versions\n",
       "Python 3.7.6 64bit [GCC 7.3.0]\n",
       "IPython 7.12.0\n",
       "OS Linux 4.19.104 microsoft standard x86_64 with debian bullseye sid\n",
       "skidl 0.0.31.dev0\n",
       "PySpice 1.4.3\n",
       "lcapy 0.70\n",
       "sympy 1.6.2\n",
       "numpy 1.18.1\n",
       "matplotlib 3.3.0\n",
       "pandas 1.1.4\n",
       "scipy 1.4.1\n",
       "Sat Dec 26 22:23:07 2020 MST"
      ]
     },
     "execution_count": 2,
     "metadata": {},
     "output_type": "execute_result"
    }
   ],
   "source": [
    "#notebook specific loading control statements \n",
    "%matplotlib inline\n",
    "#tool to log notebook internals\n",
    "#https://github.com/jrjohansson/version_information\n",
    "%load_ext version_information\n",
    "%version_information skidl, PySpice,lcapy, sympy, numpy, matplotlib, pandas, scipy"
   ]
  },
  {
   "cell_type": "markdown",
   "metadata": {},
   "source": [
    "# Basic Passive Filters"
   ]
  },
  {
   "cell_type": "markdown",
   "metadata": {},
   "source": [
    "## The low pass filter from ALL ABOUT ELECTRONICS \"RC Low Pass Filter Explained\"  @~ 8:35min"
   ]
  },
  {
   "cell_type": "code",
   "execution_count": 3,
   "metadata": {},
   "outputs": [
    {
     "data": {
      "image/jpeg": "[encoded data removed]",
      "text/html": [
       "\n",
       "        <iframe\n",
       "            width=\"500\"\n",
       "            height=\"400\"\n",
       "            src=\"https://www.youtube.com/embed/_2L0l-E1Wx0?start=515\"\n",
       "            frameborder=\"0\"\n",
       "            allowfullscreen\n",
       "        ></iframe>\n",
       "        "
      ],
      "text/plain": [
       "<IPython.lib.display.YouTubeVideo at 0x7f3f46a342d0>"
      ]
     },
     "execution_count": 3,
     "metadata": {},
     "output_type": "execute_result"
    }
   ],
   "source": [
    "YouTubeVideo('_2L0l-E1Wx0', width=500, height=400, start=515)"
   ]
  },
  {
   "cell_type": "code",
   "execution_count": 4,
   "metadata": {},
   "outputs": [],
   "source": [
    "class rc_lowpass():\n",
    "    def __init__(self, subcirc_ref=None, C_value=1@u_F, R_value=1@u_Ohm):\n",
    "        \"\"\"\n",
    "        TODO:\n",
    "            -add assertions\n",
    "        \"\"\"\n",
    "        #add assertions\n",
    "        self.subcirc_ref=subcirc_ref\n",
    "        self.C_value=C_value\n",
    "        self.R_value=R_value\n",
    "        \n",
    "\n",
    "    @subcircuit\n",
    "    def SKiDl(self, term_0, term_1, term_2, term_3, return_elements=False):\n",
    "        \"\"\"\n",
    "        Termanls are defined via:\n",
    "        ```\n",
    "       Left_Termanals - RC_Lowpass - Right_Termanals\n",
    "                          +----+  \n",
    "        Postive V_i        0-|0  2|-2     Postive V_o\n",
    "        Negtive V_i        1-|1  3|-3     Negtive V_o\n",
    "                          +----+\n",
    "        ```\n",
    "        \"\"\"\n",
    "        \n",
    "        self.c=C(value=self.C_value)\n",
    "        self.r=R(value=self.R_value)\n",
    "        \n",
    "        self.r[1, 2]+=term_0, self.c['p']\n",
    "        self.c['p', 'n']+=term_2, term_3\n",
    "        \n",
    "        \n",
    "        \n",
    "        \n",
    "        if return_elements:\n",
    "            return self.c, self.r\n",
    "    \n",
    "    def draw_me(self):\n",
    "        self.schematic=kiwi.Circuit()\n",
    "        self.schematic.add('W 1 1_1; right=2')\n",
    "        self.schematic.add('W 0 0_1; right')\n",
    "        #self.schematic.add('P1 0 1; down, v=V_i')\n",
    "        \n",
    "        self.schematic.add(f'R 0_1 2_1; right, l=R{str(self.R_value)}')\n",
    "        self.schematic.add(f'C 2_1 1_1; down, l=C{str(self.C_value)}')\n",
    "        \n",
    "        self.schematic.add('W 2_1 2; right=1.5')\n",
    "        self.schematic.add('W 1_1 3; right=1.5')\n",
    "        self.schematic.add('P2 2 3; down, v=V_o')\n",
    "\n",
    "        \n",
    "        self.schematic.draw()\n",
    "        \n",
    "        \n",
    "    "
   ]
  },
  {
   "cell_type": "code",
   "execution_count": 5,
   "metadata": {},
   "outputs": [
    {
     "data": {
      "image/png": "[encoded data removed]"
     },
     "metadata": {
      "image/png": {
       "height": 150,
       "width": 442
      }
     },
     "output_type": "display_data"
    }
   ],
   "source": [
    "lowpassF=rc_lowpass(C_value=.1@u_uF, R_value=1@u_kOhm)\n",
    "lowpassF.draw_me()"
   ]
  },
  {
   "cell_type": "code",
   "execution_count": 6,
   "metadata": {},
   "outputs": [
    {
     "name": "stdout",
     "output_type": "stream",
     "text": [
      ".title \n",
      "C1 N2 0 0.1uF\n",
      "R1 N1 N2 1kOhm\n",
      "V1 N1 0 DC 0V AC 10V 0.0rad SIN(0V 1V 50Hz 0s 0Hz)\n",
      "\n"
     ]
    },
    {
     "name": "stderr",
     "output_type": "stream",
     "text": [
      "\n",
      "No errors or warnings found during netlist generation.\n",
      "\n"
     ]
    }
   ],
   "source": [
    "reset()\n",
    "net_1=Net('N1'); net_2=Net('N2'); \n",
    "\n",
    "vs=SINEV(ac_magnitude=10@u_V, dc_value=10@u_V)\n",
    "vs['p', 'n']+=net_1, gnd\n",
    "lowpassF.SKiDl(net_1, gnd, net_2, gnd)\n",
    "\n",
    "\n",
    "\n",
    "\n",
    "circ=generate_netlist()\n",
    "print(circ)"
   ]
  },
  {
   "cell_type": "code",
   "execution_count": 11,
   "metadata": {},
   "outputs": [],
   "source": [
    "class ac_ease():\n",
    "    def __init__(self, circ_netlist_obj):\n",
    "        self.circ_netlist_obj=circ_netlist_obj\n",
    "        self._build_table()\n",
    "        \n",
    "        #dic of allowed AC sweep types\n",
    "        self.allowed_steptypes_map={'linear':'lin', 'decade':'dec', 'octave': 'oct'}\n",
    "\n",
    "    \n",
    "    def _build_table(self):\n",
    "        self.fsweep_DF=pd.DataFrame(columns=['Start_freq', 'Stop_Freq', 'SamplingInc', 'StepType'])\n",
    "        self.fsweep_DF.at[len(self.fsweep_DF)]=[.1@u_Hz, 120@u_GHz, 10, 'decade']\n",
    "\n",
    "    def ac_sweep_setup(self, Start_freq, Stop_Freq, SamplingInc, StepType, display=False):\n",
    "        \"\"\"\n",
    "        TODO:\n",
    "            -add display action\n",
    "        \"\"\"\n",
    "        #check for allwed step types\n",
    "        assert StepType in self.allowed_steptypes_map.keys(),  f\"{StepType} is not allowed\"\n",
    "        #force start to non zero if sweep not linear\n",
    "        if StepType != 'linear':\n",
    "            if float(Start_freq)==0:\n",
    "                warnings.warn('\"linear\" is only sweep type that can start at 0Hz,\\n setting starting frequancy to 1e-1Hz')\n",
    "                Start_freq=1e-1@u_Hz\n",
    "                \n",
    "                \n",
    "        \n",
    "        self.fsweep_DF.at[0]=[Start_freq, Stop_Freq, SamplingInc, StepType]\n",
    "    \n",
    "    def _make_sim_control(self):\n",
    "        \n",
    "        #check the control table struct\n",
    "        assert (self.fsweep_DF.columns==['Start_freq', 'Stop_Freq', 'SamplingInc', 'StepType']).all(), 'Contorl Table Column structer has been altered'\n",
    "        \n",
    "        #will probily change this down the road\n",
    "        assert len(self.fsweep_DF)==1, 'there should only be one entry in the control table'\n",
    "        \n",
    "        #check the sweep type\n",
    "        self.fsweep_DF['StepType'][0] in self.allowed_steptypes_map.keys(), f\"{self.fsweep_DF['StepType'][0]} is not allowed\"\n",
    "        \n",
    "        #force start to non zero if sweep not linear\n",
    "        if self.fsweep_DF['StepType'][0] != 'linear':\n",
    "            if float(self.fsweep_DF['Start_freq'][0])==0:\n",
    "                warnings.warn('\"linear\" is only sweep type that can start at 0Hz,\\n setting starting frequancy to 1e-1Hz')\n",
    "                self.fsweep_DF.at[0, 'Start_freq']=1e-1@u_Hz\n",
    "        \n",
    "        self.ac_control={\n",
    "            'start_frequency':self.fsweep_DF.at[0, 'Start_freq'], \n",
    "            'stop_frequency':self.fsweep_DF.at[0, 'Stop_Freq'], \n",
    "            'number_of_points':self.fsweep_DF.at[0, 'SamplingInc'],\n",
    "            'variation': self.allowed_steptypes_map[self.fsweep_DF.at[0, 'StepType']]\n",
    "        }\n",
    "        \n",
    "        \n",
    "        \n",
    "    \n",
    "    def do_ac_sim(self):\n",
    "        self._make_sim_control()\n",
    "        self.sim=self.circ_netlist_obj.simulator()\n",
    "        self.ac_vals=self.sim.ac(**self.ac_control)\n",
    "        \n",
    "        self.record_ac_nodebranch()\n",
    "\n",
    "    \n",
    "    def record_ac_nodebranch(self):\n",
    "        self.ac_resultsNB_DF=pd.DataFrame(index=self.ac_vals.frequency.as_ndarray())\n",
    "        self.ac_resultsNB_DF.index.name='freq[Hz]'\n",
    "        \n",
    "        #get the node voltages\n",
    "        for n in self.circ_netlist_obj.node_names:\n",
    "            if n=='0':\n",
    "                continue\n",
    "            self.ac_resultsNB_DF[n+'_[V]']=self.ac_vals[n].as_ndarray()\n",
    "        \n",
    "        #get the current from any voltage sourcs\n",
    "        for cm in self.circ_netlist_obj.element_names:\n",
    "            if 'V'==cm[0]:\n",
    "                self.ac_resultsNB_DF[cm+'_[A]']=-self.ac_vals[cm].as_ndarray()\n",
    "        "
   ]
  },
  {
   "cell_type": "code",
   "execution_count": 12,
   "metadata": {},
   "outputs": [],
   "source": [
    "#test of current source\n",
    "#reset()\n",
    "#net_1=Net('N1'); net_2=Net('N2')\n",
    "#cs=SINEI(ac_magnitude=1@u_A); cs['p', 'n']+=gnd, net_1\n",
    "#c1=C(value=1@u_F); c1['p', 'n']+=net_1, gnd\n",
    "#l1=L(value=1@u_H); l1[1,2]+=net_1, net_2\n",
    "#rload=R(value=100@u_Ohm); rload[1, 2]+=net_2, gnd\n",
    "\n",
    "#circ=generate_netlist()\n",
    "#print(circ)"
   ]
  },
  {
   "cell_type": "code",
   "execution_count": 13,
   "metadata": {},
   "outputs": [
    {
     "data": {
      "text/html": [
       "<div>\n",
       "<style scoped>\n",
       "    .dataframe tbody tr th:only-of-type {\n",
       "        vertical-align: middle;\n",
       "    }\n",
       "\n",
       "    .dataframe tbody tr th {\n",
       "        vertical-align: top;\n",
       "    }\n",
       "\n",
       "    .dataframe thead th {\n",
       "        text-align: right;\n",
       "    }\n",
       "</style>\n",
       "<table border=\"1\" class=\"dataframe\">\n",
       "  <thead>\n",
       "    <tr style=\"text-align: right;\">\n",
       "      <th></th>\n",
       "      <th>Start_freq</th>\n",
       "      <th>Stop_Freq</th>\n",
       "      <th>SamplingInc</th>\n",
       "      <th>StepType</th>\n",
       "    </tr>\n",
       "  </thead>\n",
       "  <tbody>\n",
       "    <tr>\n",
       "      <th>0</th>\n",
       "      <td>0.1 Hz</td>\n",
       "      <td>120 GHz</td>\n",
       "      <td>10</td>\n",
       "      <td>decade</td>\n",
       "    </tr>\n",
       "  </tbody>\n",
       "</table>\n",
       "</div>"
      ],
      "text/plain": [
       "  Start_freq Stop_Freq SamplingInc StepType\n",
       "0     0.1 Hz   120 GHz          10   decade"
      ]
     },
     "execution_count": 13,
     "metadata": {},
     "output_type": "execute_result"
    }
   ],
   "source": [
    "ac_sweep=ac_ease(circ)\n",
    "ac_sweep.fsweep_DF"
   ]
  },
  {
   "cell_type": "code",
   "execution_count": 15,
   "metadata": {},
   "outputs": [
    {
     "data": {
      "text/html": [
       "<div>\n",
       "<style scoped>\n",
       "    .dataframe tbody tr th:only-of-type {\n",
       "        vertical-align: middle;\n",
       "    }\n",
       "\n",
       "    .dataframe tbody tr th {\n",
       "        vertical-align: top;\n",
       "    }\n",
       "\n",
       "    .dataframe thead th {\n",
       "        text-align: right;\n",
       "    }\n",
       "</style>\n",
       "<table border=\"1\" class=\"dataframe\">\n",
       "  <thead>\n",
       "    <tr style=\"text-align: right;\">\n",
       "      <th></th>\n",
       "      <th>N2_[V]</th>\n",
       "      <th>N1_[V]</th>\n",
       "      <th>V1_[A]</th>\n",
       "    </tr>\n",
       "    <tr>\n",
       "      <th>freq[Hz]</th>\n",
       "      <th></th>\n",
       "      <th></th>\n",
       "      <th></th>\n",
       "    </tr>\n",
       "  </thead>\n",
       "  <tbody>\n",
       "    <tr>\n",
       "      <th>1.000000e-01</th>\n",
       "      <td>1.000000e+01-6.283185e-04j</td>\n",
       "      <td>10.000000+0.000000j</td>\n",
       "      <td>3.947842e-11+6.283185e-07j</td>\n",
       "    </tr>\n",
       "    <tr>\n",
       "      <th>1.258925e-01</th>\n",
       "      <td>1.000000e+01-7.910061e-04j</td>\n",
       "      <td>10.000000+0.000000j</td>\n",
       "      <td>6.256907e-11+7.910062e-07j</td>\n",
       "    </tr>\n",
       "    <tr>\n",
       "      <th>1.584893e-01</th>\n",
       "      <td>1.000000e+01-9.958177e-04j</td>\n",
       "      <td>10.000000+0.000000j</td>\n",
       "      <td>9.916530e-11+9.958178e-07j</td>\n",
       "    </tr>\n",
       "    <tr>\n",
       "      <th>1.995262e-01</th>\n",
       "      <td>1.000000e+01-1.253660e-03j</td>\n",
       "      <td>10.000000+0.000000j</td>\n",
       "      <td>1.571664e-10+1.253660e-06j</td>\n",
       "    </tr>\n",
       "    <tr>\n",
       "      <th>2.511886e-01</th>\n",
       "      <td>1.000000e+01-1.578265e-03j</td>\n",
       "      <td>10.000000+0.000000j</td>\n",
       "      <td>2.490920e-10+1.578265e-06j</td>\n",
       "    </tr>\n",
       "    <tr>\n",
       "      <th>...</th>\n",
       "      <td>...</td>\n",
       "      <td>...</td>\n",
       "      <td>...</td>\n",
       "    </tr>\n",
       "    <tr>\n",
       "      <th>3.981072e+10</th>\n",
       "      <td>1.598234e-14-3.997791e-07j</td>\n",
       "      <td>10.000000+0.000000j</td>\n",
       "      <td>1.000000e-02+3.997792e-10j</td>\n",
       "    </tr>\n",
       "    <tr>\n",
       "      <th>5.011872e+10</th>\n",
       "      <td>1.008417e-14-3.175559e-07j</td>\n",
       "      <td>10.000000+0.000000j</td>\n",
       "      <td>1.000000e-02+3.175559e-10j</td>\n",
       "    </tr>\n",
       "    <tr>\n",
       "      <th>6.309573e+10</th>\n",
       "      <td>6.362683e-15-2.522436e-07j</td>\n",
       "      <td>10.000000+0.000000j</td>\n",
       "      <td>1.000000e-02+2.522436e-10j</td>\n",
       "    </tr>\n",
       "    <tr>\n",
       "      <th>7.943283e+10</th>\n",
       "      <td>4.014581e-15-2.003642e-07j</td>\n",
       "      <td>10.000000+0.000000j</td>\n",
       "      <td>1.000000e-02+2.003642e-10j</td>\n",
       "    </tr>\n",
       "    <tr>\n",
       "      <th>1.000000e+11</th>\n",
       "      <td>2.533030e-15-1.591549e-07j</td>\n",
       "      <td>10.000000+0.000000j</td>\n",
       "      <td>1.000000e-02+1.591549e-10j</td>\n",
       "    </tr>\n",
       "  </tbody>\n",
       "</table>\n",
       "<p>121 rows × 3 columns</p>\n",
       "</div>"
      ],
      "text/plain": [
       "                                  N2_[V]               N1_[V]  \\\n",
       "freq[Hz]                                                        \n",
       "1.000000e-01  1.000000e+01-6.283185e-04j  10.000000+0.000000j   \n",
       "1.258925e-01  1.000000e+01-7.910061e-04j  10.000000+0.000000j   \n",
       "1.584893e-01  1.000000e+01-9.958177e-04j  10.000000+0.000000j   \n",
       "1.995262e-01  1.000000e+01-1.253660e-03j  10.000000+0.000000j   \n",
       "2.511886e-01  1.000000e+01-1.578265e-03j  10.000000+0.000000j   \n",
       "...                                  ...                  ...   \n",
       "3.981072e+10  1.598234e-14-3.997791e-07j  10.000000+0.000000j   \n",
       "5.011872e+10  1.008417e-14-3.175559e-07j  10.000000+0.000000j   \n",
       "6.309573e+10  6.362683e-15-2.522436e-07j  10.000000+0.000000j   \n",
       "7.943283e+10  4.014581e-15-2.003642e-07j  10.000000+0.000000j   \n",
       "1.000000e+11  2.533030e-15-1.591549e-07j  10.000000+0.000000j   \n",
       "\n",
       "                                  V1_[A]  \n",
       "freq[Hz]                                  \n",
       "1.000000e-01  3.947842e-11+6.283185e-07j  \n",
       "1.258925e-01  6.256907e-11+7.910062e-07j  \n",
       "1.584893e-01  9.916530e-11+9.958178e-07j  \n",
       "1.995262e-01  1.571664e-10+1.253660e-06j  \n",
       "2.511886e-01  2.490920e-10+1.578265e-06j  \n",
       "...                                  ...  \n",
       "3.981072e+10  1.000000e-02+3.997792e-10j  \n",
       "5.011872e+10  1.000000e-02+3.175559e-10j  \n",
       "6.309573e+10  1.000000e-02+2.522436e-10j  \n",
       "7.943283e+10  1.000000e-02+2.003642e-10j  \n",
       "1.000000e+11  1.000000e-02+1.591549e-10j  \n",
       "\n",
       "[121 rows x 3 columns]"
      ]
     },
     "execution_count": 15,
     "metadata": {},
     "output_type": "execute_result"
    }
   ],
   "source": [
    "ac_sweep.do_ac_sim()\n",
    "ac_sweep.ac_resultsNB_DF"
   ]
  },
  {
   "cell_type": "code",
   "execution_count": null,
   "metadata": {},
   "outputs": [],
   "source": [
    "ac_sweep.circ_netlist_obj.element_names"
   ]
  },
  {
   "cell_type": "code",
   "execution_count": null,
   "metadata": {},
   "outputs": [],
   "source": [
    "# .ac will not record current\n",
    "#ac_sweep.ac_vals['I1']"
   ]
  },
  {
   "cell_type": "code",
   "execution_count": null,
   "metadata": {},
   "outputs": [],
   "source": [
    "ac_sweep.fsweep_DF.at[0, 'Start_freq']=0\n",
    "ac_sweep.fsweep_DF"
   ]
  },
  {
   "cell_type": "code",
   "execution_count": 16,
   "metadata": {},
   "outputs": [],
   "source": [
    "sim=circ.simulator()"
   ]
  },
  {
   "cell_type": "code",
   "execution_count": null,
   "metadata": {},
   "outputs": [],
   "source": [
    "#ac_vals=sim.ac(start_frequency=1e-1@u_Hz, stop_frequency=120@u_GHz, number_of_points=10, variation='dec')\n",
    "ac_vals=sim.ac(start_frequency=0@u_Hz, stop_frequency=10e3@u_Hz, number_of_points=10000, variation='lin')\n",
    "#=sim.ac(start_frequency=1e-1@u_Hz, stop_frequency=1@u_THz, number_of_points=10, variation='oct')"
   ]
  },
  {
   "cell_type": "code",
   "execution_count": null,
   "metadata": {},
   "outputs": [],
   "source": [
    "v_i=ac_vals[node(net_1)]\n",
    "v_o=ac_vals[node(net_2)]\n",
    "f=ac_vals.frequency"
   ]
  },
  {
   "cell_type": "code",
   "execution_count": null,
   "metadata": {},
   "outputs": [],
   "source": [
    "plt.semilogx(f, 10*np.log10(np.abs(v_o)))\n",
    "plt.twinx()\n",
    "plt.semilogx(f, np.rad2deg(np.unwrap(np.angle(v_o))), color='g')"
   ]
  },
  {
   "cell_type": "code",
   "execution_count": null,
   "metadata": {},
   "outputs": [],
   "source": [
    "v_i"
   ]
  },
  {
   "cell_type": "code",
   "execution_count": null,
   "metadata": {},
   "outputs": [],
   "source": [
    "v_o_time=np.fft.fftshift(np.fft.ifft(v_o))\n",
    "plt.plot(np.abs(v_o_time))"
   ]
  },
  {
   "cell_type": "code",
   "execution_count": null,
   "metadata": {},
   "outputs": [],
   "source": [
    "#pz_vals=sim.pole_zero(node(net_1), node(gnd), node(net_2), node(gnd), 'vol', 'pz')"
   ]
  },
  {
   "cell_type": "markdown",
   "metadata": {},
   "source": [
    "## Equivlint Low Pass RL filter \n",
    "\n",
    "The eqivlint RL filter to the above RC filter may be found via the equivlint time consitnc of the RC and RL implemntaiotn such that time constance must mach ie:\n",
    "$$RC=\\tau_{RC}=\\tau_{RL}=L/R$$"
   ]
  },
  {
   "cell_type": "code",
   "execution_count": null,
   "metadata": {},
   "outputs": [],
   "source": [
    "(1e3)**2 *.1e-9"
   ]
  },
  {
   "cell_type": "code",
   "execution_count": null,
   "metadata": {},
   "outputs": [],
   "source": [
    "class rl_lowpass():\n",
    "    def __init__(self, subcirc_ref=None, L_value=1@u_H, R_value=1@u_Ohm):\n",
    "        \"\"\"\n",
    "        TODO:\n",
    "            -add assertions\n",
    "        \"\"\"\n",
    "        #add assertions\n",
    "        self.subcirc_ref=subcirc_ref\n",
    "        self.L_value=L_value\n",
    "        self.R_value=R_value\n",
    "        \n",
    "\n",
    "    @subcircuit\n",
    "    def SKiDl(self, term_0, term_1, term_2, term_3, return_elements=False):\n",
    "        \"\"\"\n",
    "        Termanls are defined via:\n",
    "        ```\n",
    "       Left_Termanals - RL_Lowpass - Right_Termanals\n",
    "                          +----+  \n",
    "        Postive V_i        0-|0  2|-2     Postive V_o\n",
    "        Negtive V_i        1-|1  3|-3     Negtive V_o\n",
    "                          +----+\n",
    "        ```\n",
    "        \"\"\"\n",
    "        \n",
    "        self.l=L(value=self.L_value)\n",
    "        self.r=R(value=self.R_value)\n",
    "        \n",
    "        self.l['p', 'n']+=term_0, term_2\n",
    "        self.r[1, 2]+=self.l['n'], term_1\n",
    "        \n",
    "        \n",
    "        \n",
    "        \n",
    "        if return_elements:\n",
    "            return self.l, self.r\n",
    "    \n",
    "    def draw_me(self):\n",
    "        self.schematic=kiwi.Circuit()\n",
    "        self.schematic.add('W 1 1_1; right=2')\n",
    "        self.schematic.add('W 0 0_1; right')\n",
    "        #self.schematic.add('P1 0 1; down, v=V_i')\n",
    "        \n",
    "        self.schematic.add(f'L 0_1 2_1; right, l=L{str(self.L_value)}')\n",
    "        self.schematic.add(f'R 2_1 1_1; down, l=R{str(self.R_value)}')\n",
    "        \n",
    "        self.schematic.add('W 2_1 2; right=1.5')\n",
    "        self.schematic.add('W 1_1 3; right=1.5')\n",
    "        self.schematic.add('P2 2 3; down, v=V_o')\n",
    "\n",
    "        \n",
    "        self.schematic.draw()\n",
    "        \n",
    "        \n",
    "    "
   ]
  },
  {
   "cell_type": "code",
   "execution_count": null,
   "metadata": {},
   "outputs": [],
   "source": [
    "rl_l=rl_lowpass(L_value=(1e3)**2 *.1e-9 @u_H, R_value=1e3)\n",
    "rl_l.draw_me()"
   ]
  },
  {
   "cell_type": "code",
   "execution_count": null,
   "metadata": {},
   "outputs": [],
   "source": [
    "reset()\n",
    "net_1=Net('N1'); net_2=Net('N2'); \n",
    "\n",
    "vs=SINEV(amplitude=10@u_V, frequency=2@u_kHz)\n",
    "vs['p', 'n']+=net_1, gnd\n",
    "rl_l.SKiDl(net_1, gnd, net_2, gnd)\n",
    "\n",
    "\n",
    "\n",
    "\n",
    "circ=generate_netlist()\n",
    "print(circ)"
   ]
  },
  {
   "cell_type": "code",
   "execution_count": null,
   "metadata": {},
   "outputs": [],
   "source": [
    "sim=circ.simulator()"
   ]
  },
  {
   "cell_type": "code",
   "execution_count": null,
   "metadata": {},
   "outputs": [],
   "source": [
    "ac_vals=sim.ac(start_frequency=1@u_Hz, stop_frequency=2@u_MHz, number_of_points=10, variation='dec')"
   ]
  },
  {
   "cell_type": "code",
   "execution_count": null,
   "metadata": {},
   "outputs": [],
   "source": [
    "v_i=ac_vals[node(net_1)]\n",
    "v_o=ac_vals[node(net_2)]\n",
    "f=ac_vals.frequency"
   ]
  },
  {
   "cell_type": "code",
   "execution_count": null,
   "metadata": {},
   "outputs": [],
   "source": [
    "plt.semilogx(f, 20*np.log10(np.abs(v_o)))\n",
    "plt.twinx()\n",
    "plt.semilogx(f, np.rad2deg(np.unwrap(np.angle(v_o))), color='g')"
   ]
  },
  {
   "cell_type": "code",
   "execution_count": null,
   "metadata": {},
   "outputs": [],
   "source": [
    "v_o_time=np.fft.fftshift(np.fft.ifft(v_o))\n",
    "plt.plot(np.abs(v_o_time))"
   ]
  },
  {
   "cell_type": "markdown",
   "metadata": {},
   "source": [
    "## The high pass filter from ALL ABOUT ELECTRONICS \"RC High Pass Filter Explained\"  @~ 7:57min"
   ]
  },
  {
   "cell_type": "code",
   "execution_count": null,
   "metadata": {},
   "outputs": [],
   "source": [
    "YouTubeVideo('9Dx0b0ukNAM', width=500, height=400, start=477)"
   ]
  },
  {
   "cell_type": "code",
   "execution_count": null,
   "metadata": {},
   "outputs": [],
   "source": [
    "class rc_highpass():\n",
    "    def __init__(self, subcirc_ref=None, C_value=1@u_F, R_value=1@u_Ohm):\n",
    "        \"\"\"\n",
    "        TODO:\n",
    "            -add assertions\n",
    "        \"\"\"\n",
    "        #add assertions\n",
    "        self.subcirc_ref=subcirc_ref\n",
    "        self.C_value=C_value\n",
    "        self.R_value=R_value\n",
    "        \n",
    "\n",
    "    @subcircuit\n",
    "    def SKiDl(self, term_0, term_1, term_2, term_3, return_elements=False):\n",
    "        \"\"\"\n",
    "        Termanls are defined via:\n",
    "        ```\n",
    "       Left_Termanals - RC_Highpass - Right_Termanals\n",
    "                          +----+  \n",
    "        Postive V_i        0-|0  2|-2     Postive V_o\n",
    "        Negtive V_i        1-|1  3|-3     Negtive V_o\n",
    "                          +----+\n",
    "        ```\n",
    "        \"\"\"\n",
    "        \n",
    "        self.c=C(value=self.C_value)\n",
    "        self.r=R(value=self.R_value)\n",
    "        \n",
    "        self.c['p', 'n']+=term_0, term_2\n",
    "        self.r[1, 2]+=self.c['n'], term_1\n",
    "        \n",
    "        \n",
    "        \n",
    "        \n",
    "        if return_elements:\n",
    "            return self.c, self.r\n",
    "    \n",
    "    def draw_me(self):\n",
    "        self.schematic=kiwi.Circuit()\n",
    "        self.schematic.add('W 1 1_1; right=2')\n",
    "        self.schematic.add('W 0 0_1; right')\n",
    "        #self.schematic.add('P1 0 1; down, v=V_i')\n",
    "        \n",
    "        self.schematic.add(f'C 0_1 2_1; right, l=C{str(self.C_value)}')\n",
    "        self.schematic.add(f'R 2_1 1_1; down, l=R{str(self.R_value)}')\n",
    "        \n",
    "        self.schematic.add('W 2_1 2; right=1.5')\n",
    "        self.schematic.add('W 1_1 3; right=1.5')\n",
    "        self.schematic.add('P2 2 3; down, v=V_o')\n",
    "\n",
    "        \n",
    "        self.schematic.draw()\n",
    "        \n",
    "        \n",
    "    "
   ]
  },
  {
   "cell_type": "code",
   "execution_count": null,
   "metadata": {},
   "outputs": [],
   "source": [
    "highpassF=rc_highpass(C_value=1.5@u_nF, R_value=10@u_kOhm)\n",
    "highpassF.draw_me()"
   ]
  },
  {
   "cell_type": "code",
   "execution_count": null,
   "metadata": {},
   "outputs": [],
   "source": [
    "reset()\n",
    "net_1=Net('N1'); net_2=Net('N2'); \n",
    "\n",
    "vs=SINEV(amplitude=10@u_V, frequency=10@u_kHz)\n",
    "vs['p', 'n']+=net_1, gnd\n",
    "highpassF.SKiDl(net_1, gnd, net_2, gnd)\n",
    "\n",
    "\n",
    "\n",
    "\n",
    "circ=generate_netlist()\n",
    "print(circ)"
   ]
  },
  {
   "cell_type": "code",
   "execution_count": null,
   "metadata": {},
   "outputs": [],
   "source": [
    "sim=circ.simulator()"
   ]
  },
  {
   "cell_type": "code",
   "execution_count": null,
   "metadata": {},
   "outputs": [],
   "source": [
    "ac_vals=sim.ac(start_frequency=1@u_Hz, stop_frequency=1@u_MHz, number_of_points=10, variation='dec')"
   ]
  },
  {
   "cell_type": "code",
   "execution_count": null,
   "metadata": {},
   "outputs": [],
   "source": [
    "v_i=ac_vals[node(net_1)]\n",
    "v_o=ac_vals[node(net_2)]\n",
    "f=ac_vals.frequency"
   ]
  },
  {
   "cell_type": "code",
   "execution_count": null,
   "metadata": {},
   "outputs": [],
   "source": [
    "plt.semilogx(f, 20*np.log10(np.abs(v_o)))\n",
    "plt.twinx()\n",
    "plt.semilogx(f, np.rad2deg(np.unwrap(np.angle(v_o))), color='g')"
   ]
  },
  {
   "cell_type": "code",
   "execution_count": null,
   "metadata": {},
   "outputs": [],
   "source": [
    "v_o_time=np.fft.fftshift(np.fft.ifft(v_o))\n",
    "plt.plot(np.abs(v_o_time))"
   ]
  },
  {
   "cell_type": "markdown",
   "metadata": {},
   "source": [
    "## RL Highpass"
   ]
  },
  {
   "cell_type": "code",
   "execution_count": null,
   "metadata": {},
   "outputs": [],
   "source": [
    "class rl_highpass():\n",
    "    def __init__(self, subcirc_ref=None, L_value=1@u_H, R_value=1@u_Ohm):\n",
    "        \"\"\"\n",
    "        TODO:\n",
    "            -add assertions\n",
    "        \"\"\"\n",
    "        #add assertions\n",
    "        self.subcirc_ref=subcirc_ref\n",
    "        self.L_value=L_value\n",
    "        self.R_value=R_value\n",
    "        \n",
    "\n",
    "    @subcircuit\n",
    "    def SKiDl(self, term_0, term_1, term_2, term_3, return_elements=False):\n",
    "        \"\"\"\n",
    "        Termanls are defined via:\n",
    "        ```\n",
    "       Left_Termanals - RL_Highpass - Right_Termanals\n",
    "                          +----+  \n",
    "        Postive V_i        0-|0  2|-2     Postive V_o\n",
    "        Negtive V_i        1-|1  3|-3     Negtive V_o\n",
    "                          +----+\n",
    "        ```\n",
    "        \"\"\"\n",
    "        \n",
    "        self.l=L(value=self.L_value)\n",
    "        self.r=R(value=self.R_value)\n",
    "        \n",
    "        self.r[1, 2]+=term_0, self.l['p']\n",
    "        self.l['p', 'n']+=term_2, term_3\n",
    "        \n",
    "        \n",
    "        \n",
    "        \n",
    "        if return_elements:\n",
    "            return self.l, self.r\n",
    "    \n",
    "    def draw_me(self):\n",
    "        self.schematic=kiwi.Circuit()\n",
    "        self.schematic.add('W 1 1_1; right=2')\n",
    "        self.schematic.add('W 0 0_1; right')\n",
    "        #self.schematic.add('P1 0 1; down, v=V_i')\n",
    "        \n",
    "        self.schematic.add(f'R 0_1 2_1; right, l=R{str(self.R_value)}')\n",
    "        self.schematic.add(f'L 2_1 1_1; down, l=L{str(self.L_value)}')\n",
    "        \n",
    "        self.schematic.add('W 2_1 2; right=1.5')\n",
    "        self.schematic.add('W 1_1 3; right=1.5')\n",
    "        self.schematic.add('P2 2 3; down, v=V_o')\n",
    "\n",
    "        \n",
    "        self.schematic.draw()\n",
    "        \n",
    "        \n",
    "    "
   ]
  },
  {
   "cell_type": "code",
   "execution_count": null,
   "metadata": {},
   "outputs": [],
   "source": [
    "(10e3)**2 *1.5e-9"
   ]
  },
  {
   "cell_type": "code",
   "execution_count": null,
   "metadata": {},
   "outputs": [],
   "source": [
    "rl_h=rl_highpass(L_value=(10e3)**2 *1.5e-9 @u_H, R_value=10@u_kOhm)\n",
    "rl_h.draw_me()"
   ]
  },
  {
   "cell_type": "code",
   "execution_count": null,
   "metadata": {},
   "outputs": [],
   "source": [
    "reset()\n",
    "net_1=Net('N1'); net_2=Net('N2'); \n",
    "\n",
    "vs=SINEV(amplitude=10@u_V, frequency=10@u_kHz)\n",
    "vs['p', 'n']+=net_1, gnd\n",
    "rl_h.SKiDl(net_1, gnd, net_2, gnd)\n",
    "\n",
    "\n",
    "\n",
    "\n",
    "circ=generate_netlist()\n",
    "print(circ)"
   ]
  },
  {
   "cell_type": "code",
   "execution_count": null,
   "metadata": {},
   "outputs": [],
   "source": [
    "sim=circ.simulator()"
   ]
  },
  {
   "cell_type": "code",
   "execution_count": null,
   "metadata": {},
   "outputs": [],
   "source": [
    "ac_vals=sim.ac(start_frequency=1@u_Hz, stop_frequency=1@u_MHz, number_of_points=10, variation='dec')"
   ]
  },
  {
   "cell_type": "code",
   "execution_count": null,
   "metadata": {},
   "outputs": [],
   "source": [
    "v_i=ac_vals[node(net_1)]\n",
    "v_o=ac_vals[node(net_2)]\n",
    "f=ac_vals.frequency"
   ]
  },
  {
   "cell_type": "code",
   "execution_count": null,
   "metadata": {},
   "outputs": [],
   "source": [
    "plt.semilogx(f, 20*np.log10(np.abs(v_o)))\n",
    "plt.twinx()\n",
    "plt.semilogx(f, np.rad2deg(np.unwrap(np.angle(v_o))), color='g')"
   ]
  },
  {
   "cell_type": "code",
   "execution_count": null,
   "metadata": {},
   "outputs": [],
   "source": [
    "v_o_time=np.fft.fftshift(np.fft.ifft(v_o))\n",
    "plt.plot(np.abs(v_o_time))"
   ]
  },
  {
   "cell_type": "markdown",
   "metadata": {},
   "source": [
    "# Seconed Order filters"
   ]
  },
  {
   "cell_type": "markdown",
   "metadata": {},
   "source": [
    "## The band pass filter from ALL ABOUT ELECTRONICS \"Band Pass Filter and Band Stop Filter Explained\"  @~ 4:03min"
   ]
  },
  {
   "cell_type": "code",
   "execution_count": null,
   "metadata": {},
   "outputs": [],
   "source": [
    "YouTubeVideo('dmPIydL0lyM', width=500, height=400, start=243)"
   ]
  },
  {
   "cell_type": "code",
   "execution_count": null,
   "metadata": {},
   "outputs": [],
   "source": [
    "reset()\n",
    "net_1=Net('N1'); net_2=Net('N2'); net_3=Net('N3')\n",
    "\n",
    "vs=SINEV(amplitude=10@u_V, frequency=10@u_kHz)\n",
    "vs['p', 'n']+=net_1, gnd\n",
    "\n",
    "highpassFsection=rc_highpass(C_value=1.5@u_nF, R_value=10@u_kOhm)\n",
    "highpassFsection.SKiDl(net_1, gnd, net_2, gnd)\n",
    "\n",
    "lowpassFsection=rc_lowpass(C_value=1.5@u_nF, R_value=1@u_kOhm)\n",
    "lowpassFsection.SKiDl(net_2, gnd, net_3, gnd)\n",
    "\n",
    "\n",
    "circ=generate_netlist()\n",
    "print(circ)"
   ]
  },
  {
   "cell_type": "code",
   "execution_count": null,
   "metadata": {},
   "outputs": [],
   "source": [
    "sim=circ.simulator()"
   ]
  },
  {
   "cell_type": "code",
   "execution_count": null,
   "metadata": {},
   "outputs": [],
   "source": [
    "ac_vals=sim.ac(start_frequency=1@u_Hz, stop_frequency=50@u_MHz, number_of_points=10, variation='dec')"
   ]
  },
  {
   "cell_type": "code",
   "execution_count": null,
   "metadata": {},
   "outputs": [],
   "source": [
    "v_i=ac_vals[node(net_1)]\n",
    "v_o=ac_vals[node(net_3)]\n",
    "f=ac_vals.frequency"
   ]
  },
  {
   "cell_type": "code",
   "execution_count": null,
   "metadata": {},
   "outputs": [],
   "source": [
    "plt.semilogx(f, 20*np.log10(np.abs(v_o)))\n",
    "plt.twinx()\n",
    "plt.semilogx(f, np.rad2deg(np.unwrap(np.angle(v_o))), color='g')"
   ]
  },
  {
   "cell_type": "code",
   "execution_count": null,
   "metadata": {},
   "outputs": [],
   "source": [
    "v_o_time=np.fft.fftshift(np.fft.ifft(v_o))\n",
    "plt.plot(np.abs(v_o_time))"
   ]
  },
  {
   "cell_type": "markdown",
   "metadata": {},
   "source": [
    "## Citations:\n",
    "[1] ALL ABOUT ELECTRONICS. \"RC Low Pass Filter Explained,\" YouTube, Aug 20, 2017. [Video file]. Available: https://youtu.be/_2L0l-E1Wx0. [Accessed: Nov 30, 2020].\n",
    "\n",
    "[2] ALL ABOUT ELECTRONICS. \"RC High Pass Filter Explained,\" YouTube, Aug 23, 2017. [Video file]. Available: https://youtu.be/9Dx0b0ukNAM. [Accessed: Nov 30, 2020].\n",
    "\n",
    "[2] ALL ABOUT ELECTRONICS. \"Band Pass Filter and Band Stop Filter Explained,\" YouTube, Sep 2, 2017. [Video file]. Available: https://youtu.be/dmPIydL0lyM. [Accessed: Nov 30, 2020].\n"
   ]
  },
  {
   "cell_type": "code",
   "execution_count": null,
   "metadata": {},
   "outputs": [],
   "source": []
  }
 ],
 "metadata": {
  "kernelspec": {
   "display_name": "Python 3",
   "language": "python",
   "name": "python3"
  },
  "language_info": {
   "codemirror_mode": {
    "name": "ipython",
    "version": 3
   },
   "file_extension": ".py",
   "mimetype": "text/x-python",
   "name": "python",
   "nbconvert_exporter": "python",
   "pygments_lexer": "ipython3",
   "version": "3.7.6"
  },
  "latex_envs": {
   "LaTeX_envs_menu_present": true,
   "autoclose": false,
   "autocomplete": true,
   "bibliofile": "biblio.bib",
   "cite_by": "apalike",
   "current_citInitial": 1,
   "eqLabelWithNumbers": true,
   "eqNumInitial": 1,
   "hotkeys": {
    "equation": "Ctrl-E",
    "itemize": "Ctrl-I"
   },
   "labels_anchors": false,
   "latex_user_defs": false,
   "report_style_numbering": false,
   "user_envs_cfg": false
  },
  "toc": {
   "base_numbering": 1,
   "nav_menu": {},
   "number_sections": true,
   "sideBar": true,
   "skip_h1_title": false,
   "title_cell": "Table of Contents",
   "title_sidebar": "Contents",
   "toc_cell": false,
   "toc_position": {},
   "toc_section_display": true,
   "toc_window_display": false
  }
 },
 "nbformat": 4,
 "nbformat_minor": 4
}
