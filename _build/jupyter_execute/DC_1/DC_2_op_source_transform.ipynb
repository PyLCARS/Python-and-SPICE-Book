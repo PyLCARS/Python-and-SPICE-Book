{
 "cells": [
  {
   "cell_type": "markdown",
   "metadata": {},
   "source": [
    "**TODO**\n",
    "- create a better control stuc for internal parameters to, look as SKiDl's lib file that does the conversion from SKiDl to pyspice for inspiration"
   ]
  },
  {
   "cell_type": "code",
   "execution_count": 1,
   "metadata": {},
   "outputs": [
    {
     "name": "stderr",
     "output_type": "stream",
     "text": [
      "WARNING: KICAD_SYMBOL_DIR environment variable is missing, so the default KiCad symbol libraries won't be searched.\n"
     ]
    }
   ],
   "source": [
    "#Library import statements\n",
    "\n",
    "from skidl.pyspice import *\n",
    "#can you say cheeky \n",
    "import PySpice as pspice\n",
    "#becouse it's written by a kiwi you know\n",
    "import lcapy as kiwi\n",
    "\n",
    "import numpy as np\n",
    "import pandas as pd\n",
    "import matplotlib.pyplot as plt\n",
    "import warnings\n",
    "\n",
    "from IPython.display import YouTubeVideo, display\n",
    "\n",
    "import traceback"
   ]
  },
  {
   "cell_type": "code",
   "execution_count": 2,
   "metadata": {},
   "outputs": [
    {
     "data": {
      "application/json": {
       "Software versions": [
        {
         "module": "Python",
         "version": "3.7.6 64bit [GCC 7.3.0]"
        },
        {
         "module": "IPython",
         "version": "7.12.0"
        },
        {
         "module": "OS",
         "version": "Linux 4.19.104 microsoft standard x86_64 with debian bullseye sid"
        },
        {
         "module": "skidl",
         "version": "0.0.31.dev0"
        },
        {
         "module": "PySpice",
         "version": "1.4.3"
        },
        {
         "module": "lcapy",
         "version": "0.75.dev0"
        },
        {
         "module": "sympy",
         "version": "1.6.2"
        },
        {
         "module": "numpy",
         "version": "1.18.1"
        },
        {
         "module": "matplotlib",
         "version": "3.3.0"
        },
        {
         "module": "pandas",
         "version": "1.1.4"
        },
        {
         "module": "scipy",
         "version": "1.4.1"
        }
       ]
      },
      "text/html": [
       "<table><tr><th>Software</th><th>Version</th></tr><tr><td>Python</td><td>3.7.6 64bit [GCC 7.3.0]</td></tr><tr><td>IPython</td><td>7.12.0</td></tr><tr><td>OS</td><td>Linux 4.19.104 microsoft standard x86_64 with debian bullseye sid</td></tr><tr><td>skidl</td><td>0.0.31.dev0</td></tr><tr><td>PySpice</td><td>1.4.3</td></tr><tr><td>lcapy</td><td>0.75.dev0</td></tr><tr><td>sympy</td><td>1.6.2</td></tr><tr><td>numpy</td><td>1.18.1</td></tr><tr><td>matplotlib</td><td>3.3.0</td></tr><tr><td>pandas</td><td>1.1.4</td></tr><tr><td>scipy</td><td>1.4.1</td></tr><tr><td colspan='2'>Thu Jan 28 00:40:14 2021 MST</td></tr></table>"
      ],
      "text/latex": [
       "\\begin{tabular}{|l|l|}\\hline\n",
       "{\\bf Software} & {\\bf Version} \\\\ \\hline\\hline\n",
       "Python & 3.7.6 64bit [GCC 7.3.0] \\\\ \\hline\n",
       "IPython & 7.12.0 \\\\ \\hline\n",
       "OS & Linux 4.19.104 microsoft standard x86\\_64 with debian bullseye sid \\\\ \\hline\n",
       "skidl & 0.0.31.dev0 \\\\ \\hline\n",
       "PySpice & 1.4.3 \\\\ \\hline\n",
       "lcapy & 0.75.dev0 \\\\ \\hline\n",
       "sympy & 1.6.2 \\\\ \\hline\n",
       "numpy & 1.18.1 \\\\ \\hline\n",
       "matplotlib & 3.3.0 \\\\ \\hline\n",
       "pandas & 1.1.4 \\\\ \\hline\n",
       "scipy & 1.4.1 \\\\ \\hline\n",
       "\\hline \\multicolumn{2}{|l|}{Thu Jan 28 00:40:14 2021 MST} \\\\ \\hline\n",
       "\\end{tabular}\n"
      ],
      "text/plain": [
       "Software versions\n",
       "Python 3.7.6 64bit [GCC 7.3.0]\n",
       "IPython 7.12.0\n",
       "OS Linux 4.19.104 microsoft standard x86_64 with debian bullseye sid\n",
       "skidl 0.0.31.dev0\n",
       "PySpice 1.4.3\n",
       "lcapy 0.75.dev0\n",
       "sympy 1.6.2\n",
       "numpy 1.18.1\n",
       "matplotlib 3.3.0\n",
       "pandas 1.1.4\n",
       "scipy 1.4.1\n",
       "Thu Jan 28 00:40:14 2021 MST"
      ]
     },
     "execution_count": 2,
     "metadata": {},
     "output_type": "execute_result"
    }
   ],
   "source": [
    "#notebook specific loading control statements \n",
    "%matplotlib inline\n",
    "#tool to log notebook internals\n",
    "#https://github.com/jrjohansson/version_information\n",
    "%load_ext version_information\n",
    "%version_information skidl, PySpice,lcapy, sympy, numpy, matplotlib, pandas, scipy"
   ]
  },
  {
   "cell_type": "code",
   "execution_count": 3,
   "metadata": {},
   "outputs": [],
   "source": [
    "#import the op read tool from last subchapter\n",
    "from DC_1_Codes import op_results_collect"
   ]
  },
  {
   "cell_type": "markdown",
   "metadata": {},
   "source": [
    "# Working with SKiDl elements"
   ]
  },
  {
   "cell_type": "markdown",
   "metadata": {},
   "source": [
    "The following example, to be honest, is pedantic; but it serves to introduce the current source in SPICE which can be a real headache. It also shows how to let Python do the work of interacting with elements that we will readily make great use of down the road.\n",
    "\n",
    "So why is thus so pedantic? source transformations are mostly an analytic simplification tool. And while yes there is some practicality in being able to find a matching current source to a voltage source and vice versa with equivalent power from the standpoint of Thevenin and Norton's theorem. There are, however, serious limation with how the real circuits handle inputs of voltage and current differently. And frankly, from SPICE’s point of view for this exercise, it doesn't care, it's going to solve regardless. So if you need a refresher on source transformations with an illustration of why there a really great analytical tool please watch ALL ABOUT ELECTRONICS YT video on \"Source Transformations\" where this example is pulled from.\n"
   ]
  },
  {
   "cell_type": "markdown",
   "metadata": {},
   "source": [
    "## Example 1 from \"Source Transformation\" @ ~6:30 min "
   ]
  },
  {
   "cell_type": "code",
   "execution_count": 4,
   "metadata": {},
   "outputs": [
    {
     "data": {
      "image/jpeg": "[encoded data removed]",
      "text/html": [
       "\n",
       "<iframe\n",
       "    width=\"500\"\n",
       "    height=\"400\"\n",
       "    src=\"https://www.youtube.com/embed/FtEU5ZoO-fg?start=390\"\n",
       "    frameborder=\"0\"\n",
       "    allowfullscreen\n",
       "></iframe>\n"
      ],
      "text/plain": [
       "<IPython.lib.display.YouTubeVideo at 0x7fdefd02f6d0>"
      ]
     },
     "execution_count": 4,
     "metadata": {
      "filenames": {
       "image/jpeg": "/mnt/c/Users/strin/Insync/string12oil@gmail.com/Google Drive/MyProjects/python-spice/Python-and-SPICE-Book/_build/jupyter_execute/DC_1/DC_2_op_source_transform_7_0.jpg"
      }
     },
     "output_type": "execute_result"
    }
   ],
   "source": [
    "YouTubeVideo('FtEU5ZoO-fg', width=500, height=400, start=390)"
   ]
  },
  {
   "cell_type": "markdown",
   "metadata": {},
   "source": [
    "### A very important word about current source in SPICE"
   ]
  },
  {
   "cell_type": "markdown",
   "metadata": {},
   "source": [
    "Before building the circuit above a word about any current sources in SPICE. Recalling the discussion around the surefire method of measuring currents in SPICE using a 0V Liner Voltage Souce (aka the SPICE ammeter trick) in SPICE current flow is in the positive direction from a positive voltage to a negative voltage. So by convention, we draw independent and dependent sources with an arrow in the direction of how current is being added. While that means that all current sources are polarized such that the positive terminal is at the tail of the drawn current arrow and the head is the negative terminal. When you use a schematic editor with built-in SPICE it does all the terminal work in the background. But when we are indirectly working with netlist, via SKiDL, you will have to make sure you remember this. Or else this will bite you in the butt and keep costing you time till have this arrow and terminal connection for current ingrained into you."
   ]
  },
  {
   "cell_type": "code",
   "execution_count": 5,
   "metadata": {},
   "outputs": [
    {
     "name": "stdout",
     "output_type": "stream",
     "text": [
      ".title \n",
      "Vs_4 0 N_1 4V\n",
      "Vs_8 N_2 N_3 8V\n",
      "Is_2 0 N_3 2A\n",
      "R1 N_1 N_2 6Ohm\n",
      "R2 0 N_2 12Ohm\n",
      "R3 0 N_3 12Ohm\n",
      "\n"
     ]
    },
    {
     "name": "stderr",
     "output_type": "stream",
     "text": [
      "\n",
      "No errors or warnings found during netlist generation.\n",
      "\n"
     ]
    },
    {
     "data": {
      "text/html": [
       "<div>\n",
       "<style scoped>\n",
       "    .dataframe tbody tr th:only-of-type {\n",
       "        vertical-align: middle;\n",
       "    }\n",
       "\n",
       "    .dataframe tbody tr th {\n",
       "        vertical-align: top;\n",
       "    }\n",
       "\n",
       "    .dataframe thead th {\n",
       "        text-align: right;\n",
       "    }\n",
       "</style>\n",
       "<table border=\"1\" class=\"dataframe\">\n",
       "  <thead>\n",
       "    <tr style=\"text-align: right;\">\n",
       "      <th></th>\n",
       "      <th>Item_Type</th>\n",
       "      <th>Value</th>\n",
       "      <th>Unit</th>\n",
       "    </tr>\n",
       "    <tr>\n",
       "      <th>Circ_Item</th>\n",
       "      <th></th>\n",
       "      <th></th>\n",
       "      <th></th>\n",
       "    </tr>\n",
       "  </thead>\n",
       "  <tbody>\n",
       "    <tr>\n",
       "      <th>N_1</th>\n",
       "      <td>Node_Voltage</td>\n",
       "      <td>-4</td>\n",
       "      <td>V</td>\n",
       "    </tr>\n",
       "    <tr>\n",
       "      <th>N_2</th>\n",
       "      <td>Node_Voltage</td>\n",
       "      <td>6</td>\n",
       "      <td>V</td>\n",
       "    </tr>\n",
       "    <tr>\n",
       "      <th>N_3</th>\n",
       "      <td>Node_Voltage</td>\n",
       "      <td>-2</td>\n",
       "      <td>V</td>\n",
       "    </tr>\n",
       "    <tr>\n",
       "      <th>Vs_4</th>\n",
       "      <td>Branch_Curr</td>\n",
       "      <td>1.66667</td>\n",
       "      <td>A</td>\n",
       "    </tr>\n",
       "    <tr>\n",
       "      <th>Vs_8</th>\n",
       "      <td>Branch_Curr</td>\n",
       "      <td>2.16667</td>\n",
       "      <td>A</td>\n",
       "    </tr>\n",
       "  </tbody>\n",
       "</table>\n",
       "</div>"
      ],
      "text/plain": [
       "              Item_Type    Value Unit\n",
       "Circ_Item                            \n",
       "N_1        Node_Voltage       -4    V\n",
       "N_2        Node_Voltage        6    V\n",
       "N_3        Node_Voltage       -2    V\n",
       "Vs_4        Branch_Curr  1.66667    A\n",
       "Vs_8        Branch_Curr  2.16667    A"
      ]
     },
     "execution_count": 5,
     "metadata": {},
     "output_type": "execute_result"
    }
   ],
   "source": [
    "reset()\n",
    "vs_4=V(ref='s_4', dc_value=4@u_V)\n",
    "vs_8=V(ref='s_8', dc_value=8@u_V)\n",
    "cs_2=I(ref='s_2', dc_value=2@u_A)\n",
    "r1=R(ref='1', value=6@u_Ohm)\n",
    "r2=R(ref='2', value=12@u_Ohm)\n",
    "r3=R(ref='3', value=12@u_Ohm)\n",
    "\n",
    "(gnd&vs_4['p', 'n']&r1) |r2 \n",
    "\n",
    "vs_8['p', 'n']+=r2[2], r3[2]\n",
    "\n",
    "(gnd & cs_2 | r3)\n",
    "\n",
    "circ=generate_netlist()\n",
    "print(circ)\n",
    "\n",
    "preop_sim=op_results_collect(circ)\n",
    "#store the results for comperasion to post souce transfromations\n",
    "pre_tf_res=preop_sim.results_df\n",
    "pre_tf_res"
   ]
  },
  {
   "cell_type": "markdown",
   "metadata": {},
   "source": [
    "### SKiDl's Diabetic Syntax `&`, `|`"
   ]
  },
  {
   "cell_type": "markdown",
   "metadata": {},
   "source": [
    "Notice above that usage of Pythons logical AND operator & and logical OR operator | in creating the circuit. Since & and | are just operators in python we can do what is called operator extensions to them to make them act in special ways in a certain context. In SKiDls particular case the logical and (&) is a shorthand for putting two elements in series. And the logical OR (|) is shorthand for putting two elements in parral. Furthermore, these operators and parentheses sensitive, and are not polarized sensitive and so polarized elements need to have their terminals called out when using the. There called Diabetic Syntical Suger in light of their release announcement entitled [\"SWEETENING SKIDL\"](http://xess.com/skidl/docs/_site/blog/sweetening-skidl). Using is up to your codding style and that of your colleagues. All joking aside they are extremely useful operators to know how to use, and we will use them in this book."
   ]
  },
  {
   "cell_type": "markdown",
   "metadata": {},
   "source": [
    "### Crafting the transfomation tool"
   ]
  },
  {
   "cell_type": "markdown",
   "metadata": {},
   "source": [
    "We are not going into that much detial about these tool. The important thing is that we can take advante that all our elements (SKiDl part) and nets are objects in Python. And therefore have methods and attriputs that are accesable and therefore more usable then helping produce part of a line of a SPICE netlist. For instiance Voltage and Current souce store there dcvalue in `<V\\I>.dc_value` where resitors store there resistince in `R.value`.This then alows us to use the elements to perform calculation outside of SPICE and even better assisit in creating new elements as we have done below."
   ]
  },
  {
   "cell_type": "code",
   "execution_count": 6,
   "metadata": {
    "code_folding": []
   },
   "outputs": [],
   "source": [
    "#%%writefile -a DC_1_Codes.py\n",
    "#chapter 1 section 2 get_skidl_spice_ref function\n",
    "#used for getting the name of the element as it would appear in a\n",
    "#generated netlist\n",
    "\n",
    "def get_skidl_spice_ref(skidle_element):\n",
    "    \"\"\"\n",
    "    Helper function to retrieve SKiDL element name as appears in the final netlist\n",
    "    \n",
    "    Args:\n",
    "        skidle_element (skidl.part.Part): SKiDl part to get the netlist name from\n",
    "    \n",
    "    Returns:\n",
    "        returns a string with the netlist name of `skidle_element`, or throws an\n",
    "        error if `skidle_element` is not a SKiDl part\n",
    "    \n",
    "    \"\"\"\n",
    "    assert repr(type(skidle_element))==\"<class 'skidl.part.Part'>\", '`skidle_element` must be a SKiDl part'\n",
    "    \n",
    "    if skidle_element.ref_prefix!=skidle_element.ref[0]:\n",
    "        return skidle_element.ref_prefix+skidle_element.ref\n",
    "    else:\n",
    "        return skidle_element.ref"
   ]
  },
  {
   "cell_type": "code",
   "execution_count": 7,
   "metadata": {},
   "outputs": [],
   "source": [
    "#%%writefile -a DC_1_Codes.py\n",
    "#chapter 1 section 2 dc_cs2vs function\n",
    "#creates a voltage source element to the current source based on the \n",
    "#value if the input DC current element and it's parallel resistor\n",
    "#via the source transformation rules\n",
    "\n",
    "def dc_cs2vs(dc_cs, cs_par_res):\n",
    "    \"\"\"\n",
    "    Create a new equivalent voltage source to the current source with parallel resistance\n",
    "    Args:\n",
    "        dc_cs (SKiDl current source): the current source to transform to a voltage source\n",
    "        cs_par_res (SKiDl resistor): the parrel resistor to the current source to be transformed\n",
    "    \n",
    "    Returns:\n",
    "        returns an equivalent DC voltage source element to the current source based on the \n",
    "        value if the input DC current element and it's parallel resistor via the source transformation rules \n",
    "    \n",
    "    TODO:\n",
    "        -figure out how to do assertion check that cs_par_res is in parallel to dc_cs\n",
    "        \n",
    "    Future:\n",
    "        -make into subcircuit with net inputs to automatically add the new source and resistance to the circuit\n",
    "    \"\"\"\n",
    "    \n",
    "    #do assertion checks to insure that passed in objects are what they are supposed to be\n",
    "    assert dc_cs.ref_prefix=='I', '<dc_cs> was not a current source'\n",
    "    assert cs_par_res.ref_prefix=='R', '<cs_par_res> was not a resistor'\n",
    "    \n",
    "    \n",
    "    old_maxpower=float((dc_cs.dc_value**2)*cs_par_res.value)\n",
    "    new_vs_val=float(dc_cs.dc_value*cs_par_res.value)\n",
    "    assert np.around(float(new_vs_val*dc_cs.dc_value), 6)==np.around(old_maxpower, 6), \"Um, something wrong since before and after max power not equal\"\n",
    "    \n",
    "    new_vs_ref=dc_cs.ref\n",
    "    if new_vs_ref[0]!='I':\n",
    "        new_vs_ref='I'+new_vs_ref\n",
    "    \n",
    "    \n",
    "    new_vs_ref=f\"V{new_vs_ref[1:]}_f_{new_vs_ref}\"\n",
    "    print(new_vs_ref)\n",
    "    \n",
    "    \n",
    "    eq_vs=V(dc_value=new_vs_val@u_V, ref=new_vs_ref)\n",
    "    warnings.warn(f\"\"\"New voltage source values: {new_vs_val} [V] with max aviabel power {old_maxpower} [W] \\n transformed creation statment will be like: \\n`(gnd & <eq_vs>['n', 'p'] & <cs_par_res>)`\"\"\")\n",
    "    \n",
    "    return eq_vs"
   ]
  },
  {
   "cell_type": "code",
   "execution_count": 8,
   "metadata": {},
   "outputs": [],
   "source": [
    "#%%writefile -a DC_1_Codes.py\n",
    "#chapter 1 section 2 dc_vs2cs function\n",
    "#creats current source element to the voltage source based on the \n",
    "#value if the input DC current element and it's series resistor\n",
    "#via the source transformation rules\n",
    "\n",
    "def dc_vs2cs(dc_vs, vs_ser_res):\n",
    "    \"\"\"\n",
    "    Create a new equivalent current source to voltage source with series resistance\n",
    "    Args:\n",
    "        dc_vs (SKiDl voltage source): the voltage source to transform to a current source\n",
    "        vs_ser_res (SKiDl resistor): the serries resistor to the voltage source to be transformed\n",
    "    \n",
    "    Returns:\n",
    "    \n",
    "    TODO:\n",
    "        -figure out how to do assertion check that vs_ser_res is in serries to dc_vs\n",
    "    \n",
    "    Future:\n",
    "        -make into subcircuit with net inputs to automatically add the new source and resistance to the circuit\n",
    "    \"\"\"\n",
    "    \n",
    "    #do assertion checks to insure that passed in objects are what they are supposed to be\n",
    "    assert dc_vs.ref_prefix=='V', '<dc_vs> was not a voltage source'\n",
    "    assert vs_ser_res.ref_prefix=='R', '<vs_ser_res> was not a resistor'\n",
    "    \n",
    "    old_maxpower=float((dc_vs.dc_value**2)/vs_ser_res.value)\n",
    "    new_cs_val=float(dc_vs.dc_value/vs_ser_res.value)\n",
    "    assert np.around(float(new_cs_val*dc_vs.dc_value), 6)==np.around(old_maxpower, 6), \"Um, something wrong since before and after max power not equal\"\n",
    "\n",
    "\n",
    "    new_cs_ref=dc_vs.ref\n",
    "    if new_cs_ref[0]!='V':\n",
    "        new_cs_ref='V'+new_cs_ref\n",
    "    \n",
    "    \n",
    "    new_cs_ref=f\"I{new_cs_ref[1:]}_f_{new_cs_ref}\"\n",
    "    #print(new_cs_ref)\n",
    "    \n",
    "    \n",
    "    eq_cs=I(dc_value=new_cs_val@u_A, ref=new_cs_ref)# might still need this: , circuit=vs_ser_res.circuit)\n",
    "\n",
    "    warnings.warn(f\"\"\"New current source values: {new_cs_val} [A] with max aviabel power {old_maxpower} [W] \\n transformed creation statment will be like:\\n `(gnd & <eq_cs>['n', 'p'] | <vs_ser_res>)` \\n\"\"\")\n",
    "    \n",
    "    return eq_cs\n"
   ]
  },
  {
   "cell_type": "markdown",
   "metadata": {},
   "source": [
    "### validate the transform¶\n",
    "\n",
    "For this, we are to transform the left voltage source and series resistors and the right current source and parral resistor simultaneously which halfway deviates from what ALL ABOUT ELECTRONICS did working the example analytically. We will have the center parallel resistor and voltage source as a reference network."
   ]
  },
  {
   "cell_type": "code",
   "execution_count": 9,
   "metadata": {},
   "outputs": [
    {
     "name": "stderr",
     "output_type": "stream",
     "text": [
      "/home/iridium/anaconda3/lib/python3.7/site-packages/ipykernel_launcher.py:43: UserWarning: New current source values: 0.6666666666666666 [A] with max aviabel power 2.6666666666666665 [W] \n",
      " transformed creation statment will be like:\n",
      " `(gnd & <eq_cs>['n', 'p'] | <vs_ser_res>)` \n",
      "\n",
      "/home/iridium/anaconda3/lib/python3.7/site-packages/ipykernel_launcher.py:44: UserWarning: New voltage source values: 24.0 [V] with max aviabel power 48.0 [W] \n",
      " transformed creation statment will be like: \n",
      "`(gnd & <eq_vs>['n', 'p'] & <cs_par_res>)`\n",
      "\n",
      "No errors or warnings found during netlist generation.\n",
      "\n"
     ]
    },
    {
     "name": "stdout",
     "output_type": "stream",
     "text": [
      "Vs_2_f_Is_2\n",
      ".title \n",
      "R1 0 N_1 6Ohm\n",
      "R2 0 N_1 12Ohm\n",
      "R3 N_3 N_2 12Ohm\n",
      "Vs_8 N_1 N_2 8V\n",
      "Is_4_f_Vs_4 N_1 0 0.6666666666666666A\n",
      "Vs_2_f_Is_2 N_3 0 24.0V\n",
      "\n"
     ]
    },
    {
     "data": {
      "text/html": [
       "<div>\n",
       "<style scoped>\n",
       "    .dataframe tbody tr th:only-of-type {\n",
       "        vertical-align: middle;\n",
       "    }\n",
       "\n",
       "    .dataframe tbody tr th {\n",
       "        vertical-align: top;\n",
       "    }\n",
       "\n",
       "    .dataframe thead th {\n",
       "        text-align: right;\n",
       "    }\n",
       "</style>\n",
       "<table border=\"1\" class=\"dataframe\">\n",
       "  <thead>\n",
       "    <tr style=\"text-align: right;\">\n",
       "      <th></th>\n",
       "      <th>Item_Type</th>\n",
       "      <th>Value</th>\n",
       "      <th>Unit</th>\n",
       "    </tr>\n",
       "    <tr>\n",
       "      <th>Circ_Item</th>\n",
       "      <th></th>\n",
       "      <th></th>\n",
       "      <th></th>\n",
       "    </tr>\n",
       "  </thead>\n",
       "  <tbody>\n",
       "    <tr>\n",
       "      <th>N_1</th>\n",
       "      <td>Node_Voltage</td>\n",
       "      <td>6</td>\n",
       "      <td>V</td>\n",
       "    </tr>\n",
       "    <tr>\n",
       "      <th>N_3</th>\n",
       "      <td>Node_Voltage</td>\n",
       "      <td>24</td>\n",
       "      <td>V</td>\n",
       "    </tr>\n",
       "    <tr>\n",
       "      <th>N_2</th>\n",
       "      <td>Node_Voltage</td>\n",
       "      <td>-2</td>\n",
       "      <td>V</td>\n",
       "    </tr>\n",
       "    <tr>\n",
       "      <th>Vs_8</th>\n",
       "      <td>Branch_Curr</td>\n",
       "      <td>2.16667</td>\n",
       "      <td>A</td>\n",
       "    </tr>\n",
       "    <tr>\n",
       "      <th>Vs_2_f_Is_2</th>\n",
       "      <td>Branch_Curr</td>\n",
       "      <td>2.16667</td>\n",
       "      <td>A</td>\n",
       "    </tr>\n",
       "  </tbody>\n",
       "</table>\n",
       "</div>"
      ],
      "text/plain": [
       "                Item_Type    Value Unit\n",
       "Circ_Item                              \n",
       "N_1          Node_Voltage        6    V\n",
       "N_3          Node_Voltage       24    V\n",
       "N_2          Node_Voltage       -2    V\n",
       "Vs_8          Branch_Curr  2.16667    A\n",
       "Vs_2_f_Is_2   Branch_Curr  2.16667    A"
      ]
     },
     "execution_count": 9,
     "metadata": {},
     "output_type": "execute_result"
    }
   ],
   "source": [
    "reset()\n",
    "r1=R(ref='1', value=6@u_Ohm)\n",
    "r2=R(ref='2', value=12@u_Ohm)\n",
    "r3=R(ref='3', value=12@u_Ohm)\n",
    "\n",
    "vs_8=V(ref='s_8', dc_value=8@u_V)\n",
    "\n",
    "cs_4_f_cs_4=dc_vs2cs(vs_4, r1)\n",
    "\n",
    "vs_2_f_cs_2=dc_cs2vs(cs_2, r3)\n",
    "\n",
    "\n",
    "(gnd&cs_4_f_cs_4['n', 'p']|r1) |r2 \n",
    "\n",
    "vs_8['p', 'n']+=r2[2], r3[2]\n",
    "\n",
    "(gnd & vs_2_f_cs_2['n', 'p'] & r3)\n",
    "\n",
    "circ=generate_netlist()\n",
    "print(circ)\n",
    "\n",
    "\n",
    "postop_sim=op_results_collect(circ)\n",
    "#store the results for comperaion to pre souce transfromations\n",
    "post_tf_res=postop_sim.results_df\n",
    "post_tf_res"
   ]
  },
  {
   "cell_type": "markdown",
   "metadata": {},
   "source": [
    "Since we stored the results from the pre transformed circuit we can try to do an eyeball compersion between the two dataframes, however, since the net names are no longer the same we only can look at the branch current of vs_8 which remained constant"
   ]
  },
  {
   "cell_type": "code",
   "execution_count": 10,
   "metadata": {},
   "outputs": [
    {
     "data": {
      "text/html": [
       "<div>\n",
       "<style scoped>\n",
       "    .dataframe tbody tr th:only-of-type {\n",
       "        vertical-align: middle;\n",
       "    }\n",
       "\n",
       "    .dataframe tbody tr th {\n",
       "        vertical-align: top;\n",
       "    }\n",
       "\n",
       "    .dataframe thead th {\n",
       "        text-align: right;\n",
       "    }\n",
       "</style>\n",
       "<table border=\"1\" class=\"dataframe\">\n",
       "  <thead>\n",
       "    <tr style=\"text-align: right;\">\n",
       "      <th></th>\n",
       "      <th>Item_Type</th>\n",
       "      <th>Value</th>\n",
       "      <th>Unit</th>\n",
       "    </tr>\n",
       "    <tr>\n",
       "      <th>Circ_Item</th>\n",
       "      <th></th>\n",
       "      <th></th>\n",
       "      <th></th>\n",
       "    </tr>\n",
       "  </thead>\n",
       "  <tbody>\n",
       "    <tr>\n",
       "      <th>N_1</th>\n",
       "      <td>Node_Voltage</td>\n",
       "      <td>-4</td>\n",
       "      <td>V</td>\n",
       "    </tr>\n",
       "    <tr>\n",
       "      <th>N_2</th>\n",
       "      <td>Node_Voltage</td>\n",
       "      <td>6</td>\n",
       "      <td>V</td>\n",
       "    </tr>\n",
       "    <tr>\n",
       "      <th>N_3</th>\n",
       "      <td>Node_Voltage</td>\n",
       "      <td>-2</td>\n",
       "      <td>V</td>\n",
       "    </tr>\n",
       "    <tr>\n",
       "      <th>Vs_4</th>\n",
       "      <td>Branch_Curr</td>\n",
       "      <td>1.66667</td>\n",
       "      <td>A</td>\n",
       "    </tr>\n",
       "    <tr>\n",
       "      <th>Vs_8</th>\n",
       "      <td>Branch_Curr</td>\n",
       "      <td>2.16667</td>\n",
       "      <td>A</td>\n",
       "    </tr>\n",
       "  </tbody>\n",
       "</table>\n",
       "</div>"
      ],
      "text/plain": [
       "              Item_Type    Value Unit\n",
       "Circ_Item                            \n",
       "N_1        Node_Voltage       -4    V\n",
       "N_2        Node_Voltage        6    V\n",
       "N_3        Node_Voltage       -2    V\n",
       "Vs_4        Branch_Curr  1.66667    A\n",
       "Vs_8        Branch_Curr  2.16667    A"
      ]
     },
     "execution_count": 10,
     "metadata": {},
     "output_type": "execute_result"
    }
   ],
   "source": [
    "pre_tf_res"
   ]
  },
  {
   "cell_type": "code",
   "execution_count": 11,
   "metadata": {},
   "outputs": [
    {
     "data": {
      "text/plain": [
       "True"
      ]
     },
     "execution_count": 11,
     "metadata": {},
     "output_type": "execute_result"
    }
   ],
   "source": [
    "(pre_tf_res.loc[get_skidl_spice_ref(vs_8)]==post_tf_res.loc[get_skidl_spice_ref(vs_8)]).all()"
   ]
  },
  {
   "cell_type": "markdown",
   "metadata": {},
   "source": [
    "Thus we can assume that the circuits are source equivalents of each other, but this book is about cultivating analog design verification. And assuming can yield performance hits and even worse the need for a SPIN. Therefore DONT ASSUME, figure out a way to VERIFY via Quantifiable answers."
   ]
  },
  {
   "cell_type": "markdown",
   "metadata": {},
   "source": [
    "## internal parameters:\n",
    "\n",
    "ngspice (in fact most SPICE engines) elements have what are called internal parameters. Most of the setup parameters like dc_value, resistance, ect along with nitty-gritty parameters for more advanced SPICE simulations that will get too. What we are after of now are the internal values that store results of simulations as we have alluded to in the non surefire way to save internal parameters. For instance, resistors have a way of measuring the internal current flowing through them the but the caveat is that it only returns real values in ngspice, which will be an issue when doing AC simulations. But for DC simulations is a tool we should utilize. Also at the time of writing this PySPICE has a quark that internal values are not retrieved at the same time the branch currents and net voltages are. So to get both the simulation has to be run twice and the author is not sure if this is quark of ngspice or PySPICE but the author will look into it at a later time.\n",
    "\n",
    "For now, just know internal parameters have a string calls of `<Elelement name>@[<internal paamamater>]` that is passed to a PySPICE simulation objects `.save_internal_parameters` method and then are returned in the results as the original string call to the results super dictionary.\n"
   ]
  },
  {
   "cell_type": "code",
   "execution_count": 12,
   "metadata": {},
   "outputs": [],
   "source": [
    "#%%writefile -a DC_1_Codes.py\n",
    "#chapter 1 section 2 op_internal_ivp class\n",
    "# class to get both the branch currents and node voltages,\n",
    "# along with the internal parameters values for \n",
    "# DC operating point analysis\n",
    "\n",
    "class op_internal_ivp():\n",
    "    \"\"\"\n",
    "    Class for creating a SPICE simulation on the whole circuits internal parameters for current, voltage, and power\n",
    "    for dc operating point (.op) simulations. Will only collect internal parameters and not global voltage and currents \n",
    "    of the circuit\n",
    "    TODO:\n",
    "        Make this inheritable from op_results_collect \n",
    "    \"\"\"\n",
    "    def __init__(self, op_sim_circ, display_results=False):\n",
    "        \"\"\"\n",
    "        Basic class to get pyspice operating_point (ngspice `.op`) simulation results\n",
    "        for internal parameters for Resistors, Current Source, Voltage Source current, voltage, power\n",
    "        respectively\n",
    "        \n",
    "        \n",
    "        Args:\n",
    "            op_sim_circ (pspice.Spice.Netlist.Circuit): the Netlist circuit produced \n",
    "            from SKiDl's `generate_netlist()`\n",
    "            \n",
    "            display_results (bool; False): option to have the simulation results\n",
    "                stored in `self.results_df` automatically displayed from a jupyter notebook\n",
    "                ell\n",
    "        \n",
    "        Returns:\n",
    "            will create a simulation in `self.op_sim`, raw results of dc operating \n",
    "            point simulation will be stored in `self.op_sim_results`, the tablized\n",
    "            results will be stored in pandas dataframe `self.results_df`\n",
    "        \n",
    "        TODO: \n",
    "            - add kwargs to the simulator\n",
    "            - add an assertion that only a pyspice netlist circuit obj can\n",
    "                    be passed into op_sim_circ\n",
    "            \n",
    "        \"\"\"\n",
    "        #need to add assertions for op_sim_circ ==pspice.Spice.Netlist.Circuit\n",
    "        \n",
    "        #store the circuit internally\n",
    "        self.op_sim_circ=op_sim_circ\n",
    "        #create the sim obj\n",
    "        self.op_sim=self.op_sim_circ.simulator()\n",
    "        \n",
    "        #store bool to display results dataframe\n",
    "        self.display_results=display_results\n",
    "        \n",
    "        #create the internal parameters to save\n",
    "        self.create_savable_items()\n",
    "        #run the sim for .op for internal parameters and record results\n",
    "        self.sim_and_record()\n",
    "        \n",
    "    def create_savable_items(self):\n",
    "        \"\"\"\n",
    "        Helper method to create a listing of internal parameters and the table of the results.\n",
    "        Right now only creates savable internal parameters for:\n",
    "        Linear Dependent Voltage Sources: current, power\n",
    "        Linear Dependent Current Sources: current, voltage, power\n",
    "        Standard Resistor: current, voltage, power\n",
    "        Linear Dependent Current Sources: current, voltage, power\n",
    "        VCCS: current, voltage, power\n",
    "        VCVS: current, voltage, power\n",
    "        CCVS: current, voltage, power\n",
    "        CCCS:currrent, voltage, power\n",
    "        \n",
    "        See ngspice manual typically chapter 31 \"Model and Device Parameters\"\n",
    "        for more deitals about deice intiernal parmaters\n",
    "\n",
    "        \"\"\"\n",
    "        self.results_df=pd.DataFrame(columns=['Circ_Item', 'Item_Type', 'Value', 'Unit'])\n",
    "        self.results_df.set_index('Circ_Item', drop=True, append=False, inplace=True, verify_integrity=False)\n",
    "        \n",
    "        #helper row creation statement\n",
    "        def add_row(index, unit): \n",
    "            self.results_df.at[index, ['Item_Type', 'Unit']]=['internal', unit]\n",
    "            \n",
    "        \n",
    "        for e in self.op_sim_circ.element_names:\n",
    "            \"\"\"\n",
    "            Ref: ngspice documentation chapter 31 (typically): Model and Device Parameters\n",
    "                \n",
    "            \"\"\"\n",
    "            #resistors\n",
    "            if e[0]=='R':\n",
    "                add_row(f'@{e}[i]', 'A')\n",
    "                add_row(f'@{e}[p]', 'W')\n",
    "            \n",
    "            #independnt current source\n",
    "            elif e[0]=='I':\n",
    "                add_row(f'@{e}[c]', 'A')\n",
    "                add_row(f'@{e}[v]', 'V')\n",
    "                add_row(f'@{e}[p]', 'W')\n",
    "            \n",
    "            #independ Voltage source\n",
    "            elif e[0]=='V':\n",
    "                add_row(f'@{e}[i]', 'A')\n",
    "                add_row(f'@{e}[p]', 'W')\n",
    "            \n",
    "            #controlled sources\n",
    "            elif e[0] in ['F', 'H', 'G', 'E']:\n",
    "                add_row(f'@{e}[i]', 'A')\n",
    "                add_row(f'@{e}[v]', 'V')\n",
    "                add_row(f'@{e}[p]', 'W')\n",
    "            \n",
    "            else:\n",
    "                warnings.warn(f\"Circ Element {e} is not setup to have internals read, skiping\")\n",
    "                \n",
    "    def sim_and_record(self):\n",
    "        \"\"\"\n",
    "        run the .op simulation and get the internal values \n",
    "        \n",
    "        Args: None\n",
    "        Returns:\n",
    "            `self.internal_opsim_res` store the raw results of the .op for internal pamtyers\n",
    "            whereas `self.results_df` stores the pandas dataframe of internal parameters results\n",
    "        \n",
    "        TODO: figure out how to do this at the same time as the main node branch sim\n",
    "            this doing separately is getting old\n",
    "        \"\"\"\n",
    "        save_items=list(self.results_df.index)\n",
    "        self.op_sim.save_internal_parameters(*save_items)\n",
    "        self.internal_opsim_res=self.op_sim.operating_point()\n",
    "        \n",
    "        for save in save_items:\n",
    "            self.results_df.at[save, 'Value']=self.internal_opsim_res[save].as_ndarray()[0]\n",
    "        \n",
    "        if self.display_results:\n",
    "            print('.op sim internal parmter results')\n",
    "            display(self.results_df)\n",
    "\n"
   ]
  },
  {
   "cell_type": "markdown",
   "metadata": {},
   "source": [
    "### pre transform_internals"
   ]
  },
  {
   "cell_type": "code",
   "execution_count": 13,
   "metadata": {},
   "outputs": [
    {
     "name": "stdout",
     "output_type": "stream",
     "text": [
      ".title \n",
      "Vs_4 0 N_1 4V\n",
      "Vs_8 N_2 N_3 8V\n",
      "Is_2 0 N_3 2A\n",
      "R1 N_1 N_2 6Ohm\n",
      "R2 0 N_2 12Ohm\n",
      "R3 0 N_3 12Ohm\n",
      "\n"
     ]
    },
    {
     "name": "stderr",
     "output_type": "stream",
     "text": [
      "\n",
      "No errors or warnings found during netlist generation.\n",
      "\n"
     ]
    }
   ],
   "source": [
    "reset()\n",
    "vs_4=V(ref='s_4', dc_value=4@u_V)\n",
    "vs_8=V(ref='s_8', dc_value=8@u_V)\n",
    "cs_2=I(ref='s_2', dc_value=2@u_A)\n",
    "r1=R(ref='1', value=6@u_Ohm)\n",
    "r2=R(ref='2', value=12@u_Ohm)\n",
    "r3=R(ref='3', value=12@u_Ohm)\n",
    "\n",
    "(gnd&vs_4['p', 'n']&r1) |r2 \n",
    "\n",
    "vs_8['p', 'n']+=r2[2], r3[2]\n",
    "\n",
    "(gnd & cs_2 | r3)\n",
    "\n",
    "circ=generate_netlist()\n",
    "print(circ)\n",
    "\n"
   ]
  },
  {
   "cell_type": "code",
   "execution_count": 14,
   "metadata": {},
   "outputs": [
    {
     "name": "stderr",
     "output_type": "stream",
     "text": [
      "Unit is None for @is_2[p] power\n"
     ]
    },
    {
     "name": "stderr",
     "output_type": "stream",
     "text": [
      "Unit is None for @r1[p] power\n"
     ]
    },
    {
     "name": "stderr",
     "output_type": "stream",
     "text": [
      "Unit is None for @vs_4[p] power\n"
     ]
    },
    {
     "name": "stderr",
     "output_type": "stream",
     "text": [
      "Unit is None for @vs_8[p] power\n"
     ]
    },
    {
     "name": "stderr",
     "output_type": "stream",
     "text": [
      "Unit is None for @r2[p] power\n"
     ]
    },
    {
     "name": "stderr",
     "output_type": "stream",
     "text": [
      "Unit is None for @r3[p] power\n"
     ]
    },
    {
     "data": {
      "text/html": [
       "<div>\n",
       "<style scoped>\n",
       "    .dataframe tbody tr th:only-of-type {\n",
       "        vertical-align: middle;\n",
       "    }\n",
       "\n",
       "    .dataframe tbody tr th {\n",
       "        vertical-align: top;\n",
       "    }\n",
       "\n",
       "    .dataframe thead th {\n",
       "        text-align: right;\n",
       "    }\n",
       "</style>\n",
       "<table border=\"1\" class=\"dataframe\">\n",
       "  <thead>\n",
       "    <tr style=\"text-align: right;\">\n",
       "      <th></th>\n",
       "      <th>Item_Type</th>\n",
       "      <th>Value</th>\n",
       "      <th>Unit</th>\n",
       "    </tr>\n",
       "    <tr>\n",
       "      <th>Circ_Item</th>\n",
       "      <th></th>\n",
       "      <th></th>\n",
       "      <th></th>\n",
       "    </tr>\n",
       "  </thead>\n",
       "  <tbody>\n",
       "    <tr>\n",
       "      <th>@Vs_4[i]</th>\n",
       "      <td>internal</td>\n",
       "      <td>-1.66667</td>\n",
       "      <td>A</td>\n",
       "    </tr>\n",
       "    <tr>\n",
       "      <th>@Vs_4[p]</th>\n",
       "      <td>internal</td>\n",
       "      <td>6.66667</td>\n",
       "      <td>W</td>\n",
       "    </tr>\n",
       "    <tr>\n",
       "      <th>@Vs_8[i]</th>\n",
       "      <td>internal</td>\n",
       "      <td>-2.16667</td>\n",
       "      <td>A</td>\n",
       "    </tr>\n",
       "    <tr>\n",
       "      <th>@Vs_8[p]</th>\n",
       "      <td>internal</td>\n",
       "      <td>17.3333</td>\n",
       "      <td>W</td>\n",
       "    </tr>\n",
       "    <tr>\n",
       "      <th>@Is_2[c]</th>\n",
       "      <td>internal</td>\n",
       "      <td>2</td>\n",
       "      <td>A</td>\n",
       "    </tr>\n",
       "    <tr>\n",
       "      <th>@Is_2[v]</th>\n",
       "      <td>internal</td>\n",
       "      <td>-2</td>\n",
       "      <td>V</td>\n",
       "    </tr>\n",
       "    <tr>\n",
       "      <th>@Is_2[p]</th>\n",
       "      <td>internal</td>\n",
       "      <td>4</td>\n",
       "      <td>W</td>\n",
       "    </tr>\n",
       "    <tr>\n",
       "      <th>@R1[i]</th>\n",
       "      <td>internal</td>\n",
       "      <td>-1.66667</td>\n",
       "      <td>A</td>\n",
       "    </tr>\n",
       "    <tr>\n",
       "      <th>@R1[p]</th>\n",
       "      <td>internal</td>\n",
       "      <td>16.6667</td>\n",
       "      <td>W</td>\n",
       "    </tr>\n",
       "    <tr>\n",
       "      <th>@R2[i]</th>\n",
       "      <td>internal</td>\n",
       "      <td>-0.5</td>\n",
       "      <td>A</td>\n",
       "    </tr>\n",
       "    <tr>\n",
       "      <th>@R2[p]</th>\n",
       "      <td>internal</td>\n",
       "      <td>3</td>\n",
       "      <td>W</td>\n",
       "    </tr>\n",
       "    <tr>\n",
       "      <th>@R3[i]</th>\n",
       "      <td>internal</td>\n",
       "      <td>0.166667</td>\n",
       "      <td>A</td>\n",
       "    </tr>\n",
       "    <tr>\n",
       "      <th>@R3[p]</th>\n",
       "      <td>internal</td>\n",
       "      <td>0.333333</td>\n",
       "      <td>W</td>\n",
       "    </tr>\n",
       "  </tbody>\n",
       "</table>\n",
       "</div>"
      ],
      "text/plain": [
       "          Item_Type     Value Unit\n",
       "Circ_Item                         \n",
       "@Vs_4[i]   internal  -1.66667    A\n",
       "@Vs_4[p]   internal   6.66667    W\n",
       "@Vs_8[i]   internal  -2.16667    A\n",
       "@Vs_8[p]   internal   17.3333    W\n",
       "@Is_2[c]   internal         2    A\n",
       "@Is_2[v]   internal        -2    V\n",
       "@Is_2[p]   internal         4    W\n",
       "@R1[i]     internal  -1.66667    A\n",
       "@R1[p]     internal   16.6667    W\n",
       "@R2[i]     internal      -0.5    A\n",
       "@R2[p]     internal         3    W\n",
       "@R3[i]     internal  0.166667    A\n",
       "@R3[p]     internal  0.333333    W"
      ]
     },
     "execution_count": 14,
     "metadata": {},
     "output_type": "execute_result"
    }
   ],
   "source": [
    "preop_ivp_sim=op_internal_ivp(circ)\n",
    "pre_ivp_res=preop_ivp_sim.results_df\n",
    "pre_ivp_res"
   ]
  },
  {
   "cell_type": "markdown",
   "metadata": {},
   "source": [
    "### post transform internals"
   ]
  },
  {
   "cell_type": "code",
   "execution_count": 15,
   "metadata": {},
   "outputs": [
    {
     "name": "stdout",
     "output_type": "stream",
     "text": [
      "Vs_2_f_Is_2\n",
      ".title \n",
      "R1 0 N_1 6Ohm\n",
      "R2 0 N_1 12Ohm\n",
      "R3 N_3 N_2 12Ohm\n",
      "Vs_8 N_1 N_2 8V\n",
      "Is_4_f_Vs_4 N_1 0 0.6666666666666666A\n",
      "Vs_2_f_Is_2 N_3 0 24.0V\n",
      "\n"
     ]
    },
    {
     "name": "stderr",
     "output_type": "stream",
     "text": [
      "/home/iridium/anaconda3/lib/python3.7/site-packages/ipykernel_launcher.py:43: UserWarning: New current source values: 0.6666666666666666 [A] with max aviabel power 2.6666666666666665 [W] \n",
      " transformed creation statment will be like:\n",
      " `(gnd & <eq_cs>['n', 'p'] | <vs_ser_res>)` \n",
      "\n",
      "/home/iridium/anaconda3/lib/python3.7/site-packages/ipykernel_launcher.py:44: UserWarning: New voltage source values: 24.0 [V] with max aviabel power 48.0 [W] \n",
      " transformed creation statment will be like: \n",
      "`(gnd & <eq_vs>['n', 'p'] & <cs_par_res>)`\n",
      "\n",
      "No errors or warnings found during netlist generation.\n",
      "\n"
     ]
    }
   ],
   "source": [
    "reset()\n",
    "r1=R(ref='1', value=6@u_Ohm)\n",
    "r2=R(ref='2', value=12@u_Ohm)\n",
    "r3=R(ref='3', value=12@u_Ohm)\n",
    "\n",
    "vs_8=V(ref='s_8', dc_value=8@u_V)\n",
    "\n",
    "cs_f_vs_4=dc_vs2cs(vs_4, r1)\n",
    "\n",
    "vs_f_cs_2=dc_cs2vs(cs_2, r3)\n",
    "\n",
    "\n",
    "(gnd&cs_f_vs_4['n', 'p']|r1) |r2 \n",
    "\n",
    "vs_8['p', 'n']+=r2[2], r3[2]\n",
    "\n",
    "(gnd & vs_f_cs_2['n', 'p'] & r3)\n",
    "\n",
    "circ=generate_netlist()\n",
    "print(circ)"
   ]
  },
  {
   "cell_type": "code",
   "execution_count": 16,
   "metadata": {},
   "outputs": [
    {
     "name": "stderr",
     "output_type": "stream",
     "text": [
      "Unit is None for @vs_2_f_is_2[p] power\n"
     ]
    },
    {
     "name": "stderr",
     "output_type": "stream",
     "text": [
      "Unit is None for @r2[p] power\n"
     ]
    },
    {
     "name": "stderr",
     "output_type": "stream",
     "text": [
      "Unit is None for @r1[p] power\n"
     ]
    },
    {
     "name": "stderr",
     "output_type": "stream",
     "text": [
      "Unit is None for @vs_8[p] power\n"
     ]
    },
    {
     "name": "stderr",
     "output_type": "stream",
     "text": [
      "Unit is None for @is_4_f_vs_4[p] power\n"
     ]
    },
    {
     "name": "stderr",
     "output_type": "stream",
     "text": [
      "Unit is None for @r3[p] power\n"
     ]
    },
    {
     "data": {
      "text/html": [
       "<div>\n",
       "<style scoped>\n",
       "    .dataframe tbody tr th:only-of-type {\n",
       "        vertical-align: middle;\n",
       "    }\n",
       "\n",
       "    .dataframe tbody tr th {\n",
       "        vertical-align: top;\n",
       "    }\n",
       "\n",
       "    .dataframe thead th {\n",
       "        text-align: right;\n",
       "    }\n",
       "</style>\n",
       "<table border=\"1\" class=\"dataframe\">\n",
       "  <thead>\n",
       "    <tr style=\"text-align: right;\">\n",
       "      <th></th>\n",
       "      <th>Item_Type</th>\n",
       "      <th>Value</th>\n",
       "      <th>Unit</th>\n",
       "    </tr>\n",
       "    <tr>\n",
       "      <th>Circ_Item</th>\n",
       "      <th></th>\n",
       "      <th></th>\n",
       "      <th></th>\n",
       "    </tr>\n",
       "  </thead>\n",
       "  <tbody>\n",
       "    <tr>\n",
       "      <th>@R1[i]</th>\n",
       "      <td>internal</td>\n",
       "      <td>-1</td>\n",
       "      <td>A</td>\n",
       "    </tr>\n",
       "    <tr>\n",
       "      <th>@R1[p]</th>\n",
       "      <td>internal</td>\n",
       "      <td>6</td>\n",
       "      <td>W</td>\n",
       "    </tr>\n",
       "    <tr>\n",
       "      <th>@R2[i]</th>\n",
       "      <td>internal</td>\n",
       "      <td>-0.5</td>\n",
       "      <td>A</td>\n",
       "    </tr>\n",
       "    <tr>\n",
       "      <th>@R2[p]</th>\n",
       "      <td>internal</td>\n",
       "      <td>3</td>\n",
       "      <td>W</td>\n",
       "    </tr>\n",
       "    <tr>\n",
       "      <th>@R3[i]</th>\n",
       "      <td>internal</td>\n",
       "      <td>2.16667</td>\n",
       "      <td>A</td>\n",
       "    </tr>\n",
       "    <tr>\n",
       "      <th>@R3[p]</th>\n",
       "      <td>internal</td>\n",
       "      <td>56.3333</td>\n",
       "      <td>W</td>\n",
       "    </tr>\n",
       "    <tr>\n",
       "      <th>@Vs_8[i]</th>\n",
       "      <td>internal</td>\n",
       "      <td>-2.16667</td>\n",
       "      <td>A</td>\n",
       "    </tr>\n",
       "    <tr>\n",
       "      <th>@Vs_8[p]</th>\n",
       "      <td>internal</td>\n",
       "      <td>17.3333</td>\n",
       "      <td>W</td>\n",
       "    </tr>\n",
       "    <tr>\n",
       "      <th>@Is_4_f_Vs_4[c]</th>\n",
       "      <td>internal</td>\n",
       "      <td>0.666667</td>\n",
       "      <td>A</td>\n",
       "    </tr>\n",
       "    <tr>\n",
       "      <th>@Is_4_f_Vs_4[v]</th>\n",
       "      <td>internal</td>\n",
       "      <td>-6</td>\n",
       "      <td>V</td>\n",
       "    </tr>\n",
       "    <tr>\n",
       "      <th>@Is_4_f_Vs_4[p]</th>\n",
       "      <td>internal</td>\n",
       "      <td>4</td>\n",
       "      <td>W</td>\n",
       "    </tr>\n",
       "    <tr>\n",
       "      <th>@Vs_2_f_Is_2[i]</th>\n",
       "      <td>internal</td>\n",
       "      <td>-2.16667</td>\n",
       "      <td>A</td>\n",
       "    </tr>\n",
       "    <tr>\n",
       "      <th>@Vs_2_f_Is_2[p]</th>\n",
       "      <td>internal</td>\n",
       "      <td>52</td>\n",
       "      <td>W</td>\n",
       "    </tr>\n",
       "  </tbody>\n",
       "</table>\n",
       "</div>"
      ],
      "text/plain": [
       "                Item_Type     Value Unit\n",
       "Circ_Item                               \n",
       "@R1[i]           internal        -1    A\n",
       "@R1[p]           internal         6    W\n",
       "@R2[i]           internal      -0.5    A\n",
       "@R2[p]           internal         3    W\n",
       "@R3[i]           internal   2.16667    A\n",
       "@R3[p]           internal   56.3333    W\n",
       "@Vs_8[i]         internal  -2.16667    A\n",
       "@Vs_8[p]         internal   17.3333    W\n",
       "@Is_4_f_Vs_4[c]  internal  0.666667    A\n",
       "@Is_4_f_Vs_4[v]  internal        -6    V\n",
       "@Is_4_f_Vs_4[p]  internal         4    W\n",
       "@Vs_2_f_Is_2[i]  internal  -2.16667    A\n",
       "@Vs_2_f_Is_2[p]  internal        52    W"
      ]
     },
     "execution_count": 16,
     "metadata": {},
     "output_type": "execute_result"
    }
   ],
   "source": [
    "postop_ivp_sim=op_internal_ivp(circ)\n",
    "post_ivp_res=postop_ivp_sim.results_df\n",
    "post_ivp_res"
   ]
  },
  {
   "cell_type": "markdown",
   "metadata": {},
   "source": [
    "### Quantitive comparison ¶\n",
    "Since our results are stored in Pandas dataframes we can make use of the power of Pandas to do data analysis to get insight into what is going on. Where below we get a merger of the two dataframes side by side for all the elements that remained the same in the circuit pre and post-transformation. And we then follow that up with color-coding of what values remained the same between the pre and post-transformation of the circuit\n"
   ]
  },
  {
   "cell_type": "code",
   "execution_count": 17,
   "metadata": {},
   "outputs": [
    {
     "data": {
      "text/html": [
       "<div>\n",
       "<style scoped>\n",
       "    .dataframe tbody tr th:only-of-type {\n",
       "        vertical-align: middle;\n",
       "    }\n",
       "\n",
       "    .dataframe tbody tr th {\n",
       "        vertical-align: top;\n",
       "    }\n",
       "\n",
       "    .dataframe thead tr th {\n",
       "        text-align: left;\n",
       "    }\n",
       "\n",
       "    .dataframe thead tr:last-of-type th {\n",
       "        text-align: right;\n",
       "    }\n",
       "</style>\n",
       "<table border=\"1\" class=\"dataframe\">\n",
       "  <thead>\n",
       "    <tr>\n",
       "      <th></th>\n",
       "      <th colspan=\"3\" halign=\"left\">Pre</th>\n",
       "      <th colspan=\"3\" halign=\"left\">Post</th>\n",
       "    </tr>\n",
       "    <tr>\n",
       "      <th></th>\n",
       "      <th>Item_Type</th>\n",
       "      <th>Value</th>\n",
       "      <th>Unit</th>\n",
       "      <th>Item_Type</th>\n",
       "      <th>Value</th>\n",
       "      <th>Unit</th>\n",
       "    </tr>\n",
       "    <tr>\n",
       "      <th>Circ_Item</th>\n",
       "      <th></th>\n",
       "      <th></th>\n",
       "      <th></th>\n",
       "      <th></th>\n",
       "      <th></th>\n",
       "      <th></th>\n",
       "    </tr>\n",
       "  </thead>\n",
       "  <tbody>\n",
       "    <tr>\n",
       "      <th>@Vs_8[i]</th>\n",
       "      <td>internal</td>\n",
       "      <td>-2.16667</td>\n",
       "      <td>A</td>\n",
       "      <td>internal</td>\n",
       "      <td>-2.16667</td>\n",
       "      <td>A</td>\n",
       "    </tr>\n",
       "    <tr>\n",
       "      <th>@Vs_8[p]</th>\n",
       "      <td>internal</td>\n",
       "      <td>17.3333</td>\n",
       "      <td>W</td>\n",
       "      <td>internal</td>\n",
       "      <td>17.3333</td>\n",
       "      <td>W</td>\n",
       "    </tr>\n",
       "    <tr>\n",
       "      <th>@R1[i]</th>\n",
       "      <td>internal</td>\n",
       "      <td>-1.66667</td>\n",
       "      <td>A</td>\n",
       "      <td>internal</td>\n",
       "      <td>-1</td>\n",
       "      <td>A</td>\n",
       "    </tr>\n",
       "    <tr>\n",
       "      <th>@R1[p]</th>\n",
       "      <td>internal</td>\n",
       "      <td>16.6667</td>\n",
       "      <td>W</td>\n",
       "      <td>internal</td>\n",
       "      <td>6</td>\n",
       "      <td>W</td>\n",
       "    </tr>\n",
       "    <tr>\n",
       "      <th>@R2[i]</th>\n",
       "      <td>internal</td>\n",
       "      <td>-0.5</td>\n",
       "      <td>A</td>\n",
       "      <td>internal</td>\n",
       "      <td>-0.5</td>\n",
       "      <td>A</td>\n",
       "    </tr>\n",
       "    <tr>\n",
       "      <th>@R2[p]</th>\n",
       "      <td>internal</td>\n",
       "      <td>3</td>\n",
       "      <td>W</td>\n",
       "      <td>internal</td>\n",
       "      <td>3</td>\n",
       "      <td>W</td>\n",
       "    </tr>\n",
       "    <tr>\n",
       "      <th>@R3[i]</th>\n",
       "      <td>internal</td>\n",
       "      <td>0.166667</td>\n",
       "      <td>A</td>\n",
       "      <td>internal</td>\n",
       "      <td>2.16667</td>\n",
       "      <td>A</td>\n",
       "    </tr>\n",
       "    <tr>\n",
       "      <th>@R3[p]</th>\n",
       "      <td>internal</td>\n",
       "      <td>0.333333</td>\n",
       "      <td>W</td>\n",
       "      <td>internal</td>\n",
       "      <td>56.3333</td>\n",
       "      <td>W</td>\n",
       "    </tr>\n",
       "  </tbody>\n",
       "</table>\n",
       "</div>"
      ],
      "text/plain": [
       "                Pre                     Post              \n",
       "          Item_Type     Value Unit Item_Type    Value Unit\n",
       "Circ_Item                                                 \n",
       "@Vs_8[i]   internal  -2.16667    A  internal -2.16667    A\n",
       "@Vs_8[p]   internal   17.3333    W  internal  17.3333    W\n",
       "@R1[i]     internal  -1.66667    A  internal       -1    A\n",
       "@R1[p]     internal   16.6667    W  internal        6    W\n",
       "@R2[i]     internal      -0.5    A  internal     -0.5    A\n",
       "@R2[p]     internal         3    W  internal        3    W\n",
       "@R3[i]     internal  0.166667    A  internal  2.16667    A\n",
       "@R3[p]     internal  0.333333    W  internal  56.3333    W"
      ]
     },
     "execution_count": 17,
     "metadata": {},
     "output_type": "execute_result"
    }
   ],
   "source": [
    "pre_post_comp=pd.concat([pre_ivp_res, post_ivp_res], join='inner',  axis='columns', keys=['Pre', 'Post'])\n",
    "pre_post_comp"
   ]
  },
  {
   "cell_type": "code",
   "execution_count": 18,
   "metadata": {},
   "outputs": [
    {
     "data": {
      "text/html": [
       "<style  type=\"text/css\" >\n",
       "#T_0fa59e2c_613c_11eb_a3fb_dfd7329e819frow0_col0,#T_0fa59e2c_613c_11eb_a3fb_dfd7329e819frow0_col1,#T_0fa59e2c_613c_11eb_a3fb_dfd7329e819frow0_col2,#T_0fa59e2c_613c_11eb_a3fb_dfd7329e819frow0_col3,#T_0fa59e2c_613c_11eb_a3fb_dfd7329e819frow0_col4,#T_0fa59e2c_613c_11eb_a3fb_dfd7329e819frow0_col5,#T_0fa59e2c_613c_11eb_a3fb_dfd7329e819frow1_col0,#T_0fa59e2c_613c_11eb_a3fb_dfd7329e819frow1_col1,#T_0fa59e2c_613c_11eb_a3fb_dfd7329e819frow1_col2,#T_0fa59e2c_613c_11eb_a3fb_dfd7329e819frow1_col3,#T_0fa59e2c_613c_11eb_a3fb_dfd7329e819frow1_col4,#T_0fa59e2c_613c_11eb_a3fb_dfd7329e819frow1_col5,#T_0fa59e2c_613c_11eb_a3fb_dfd7329e819frow4_col0,#T_0fa59e2c_613c_11eb_a3fb_dfd7329e819frow4_col1,#T_0fa59e2c_613c_11eb_a3fb_dfd7329e819frow4_col2,#T_0fa59e2c_613c_11eb_a3fb_dfd7329e819frow4_col3,#T_0fa59e2c_613c_11eb_a3fb_dfd7329e819frow4_col4,#T_0fa59e2c_613c_11eb_a3fb_dfd7329e819frow4_col5,#T_0fa59e2c_613c_11eb_a3fb_dfd7329e819frow5_col0,#T_0fa59e2c_613c_11eb_a3fb_dfd7329e819frow5_col1,#T_0fa59e2c_613c_11eb_a3fb_dfd7329e819frow5_col2,#T_0fa59e2c_613c_11eb_a3fb_dfd7329e819frow5_col3,#T_0fa59e2c_613c_11eb_a3fb_dfd7329e819frow5_col4,#T_0fa59e2c_613c_11eb_a3fb_dfd7329e819frow5_col5{\n",
       "            background-color:  lightgreen;\n",
       "        }#T_0fa59e2c_613c_11eb_a3fb_dfd7329e819frow2_col0,#T_0fa59e2c_613c_11eb_a3fb_dfd7329e819frow2_col1,#T_0fa59e2c_613c_11eb_a3fb_dfd7329e819frow2_col2,#T_0fa59e2c_613c_11eb_a3fb_dfd7329e819frow2_col3,#T_0fa59e2c_613c_11eb_a3fb_dfd7329e819frow2_col4,#T_0fa59e2c_613c_11eb_a3fb_dfd7329e819frow2_col5,#T_0fa59e2c_613c_11eb_a3fb_dfd7329e819frow3_col0,#T_0fa59e2c_613c_11eb_a3fb_dfd7329e819frow3_col1,#T_0fa59e2c_613c_11eb_a3fb_dfd7329e819frow3_col2,#T_0fa59e2c_613c_11eb_a3fb_dfd7329e819frow3_col3,#T_0fa59e2c_613c_11eb_a3fb_dfd7329e819frow3_col4,#T_0fa59e2c_613c_11eb_a3fb_dfd7329e819frow3_col5,#T_0fa59e2c_613c_11eb_a3fb_dfd7329e819frow6_col0,#T_0fa59e2c_613c_11eb_a3fb_dfd7329e819frow6_col1,#T_0fa59e2c_613c_11eb_a3fb_dfd7329e819frow6_col2,#T_0fa59e2c_613c_11eb_a3fb_dfd7329e819frow6_col3,#T_0fa59e2c_613c_11eb_a3fb_dfd7329e819frow6_col4,#T_0fa59e2c_613c_11eb_a3fb_dfd7329e819frow6_col5,#T_0fa59e2c_613c_11eb_a3fb_dfd7329e819frow7_col0,#T_0fa59e2c_613c_11eb_a3fb_dfd7329e819frow7_col1,#T_0fa59e2c_613c_11eb_a3fb_dfd7329e819frow7_col2,#T_0fa59e2c_613c_11eb_a3fb_dfd7329e819frow7_col3,#T_0fa59e2c_613c_11eb_a3fb_dfd7329e819frow7_col4,#T_0fa59e2c_613c_11eb_a3fb_dfd7329e819frow7_col5{\n",
       "            background-color:  yellow;\n",
       "        }</style><table id=\"T_0fa59e2c_613c_11eb_a3fb_dfd7329e819f\" ><thead>    <tr>        <th class=\"blank level0\" ></th>        <th class=\"col_heading level0 col0\" colspan=3>Pre</th>        <th class=\"col_heading level0 col3\" colspan=3>Post</th>    </tr>    <tr>        <th class=\"blank level1\" ></th>        <th class=\"col_heading level1 col0\" >Item_Type</th>        <th class=\"col_heading level1 col1\" >Value</th>        <th class=\"col_heading level1 col2\" >Unit</th>        <th class=\"col_heading level1 col3\" >Item_Type</th>        <th class=\"col_heading level1 col4\" >Value</th>        <th class=\"col_heading level1 col5\" >Unit</th>    </tr>    <tr>        <th class=\"index_name level0\" >Circ_Item</th>        <th class=\"blank\" ></th>        <th class=\"blank\" ></th>        <th class=\"blank\" ></th>        <th class=\"blank\" ></th>        <th class=\"blank\" ></th>        <th class=\"blank\" ></th>    </tr></thead><tbody>\n",
       "                <tr>\n",
       "                        <th id=\"T_0fa59e2c_613c_11eb_a3fb_dfd7329e819flevel0_row0\" class=\"row_heading level0 row0\" >@Vs_8[i]</th>\n",
       "                        <td id=\"T_0fa59e2c_613c_11eb_a3fb_dfd7329e819frow0_col0\" class=\"data row0 col0\" >internal</td>\n",
       "                        <td id=\"T_0fa59e2c_613c_11eb_a3fb_dfd7329e819frow0_col1\" class=\"data row0 col1\" >-2.166667</td>\n",
       "                        <td id=\"T_0fa59e2c_613c_11eb_a3fb_dfd7329e819frow0_col2\" class=\"data row0 col2\" >A</td>\n",
       "                        <td id=\"T_0fa59e2c_613c_11eb_a3fb_dfd7329e819frow0_col3\" class=\"data row0 col3\" >internal</td>\n",
       "                        <td id=\"T_0fa59e2c_613c_11eb_a3fb_dfd7329e819frow0_col4\" class=\"data row0 col4\" >-2.166667</td>\n",
       "                        <td id=\"T_0fa59e2c_613c_11eb_a3fb_dfd7329e819frow0_col5\" class=\"data row0 col5\" >A</td>\n",
       "            </tr>\n",
       "            <tr>\n",
       "                        <th id=\"T_0fa59e2c_613c_11eb_a3fb_dfd7329e819flevel0_row1\" class=\"row_heading level0 row1\" >@Vs_8[p]</th>\n",
       "                        <td id=\"T_0fa59e2c_613c_11eb_a3fb_dfd7329e819frow1_col0\" class=\"data row1 col0\" >internal</td>\n",
       "                        <td id=\"T_0fa59e2c_613c_11eb_a3fb_dfd7329e819frow1_col1\" class=\"data row1 col1\" >17.333333</td>\n",
       "                        <td id=\"T_0fa59e2c_613c_11eb_a3fb_dfd7329e819frow1_col2\" class=\"data row1 col2\" >W</td>\n",
       "                        <td id=\"T_0fa59e2c_613c_11eb_a3fb_dfd7329e819frow1_col3\" class=\"data row1 col3\" >internal</td>\n",
       "                        <td id=\"T_0fa59e2c_613c_11eb_a3fb_dfd7329e819frow1_col4\" class=\"data row1 col4\" >17.333333</td>\n",
       "                        <td id=\"T_0fa59e2c_613c_11eb_a3fb_dfd7329e819frow1_col5\" class=\"data row1 col5\" >W</td>\n",
       "            </tr>\n",
       "            <tr>\n",
       "                        <th id=\"T_0fa59e2c_613c_11eb_a3fb_dfd7329e819flevel0_row2\" class=\"row_heading level0 row2\" >@R1[i]</th>\n",
       "                        <td id=\"T_0fa59e2c_613c_11eb_a3fb_dfd7329e819frow2_col0\" class=\"data row2 col0\" >internal</td>\n",
       "                        <td id=\"T_0fa59e2c_613c_11eb_a3fb_dfd7329e819frow2_col1\" class=\"data row2 col1\" >-1.666667</td>\n",
       "                        <td id=\"T_0fa59e2c_613c_11eb_a3fb_dfd7329e819frow2_col2\" class=\"data row2 col2\" >A</td>\n",
       "                        <td id=\"T_0fa59e2c_613c_11eb_a3fb_dfd7329e819frow2_col3\" class=\"data row2 col3\" >internal</td>\n",
       "                        <td id=\"T_0fa59e2c_613c_11eb_a3fb_dfd7329e819frow2_col4\" class=\"data row2 col4\" >-1.000000</td>\n",
       "                        <td id=\"T_0fa59e2c_613c_11eb_a3fb_dfd7329e819frow2_col5\" class=\"data row2 col5\" >A</td>\n",
       "            </tr>\n",
       "            <tr>\n",
       "                        <th id=\"T_0fa59e2c_613c_11eb_a3fb_dfd7329e819flevel0_row3\" class=\"row_heading level0 row3\" >@R1[p]</th>\n",
       "                        <td id=\"T_0fa59e2c_613c_11eb_a3fb_dfd7329e819frow3_col0\" class=\"data row3 col0\" >internal</td>\n",
       "                        <td id=\"T_0fa59e2c_613c_11eb_a3fb_dfd7329e819frow3_col1\" class=\"data row3 col1\" >16.666667</td>\n",
       "                        <td id=\"T_0fa59e2c_613c_11eb_a3fb_dfd7329e819frow3_col2\" class=\"data row3 col2\" >W</td>\n",
       "                        <td id=\"T_0fa59e2c_613c_11eb_a3fb_dfd7329e819frow3_col3\" class=\"data row3 col3\" >internal</td>\n",
       "                        <td id=\"T_0fa59e2c_613c_11eb_a3fb_dfd7329e819frow3_col4\" class=\"data row3 col4\" >6.000000</td>\n",
       "                        <td id=\"T_0fa59e2c_613c_11eb_a3fb_dfd7329e819frow3_col5\" class=\"data row3 col5\" >W</td>\n",
       "            </tr>\n",
       "            <tr>\n",
       "                        <th id=\"T_0fa59e2c_613c_11eb_a3fb_dfd7329e819flevel0_row4\" class=\"row_heading level0 row4\" >@R2[i]</th>\n",
       "                        <td id=\"T_0fa59e2c_613c_11eb_a3fb_dfd7329e819frow4_col0\" class=\"data row4 col0\" >internal</td>\n",
       "                        <td id=\"T_0fa59e2c_613c_11eb_a3fb_dfd7329e819frow4_col1\" class=\"data row4 col1\" >-0.500000</td>\n",
       "                        <td id=\"T_0fa59e2c_613c_11eb_a3fb_dfd7329e819frow4_col2\" class=\"data row4 col2\" >A</td>\n",
       "                        <td id=\"T_0fa59e2c_613c_11eb_a3fb_dfd7329e819frow4_col3\" class=\"data row4 col3\" >internal</td>\n",
       "                        <td id=\"T_0fa59e2c_613c_11eb_a3fb_dfd7329e819frow4_col4\" class=\"data row4 col4\" >-0.500000</td>\n",
       "                        <td id=\"T_0fa59e2c_613c_11eb_a3fb_dfd7329e819frow4_col5\" class=\"data row4 col5\" >A</td>\n",
       "            </tr>\n",
       "            <tr>\n",
       "                        <th id=\"T_0fa59e2c_613c_11eb_a3fb_dfd7329e819flevel0_row5\" class=\"row_heading level0 row5\" >@R2[p]</th>\n",
       "                        <td id=\"T_0fa59e2c_613c_11eb_a3fb_dfd7329e819frow5_col0\" class=\"data row5 col0\" >internal</td>\n",
       "                        <td id=\"T_0fa59e2c_613c_11eb_a3fb_dfd7329e819frow5_col1\" class=\"data row5 col1\" >3.000000</td>\n",
       "                        <td id=\"T_0fa59e2c_613c_11eb_a3fb_dfd7329e819frow5_col2\" class=\"data row5 col2\" >W</td>\n",
       "                        <td id=\"T_0fa59e2c_613c_11eb_a3fb_dfd7329e819frow5_col3\" class=\"data row5 col3\" >internal</td>\n",
       "                        <td id=\"T_0fa59e2c_613c_11eb_a3fb_dfd7329e819frow5_col4\" class=\"data row5 col4\" >3.000000</td>\n",
       "                        <td id=\"T_0fa59e2c_613c_11eb_a3fb_dfd7329e819frow5_col5\" class=\"data row5 col5\" >W</td>\n",
       "            </tr>\n",
       "            <tr>\n",
       "                        <th id=\"T_0fa59e2c_613c_11eb_a3fb_dfd7329e819flevel0_row6\" class=\"row_heading level0 row6\" >@R3[i]</th>\n",
       "                        <td id=\"T_0fa59e2c_613c_11eb_a3fb_dfd7329e819frow6_col0\" class=\"data row6 col0\" >internal</td>\n",
       "                        <td id=\"T_0fa59e2c_613c_11eb_a3fb_dfd7329e819frow6_col1\" class=\"data row6 col1\" >0.166667</td>\n",
       "                        <td id=\"T_0fa59e2c_613c_11eb_a3fb_dfd7329e819frow6_col2\" class=\"data row6 col2\" >A</td>\n",
       "                        <td id=\"T_0fa59e2c_613c_11eb_a3fb_dfd7329e819frow6_col3\" class=\"data row6 col3\" >internal</td>\n",
       "                        <td id=\"T_0fa59e2c_613c_11eb_a3fb_dfd7329e819frow6_col4\" class=\"data row6 col4\" >2.166667</td>\n",
       "                        <td id=\"T_0fa59e2c_613c_11eb_a3fb_dfd7329e819frow6_col5\" class=\"data row6 col5\" >A</td>\n",
       "            </tr>\n",
       "            <tr>\n",
       "                        <th id=\"T_0fa59e2c_613c_11eb_a3fb_dfd7329e819flevel0_row7\" class=\"row_heading level0 row7\" >@R3[p]</th>\n",
       "                        <td id=\"T_0fa59e2c_613c_11eb_a3fb_dfd7329e819frow7_col0\" class=\"data row7 col0\" >internal</td>\n",
       "                        <td id=\"T_0fa59e2c_613c_11eb_a3fb_dfd7329e819frow7_col1\" class=\"data row7 col1\" >0.333333</td>\n",
       "                        <td id=\"T_0fa59e2c_613c_11eb_a3fb_dfd7329e819frow7_col2\" class=\"data row7 col2\" >W</td>\n",
       "                        <td id=\"T_0fa59e2c_613c_11eb_a3fb_dfd7329e819frow7_col3\" class=\"data row7 col3\" >internal</td>\n",
       "                        <td id=\"T_0fa59e2c_613c_11eb_a3fb_dfd7329e819frow7_col4\" class=\"data row7 col4\" >56.333333</td>\n",
       "                        <td id=\"T_0fa59e2c_613c_11eb_a3fb_dfd7329e819frow7_col5\" class=\"data row7 col5\" >W</td>\n",
       "            </tr>\n",
       "    </tbody></table>"
      ],
      "text/plain": [
       "<pandas.io.formats.style.Styler at 0x7fdefba4b210>"
      ]
     },
     "execution_count": 18,
     "metadata": {},
     "output_type": "execute_result"
    }
   ],
   "source": [
    "def color_results(row):    \n",
    "    is_equal=(row['Pre']==row['Post']).all()    \n",
    "    if is_equal:\n",
    "        return ['background-color: lightgreen']*len(row)\n",
    "    else:\n",
    "        return ['background-color: yellow']*len(row)\n",
    "\n",
    "pre_post_comp.style.apply(color_results, axis=1)"
   ]
  },
  {
   "cell_type": "markdown",
   "metadata": {},
   "source": [
    "The results show that the part of the network that remained the same had identical currents and power through their elements. While the resistors that we transformed in accordance with the source transformations. This is due to source efficiency since the full network presents different equivalent circuits to each of the transforms and therefore different voltage, current, and power draws on each source."
   ]
  },
  {
   "cell_type": "markdown",
   "metadata": {},
   "source": [
    "## Citations:\n",
    "[1] ALL ABOUT ELECTRONICS. \"Source transformation in network analysis,\" YouTube, Dec 24, 2016. [Video file]. Available: https://youtu.be/FtEU5ZoO-fg. [Accessed: Nov 30, 2020].\n",
    "\n"
   ]
  }
 ],
 "metadata": {
  "kernelspec": {
   "display_name": "Python 3",
   "language": "python",
   "name": "python3"
  },
  "language_info": {
   "codemirror_mode": {
    "name": "ipython",
    "version": 3
   },
   "file_extension": ".py",
   "mimetype": "text/x-python",
   "name": "python",
   "nbconvert_exporter": "python",
   "pygments_lexer": "ipython3",
   "version": "3.7.6"
  },
  "latex_envs": {
   "LaTeX_envs_menu_present": true,
   "autoclose": false,
   "autocomplete": true,
   "bibliofile": "biblio.bib",
   "cite_by": "apalike",
   "current_citInitial": 1,
   "eqLabelWithNumbers": true,
   "eqNumInitial": 1,
   "hotkeys": {
    "equation": "Ctrl-E",
    "itemize": "Ctrl-I"
   },
   "labels_anchors": false,
   "latex_user_defs": false,
   "report_style_numbering": false,
   "user_envs_cfg": false
  },
  "toc": {
   "base_numbering": 1,
   "nav_menu": {},
   "number_sections": true,
   "sideBar": true,
   "skip_h1_title": false,
   "title_cell": "Table of Contents",
   "title_sidebar": "Contents",
   "toc_cell": false,
   "toc_position": {},
   "toc_section_display": true,
   "toc_window_display": true
  }
 },
 "nbformat": 4,
 "nbformat_minor": 4
}