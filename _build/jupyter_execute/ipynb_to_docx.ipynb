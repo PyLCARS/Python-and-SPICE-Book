{
 "cells": [
  {
   "cell_type": "markdown",
   "metadata": {},
   "source": [
    "This is not part of the book, this is a editing tool that is used to create markdownfiles for the jupyter noteboks and then convert them to Microsoft Word in order to use Word and Grammerly to do editing "
   ]
  },
  {
   "cell_type": "code",
   "execution_count": 1,
   "metadata": {},
   "outputs": [],
   "source": [
    "from pathlib import Path"
   ]
  },
  {
   "cell_type": "code",
   "execution_count": 2,
   "metadata": {},
   "outputs": [
    {
     "data": {
      "text/plain": [
       "[PosixPath('intro.ipynb'),\n",
       " PosixPath('ipynb_to_docx.ipynb'),\n",
       " PosixPath('needed_libraries.ipynb'),\n",
       " PosixPath('AC_2/AC_1.ipynb'),\n",
       " PosixPath('AC_2/AC_1_One-Two-Three_Phase_AC.ipynb'),\n",
       " PosixPath('AC_2/AC_2_RCL_filters.ipynb'),\n",
       " PosixPath('AC_2/AC_3_CoupledMag.ipynb'),\n",
       " PosixPath('AC_2/AC_4_PZ.ipynb'),\n",
       " PosixPath('AC_2/AC_5_twoports.ipynb'),\n",
       " PosixPath('AC_2/AC_6_S_transmissionlines.ipynb'),\n",
       " PosixPath('Appendix/skidl_2_pyspice_check.ipynb'),\n",
       " PosixPath('DC_1/DC_1.ipynb'),\n",
       " PosixPath('DC_1/DC_1_op_ohm.ipynb'),\n",
       " PosixPath('DC_1/DC_2_op_source_transform.ipynb'),\n",
       " PosixPath('DC_1/DC_3_PracticalSourcs_sweeps_subcirucirts.ipynb'),\n",
       " PosixPath('DC_1/DC_4_dependent_sources_and_tf.ipynb'),\n",
       " PosixPath('DC_1/DC_5_Thvenin_Norton.ipynb'),\n",
       " PosixPath('DC_1/DC_6_DC_MaxPower_MaxEfficiency.ipynb')]"
      ]
     },
     "execution_count": 2,
     "metadata": {},
     "output_type": "execute_result"
    }
   ],
   "source": [
    "path=Path('.')\n",
    "notebooks=[]\n",
    "for p in path.rglob(\"*.ipynb\"):\n",
    "    if '_build' in str(p.absolute()):\n",
    "        continue\n",
    "    \n",
    "    elif 'ipynb_checkpoints' in str(p.absolute()):\n",
    "        continue\n",
    "    else:\n",
    "        notebooks.append(p)\n",
    "notebooks"
   ]
  },
  {
   "cell_type": "code",
   "execution_count": 3,
   "metadata": {},
   "outputs": [
    {
     "data": {
      "text/plain": [
       "PosixPath('needed_libraries.ipynb')"
      ]
     },
     "execution_count": 3,
     "metadata": {},
     "output_type": "execute_result"
    }
   ],
   "source": [
    "notebooks[2].relative_to(notebooks[2].parent.parent)"
   ]
  },
  {
   "cell_type": "code",
   "execution_count": 4,
   "metadata": {},
   "outputs": [
    {
     "name": "stdout",
     "output_type": "stream",
     "text": [
      "./intro.ipynb\n",
      "./ipynb_to_docx.ipynb\n",
      "./needed_libraries.ipynb\n",
      "./AC_2/AC_1.ipynb\n",
      "./AC_2/AC_1_One-Two-Three_Phase_AC.ipynb\n",
      "./AC_2/AC_2_RCL_filters.ipynb\n",
      "./AC_2/AC_3_CoupledMag.ipynb\n",
      "./AC_2/AC_4_PZ.ipynb\n",
      "./AC_2/AC_5_twoports.ipynb\n",
      "./AC_2/AC_6_S_transmissionlines.ipynb\n",
      "./Appendix/skidl_2_pyspice_check.ipynb\n",
      "./DC_1/DC_1.ipynb\n",
      "./DC_1/DC_1_op_ohm.ipynb\n",
      "./DC_1/DC_2_op_source_transform.ipynb\n",
      "./DC_1/DC_3_PracticalSourcs_sweeps_subcirucirts.ipynb\n",
      "./DC_1/DC_4_dependent_sources_and_tf.ipynb\n",
      "./DC_1/DC_5_Thvenin_Norton.ipynb\n",
      "./DC_1/DC_6_DC_MaxPower_MaxEfficiency.ipynb\n"
     ]
    }
   ],
   "source": [
    "for nb in notebooks:\n",
    "    #base=str(nb.absolute())\n",
    "    ipynb='./'+str(nb.relative_to(nb.parent.parent))\n",
    "    base=ipynb[:-6]\n",
    "    html=base+'.html'\n",
    "    docx=base+'.docx'\n",
    "    print(ipynb)\n",
    "    \n",
    "    #uncommment to use\n",
    "    #!jupyter nbconvert --to html {ipynb}\n",
    "    #!pandoc -s {html} -o {docx}\n",
    "    \n",
    "    "
   ]
  },
  {
   "cell_type": "code",
   "execution_count": null,
   "metadata": {},
   "outputs": [],
   "source": []
  }
 ],
 "metadata": {
  "kernelspec": {
   "display_name": "Python 3",
   "language": "python",
   "name": "python3"
  },
  "language_info": {
   "codemirror_mode": {
    "name": "ipython",
    "version": 3
   },
   "file_extension": ".py",
   "mimetype": "text/x-python",
   "name": "python",
   "nbconvert_exporter": "python",
   "pygments_lexer": "ipython3",
   "version": "3.7.6"
  },
  "latex_envs": {
   "LaTeX_envs_menu_present": true,
   "autoclose": false,
   "autocomplete": true,
   "bibliofile": "biblio.bib",
   "cite_by": "apalike",
   "current_citInitial": 1,
   "eqLabelWithNumbers": true,
   "eqNumInitial": 1,
   "hotkeys": {
    "equation": "Ctrl-E",
    "itemize": "Ctrl-I"
   },
   "labels_anchors": false,
   "latex_user_defs": false,
   "report_style_numbering": false,
   "user_envs_cfg": false
  },
  "toc": {
   "base_numbering": 1,
   "nav_menu": {},
   "number_sections": true,
   "sideBar": true,
   "skip_h1_title": false,
   "title_cell": "Table of Contents",
   "title_sidebar": "Contents",
   "toc_cell": false,
   "toc_position": {},
   "toc_section_display": true,
   "toc_window_display": false
  }
 },
 "nbformat": 4,
 "nbformat_minor": 4
}